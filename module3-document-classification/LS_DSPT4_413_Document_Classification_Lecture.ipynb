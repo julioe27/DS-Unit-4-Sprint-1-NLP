{
 "cells": [
  {
   "cell_type": "markdown",
   "metadata": {},
   "source": [
    "Lambda School Data Science\n",
    "\n",
    "*Unit 4, Sprint 1, Module 3*\n",
    "\n",
    "---"
   ]
  },
  {
   "cell_type": "markdown",
   "metadata": {},
   "source": [
    "# Document Classification (Lecture)\n",
    "\n",
    "Today's guided module project will be different. You already know how to do classification. You ready know how to extract features from documents. So? That means you're ready to combine and practice those skills in a kaggle competition. We we will open with a five minute sprint explaining the competition, and then give you 25 minutes to work. After those twenty five minutes are up, I will give a 5-minute demo an NLP technique that will help you with document classification (*and **maybe** the competition*).\n",
    "\n",
    "Today's all about having fun and practicing your skills. The competition will begin\n",
    "\n",
    "## Learning Objectives\n",
    "* <a href=\"#p1\">Part 1</a>: Text Feature Extraction & Classification Pipelines\n",
    "* <a href=\"#p2\">Part 2</a>: Latent Semantic Indexing\n",
    "* <a href=\"#p3\">Part 3</a>: Word Embeddings with Spacy"
   ]
  },
  {
   "cell_type": "markdown",
   "metadata": {},
   "source": [
    "# Text Feature Extraction & Classification Pipelines (Learn)\n",
    "<a id=\"p1\"></a>"
   ]
  },
  {
   "cell_type": "markdown",
   "metadata": {},
   "source": [
    "## Overview\n",
    "\n",
    "Sklearn pipelines allow you to stitch together multiple components of a machine learning process. The idea is that you can pass you raw data and get predictions out of the pipeline. This ability to pass raw input and receive a prediction from a singular class makes pipelines well suited for production, because you can pickle a a pipeline without worry about other data preprocessing steps. \n",
    "\n",
    "*Note:* Each time we call the pipeline during grid search, each component is fit again. The vectorizer (tf-idf) is transforming our entire vocabulary during each cross-validation fold. That transformation adds significant run time to our grid search. There *might* be interactions between the vectorizer and our classifier, so we estimate their performance together in the code below. However, if your goal is to reduce run time. Train your vectorizer separately (ie out of the grid-searched pipeline). "
   ]
  },
  {
   "cell_type": "code",
   "execution_count": 23,
   "metadata": {},
   "outputs": [],
   "source": [
    "# Import Statements\n",
    "from sklearn.pipeline import Pipeline\n",
    "from sklearn.datasets import fetch_20newsgroups\n",
    "from sklearn.ensemble import RandomForestClassifier\n",
    "from sklearn.model_selection import GridSearchCV\n",
    "from sklearn.feature_extraction.text import TfidfVectorizer"
   ]
  },
  {
   "cell_type": "markdown",
   "metadata": {},
   "source": [
    "### Load Data"
   ]
  },
  {
   "cell_type": "code",
   "execution_count": 24,
   "metadata": {},
   "outputs": [
    {
     "name": "stdout",
     "output_type": "stream",
     "text": [
      "Training Samples: 1056\n",
      "Testing Samples: 703\n"
     ]
    }
   ],
   "source": [
    "# Dataset\n",
    "from sklearn.datasets import fetch_20newsgroups\n",
    "\n",
    "categories = ['sci.electronics',\n",
    "              'talk.politics.misc']\n",
    "\n",
    "# Load training data\n",
    "newsgroups_train = fetch_20newsgroups(subset='train', \n",
    "                                      remove=('headers', 'footers', 'quotes'),\n",
    "                                      categories=categories)\n",
    "\n",
    "# Load testing data\n",
    "newsgroups_test = fetch_20newsgroups(subset='test', \n",
    "                                     remove=('headers', 'footers', 'quotes'),\n",
    "                                     categories=categories)\n",
    "\n",
    "print(f'Training Samples: {len(newsgroups_train.data)}')\n",
    "print(f'Testing Samples: {len(newsgroups_test.data)}')"
   ]
  },
  {
   "cell_type": "code",
   "execution_count": 25,
   "metadata": {},
   "outputs": [
    {
     "name": "stdout",
     "output_type": "stream",
     "text": [
      "\n",
      "The father of a friend of mine is a police officer in West Virginia.  Not  \n",
      "only is his word as a skilled observer good in court, but his skill as an  \n",
      "observer has been tested to be more accurate than the radar gun in some  \n",
      "cases . . ..  No foolin!  He can guess a car's speed to within 2-3mph just  \n",
      "by watching it blow by - whether he's standing still or moving too!  (Yes,  \n",
      "I realize that calibrated guns are more accurate than this, but . . .).   \n",
      "His ability is not that uncommon among people who watch moving things for a  \n",
      "living, I have heard . . ..\n",
      "\n",
      "So what good is a radar detector except to give you a split second warning  \n",
      "that the guy who just cut you off to pass the guy ahead and to your left  \n",
      "is about to panic stop from 85 on a crowded freeway???\n"
     ]
    }
   ],
   "source": [
    "print(newsgroups_train.data[10])"
   ]
  },
  {
   "cell_type": "code",
   "execution_count": 26,
   "metadata": {},
   "outputs": [
    {
     "data": {
      "text/plain": [
       "0"
      ]
     },
     "execution_count": 26,
     "metadata": {},
     "output_type": "execute_result"
    }
   ],
   "source": [
    "newsgroups_train.target[10]"
   ]
  },
  {
   "cell_type": "code",
   "execution_count": 27,
   "metadata": {},
   "outputs": [
    {
     "data": {
      "text/plain": [
       "'sci.electronics'"
      ]
     },
     "execution_count": 27,
     "metadata": {},
     "output_type": "execute_result"
    }
   ],
   "source": [
    "newsgroups_train.target_names[0]"
   ]
  },
  {
   "cell_type": "markdown",
   "metadata": {},
   "source": [
    "### Explore the Data\n",
    "\n",
    "Building and training a model is only one part of the workflow. Understanding the basic characteristics of your data beforehand will enable you to build a better model. This could mean obtaining higher accuracy, requiring less data for training, or potentially fewer computation resources. "
   ]
  },
  {
   "cell_type": "code",
   "execution_count": 28,
   "metadata": {},
   "outputs": [],
   "source": [
    "from explore_data import *\n",
    "import seaborn as sns\n",
    "sns.set()"
   ]
  },
  {
   "cell_type": "code",
   "execution_count": 29,
   "metadata": {},
   "outputs": [
    {
     "name": "stdout",
     "output_type": "stream",
     "text": [
      "Median words per sample: 91.0\n"
     ]
    }
   ],
   "source": [
    "median_words_per_sample = get_num_words_per_sample(newsgroups_train.data)\n",
    "print(f'Median words per sample: {median_words_per_sample}')"
   ]
  },
  {
   "cell_type": "code",
   "execution_count": 30,
   "metadata": {},
   "outputs": [
    {
     "data": {
      "image/png": "[encoded data removed]",
      "text/plain": [
       "<Figure size 432x288 with 1 Axes>"
      ]
     },
     "metadata": {},
     "output_type": "display_data"
    }
   ],
   "source": [
    "plot_sample_length_distribution(newsgroups_train.data)"
   ]
  },
  {
   "cell_type": "code",
   "execution_count": 31,
   "metadata": {},
   "outputs": [
    {
     "data": {
      "image/png": "[encoded data removed]",
      "text/plain": [
       "<Figure size 432x288 with 1 Axes>"
      ]
     },
     "metadata": {},
     "output_type": "display_data"
    }
   ],
   "source": [
    "plot_class_distribution(newsgroups_train.target)"
   ]
  },
  {
   "cell_type": "code",
   "execution_count": 32,
   "metadata": {},
   "outputs": [
    {
     "data": {
      "image/png": "[encoded data removed]",
      "text/plain": [
       "<Figure size 1008x432 with 1 Axes>"
      ]
     },
     "metadata": {},
     "output_type": "display_data"
    }
   ],
   "source": [
    "plot_frequency_distribution_of_ngrams(newsgroups_train.data,\n",
    "                                      ngram_range=(1, 2),\n",
    "                                      num_ngrams=50)"
   ]
  },
  {
   "cell_type": "markdown",
   "metadata": {},
   "source": [
    "### Choose a Modeling Approach\n",
    "\n",
    "Reference: https://developers.google.com/machine-learning/guides/text-classification/step-2-5\n",
    "\n",
    "At this point, we have assembled our dataset and gained insights into the key characteristics of our data. Next, based on the metrics we gathered we should think about which classification model we should use. This means asking questions such as: \n",
    "\n",
    "- “How do we present the text data to an algorithm that expects numeric input?” (Data preprocessing and vectorization)\n",
    "- “What type of model should we use?”\n",
    "- “What configuration parameters should we use for our model?”, etc.\n",
    "\n",
    "In the reference guide above, Google attempts to significantly simplify the process of selecting a text classification model. For a given dataset, our goal is to find the algorithm that achieves close to maximum accuracy while minimizing computation time required for training. We ran a large number (~450K) of experiments across problems of different types (especially sentiment analysis and topic classification problems), using 12 datasets, alternating for each dataset between different data preprocessing techniques and different model architectures. This helped us identify dataset parameters that influence optimal choices.\n",
    "\n",
    "The model selection algorithm and flowchart below are a summary of our experimentation."
   ]
  },
  {
   "cell_type": "code",
   "execution_count": 33,
   "metadata": {},
   "outputs": [
    {
     "name": "stdout",
     "output_type": "stream",
     "text": [
      "Number of Samples / Median Words per Sample ratio: 11\n"
     ]
    }
   ],
   "source": [
    "sw_ratio = len(newsgroups_train.data) / median_words_per_sample\n",
    "print(f'Number of Samples / Median Words per Sample ratio: {int(sw_ratio)}')\n",
    "# left side of the flow chart (yes to S/W < 1500)\n",
    "# is more focused on Bag of Word Approaches\n",
    "# right sode of the flow chart is for for neutral networks\n",
    "\n"
   ]
  },
  {
   "cell_type": "markdown",
   "metadata": {},
   "source": [
    "![](https://developers.google.com/machine-learning/guides/text-classification/images/TextClassificationFlowchart.png)"
   ]
  },
  {
   "cell_type": "markdown",
   "metadata": {},
   "source": [
    "### Build a Baseline TF-IDF Model"
   ]
  },
  {
   "cell_type": "code",
   "execution_count": 34,
   "metadata": {},
   "outputs": [],
   "source": [
    "# Create Pipeline Components\n",
    "vect = TfidfVectorizer(stop_words='english', ngram_range=(1,2))\n",
    "rfc = RandomForestClassifier()"
   ]
  },
  {
   "cell_type": "code",
   "execution_count": 35,
   "metadata": {},
   "outputs": [
    {
     "data": {
      "text/plain": [
       "(1056, 97372)"
      ]
     },
     "execution_count": 35,
     "metadata": {},
     "output_type": "execute_result"
    }
   ],
   "source": [
    "import pandas as pd\n",
    "\n",
    "# Get sparse dtm\n",
    "dtm = vect.fit_transform(newsgroups_train.data)\n",
    "\n",
    "# Convert to dataframe\n",
    "dtm = pd.DataFrame(dtm.todense(), columns=vect.get_feature_names())\n",
    "dtm.shape"
   ]
  },
  {
   "cell_type": "code",
   "execution_count": 36,
   "metadata": {},
   "outputs": [],
   "source": [
    "# Define the Pipeline\n",
    "pipe = Pipeline([\n",
    "    ('vect', vect),      # TF-IDF Vectorizer\n",
    "    ('clf', rfc)         # RandomForest Classifier\n",
    "]) #('name of component', component)"
   ]
  },
  {
   "cell_type": "code",
   "execution_count": 37,
   "metadata": {},
   "outputs": [
    {
     "name": "stdout",
     "output_type": "stream",
     "text": [
      "Fitting 5 folds for each of 72 candidates, totalling 360 fits\n"
     ]
    },
    {
     "name": "stderr",
     "output_type": "stream",
     "text": [
      "[Parallel(n_jobs=-1)]: Using backend LokyBackend with 8 concurrent workers.\n",
      "[Parallel(n_jobs=-1)]: Done  34 tasks      | elapsed:    4.9s\n",
      "[Parallel(n_jobs=-1)]: Done 184 tasks      | elapsed:   31.9s\n",
      "[Parallel(n_jobs=-1)]: Done 360 out of 360 | elapsed:  1.4min finished\n"
     ]
    },
    {
     "data": {
      "text/plain": [
       "GridSearchCV(cv=5, error_score=nan,\n",
       "             estimator=Pipeline(memory=None,\n",
       "                                steps=[('vect',\n",
       "                                        TfidfVectorizer(analyzer='word',\n",
       "                                                        binary=False,\n",
       "                                                        decode_error='strict',\n",
       "                                                        dtype=<class 'numpy.float64'>,\n",
       "                                                        encoding='utf-8',\n",
       "                                                        input='content',\n",
       "                                                        lowercase=True,\n",
       "                                                        max_df=1.0,\n",
       "                                                        max_features=None,\n",
       "                                                        min_df=1,\n",
       "                                                        ngram_range=(1, 2),\n",
       "                                                        norm='l2',\n",
       "                                                        preprocessor=None,\n",
       "                                                        smooth_idf=True,\n",
       "                                                        stop_words='english',\n",
       "                                                        strip...\n",
       "                                                               n_jobs=None,\n",
       "                                                               oob_score=False,\n",
       "                                                               random_state=None,\n",
       "                                                               verbose=0,\n",
       "                                                               warm_start=False))],\n",
       "                                verbose=False),\n",
       "             iid='deprecated', n_jobs=-1,\n",
       "             param_grid={'clf__max_depth': (10, 20, None),\n",
       "                         'clf__n_estimators': (100, 500),\n",
       "                         'vect__max_df': (0.7, 1.0),\n",
       "                         'vect__max_features': (5000, 10000),\n",
       "                         'vect__min_df': (2, 5, 10)},\n",
       "             pre_dispatch='2*n_jobs', refit=True, return_train_score=False,\n",
       "             scoring=None, verbose=1)"
      ]
     },
     "execution_count": 37,
     "metadata": {},
     "output_type": "execute_result"
    }
   ],
   "source": [
    "parameters = {\n",
    "    'vect__max_df': (0.7, 1.0),\n",
    "    'vect__min_df': (2, 5, 10),\n",
    "    'vect__max_features': (5000, 10000), \n",
    "    'clf__n_estimators': (100, 500), # more than 500 is unnessary\n",
    "    'clf__max_depth': (10, 20, None)\n",
    "}\n",
    "\n",
    "grid_search = GridSearchCV(pipe, parameters, cv=5, n_jobs=-1, verbose=1)\n",
    "grid_search.fit(newsgroups_train.data, newsgroups_train.target)"
   ]
  },
  {
   "cell_type": "code",
   "execution_count": 38,
   "metadata": {},
   "outputs": [
    {
     "data": {
      "text/plain": [
       "0.9062460878118573"
      ]
     },
     "execution_count": 38,
     "metadata": {},
     "output_type": "execute_result"
    }
   ],
   "source": [
    "grid_search.best_score_"
   ]
  },
  {
   "cell_type": "code",
   "execution_count": 39,
   "metadata": {},
   "outputs": [
    {
     "data": {
      "text/plain": [
       "{'clf__max_depth': None,\n",
       " 'clf__n_estimators': 500,\n",
       " 'vect__max_df': 1.0,\n",
       " 'vect__max_features': 10000,\n",
       " 'vect__min_df': 2}"
      ]
     },
     "execution_count": 39,
     "metadata": {},
     "output_type": "execute_result"
    }
   ],
   "source": [
    "grid_search.best_params_"
   ]
  },
  {
   "cell_type": "code",
   "execution_count": 40,
   "metadata": {},
   "outputs": [
    {
     "data": {
      "text/plain": [
       "0.8961593172119487"
      ]
     },
     "execution_count": 40,
     "metadata": {},
     "output_type": "execute_result"
    }
   ],
   "source": [
    "from sklearn.metrics import accuracy_score\n",
    "\n",
    "# Evaluate on test data\n",
    "y_test = grid_search.predict(newsgroups_test.data)\n",
    "accuracy_score(newsgroups_test.target, y_test)"
   ]
  },
  {
   "cell_type": "markdown",
   "metadata": {
    "toc-hr-collapsed": true
   },
   "source": [
    "## Follow Along \n",
    "\n",
    "What you should be doing now:\n",
    "1. Join the Kaggle Competition\n",
    "2. Download the data\n",
    "3. Train a model (try using the pipe method I just demoed)"
   ]
  },
  {
   "cell_type": "markdown",
   "metadata": {},
   "source": [
    "## Challenge\n",
    "\n",
    "You're trying to achieve 75% Accuracy on your model."
   ]
  },
  {
   "cell_type": "markdown",
   "metadata": {},
   "source": [
    "## Latent Semantic Indexing (Learn)\n",
    "<a id=\"p2\"></a>"
   ]
  },
  {
   "cell_type": "markdown",
   "metadata": {},
   "source": [
    "## Overview"
   ]
  },
  {
   "cell_type": "code",
   "execution_count": 41,
   "metadata": {},
   "outputs": [],
   "source": [
    "import scipy.stats as stats\n",
    "from sklearn.model_selection import RandomizedSearchCV\n",
    "from sklearn.decomposition import TruncatedSVD\n",
    "\n",
    "# Use parameters from GridSearch in previous section\n",
    "vect = TfidfVectorizer(stop_words='english', \n",
    "                       ngram_range=(1,2),\n",
    "                       min_df=2, \n",
    "                       max_df=0.7,\n",
    "                       max_features=10000)\n",
    "\n",
    "# Add dimensionality reduction\n",
    "svd = TruncatedSVD(algorithm='randomized', # TruncatedSVC same thing as\n",
    "                   n_iter=10)              # Latend Semantic Indexing\n",
    "\n",
    "# Use parameters from RandomSearch in previous section\n",
    "rfc = RandomForestClassifier(n_estimators=500, \n",
    "                             random_state=42)"
   ]
  },
  {
   "cell_type": "code",
   "execution_count": 42,
   "metadata": {},
   "outputs": [],
   "source": [
    "params = {\n",
    "    'svd__n_components': stats.randint(100, 500),\n",
    "}"
   ]
  },
  {
   "cell_type": "code",
   "execution_count": 43,
   "metadata": {},
   "outputs": [],
   "source": [
    "pipe = Pipeline([\n",
    "    ('vect', vect),      # TF-IDF Vectorizer\n",
    "    ('svd', svd),        # Truncated SVD Dimensionality Reduction\n",
    "    ('clf', rfc)         # RandomForest Classifier\n",
    "])"
   ]
  },
  {
   "cell_type": "code",
   "execution_count": 44,
   "metadata": {},
   "outputs": [
    {
     "name": "stdout",
     "output_type": "stream",
     "text": [
      "Fitting 2 folds for each of 3 candidates, totalling 6 fits\n"
     ]
    },
    {
     "name": "stderr",
     "output_type": "stream",
     "text": [
      "[Parallel(n_jobs=-1)]: Using backend LokyBackend with 8 concurrent workers.\n",
      "[Parallel(n_jobs=-1)]: Done   6 out of   6 | elapsed:    8.4s finished\n"
     ]
    },
    {
     "data": {
      "text/plain": [
       "RandomizedSearchCV(cv=2, error_score=nan,\n",
       "                   estimator=Pipeline(memory=None,\n",
       "                                      steps=[('vect',\n",
       "                                              TfidfVectorizer(analyzer='word',\n",
       "                                                              binary=False,\n",
       "                                                              decode_error='strict',\n",
       "                                                              dtype=<class 'numpy.float64'>,\n",
       "                                                              encoding='utf-8',\n",
       "                                                              input='content',\n",
       "                                                              lowercase=True,\n",
       "                                                              max_df=0.7,\n",
       "                                                              max_features=10000,\n",
       "                                                              min_df=2,\n",
       "                                                              ngram_range=(1,\n",
       "                                                                           2),\n",
       "                                                              norm='l2',\n",
       "                                                              preprocessor=None,\n",
       "                                                              smooth_idf=True,\n",
       "                                                              stop_words='english...\n",
       "                                                                     n_estimators=500,\n",
       "                                                                     n_jobs=None,\n",
       "                                                                     oob_score=False,\n",
       "                                                                     random_state=42,\n",
       "                                                                     verbose=0,\n",
       "                                                                     warm_start=False))],\n",
       "                                      verbose=False),\n",
       "                   iid='deprecated', n_iter=3, n_jobs=-1,\n",
       "                   param_distributions={'svd__n_components': <scipy.stats._distn_infrastructure.rv_frozen object at 0x000002BFB9200A90>},\n",
       "                   pre_dispatch='2*n_jobs', random_state=None, refit=True,\n",
       "                   return_train_score=False, scoring=None, verbose=1)"
      ]
     },
     "execution_count": 44,
     "metadata": {},
     "output_type": "execute_result"
    }
   ],
   "source": [
    "# Fit\n",
    "random_search = RandomizedSearchCV(pipe, params, cv=2, n_iter=3, n_jobs=-1, verbose=1)\n",
    "random_search.fit(newsgroups_train.data, newsgroups_train.target)"
   ]
  },
  {
   "cell_type": "code",
   "execution_count": 45,
   "metadata": {},
   "outputs": [
    {
     "data": {
      "text/plain": [
       "0.9119318181818181"
      ]
     },
     "execution_count": 45,
     "metadata": {},
     "output_type": "execute_result"
    }
   ],
   "source": [
    "random_search.best_score_"
   ]
  },
  {
   "cell_type": "code",
   "execution_count": 46,
   "metadata": {},
   "outputs": [
    {
     "data": {
      "text/plain": [
       "{'svd__n_components': 320}"
      ]
     },
     "execution_count": 46,
     "metadata": {},
     "output_type": "execute_result"
    }
   ],
   "source": [
    "random_search.best_params_"
   ]
  },
  {
   "cell_type": "code",
   "execution_count": 47,
   "metadata": {},
   "outputs": [
    {
     "data": {
      "text/plain": [
       "0.9174964438122333"
      ]
     },
     "execution_count": 47,
     "metadata": {},
     "output_type": "execute_result"
    }
   ],
   "source": [
    "# Evaluate on test data\n",
    "\n",
    "y_test = random_search.predict(newsgroups_test.data)\n",
    "accuracy_score(newsgroups_test.target, y_test)"
   ]
  },
  {
   "cell_type": "markdown",
   "metadata": {
    "toc-hr-collapsed": true
   },
   "source": [
    "## Follow Along\n",
    "1. Train a model & try: \n",
    "    - Creating a Text Extraction & Classification Pipeline\n",
    "    - Tune the pipeline with a `GridSearchCV` or `RandomizedSearchCV`\n",
    "    - Add some Latent Semantic Indexing (lsi) into your pipeline. *Note:* You can grid search a nested pipeline, but you have to use double underscores ie `lsi__svd__n_components`\n",
    "2. Make a submission to Kaggle \n"
   ]
  },
  {
   "cell_type": "markdown",
   "metadata": {},
   "source": [
    "## Challenge\n",
    "\n",
    "Continue to apply Latent Semantic Indexing (LSI) to various datasets. "
   ]
  },
  {
   "cell_type": "markdown",
   "metadata": {},
   "source": [
    "# Word Embeddings with Spacy (Learn)\n",
    "<a id=\"p3\"></a>"
   ]
  },
  {
   "cell_type": "markdown",
   "metadata": {},
   "source": [
    "# Overview"
   ]
  },
  {
   "cell_type": "code",
   "execution_count": 60,
   "metadata": {},
   "outputs": [],
   "source": [
    "import spacy\n",
    "\n",
    "nlp = spacy.load(\"en_core_web_lg\")"
   ]
  },
  {
   "cell_type": "code",
   "execution_count": 61,
   "metadata": {},
   "outputs": [],
   "source": [
    "doc = nlp(\"NLP is awesome!\")"
   ]
  },
  {
   "cell_type": "code",
   "execution_count": 62,
   "metadata": {},
   "outputs": [
    {
     "name": "stdout",
     "output_type": "stream",
     "text": [
      "300\n"
     ]
    }
   ],
   "source": [
    "nlp_vector = doc.vector\n",
    "print(len(nlp_vector))"
   ]
  },
  {
   "cell_type": "code",
   "execution_count": 63,
   "metadata": {},
   "outputs": [
    {
     "data": {
      "text/plain": [
       "array([-1.99885249e-01,  3.45714986e-01,  1.64885744e-02, -2.35542506e-02,\n",
       "        1.43662512e-01, -1.23924986e-02,  1.52034998e-01, -3.65224987e-01,\n",
       "        1.13594748e-01,  1.15108001e+00, -1.83196187e-01,  2.74120513e-02,\n",
       "       -1.02375746e-01,  3.13747525e-02,  4.55302559e-02, -1.85307249e-01,\n",
       "       -1.46043763e-01,  9.30569947e-01, -2.01018006e-01, -2.33615756e-01,\n",
       "        4.34175134e-03, -6.69924989e-02,  6.06357455e-02, -1.58095673e-01,\n",
       "       -9.37802419e-02,  1.93459496e-01,  1.92345500e-01, -5.94324991e-02,\n",
       "        1.68709978e-02, -1.27937496e-01,  6.42787516e-02, -3.23557481e-02,\n",
       "        1.33825943e-01,  1.85234249e-01,  6.99924976e-02,  1.28265738e-01,\n",
       "        2.38190234e-01,  1.21133000e-01, -2.19828337e-01, -2.38023698e-01,\n",
       "        1.51863992e-01, -9.34367478e-02, -1.61462426e-02,  1.24664992e-01,\n",
       "        2.68729985e-01,  3.37404758e-01, -2.72237003e-01,  2.25244984e-02,\n",
       "        5.79980016e-02, -1.66924000e-01,  1.35736749e-01,  1.77590013e-01,\n",
       "        4.06724960e-02, -1.05852522e-02,  1.97865050e-02,  1.44996002e-01,\n",
       "        1.05809495e-01,  4.19660270e-01,  3.52082513e-02, -5.71468547e-02,\n",
       "       -2.04114199e-01,  5.89075312e-03, -1.81168005e-01, -2.58040011e-01,\n",
       "        2.55802751e-01, -1.73875257e-01, -1.00634992e-01,  6.76530004e-02,\n",
       "       -1.25827163e-01, -3.32092457e-02, -1.44035012e-01, -1.34055004e-01,\n",
       "        3.05615515e-01, -8.26974958e-02,  2.37627476e-02,  7.30759576e-02,\n",
       "       -2.06165671e-01, -1.64319187e-01, -2.34690249e-01,  4.71832514e-01,\n",
       "        1.20885037e-02,  2.10295260e-01,  2.65832752e-01,  2.37935007e-01,\n",
       "        1.41107500e-01,  2.84989923e-02,  1.93976745e-01, -3.40078503e-01,\n",
       "        9.55332518e-02, -4.35159951e-02,  4.00212519e-02,  2.69119978e-01,\n",
       "       -1.89492524e-01,  8.43112469e-02, -8.08840021e-02,  5.77812530e-02,\n",
       "       -9.69072580e-02,  3.89475375e-03, -1.62849948e-03, -2.08506763e-01,\n",
       "       -3.54615003e-02, -3.52507502e-01, -2.62964994e-01, -8.40693265e-02,\n",
       "        3.44424248e-01, -1.17345005e-01,  4.05819744e-01,  1.91088498e-01,\n",
       "       -7.46175051e-02,  2.72382367e-02,  6.00731224e-02, -2.81269014e-01,\n",
       "       -2.39461511e-02, -1.56893864e-01, -4.48643751e-02,  1.02539003e-01,\n",
       "        8.86795074e-02,  8.94099921e-02, -1.01255000e-01,  1.53585020e-02,\n",
       "        7.06249475e-03,  1.55372739e-01,  9.09750015e-02, -6.97307512e-02,\n",
       "       -1.57485008e-02,  4.12250310e-03, -2.26205498e-01, -8.27734917e-02,\n",
       "        2.33408008e-02, -1.15150027e-02, -1.96931750e-01, -3.72034252e-01,\n",
       "       -2.39709988e-02, -1.14243500e-01,  1.72540009e-01, -9.44250450e-03,\n",
       "       -7.99422413e-02,  2.12847777e-02, -1.16022490e-02,  2.84724832e-02,\n",
       "       -1.47995257e+00,  2.37615004e-01,  4.53500003e-01,  1.12024993e-02,\n",
       "        2.92374939e-02, -2.07597241e-01,  3.13660473e-01, -1.16655000e-01,\n",
       "        2.69999951e-02, -2.42834985e-02, -1.50119990e-01,  2.72197276e-02,\n",
       "       -2.08722517e-01,  7.88367540e-02,  9.02534500e-02, -2.23511487e-01,\n",
       "        6.00899979e-02, -2.60680020e-01,  9.54430029e-02, -3.28124948e-02,\n",
       "        8.26175064e-02, -3.83562557e-02,  4.70334962e-02, -1.00009248e-01,\n",
       "        1.39486402e-01, -7.09575042e-02, -9.35494900e-02, -3.07654977e-01,\n",
       "       -1.83905736e-01,  6.96682483e-02,  7.63840526e-02,  9.17489976e-02,\n",
       "        9.23838466e-02,  3.78069989e-02, -2.17262506e-01,  9.66600031e-02,\n",
       "       -4.48799878e-03,  7.75095001e-02, -4.60250005e-02, -1.17242500e-01,\n",
       "        8.87600332e-03, -7.47302473e-02, -2.33194992e-01, -2.88789988e-01,\n",
       "       -7.29739964e-02, -2.33877495e-01, -2.53519982e-01,  2.83797458e-02,\n",
       "        3.74687500e-02,  1.28844261e-01, -6.32498413e-04, -2.40114987e-01,\n",
       "       -1.65877640e-02, -4.37072515e-02,  9.43669975e-02,  2.82335013e-01,\n",
       "        1.14192754e-01, -2.82066762e-01,  7.20527530e-01,  5.61274998e-02,\n",
       "       -2.92685002e-01, -2.78509796e-01,  2.03254998e-01,  9.03065056e-02,\n",
       "       -1.68933243e-01, -1.80775020e-02, -1.50980771e-01,  1.31270006e-01,\n",
       "        2.98899990e-02, -1.24563247e-01, -2.15485260e-01, -2.14411750e-01,\n",
       "        4.23329994e-02, -8.51342529e-02, -2.98512205e-02,  3.80968511e-01,\n",
       "        2.69282490e-01, -7.31247514e-02, -1.13472499e-01,  1.95384994e-02,\n",
       "       -3.01210016e-01,  1.48774236e-01, -4.19649929e-02,  7.37649947e-02,\n",
       "       -4.37124968e-02, -9.77159962e-02, -2.99232483e-01,  2.36372501e-01,\n",
       "       -1.76247850e-01,  9.80192572e-02, -2.06544995e-01, -1.87632501e-01,\n",
       "       -1.19729996e-01,  4.80115041e-02, -9.72517431e-02,  4.84865010e-02,\n",
       "       -3.94000076e-02, -8.08324963e-02, -2.53457487e-01,  2.89809965e-02,\n",
       "        1.02731243e-01, -2.80597508e-02, -8.48409981e-02, -4.62200083e-02,\n",
       "        1.86205998e-01, -3.65851760e-01, -1.87187746e-01, -7.35622570e-02,\n",
       "        1.05392501e-01,  1.31764501e-01,  9.59224999e-03, -1.62685007e-01,\n",
       "        5.22875041e-02, -1.14390947e-01, -1.88332498e-01, -6.80129975e-02,\n",
       "        1.87025070e-02, -1.15867496e-01, -5.76550029e-02, -1.93938017e-01,\n",
       "        2.56175488e-01, -1.51407957e-01, -8.30405205e-03, -2.83612497e-02,\n",
       "       -9.88190770e-02, -6.28914982e-02,  8.45902413e-02,  1.76411495e-01,\n",
       "        3.49892497e-01,  2.77740002e-01, -5.37140727e-01, -7.90382475e-02,\n",
       "       -5.03612518e-01, -2.08469242e-01, -1.43678486e-01, -8.57562423e-02,\n",
       "        5.02665006e-02, -2.25591525e-01,  2.98319995e-01,  3.61245051e-02,\n",
       "        3.35117519e-01, -1.01047501e-01, -5.80013730e-02, -2.04257499e-02,\n",
       "        1.02729246e-01, -4.56669182e-02,  1.29641756e-01,  1.00354999e-01,\n",
       "        1.30923495e-01, -2.02844739e-02,  6.48382455e-02, -6.62632510e-02,\n",
       "       -1.33743003e-01, -1.38099995e-02,  2.08575740e-01,  1.54507488e-01,\n",
       "        2.52972484e-01,  5.81384972e-02, -2.78002501e-01,  2.85645664e-01],\n",
       "      dtype=float32)"
      ]
     },
     "execution_count": 63,
     "metadata": {},
     "output_type": "execute_result"
    }
   ],
   "source": [
    "nlp_vector"
   ]
  },
  {
   "cell_type": "code",
   "execution_count": 64,
   "metadata": {},
   "outputs": [],
   "source": [
    "def get_word_vectors(docs):\n",
    "    return [nlp(doc).vector for doc in docs] # each doc is a row"
   ]
  },
  {
   "cell_type": "code",
   "execution_count": 65,
   "metadata": {},
   "outputs": [
    {
     "data": {
      "text/plain": [
       "True"
      ]
     },
     "execution_count": 65,
     "metadata": {},
     "output_type": "execute_result"
    }
   ],
   "source": [
    "X = get_word_vectors(newsgroups_train.data)\n",
    "len(X) == len(newsgroups_train.data)"
   ]
  },
  {
   "cell_type": "code",
   "execution_count": 66,
   "metadata": {},
   "outputs": [],
   "source": [
    "X_test = get_word_vectors(newsgroups_test.data)"
   ]
  },
  {
   "cell_type": "code",
   "execution_count": 55,
   "metadata": {},
   "outputs": [
    {
     "data": {
      "text/plain": [
       "RandomForestClassifier(bootstrap=True, ccp_alpha=0.0, class_weight=None,\n",
       "                       criterion='gini', max_depth=None, max_features='auto',\n",
       "                       max_leaf_nodes=None, max_samples=None,\n",
       "                       min_impurity_decrease=0.0, min_impurity_split=None,\n",
       "                       min_samples_leaf=1, min_samples_split=2,\n",
       "                       min_weight_fraction_leaf=0.0, n_estimators=500,\n",
       "                       n_jobs=None, oob_score=False, random_state=42, verbose=0,\n",
       "                       warm_start=False)"
      ]
     },
     "execution_count": 55,
     "metadata": {},
     "output_type": "execute_result"
    }
   ],
   "source": [
    "rfc.fit(X, newsgroups_train.target)"
   ]
  },
  {
   "cell_type": "code",
   "execution_count": 67,
   "metadata": {},
   "outputs": [
    {
     "data": {
      "text/plain": [
       "0.9274537695590327"
      ]
     },
     "execution_count": 67,
     "metadata": {},
     "output_type": "execute_result"
    }
   ],
   "source": [
    "# Evaluate on test data\n",
    "y_test = rfc.predict(X_test)\n",
    "accuracy_score(newsgroups_test.target, y_test)"
   ]
  },
  {
   "cell_type": "code",
   "execution_count": 68,
   "metadata": {},
   "outputs": [],
   "source": [
    "from sklearn.neural_network import MLPClassifier\n",
    "\n",
    "clf = MLPClassifier(solver='lbfgs', \n",
    "                    alpha=1e-5,\n",
    "                    hidden_layer_sizes=(16, 2), # two layer  netuarl network\n",
    "                    # with 16 nodes\n",
    "                    random_state=1)"
   ]
  },
  {
   "cell_type": "code",
   "execution_count": 69,
   "metadata": {},
   "outputs": [
    {
     "data": {
      "text/plain": [
       "MLPClassifier(activation='relu', alpha=1e-05, batch_size='auto', beta_1=0.9,\n",
       "              beta_2=0.999, early_stopping=False, epsilon=1e-08,\n",
       "              hidden_layer_sizes=(16, 2), learning_rate='constant',\n",
       "              learning_rate_init=0.001, max_fun=15000, max_iter=200,\n",
       "              momentum=0.9, n_iter_no_change=10, nesterovs_momentum=True,\n",
       "              power_t=0.5, random_state=1, shuffle=True, solver='lbfgs',\n",
       "              tol=0.0001, validation_fraction=0.1, verbose=False,\n",
       "              warm_start=False)"
      ]
     },
     "execution_count": 69,
     "metadata": {},
     "output_type": "execute_result"
    }
   ],
   "source": [
    "clf.fit(X, newsgroups_train.target)"
   ]
  },
  {
   "cell_type": "code",
   "execution_count": 70,
   "metadata": {},
   "outputs": [
    {
     "data": {
      "text/plain": [
       "0.5860597439544808"
      ]
     },
     "execution_count": 70,
     "metadata": {},
     "output_type": "execute_result"
    }
   ],
   "source": [
    "# Evaluate on test data\n",
    "y_test = clf.predict(X_test)\n",
    "accuracy_score(newsgroups_test.target, y_test)"
   ]
  },
  {
   "cell_type": "markdown",
   "metadata": {},
   "source": [
    "## Follow Along"
   ]
  },
  {
   "cell_type": "markdown",
   "metadata": {},
   "source": [
    "## Challenge\n",
    "\n",
    "What you should be doing now:\n",
    "1. Join the Kaggle Competition\n",
    "2. Download the data\n",
    "3. Train a model & try: \n",
    "    - Creating a Text Extraction & Classification Pipeline\n",
    "    - Tune the pipeline with a `GridSearchCV` or `RandomizedSearchCV`\n",
    "    - Add some Latent Semantic Indexing (lsi) into your pipeline. *Note:* You can grid search a nested pipeline, but you have to use double underscores ie `lsi__svd__n_components`\n",
    "    - Try to extract word embeddings with Spacy and use those embeddings as your features for a classification model.\n",
    "4. Make a submission to Kaggle "
   ]
  },
  {
   "cell_type": "markdown",
   "metadata": {},
   "source": [
    "# Review\n",
    "\n",
    "To review this module: \n",
    "* Continue working on the Kaggle competition\n",
    "* Find another text classification task to work on"
   ]
  },
  {
   "cell_type": "code",
   "execution_count": null,
   "metadata": {},
   "outputs": [],
   "source": []
  },
  {
   "cell_type": "code",
   "execution_count": null,
   "metadata": {},
   "outputs": [],
   "source": []
  }
 ],
 "metadata": {
  "kernelspec": {
   "display_name": "U4-S1-NLP (Python3)",
   "language": "python",
   "name": "nlp"
  },
  "language_info": {
   "codemirror_mode": {
    "name": "ipython",
    "version": 3
   },
   "file_extension": ".py",
   "mimetype": "text/x-python",
   "name": "python",
   "nbconvert_exporter": "python",
   "pygments_lexer": "ipython3",
   "version": "3.7.0"
  }
 },
 "nbformat": 4,
 "nbformat_minor": 4
}
