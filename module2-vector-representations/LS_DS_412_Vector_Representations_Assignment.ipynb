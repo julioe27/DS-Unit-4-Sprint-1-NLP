{
 "cells": [
  {
   "cell_type": "markdown",
   "metadata": {},
   "source": [
    "<img align=\"left\" src=\"https://lever-client-logos.s3.amazonaws.com/864372b1-534c-480e-acd5-9711f850815c-1524247202159.png\" width=200>\n",
    "<br></br>\n",
    "\n",
    "# Vector Representations\n",
    "## *Data Science Unit 4 Sprint 2 Assignment 2*"
   ]
  },
  {
   "cell_type": "code",
   "execution_count": 2,
   "metadata": {
    "colab": {
     "base_uri": "https://localhost:8080/",
     "height": 159
    },
    "colab_type": "code",
    "id": "hyj-f9FDcVFp",
    "outputId": "5dd045fe-6e4c-458c-e2fc-253c3da9c805"
   },
   "outputs": [],
   "source": [
    "import re\n",
    "import string\n",
    "\n",
    "from sklearn.feature_extraction.text import CountVectorizer, TfidfVectorizer\n",
    "import matplotlib.pyplot as plt\n",
    "import pandas as pd\n",
    "import numpy as np\n",
    "import spacy\n",
    "from spacy.tokenizer import Tokenizer"
   ]
  },
  {
   "cell_type": "markdown",
   "metadata": {
    "colab_type": "text",
    "id": "M7bcmqfGXrFG"
   },
   "source": [
    "## 1) *Clean:* Job Listings from indeed.com that contain the title \"Data Scientist\" \n",
    "\n",
    "You have `job_listings.csv` in the data folder for this module. The text data in the description column is still messy - full of html tags. Use the [BeautifulSoup](https://www.crummy.com/software/BeautifulSoup/bs4/doc/) library to clean up this column. You will need to read through the documentation to accomplish this task. "
   ]
  },
  {
   "cell_type": "code",
   "execution_count": 3,
   "metadata": {
    "colab": {},
    "colab_type": "code",
    "id": "KcYlc1URXhlC"
   },
   "outputs": [
    {
     "data": {
      "text/html": [
       "<div>\n",
       "<style scoped>\n",
       "    .dataframe tbody tr th:only-of-type {\n",
       "        vertical-align: middle;\n",
       "    }\n",
       "\n",
       "    .dataframe tbody tr th {\n",
       "        vertical-align: top;\n",
       "    }\n",
       "\n",
       "    .dataframe thead th {\n",
       "        text-align: right;\n",
       "    }\n",
       "</style>\n",
       "<table border=\"1\" class=\"dataframe\">\n",
       "  <thead>\n",
       "    <tr style=\"text-align: right;\">\n",
       "      <th></th>\n",
       "      <th>description</th>\n",
       "      <th>title</th>\n",
       "    </tr>\n",
       "  </thead>\n",
       "  <tbody>\n",
       "    <tr>\n",
       "      <th>0</th>\n",
       "      <td>b\"&lt;div&gt;&lt;div&gt;Job Requirements:&lt;/div&gt;&lt;ul&gt;&lt;li&gt;&lt;p&gt;...</td>\n",
       "      <td>Data scientist</td>\n",
       "    </tr>\n",
       "    <tr>\n",
       "      <th>1</th>\n",
       "      <td>b'&lt;div&gt;Job Description&lt;br/&gt;\\n&lt;br/&gt;\\n&lt;p&gt;As a Da...</td>\n",
       "      <td>Data Scientist I</td>\n",
       "    </tr>\n",
       "    <tr>\n",
       "      <th>2</th>\n",
       "      <td>b'&lt;div&gt;&lt;p&gt;As a Data Scientist you will be work...</td>\n",
       "      <td>Data Scientist - Entry Level</td>\n",
       "    </tr>\n",
       "    <tr>\n",
       "      <th>3</th>\n",
       "      <td>b'&lt;div class=\"jobsearch-JobMetadataHeader icl-...</td>\n",
       "      <td>Data Scientist</td>\n",
       "    </tr>\n",
       "    <tr>\n",
       "      <th>4</th>\n",
       "      <td>b'&lt;ul&gt;&lt;li&gt;Location: USA \\xe2\\x80\\x93 multiple ...</td>\n",
       "      <td>Data Scientist</td>\n",
       "    </tr>\n",
       "    <tr>\n",
       "      <th>...</th>\n",
       "      <td>...</td>\n",
       "      <td>...</td>\n",
       "    </tr>\n",
       "    <tr>\n",
       "      <th>421</th>\n",
       "      <td>b\"&lt;b&gt;About Us:&lt;/b&gt;&lt;br/&gt;\\nWant to be part of a ...</td>\n",
       "      <td>Senior Data Science Engineer</td>\n",
       "    </tr>\n",
       "    <tr>\n",
       "      <th>422</th>\n",
       "      <td>b'&lt;div class=\"jobsearch-JobMetadataHeader icl-...</td>\n",
       "      <td>2019 PhD Data Scientist Internship - Forecasti...</td>\n",
       "    </tr>\n",
       "    <tr>\n",
       "      <th>423</th>\n",
       "      <td>b'&lt;div class=\"jobsearch-JobMetadataHeader icl-...</td>\n",
       "      <td>Data Scientist - Insurance</td>\n",
       "    </tr>\n",
       "    <tr>\n",
       "      <th>424</th>\n",
       "      <td>b\"&lt;p&gt;&lt;/p&gt;&lt;div&gt;&lt;p&gt;SENIOR DATA SCIENTIST&lt;/p&gt;&lt;p&gt;\\...</td>\n",
       "      <td>Senior Data Scientist</td>\n",
       "    </tr>\n",
       "    <tr>\n",
       "      <th>425</th>\n",
       "      <td>b'&lt;div&gt;&lt;/div&gt;&lt;div&gt;&lt;div&gt;&lt;div&gt;&lt;div&gt;&lt;p&gt;Cerner Int...</td>\n",
       "      <td>Data Scientist</td>\n",
       "    </tr>\n",
       "  </tbody>\n",
       "</table>\n",
       "<p>426 rows × 2 columns</p>\n",
       "</div>"
      ],
      "text/plain": [
       "                                           description  \\\n",
       "0    b\"<div><div>Job Requirements:</div><ul><li><p>...   \n",
       "1    b'<div>Job Description<br/>\\n<br/>\\n<p>As a Da...   \n",
       "2    b'<div><p>As a Data Scientist you will be work...   \n",
       "3    b'<div class=\"jobsearch-JobMetadataHeader icl-...   \n",
       "4    b'<ul><li>Location: USA \\xe2\\x80\\x93 multiple ...   \n",
       "..                                                 ...   \n",
       "421  b\"<b>About Us:</b><br/>\\nWant to be part of a ...   \n",
       "422  b'<div class=\"jobsearch-JobMetadataHeader icl-...   \n",
       "423  b'<div class=\"jobsearch-JobMetadataHeader icl-...   \n",
       "424  b\"<p></p><div><p>SENIOR DATA SCIENTIST</p><p>\\...   \n",
       "425  b'<div></div><div><div><div><div><p>Cerner Int...   \n",
       "\n",
       "                                                 title  \n",
       "0                                      Data scientist   \n",
       "1                                     Data Scientist I  \n",
       "2                         Data Scientist - Entry Level  \n",
       "3                                       Data Scientist  \n",
       "4                                       Data Scientist  \n",
       "..                                                 ...  \n",
       "421                       Senior Data Science Engineer  \n",
       "422  2019 PhD Data Scientist Internship - Forecasti...  \n",
       "423                         Data Scientist - Insurance  \n",
       "424                              Senior Data Scientist  \n",
       "425                                     Data Scientist  \n",
       "\n",
       "[426 rows x 2 columns]"
      ]
     },
     "execution_count": 3,
     "metadata": {},
     "output_type": "execute_result"
    }
   ],
   "source": [
    "from bs4 import BeautifulSoup # used only to extract the jobs description\n",
    "import requests\n",
    "import os\n",
    "\n",
    "##### Your Code Here #####\n",
    "df = pd.read_csv(os.path.join('data', 'job_listings.csv'))\n",
    "df = df.drop(['Unnamed: 0'], axis=1)\n",
    "df"
   ]
  },
  {
   "cell_type": "code",
   "execution_count": 4,
   "metadata": {},
   "outputs": [],
   "source": [
    "df = df.applymap(lambda soup: BeautifulSoup(soup, 'html.parser').get_text())\n",
    "df = df.applymap(lambda soup: re.sub('/\\r?\\n|\\r/', ))"
   ]
  },
  {
   "cell_type": "code",
   "execution_count": 27,
   "metadata": {},
   "outputs": [
    {
     "data": {
      "text/plain": [
       "\"b'$4,969 - $6,756 a monthContractUnder the general supervision of Professors Dana Mukamel and Kai Zheng, the incumbent will join the CalMHSA Mental Health Tech Suite Innovation (INN) Evaluation Team. This large, statewide multi-year study will evaluate the effectiveness of two new and innovative applications offered to people with mental health conditions, which include opportunities for online chatting between users and online listeners Responsibilities of the incumbent will include managing and analyzing text data created by users of the two mental health applications as part of the research and evaluation objectives of the team. The incumbent will collaborate with faculty and other team researchers, and will be expected to create under supervision and direction variables describing the usage of the apps, the interactions between users, and the effectiveness of the apps. The incumbent will also be expected to interact with the vendors of the apps around data issues.\\\\n\\\\nThe University of California, Irvine is an Equal Opportunity/Affirmative Action Employer advancing inclusive excellence. All qualified applicants will receive consideration for employment without regard to race, color, religion, sex, sexual orientation, gender identity, national origin, disability, age, protected veteran status, or other protected categories covered by the UC nondiscrimination policy.\\\\n\\\\nSalary: Monthly $4,968.58 - $6,755.83\\\\nTotal Hours: 8-5, M-F\\\\nContract Position.\\\\nFinal candidate subject to background check.\\\\nAs a federal contractor, UC Irvine is required to use E-Verify to confirm the work status of individuals assigned to perform substantial work under certain federal contracts/subcontracts.\\\\n\\\\nPlease attach your resume.'\""
      ]
     },
     "execution_count": 27,
     "metadata": {},
     "output_type": "execute_result"
    }
   ],
   "source": [
    "df['description'][3]"
   ]
  },
  {
   "cell_type": "code",
   "execution_count": 6,
   "metadata": {},
   "outputs": [
    {
     "data": {
      "text/html": [
       "<div>\n",
       "<style scoped>\n",
       "    .dataframe tbody tr th:only-of-type {\n",
       "        vertical-align: middle;\n",
       "    }\n",
       "\n",
       "    .dataframe tbody tr th {\n",
       "        vertical-align: top;\n",
       "    }\n",
       "\n",
       "    .dataframe thead th {\n",
       "        text-align: right;\n",
       "    }\n",
       "</style>\n",
       "<table border=\"1\" class=\"dataframe\">\n",
       "  <thead>\n",
       "    <tr style=\"text-align: right;\">\n",
       "      <th></th>\n",
       "      <th>description</th>\n",
       "      <th>title</th>\n",
       "    </tr>\n",
       "  </thead>\n",
       "  <tbody>\n",
       "    <tr>\n",
       "      <th>0</th>\n",
       "      <td>b\"Job Requirements:\\nConceptual understanding ...</td>\n",
       "      <td>Data scientist</td>\n",
       "    </tr>\n",
       "    <tr>\n",
       "      <th>1</th>\n",
       "      <td>b'Job Description\\n\\nAs a Data Scientist 1, yo...</td>\n",
       "      <td>Data Scientist I</td>\n",
       "    </tr>\n",
       "    <tr>\n",
       "      <th>2</th>\n",
       "      <td>b'As a Data Scientist you will be working on c...</td>\n",
       "      <td>Data Scientist - Entry Level</td>\n",
       "    </tr>\n",
       "    <tr>\n",
       "      <th>3</th>\n",
       "      <td>b'$4,969 - $6,756 a monthContractUnder the gen...</td>\n",
       "      <td>Data Scientist</td>\n",
       "    </tr>\n",
       "    <tr>\n",
       "      <th>4</th>\n",
       "      <td>b'Location: USA \\xe2\\x80\\x93 multiple location...</td>\n",
       "      <td>Data Scientist</td>\n",
       "    </tr>\n",
       "  </tbody>\n",
       "</table>\n",
       "</div>"
      ],
      "text/plain": [
       "                                         description  \\\n",
       "0  b\"Job Requirements:\\nConceptual understanding ...   \n",
       "1  b'Job Description\\n\\nAs a Data Scientist 1, yo...   \n",
       "2  b'As a Data Scientist you will be working on c...   \n",
       "3  b'$4,969 - $6,756 a monthContractUnder the gen...   \n",
       "4  b'Location: USA \\xe2\\x80\\x93 multiple location...   \n",
       "\n",
       "                          title  \n",
       "0               Data scientist   \n",
       "1              Data Scientist I  \n",
       "2  Data Scientist - Entry Level  \n",
       "3                Data Scientist  \n",
       "4                Data Scientist  "
      ]
     },
     "execution_count": 6,
     "metadata": {},
     "output_type": "execute_result"
    }
   ],
   "source": [
    "df.head(5)"
   ]
  },
  {
   "cell_type": "markdown",
   "metadata": {
    "colab_type": "text",
    "id": "5C4xFZNtX1m2"
   },
   "source": [
    "## 2) Use Spacy to tokenize the listings "
   ]
  },
  {
   "cell_type": "code",
   "execution_count": 7,
   "metadata": {
    "colab": {},
    "colab_type": "code",
    "id": "dhUHuMr-X-II"
   },
   "outputs": [],
   "source": [
    "##### Your Code Here #####\n",
    "nlp = spacy.load(\"en_core_web_lg\")\n",
    "tokenizer = Tokenizer(nlp.vocab)"
   ]
  },
  {
   "cell_type": "code",
   "execution_count": 8,
   "metadata": {},
   "outputs": [],
   "source": [
    "STOP_WORDS = nlp.Defaults.stop_words.union([':','\\xe2\\x80\\x93',\"b'\",\"\\n\"])"
   ]
  },
  {
   "cell_type": "code",
   "execution_count": 9,
   "metadata": {},
   "outputs": [
    {
     "data": {
      "text/plain": [
       "0    [b\"job, requirements:\\nconceptual, understandi...\n",
       "1    [b'job, description\\n\\nas, data, scientist, 1,...\n",
       "2    [b'as, data, scientist, working, consulting, b...\n",
       "3    [b'$4,969, $6,756, monthcontractunder, general...\n",
       "4    [b'location:, usa, \\xe2\\x80\\x93, multiple, loc...\n",
       "Name: spacy_tokens, dtype: object"
      ]
     },
     "execution_count": 9,
     "metadata": {},
     "output_type": "execute_result"
    }
   ],
   "source": [
    "\n",
    "tokens  = []\n",
    "for doc in tokenizer.pipe(df['description']):\n",
    "    doc_tokens = []\n",
    "    for token in doc:\n",
    "        if (token.is_stop == False) & (token.is_punct == False):\n",
    "            doc_tokens.append(token.text.lower())\n",
    "    tokens.append(doc_tokens)\n",
    "    \n",
    "df['spacy_tokens'] = tokens\n",
    "df['spacy_tokens'].head()"
   ]
  },
  {
   "cell_type": "code",
   "execution_count": 10,
   "metadata": {},
   "outputs": [],
   "source": [
    "from collections import Counter\n",
    "\n",
    "def count(docs):\n",
    "    word_counts = Counter()\n",
    "    appears_in = Counter()\n",
    "    total_docs = len(docs)\n",
    "    \n",
    "    for doc in docs:\n",
    "        word_counts.update(doc)\n",
    "        appears_in.update(set(doc))\n",
    "        \n",
    "    temp = zip(word_counts.keys(), word_counts.values())\n",
    "    \n",
    "    wc = pd.DataFrame(temp,columns = ['word','count'])\n",
    "    wc['rank'] = wc['count'].rank(method='first',ascending=False)\n",
    "    total = wc['count'].sum()\n",
    "    \n",
    "    wc['pct_total'] = wc['count'].apply(lambda x: x / total)\n",
    "    wc = wc.sort_values(by='rank')\n",
    "    wc['cul_pct_total'] = wc['pct_total'].cumsum()\n",
    "    \n",
    "    t2 = zip(appears_in.keys(), appears_in.values())\n",
    "    ac = pd.DataFrame(t2, columns=['word','appears_in'])\n",
    "    wc = ac.merge(wc,on='word')\n",
    "    wc['appears_in_pct'] = wc['appears_in'].apply(lambda x: x / total_docs)\n",
    "    \n",
    "    return wc.sort_values(by='rank')"
   ]
  },
  {
   "cell_type": "code",
   "execution_count": 11,
   "metadata": {},
   "outputs": [
    {
     "data": {
      "text/html": [
       "<div>\n",
       "<style scoped>\n",
       "    .dataframe tbody tr th:only-of-type {\n",
       "        vertical-align: middle;\n",
       "    }\n",
       "\n",
       "    .dataframe tbody tr th {\n",
       "        vertical-align: top;\n",
       "    }\n",
       "\n",
       "    .dataframe thead th {\n",
       "        text-align: right;\n",
       "    }\n",
       "</style>\n",
       "<table border=\"1\" class=\"dataframe\">\n",
       "  <thead>\n",
       "    <tr style=\"text-align: right;\">\n",
       "      <th></th>\n",
       "      <th>word</th>\n",
       "      <th>appears_in</th>\n",
       "      <th>count</th>\n",
       "      <th>rank</th>\n",
       "      <th>pct_total</th>\n",
       "      <th>cul_pct_total</th>\n",
       "      <th>appears_in_pct</th>\n",
       "    </tr>\n",
       "  </thead>\n",
       "  <tbody>\n",
       "    <tr>\n",
       "      <th>21300</th>\n",
       "      <td>receive.</td>\n",
       "      <td>1</td>\n",
       "      <td>1</td>\n",
       "      <td>21335.0</td>\n",
       "      <td>0.000008</td>\n",
       "      <td>0.999968</td>\n",
       "      <td>0.002347</td>\n",
       "    </tr>\n",
       "    <tr>\n",
       "      <th>21296</th>\n",
       "      <td>licensed</td>\n",
       "      <td>1</td>\n",
       "      <td>1</td>\n",
       "      <td>21336.0</td>\n",
       "      <td>0.000008</td>\n",
       "      <td>0.999976</td>\n",
       "      <td>0.002347</td>\n",
       "    </tr>\n",
       "    <tr>\n",
       "      <th>21289</th>\n",
       "      <td>25,000</td>\n",
       "      <td>1</td>\n",
       "      <td>1</td>\n",
       "      <td>21337.0</td>\n",
       "      <td>0.000008</td>\n",
       "      <td>0.999984</td>\n",
       "      <td>0.002347</td>\n",
       "    </tr>\n",
       "    <tr>\n",
       "      <th>21297</th>\n",
       "      <td>countries.\\n\\ncerner\\xe2\\x80\\x99s</td>\n",
       "      <td>1</td>\n",
       "      <td>1</td>\n",
       "      <td>21338.0</td>\n",
       "      <td>0.000008</td>\n",
       "      <td>0.999992</td>\n",
       "      <td>0.002347</td>\n",
       "    </tr>\n",
       "    <tr>\n",
       "      <th>21313</th>\n",
       "      <td>category.</td>\n",
       "      <td>1</td>\n",
       "      <td>1</td>\n",
       "      <td>21339.0</td>\n",
       "      <td>0.000008</td>\n",
       "      <td>1.000000</td>\n",
       "      <td>0.002347</td>\n",
       "    </tr>\n",
       "  </tbody>\n",
       "</table>\n",
       "</div>"
      ],
      "text/plain": [
       "                                    word  appears_in  count     rank  \\\n",
       "21300                           receive.           1      1  21335.0   \n",
       "21296                           licensed           1      1  21336.0   \n",
       "21289                             25,000           1      1  21337.0   \n",
       "21297  countries.\\n\\ncerner\\xe2\\x80\\x99s           1      1  21338.0   \n",
       "21313                          category.           1      1  21339.0   \n",
       "\n",
       "       pct_total  cul_pct_total  appears_in_pct  \n",
       "21300   0.000008       0.999968        0.002347  \n",
       "21296   0.000008       0.999976        0.002347  \n",
       "21289   0.000008       0.999984        0.002347  \n",
       "21297   0.000008       0.999992        0.002347  \n",
       "21313   0.000008       1.000000        0.002347  "
      ]
     },
     "execution_count": 11,
     "metadata": {},
     "output_type": "execute_result"
    }
   ],
   "source": [
    "wc = count(df['spacy_tokens'])\n",
    "wc.tail()"
   ]
  },
  {
   "cell_type": "markdown",
   "metadata": {
    "colab_type": "text",
    "id": "-lgCZNL_YycP"
   },
   "source": [
    "## 3) Use Scikit-Learn's CountVectorizer to get word counts for each listing."
   ]
  },
  {
   "cell_type": "code",
   "execution_count": 12,
   "metadata": {},
   "outputs": [
    {
     "data": {
      "text/html": [
       "<div>\n",
       "<style scoped>\n",
       "    .dataframe tbody tr th:only-of-type {\n",
       "        vertical-align: middle;\n",
       "    }\n",
       "\n",
       "    .dataframe tbody tr th {\n",
       "        vertical-align: top;\n",
       "    }\n",
       "\n",
       "    .dataframe thead th {\n",
       "        text-align: right;\n",
       "    }\n",
       "</style>\n",
       "<table border=\"1\" class=\"dataframe\">\n",
       "  <thead>\n",
       "    <tr style=\"text-align: right;\">\n",
       "      <th></th>\n",
       "      <th>description</th>\n",
       "      <th>title</th>\n",
       "      <th>spacy_tokens</th>\n",
       "    </tr>\n",
       "  </thead>\n",
       "  <tbody>\n",
       "    <tr>\n",
       "      <th>0</th>\n",
       "      <td>b\"Job Requirements:\\nConceptual understanding ...</td>\n",
       "      <td>Data scientist</td>\n",
       "      <td>[b\"job, requirements:\\nconceptual, understandi...</td>\n",
       "    </tr>\n",
       "    <tr>\n",
       "      <th>1</th>\n",
       "      <td>b'Job Description\\n\\nAs a Data Scientist 1, yo...</td>\n",
       "      <td>Data Scientist I</td>\n",
       "      <td>[b'job, description\\n\\nas, data, scientist, 1,...</td>\n",
       "    </tr>\n",
       "    <tr>\n",
       "      <th>2</th>\n",
       "      <td>b'As a Data Scientist you will be working on c...</td>\n",
       "      <td>Data Scientist - Entry Level</td>\n",
       "      <td>[b'as, data, scientist, working, consulting, b...</td>\n",
       "    </tr>\n",
       "    <tr>\n",
       "      <th>3</th>\n",
       "      <td>b'$4,969 - $6,756 a monthContractUnder the gen...</td>\n",
       "      <td>Data Scientist</td>\n",
       "      <td>[b'$4,969, $6,756, monthcontractunder, general...</td>\n",
       "    </tr>\n",
       "    <tr>\n",
       "      <th>4</th>\n",
       "      <td>b'Location: USA \\xe2\\x80\\x93 multiple location...</td>\n",
       "      <td>Data Scientist</td>\n",
       "      <td>[b'location:, usa, \\xe2\\x80\\x93, multiple, loc...</td>\n",
       "    </tr>\n",
       "    <tr>\n",
       "      <th>...</th>\n",
       "      <td>...</td>\n",
       "      <td>...</td>\n",
       "      <td>...</td>\n",
       "    </tr>\n",
       "    <tr>\n",
       "      <th>421</th>\n",
       "      <td>b\"About Us:\\nWant to be part of a fantastic an...</td>\n",
       "      <td>Senior Data Science Engineer</td>\n",
       "      <td>[b\"about, us:\\nwant, fantastic, fun, startup, ...</td>\n",
       "    </tr>\n",
       "    <tr>\n",
       "      <th>422</th>\n",
       "      <td>b'InternshipAt Uber, we ignite opportunity by ...</td>\n",
       "      <td>2019 PhD Data Scientist Internship - Forecasti...</td>\n",
       "      <td>[b'internshipat, uber,, ignite, opportunity, s...</td>\n",
       "    </tr>\n",
       "    <tr>\n",
       "      <th>423</th>\n",
       "      <td>b'$200,000 - $350,000 a yearA million people a...</td>\n",
       "      <td>Data Scientist - Insurance</td>\n",
       "      <td>[b'$200,000, $350,000, yeara, million, people,...</td>\n",
       "    </tr>\n",
       "    <tr>\n",
       "      <th>424</th>\n",
       "      <td>b\"SENIOR DATA SCIENTIST\\nJOB DESCRIPTION\\n\\nAB...</td>\n",
       "      <td>Senior Data Scientist</td>\n",
       "      <td>[b\"senior, data, scientist\\njob, description\\n...</td>\n",
       "    </tr>\n",
       "    <tr>\n",
       "      <th>425</th>\n",
       "      <td>b'Cerner Intelligence is a new, innovative org...</td>\n",
       "      <td>Data Scientist</td>\n",
       "      <td>[b'cerner, intelligence, new,, innovative, org...</td>\n",
       "    </tr>\n",
       "  </tbody>\n",
       "</table>\n",
       "<p>426 rows × 3 columns</p>\n",
       "</div>"
      ],
      "text/plain": [
       "                                           description  \\\n",
       "0    b\"Job Requirements:\\nConceptual understanding ...   \n",
       "1    b'Job Description\\n\\nAs a Data Scientist 1, yo...   \n",
       "2    b'As a Data Scientist you will be working on c...   \n",
       "3    b'$4,969 - $6,756 a monthContractUnder the gen...   \n",
       "4    b'Location: USA \\xe2\\x80\\x93 multiple location...   \n",
       "..                                                 ...   \n",
       "421  b\"About Us:\\nWant to be part of a fantastic an...   \n",
       "422  b'InternshipAt Uber, we ignite opportunity by ...   \n",
       "423  b'$200,000 - $350,000 a yearA million people a...   \n",
       "424  b\"SENIOR DATA SCIENTIST\\nJOB DESCRIPTION\\n\\nAB...   \n",
       "425  b'Cerner Intelligence is a new, innovative org...   \n",
       "\n",
       "                                                 title  \\\n",
       "0                                      Data scientist    \n",
       "1                                     Data Scientist I   \n",
       "2                         Data Scientist - Entry Level   \n",
       "3                                       Data Scientist   \n",
       "4                                       Data Scientist   \n",
       "..                                                 ...   \n",
       "421                       Senior Data Science Engineer   \n",
       "422  2019 PhD Data Scientist Internship - Forecasti...   \n",
       "423                         Data Scientist - Insurance   \n",
       "424                              Senior Data Scientist   \n",
       "425                                     Data Scientist   \n",
       "\n",
       "                                          spacy_tokens  \n",
       "0    [b\"job, requirements:\\nconceptual, understandi...  \n",
       "1    [b'job, description\\n\\nas, data, scientist, 1,...  \n",
       "2    [b'as, data, scientist, working, consulting, b...  \n",
       "3    [b'$4,969, $6,756, monthcontractunder, general...  \n",
       "4    [b'location:, usa, \\xe2\\x80\\x93, multiple, loc...  \n",
       "..                                                 ...  \n",
       "421  [b\"about, us:\\nwant, fantastic, fun, startup, ...  \n",
       "422  [b'internshipat, uber,, ignite, opportunity, s...  \n",
       "423  [b'$200,000, $350,000, yeara, million, people,...  \n",
       "424  [b\"senior, data, scientist\\njob, description\\n...  \n",
       "425  [b'cerner, intelligence, new,, innovative, org...  \n",
       "\n",
       "[426 rows x 3 columns]"
      ]
     },
     "execution_count": 12,
     "metadata": {},
     "output_type": "execute_result"
    }
   ],
   "source": [
    "df"
   ]
  },
  {
   "cell_type": "code",
   "execution_count": 13,
   "metadata": {
    "colab": {},
    "colab_type": "code",
    "id": "X2PZ8Pj_YxcF"
   },
   "outputs": [],
   "source": [
    "##### Your Code Here #####\n",
    "vect = CountVectorizer(stop_words='english')"
   ]
  },
  {
   "cell_type": "code",
   "execution_count": 14,
   "metadata": {},
   "outputs": [
    {
     "name": "stdout",
     "output_type": "stream",
     "text": [
      "0      b\"job,requirements:\\nconceptual,understanding,...\n",
      "1      b'job,description\\n\\nas,data,scientist,1,,help...\n",
      "2      b'as,data,scientist,working,consulting,busines...\n",
      "3      b'$4,969,$6,756,monthcontractunder,general,sup...\n",
      "4      b'location:,usa,\\xe2\\x80\\x93,multiple,location...\n",
      "                             ...                        \n",
      "421    b\"about,us:\\nwant,fantastic,fun,startup,that\\x...\n",
      "422    b'internshipat,uber,,ignite,opportunity,settin...\n",
      "423    b'$200,000,$350,000,yeara,million,people,year,...\n",
      "424    b\"senior,data,scientist\\njob,description\\n\\nab...\n",
      "425    b'cerner,intelligence,new,,innovative,organiza...\n",
      "Name: str_spacy_tokens, Length: 426, dtype: object\n",
      "(426, 9813)\n"
     ]
    }
   ],
   "source": [
    "df['str_spacy_tokens'] = [','.join(map(str, l)) for l in df['spacy_tokens']]\n",
    "print(df['str_spacy_tokens'])\n",
    "# Converting lists into string to pass into fit_transform method\n",
    "\n",
    "\n",
    "# for some reason I couldn't use this columns (df['spacy_tokens']) because it's a list\n",
    "# but it was able to take the entire df??\n",
    "\n",
    "dtm = vect.fit_transform(df['str_spacy_tokens'])\n",
    "print(dtm.shape)"
   ]
  },
  {
   "cell_type": "code",
   "execution_count": 15,
   "metadata": {},
   "outputs": [
    {
     "data": {
      "text/plain": [
       "scipy.sparse.csr.csr_matrix"
      ]
     },
     "execution_count": 15,
     "metadata": {},
     "output_type": "execute_result"
    }
   ],
   "source": [
    "type(dtm)"
   ]
  },
  {
   "cell_type": "code",
   "execution_count": 16,
   "metadata": {},
   "outputs": [
    {
     "data": {
      "text/plain": [
       "matrix([[0, 0, 0, ..., 0, 0, 0],\n",
       "        [0, 0, 0, ..., 0, 0, 0],\n",
       "        [0, 0, 0, ..., 0, 0, 0],\n",
       "        ...,\n",
       "        [0, 2, 0, ..., 0, 0, 0],\n",
       "        [0, 0, 0, ..., 0, 0, 0],\n",
       "        [0, 1, 0, ..., 0, 0, 0]], dtype=int64)"
      ]
     },
     "execution_count": 16,
     "metadata": {},
     "output_type": "execute_result"
    }
   ],
   "source": [
    "dtm.todense()"
   ]
  },
  {
   "cell_type": "markdown",
   "metadata": {
    "colab_type": "text",
    "id": "Zo1iH_UeY7_n"
   },
   "source": [
    "## 4) Visualize the most common word counts"
   ]
  },
  {
   "cell_type": "code",
   "execution_count": 17,
   "metadata": {},
   "outputs": [
    {
     "name": "stdout",
     "output_type": "stream",
     "text": [
      "(426, 9813)\n"
     ]
    },
    {
     "data": {
      "text/html": [
       "<div>\n",
       "<style scoped>\n",
       "    .dataframe tbody tr th:only-of-type {\n",
       "        vertical-align: middle;\n",
       "    }\n",
       "\n",
       "    .dataframe tbody tr th {\n",
       "        vertical-align: top;\n",
       "    }\n",
       "\n",
       "    .dataframe thead th {\n",
       "        text-align: right;\n",
       "    }\n",
       "</style>\n",
       "<table border=\"1\" class=\"dataframe\">\n",
       "  <thead>\n",
       "    <tr style=\"text-align: right;\">\n",
       "      <th></th>\n",
       "      <th>00</th>\n",
       "      <th>000</th>\n",
       "      <th>02115</th>\n",
       "      <th>03</th>\n",
       "      <th>0356</th>\n",
       "      <th>04</th>\n",
       "      <th>062</th>\n",
       "      <th>06366</th>\n",
       "      <th>08</th>\n",
       "      <th>10</th>\n",
       "      <th>...</th>\n",
       "      <th>zenreach</th>\n",
       "      <th>zero</th>\n",
       "      <th>zeus</th>\n",
       "      <th>zf</th>\n",
       "      <th>zheng</th>\n",
       "      <th>zillow</th>\n",
       "      <th>zones</th>\n",
       "      <th>zoom</th>\n",
       "      <th>zuckerberg</th>\n",
       "      <th>zurich</th>\n",
       "    </tr>\n",
       "  </thead>\n",
       "  <tbody>\n",
       "    <tr>\n",
       "      <th>0</th>\n",
       "      <td>0</td>\n",
       "      <td>0</td>\n",
       "      <td>0</td>\n",
       "      <td>0</td>\n",
       "      <td>0</td>\n",
       "      <td>0</td>\n",
       "      <td>0</td>\n",
       "      <td>0</td>\n",
       "      <td>0</td>\n",
       "      <td>0</td>\n",
       "      <td>...</td>\n",
       "      <td>0</td>\n",
       "      <td>0</td>\n",
       "      <td>0</td>\n",
       "      <td>0</td>\n",
       "      <td>0</td>\n",
       "      <td>0</td>\n",
       "      <td>0</td>\n",
       "      <td>0</td>\n",
       "      <td>0</td>\n",
       "      <td>0</td>\n",
       "    </tr>\n",
       "    <tr>\n",
       "      <th>1</th>\n",
       "      <td>0</td>\n",
       "      <td>0</td>\n",
       "      <td>0</td>\n",
       "      <td>0</td>\n",
       "      <td>0</td>\n",
       "      <td>0</td>\n",
       "      <td>0</td>\n",
       "      <td>0</td>\n",
       "      <td>0</td>\n",
       "      <td>0</td>\n",
       "      <td>...</td>\n",
       "      <td>0</td>\n",
       "      <td>0</td>\n",
       "      <td>0</td>\n",
       "      <td>0</td>\n",
       "      <td>0</td>\n",
       "      <td>0</td>\n",
       "      <td>0</td>\n",
       "      <td>0</td>\n",
       "      <td>0</td>\n",
       "      <td>0</td>\n",
       "    </tr>\n",
       "    <tr>\n",
       "      <th>2</th>\n",
       "      <td>0</td>\n",
       "      <td>0</td>\n",
       "      <td>0</td>\n",
       "      <td>0</td>\n",
       "      <td>0</td>\n",
       "      <td>0</td>\n",
       "      <td>0</td>\n",
       "      <td>0</td>\n",
       "      <td>0</td>\n",
       "      <td>0</td>\n",
       "      <td>...</td>\n",
       "      <td>0</td>\n",
       "      <td>0</td>\n",
       "      <td>0</td>\n",
       "      <td>0</td>\n",
       "      <td>0</td>\n",
       "      <td>0</td>\n",
       "      <td>0</td>\n",
       "      <td>0</td>\n",
       "      <td>0</td>\n",
       "      <td>0</td>\n",
       "    </tr>\n",
       "    <tr>\n",
       "      <th>3</th>\n",
       "      <td>0</td>\n",
       "      <td>0</td>\n",
       "      <td>0</td>\n",
       "      <td>0</td>\n",
       "      <td>0</td>\n",
       "      <td>0</td>\n",
       "      <td>0</td>\n",
       "      <td>0</td>\n",
       "      <td>0</td>\n",
       "      <td>0</td>\n",
       "      <td>...</td>\n",
       "      <td>0</td>\n",
       "      <td>0</td>\n",
       "      <td>0</td>\n",
       "      <td>0</td>\n",
       "      <td>1</td>\n",
       "      <td>0</td>\n",
       "      <td>0</td>\n",
       "      <td>0</td>\n",
       "      <td>0</td>\n",
       "      <td>0</td>\n",
       "    </tr>\n",
       "    <tr>\n",
       "      <th>4</th>\n",
       "      <td>0</td>\n",
       "      <td>0</td>\n",
       "      <td>0</td>\n",
       "      <td>0</td>\n",
       "      <td>0</td>\n",
       "      <td>0</td>\n",
       "      <td>0</td>\n",
       "      <td>0</td>\n",
       "      <td>0</td>\n",
       "      <td>0</td>\n",
       "      <td>...</td>\n",
       "      <td>0</td>\n",
       "      <td>0</td>\n",
       "      <td>0</td>\n",
       "      <td>0</td>\n",
       "      <td>0</td>\n",
       "      <td>0</td>\n",
       "      <td>0</td>\n",
       "      <td>0</td>\n",
       "      <td>0</td>\n",
       "      <td>0</td>\n",
       "    </tr>\n",
       "  </tbody>\n",
       "</table>\n",
       "<p>5 rows × 9813 columns</p>\n",
       "</div>"
      ],
      "text/plain": [
       "   00  000  02115  03  0356  04  062  06366  08  10  ...  zenreach  zero  \\\n",
       "0   0    0      0   0     0   0    0      0   0   0  ...         0     0   \n",
       "1   0    0      0   0     0   0    0      0   0   0  ...         0     0   \n",
       "2   0    0      0   0     0   0    0      0   0   0  ...         0     0   \n",
       "3   0    0      0   0     0   0    0      0   0   0  ...         0     0   \n",
       "4   0    0      0   0     0   0    0      0   0   0  ...         0     0   \n",
       "\n",
       "   zeus  zf  zheng  zillow  zones  zoom  zuckerberg  zurich  \n",
       "0     0   0      0       0      0     0           0       0  \n",
       "1     0   0      0       0      0     0           0       0  \n",
       "2     0   0      0       0      0     0           0       0  \n",
       "3     0   0      1       0      0     0           0       0  \n",
       "4     0   0      0       0      0     0           0       0  \n",
       "\n",
       "[5 rows x 9813 columns]"
      ]
     },
     "execution_count": 17,
     "metadata": {},
     "output_type": "execute_result"
    }
   ],
   "source": [
    "dtm = pd.DataFrame(dtm.todense(), columns=vect.get_feature_names())\n",
    "print(dtm.shape)\n",
    "dtm.head()"
   ]
  },
  {
   "cell_type": "markdown",
   "metadata": {
    "colab_type": "text",
    "id": "bwFsTqrVZMYi"
   },
   "source": [
    "## 5) Use Scikit-Learn's tfidfVectorizer to get a TF-IDF feature matrix"
   ]
  },
  {
   "cell_type": "code",
   "execution_count": 18,
   "metadata": {
    "colab": {},
    "colab_type": "code",
    "id": "-gx2gZCbl5Np"
   },
   "outputs": [
    {
     "name": "stdout",
     "output_type": "stream",
     "text": [
      "(426, 29099)\n"
     ]
    },
    {
     "data": {
      "text/html": [
       "<div>\n",
       "<style scoped>\n",
       "    .dataframe tbody tr th:only-of-type {\n",
       "        vertical-align: middle;\n",
       "    }\n",
       "\n",
       "    .dataframe tbody tr th {\n",
       "        vertical-align: top;\n",
       "    }\n",
       "\n",
       "    .dataframe thead th {\n",
       "        text-align: right;\n",
       "    }\n",
       "</style>\n",
       "<table border=\"1\" class=\"dataframe\">\n",
       "  <thead>\n",
       "    <tr style=\"text-align: right;\">\n",
       "      <th></th>\n",
       "      <th>000</th>\n",
       "      <th>000 125</th>\n",
       "      <th>000 350</th>\n",
       "      <th>000 associates</th>\n",
       "      <th>000 cities</th>\n",
       "      <th>000 client</th>\n",
       "      <th>000 employees</th>\n",
       "      <th>000 nthe</th>\n",
       "      <th>000 restaurants</th>\n",
       "      <th>000 subcontractor</th>\n",
       "      <th>...</th>\n",
       "      <th>zero</th>\n",
       "      <th>zero invite</th>\n",
       "      <th>zf</th>\n",
       "      <th>zf digital</th>\n",
       "      <th>zf divisions</th>\n",
       "      <th>zf organization</th>\n",
       "      <th>zf platforms</th>\n",
       "      <th>zf portfolio</th>\n",
       "      <th>zf positioning</th>\n",
       "      <th>zf xe2</th>\n",
       "    </tr>\n",
       "  </thead>\n",
       "  <tbody>\n",
       "    <tr>\n",
       "      <th>0</th>\n",
       "      <td>0.0</td>\n",
       "      <td>0.0</td>\n",
       "      <td>0.0</td>\n",
       "      <td>0.0</td>\n",
       "      <td>0.0</td>\n",
       "      <td>0.0</td>\n",
       "      <td>0.0</td>\n",
       "      <td>0.0</td>\n",
       "      <td>0.0</td>\n",
       "      <td>0.0</td>\n",
       "      <td>...</td>\n",
       "      <td>0.0</td>\n",
       "      <td>0.0</td>\n",
       "      <td>0.0</td>\n",
       "      <td>0.0</td>\n",
       "      <td>0.0</td>\n",
       "      <td>0.0</td>\n",
       "      <td>0.0</td>\n",
       "      <td>0.0</td>\n",
       "      <td>0.0</td>\n",
       "      <td>0.0</td>\n",
       "    </tr>\n",
       "    <tr>\n",
       "      <th>1</th>\n",
       "      <td>0.0</td>\n",
       "      <td>0.0</td>\n",
       "      <td>0.0</td>\n",
       "      <td>0.0</td>\n",
       "      <td>0.0</td>\n",
       "      <td>0.0</td>\n",
       "      <td>0.0</td>\n",
       "      <td>0.0</td>\n",
       "      <td>0.0</td>\n",
       "      <td>0.0</td>\n",
       "      <td>...</td>\n",
       "      <td>0.0</td>\n",
       "      <td>0.0</td>\n",
       "      <td>0.0</td>\n",
       "      <td>0.0</td>\n",
       "      <td>0.0</td>\n",
       "      <td>0.0</td>\n",
       "      <td>0.0</td>\n",
       "      <td>0.0</td>\n",
       "      <td>0.0</td>\n",
       "      <td>0.0</td>\n",
       "    </tr>\n",
       "    <tr>\n",
       "      <th>2</th>\n",
       "      <td>0.0</td>\n",
       "      <td>0.0</td>\n",
       "      <td>0.0</td>\n",
       "      <td>0.0</td>\n",
       "      <td>0.0</td>\n",
       "      <td>0.0</td>\n",
       "      <td>0.0</td>\n",
       "      <td>0.0</td>\n",
       "      <td>0.0</td>\n",
       "      <td>0.0</td>\n",
       "      <td>...</td>\n",
       "      <td>0.0</td>\n",
       "      <td>0.0</td>\n",
       "      <td>0.0</td>\n",
       "      <td>0.0</td>\n",
       "      <td>0.0</td>\n",
       "      <td>0.0</td>\n",
       "      <td>0.0</td>\n",
       "      <td>0.0</td>\n",
       "      <td>0.0</td>\n",
       "      <td>0.0</td>\n",
       "    </tr>\n",
       "    <tr>\n",
       "      <th>3</th>\n",
       "      <td>0.0</td>\n",
       "      <td>0.0</td>\n",
       "      <td>0.0</td>\n",
       "      <td>0.0</td>\n",
       "      <td>0.0</td>\n",
       "      <td>0.0</td>\n",
       "      <td>0.0</td>\n",
       "      <td>0.0</td>\n",
       "      <td>0.0</td>\n",
       "      <td>0.0</td>\n",
       "      <td>...</td>\n",
       "      <td>0.0</td>\n",
       "      <td>0.0</td>\n",
       "      <td>0.0</td>\n",
       "      <td>0.0</td>\n",
       "      <td>0.0</td>\n",
       "      <td>0.0</td>\n",
       "      <td>0.0</td>\n",
       "      <td>0.0</td>\n",
       "      <td>0.0</td>\n",
       "      <td>0.0</td>\n",
       "    </tr>\n",
       "    <tr>\n",
       "      <th>4</th>\n",
       "      <td>0.0</td>\n",
       "      <td>0.0</td>\n",
       "      <td>0.0</td>\n",
       "      <td>0.0</td>\n",
       "      <td>0.0</td>\n",
       "      <td>0.0</td>\n",
       "      <td>0.0</td>\n",
       "      <td>0.0</td>\n",
       "      <td>0.0</td>\n",
       "      <td>0.0</td>\n",
       "      <td>...</td>\n",
       "      <td>0.0</td>\n",
       "      <td>0.0</td>\n",
       "      <td>0.0</td>\n",
       "      <td>0.0</td>\n",
       "      <td>0.0</td>\n",
       "      <td>0.0</td>\n",
       "      <td>0.0</td>\n",
       "      <td>0.0</td>\n",
       "      <td>0.0</td>\n",
       "      <td>0.0</td>\n",
       "    </tr>\n",
       "  </tbody>\n",
       "</table>\n",
       "<p>5 rows × 29099 columns</p>\n",
       "</div>"
      ],
      "text/plain": [
       "   000  000 125  000 350  000 associates  000 cities  000 client  \\\n",
       "0  0.0      0.0      0.0             0.0         0.0         0.0   \n",
       "1  0.0      0.0      0.0             0.0         0.0         0.0   \n",
       "2  0.0      0.0      0.0             0.0         0.0         0.0   \n",
       "3  0.0      0.0      0.0             0.0         0.0         0.0   \n",
       "4  0.0      0.0      0.0             0.0         0.0         0.0   \n",
       "\n",
       "   000 employees  000 nthe  000 restaurants  000 subcontractor  ...  zero  \\\n",
       "0            0.0       0.0              0.0                0.0  ...   0.0   \n",
       "1            0.0       0.0              0.0                0.0  ...   0.0   \n",
       "2            0.0       0.0              0.0                0.0  ...   0.0   \n",
       "3            0.0       0.0              0.0                0.0  ...   0.0   \n",
       "4            0.0       0.0              0.0                0.0  ...   0.0   \n",
       "\n",
       "   zero invite   zf  zf digital  zf divisions  zf organization  zf platforms  \\\n",
       "0          0.0  0.0         0.0           0.0              0.0           0.0   \n",
       "1          0.0  0.0         0.0           0.0              0.0           0.0   \n",
       "2          0.0  0.0         0.0           0.0              0.0           0.0   \n",
       "3          0.0  0.0         0.0           0.0              0.0           0.0   \n",
       "4          0.0  0.0         0.0           0.0              0.0           0.0   \n",
       "\n",
       "   zf portfolio  zf positioning  zf xe2  \n",
       "0           0.0             0.0     0.0  \n",
       "1           0.0             0.0     0.0  \n",
       "2           0.0             0.0     0.0  \n",
       "3           0.0             0.0     0.0  \n",
       "4           0.0             0.0     0.0  \n",
       "\n",
       "[5 rows x 29099 columns]"
      ]
     },
     "execution_count": 18,
     "metadata": {},
     "output_type": "execute_result"
    }
   ],
   "source": [
    "##### Your Code Here #####\n",
    "tfidf = TfidfVectorizer(stop_words = 'english',\n",
    "                      ngram_range = (1,2),\n",
    "                      min_df = 2,\n",
    "                      max_df = 0.75) # 75%\n",
    "\n",
    "dtm = tfidf.fit_transform(df['str_spacy_tokens'])\n",
    "\n",
    "dtm = pd.DataFrame(dtm.todense(), columns = tfidf.get_feature_names())\n",
    "\n",
    "print(dtm.shape)\n",
    "dtm.head()"
   ]
  },
  {
   "cell_type": "markdown",
   "metadata": {},
   "source": [
    "## 6) Create a NearestNeighbor Model. Write the description of your ideal datascience job and query your job listings. "
   ]
  },
  {
   "cell_type": "code",
   "execution_count": 19,
   "metadata": {
    "collapsed": false,
    "inputHidden": false,
    "jupyter": {
     "outputs_hidden": false
    },
    "outputHidden": false
   },
   "outputs": [],
   "source": [
    "##### Your Code Here #####\n",
    "from sklearn.neighbors import NearestNeighbors"
   ]
  },
  {
   "cell_type": "code",
   "execution_count": 20,
   "metadata": {},
   "outputs": [
    {
     "data": {
      "text/plain": [
       "NearestNeighbors(algorithm='kd_tree', leaf_size=30, metric='minkowski',\n",
       "                 metric_params=None, n_jobs=None, n_neighbors=5, p=2,\n",
       "                 radius=1.0)"
      ]
     },
     "execution_count": 20,
     "metadata": {},
     "output_type": "execute_result"
    }
   ],
   "source": [
    "nn = NearestNeighbors(n_neighbors = 5, algorithm = 'kd_tree')\n",
    "nn.fit(dtm)"
   ]
  },
  {
   "cell_type": "code",
   "execution_count": 21,
   "metadata": {},
   "outputs": [
    {
     "data": {
      "text/plain": [
       "(array([[0.        , 1.33852255, 1.34109624, 1.34473944, 1.35136249]]),\n",
       " array([[  0, 336, 276, 115, 403]], dtype=int64))"
      ]
     },
     "execution_count": 21,
     "metadata": {},
     "output_type": "execute_result"
    }
   ],
   "source": [
    "nn.kneighbors([dtm.iloc[0].values])"
   ]
  },
  {
   "cell_type": "code",
   "execution_count": 22,
   "metadata": {},
   "outputs": [
    {
     "data": {
      "text/plain": [
       "\"b'Discover business insights, identify opportunities and provide solutions and recommendations to solve business problems through the use of statistical, algorithmic, data mining and visualization techniques.\\\\nLevel 1\\\\nUnder close supervision, conduct predictive analyses for population health management, marketing campaign management and forecasting,\\\\nAnalyze and design solutions using healthcare data\\\\nWork with datasets of varying degrees of size and complexity including both structured and unstructured data\\\\nAnalyze and mine multiple data sources to select statistically valid data samples\\\\nBuild, test and implement machine learning models by investigating appropriate methods and algorithms Develop analytical datasets and transform fields from data sources as necessary for modeling\\\\nWork with other departments to develop research plans to match company goals\\\\nStrategize on approaches to develop robust and meaningful analytics Prepare and co-present reports of model performance and business recommendations Assist internal departments with interpretation of results based on the models Pursue expansion of current knowledge and skills\\\\nLevel 2\\\\nUnder general supervision conduct predictive analyses for population health management, marketing campaign management and forecasting, Display initiative in research beyond the specific assignment Develop proprietary machine learning algorithms to build customized solutions Prepare and present reports of model performance and business recommendations Lead consultations with internal departments with interpretation of results based on the models Demonstrate good communication skills in order to directly communicate at a consumer level with internal clients Partner with peers to establish, evaluate, and continually improve measurement methodologies, while adhering to nationally accepted analytic and reporting standards Serve as an internal technical and analytic consultant to define business questions and transform data into meaningful and actionable information within a specified timeframe Meaningfully contribution to the area\\\\xe2\\\\x80\\\\x99s workload, considering volume and complexity Pursue expansion of current knowledge and skills Provide self- and peer-review of Level 1\\\\nLevel 3 Report to a manager who provides minimal supervisory instructions, limited project management, and minimal or limited review of results, beyond pre-release peer review Along with research, create analyses and recommendations that will allow BCBSAZ to meet its goals Deliver business intelligence to clients by applying and demonstrating expertise in the areas of advanced analytics, machine learning, forecasting, data wrangling, and predictive modeling Plan and lead complex projects from inception to completion. Includes working independently on creating timelines, working with other areas to define deliverables, monitoring progress, implementing the project and resolving/monitoring post-implementation issues Communicate (both verbally and in writing) and interprets results, recommendations and abstract concepts to internal and external customers. Anticipate and addresses possible customer questions and concerns Build and maintain close working relationships with internal stakeholders (Account Management teams, Health Services, Provider Network, Marketing, Underwriting, Actuarial, IT) and key external client contacts (Brokers/GBAs, BCBS Association, Blues Plans, Vendors) Produce complex analytic solutions Incorporate strategic planning in all areas of responsibility Train and mentor other data scientists and provide peer review\\\\nALL LEVELS\\\\nEach progressive level includes the ability to perform the essential functions of any lower levels and mentor employees in those levels.\\\\nThe position requires a full-time work schedule. Full-time is defined as working at least 40 hours per week, plus any additional hours as requested or as needed to meet business requirements.\\\\nPerform all other duties as assigned.\\\\n\\\\nEmployment Requirements\\\\n\\\\nREQUIRED QUALIFICATIONS\\\\nRequired Work Experience\\\\n2 years of experience in applied statistics, data analysis using analytic tools and methodolgies (Lev 1)\\\\n4 years of experience in applied statistics, data analysis using analytic tools and methodolgies (Lev 2)\\\\n6 years of experience in data analysis using analytic tools using advanced statistical methodologies, machine learning and/or data mining techniques (Lev 3) Required Education\\\\nBachelor\\\\xe2\\\\x80\\\\x99s Degree in informatics, data science, statistics, computer science, mathematics, machine learning, or related field of study (All Levels) Required Licenses\\\\nN/A Required Certifications\\\\nN/A\\\\nPREFERRED QUALIFICATIONS\\\\nPreferred Work Experience\\\\n2 years of experience in predictive analytics in a healthcare organization (Level 1)\\\\n4 years of experience in predictive analytics in a healthcare organization (Level 2)\\\\n6 years of experience in predictive analytics in a healthcare organization (Level 3) Preferred Education\\\\nMaster\\\\xe2\\\\x80\\\\x99s degree in informatics, data science, statistics, research or related field of scientific discipline or equivalent work experience (Level 3) Preferred Licenses\\\\nN/A Preferred Certifications\\\\nN/A\\\\nREQUIRED COMPETENCIES\\\\nRequired Job Skills (Applies to All Levels)\\\\nIntermediate proficiency in database, presentation, spreadsheet and word processing software\\\\nGeneral proficiency in mathematical and statistical concepts (Applies to all Levels)\\\\nAdvanced skills in mathematics and statistics (Levels 2 - 3)\\\\nIntermediate understanding of data management principles (Applies to Level 1- 2)\\\\nAdvanced understanding of data management principles (Level 3)\\\\nBasic skill with R, Python, SAS (Level 1)\\\\nIntermediate skill with R, Python, SAS or machine learning and data visualization (Level 2 )\\\\nProficiency in R, Python, SAS Enterprise Business Intelligence software and data visualization (Level 3)\\\\nExperience with data mining and predictive modeling to include one or more modeling techniques: Logistic Regression, Linear/Non-Linear Regression, Time Series Analysis; Optimization, Simulation and/or Machine Learning (Levels 2-3)\\\\nExperience with hypothesis or idea generation and prioritization, exploratory analysis using iterative modeling and tuning, and production integration and delivery of results to ensure adoption (Levels 2-3) Required Professional Competencies (Applies to All Levels)\\\\nBroad understanding of health insurance and statistical terms and concepts\\\\nAnalytical knowledge necessary to generate analytic solutions\\\\nAbility to select appropriate statistical methodologies to data sources\\\\nAbility to solve problems independently and draw accurate conclusions from available data using basic analytic techniques\\\\nAbility to deal with ambiguity and make recommendations with less than complete or conflicting information while maintaining appropriate time management\\\\nAbility to maintain confidentiality and privacy\\\\nAbility to communicate effectively, both orally and in writing, to all levels in all departments\\\\nAbility to summarize technical information to a non-technical audience\\\\nAbility to build and maintain productive working relationships with others Required Leadership Experience and Competencies (Applies to All Levels)\\\\nN/A\\\\n\\\\nPREFERRED COMPETENCIES\\\\nPreferred Job Skills (Applies to All Levels)\\\\nAdvanced proficiency in database, presentation, spreadsheet and word processing software\\\\nGeneral proficiency in mathematical and statistical concepts\\\\nAdvanced skills in mathematics and statistics (Levels 2 - 3)\\\\nIntermediate understanding of data management principles (Applies to Level 1- 2)\\\\nAdvanced understanding of data management principles (Level 3)\\\\nIntermediate skill with R, Python, SAS, Tableau (Applies to Level1)\\\\nAdvanced skill with SAS Statistical or machine learning techniques (Levels 2 - 3)\\\\nProficiency in R, Python, SAS, Tableau (Levels 2 - 3)\\\\nExperience working with highly distributed computing environments such as Hadoop Preferred Professional Competencies (Applies to All Levels)\\\\nProject management skill needed to create timelines, track deliverables and progress, resolve issues, and communicate project status Preferred Leadership Experience and Competencies (Applies to All Levels)\\\\nN/A'\""
      ]
     },
     "execution_count": 22,
     "metadata": {},
     "output_type": "execute_result"
    }
   ],
   "source": [
    "df['description'][336]"
   ]
  },
  {
   "cell_type": "code",
   "execution_count": 23,
   "metadata": {},
   "outputs": [],
   "source": [
    "a = ['''\n",
    "Responsibilities:\n",
    "Applying principled methods to quantitative insurance challenges in areas such as telematics risk scoring, pricing, reserving, and estimating customer lifetime value.\n",
    "Learning the required tools to get the job done, e.g. Python, R, Spark, SQL, etc. Building data processing pipelines to quickly iterate on research ideas and put them into production.\n",
    "Effectively communicating insights from complex analyses.\n",
    "Taking end-to-end ownership of problem domains and continuously improving upon quantitative solutions.\n",
    "Minimum Qualifications:\n",
    "PhD in a quantitative discipline and/or 3+ years of applying advanced quantitative techniques to problems in industry.\n",
    "Strong demonstrable knowledge of topics such as statistical inference, numerical linear algebra, machine learning, and numerical optimization.\n",
    "Exceptional communicator and storyteller. Strong programming skills with experience using modern packages in R and Python.\n",
    "Demonstrated experience building, validating, and applying statistical machine learning methods to real world problems.\n",
    "''']\n",
    "# just some random job listing i found for a data scientist at root insurance co\n"
   ]
  },
  {
   "cell_type": "code",
   "execution_count": 24,
   "metadata": {},
   "outputs": [
    {
     "data": {
      "text/plain": [
       "<1x29099 sparse matrix of type '<class 'numpy.float64'>'\n",
       "\twith 99 stored elements in Compressed Sparse Row format>"
      ]
     },
     "execution_count": 24,
     "metadata": {},
     "output_type": "execute_result"
    }
   ],
   "source": [
    "new = tfidf.transform(a)\n",
    "new"
   ]
  },
  {
   "cell_type": "code",
   "execution_count": 25,
   "metadata": {},
   "outputs": [
    {
     "data": {
      "text/plain": [
       "(array([[1.32850924, 1.33650361, 1.33769416, 1.33780662, 1.33870596]]),\n",
       " array([[283,  62,   8, 349,  25]], dtype=int64))"
      ]
     },
     "execution_count": 25,
     "metadata": {},
     "output_type": "execute_result"
    }
   ],
   "source": [
    "nn.kneighbors(new.todense())"
   ]
  },
  {
   "cell_type": "code",
   "execution_count": 26,
   "metadata": {},
   "outputs": [
    {
     "data": {
      "text/plain": [
       "\"b'Summary\\\\nPosted: Mar 15, 2019\\\\nRole Number: 200041695\\\\nAt Apple, great ideas have a way of becoming great products, services, and customer experiences very quickly. If you are a self-motivated, high-energy individual who is not afraid of challenges, we\\\\xe2\\\\x80\\\\x99re looking for you. Apple is seeking a junior level Data Scientist to join a team passionate about Machine Learning applications for Apple Media Products (AMP), covering the App Store, Apple Music/iTunes, Video and other services. This role will involve working with Internet-scale data across numerous product and customer touch points, undertaking in-depth analysis as well as modeling, and building end-to-end Machine Learning applications to solve the problem. The team\\\\xe2\\\\x80\\\\x99s culture is centered around rapid iteration with open feedback and debate along the way, plus strong collaboration with product, engineering, business, and marketing partners.\\\\nKey Qualifications\\\\n4+ years of experience in machine learning or software engineering.\\\\nSolid programming skills in at least one of the general programming languages such as Python, Java, C++.\\\\nHands-on experience with big data technologies such as SQL, Hadoop or Spark.\\\\nExperience with Information Retrieval, Recommendation Systems or Natural Language Processing a plus.\\\\nExperience with machine learning frameworks such as Scikit-Learn, Keras, Tensorflow a plus.\\\\nFull-stack development experience for end to end machine learning solution preferred.\\\\nFamiliarity with data visualization tools such as D3, Tableau a plus.\\\\nExcellent communication, interpersonal and presentation skills with meticulous attention to detail.\\\\nDescription\\\\nYou will dive deep into AMP\\\\xe2\\\\x80\\\\x99s data to uncover trends, identify key insights and create machine learning application that will enhance the entire analytics efforts. You will participate in designing and implementation of end-to-end Machine Learning system and bring state-of-art machine learning methods into real application. You will be collaborating with product, business, marketing, finance to solve real business problems and deliver solutions. You will be partnering with other Apple organizations on data gathering, data governance, evangelizing key performance indicators and democratizing data.\\\\nEducation & Experience\\\\nMaster\\\\xe2\\\\x80\\\\x99s degree in Computer Science, Statistics, Engineering or other relevant field with equivalent technical experiences.'\""
      ]
     },
     "execution_count": 26,
     "metadata": {},
     "output_type": "execute_result"
    }
   ],
   "source": [
    "df['description'][283]\n",
    "# Apple....."
   ]
  },
  {
   "cell_type": "markdown",
   "metadata": {
    "colab_type": "text",
    "id": "FiDfTWceoRkH"
   },
   "source": [
    "## Stretch Goals\n",
    "\n",
    " - Try different visualizations for words and frequencies - what story do you want to tell with the data?\n",
    " - Scrape Job Listings for the job title \"Data Analyst\". How do these differ from Data Scientist Job Listings\n",
    " - Try and identify requirements for experience specific technologies that are asked for in the job listings. How are those distributed among the job listings?\n",
    " - Use a clustering algorithm to cluster documents by their most important terms. Do the clusters reveal any common themes?\n",
    "  - **Hint:** K-means might not be the best algorithm for this. Do a little bit of research to see what might be good for this. Also, remember that algorithms that depend on Euclidean distance break down with high dimensional data.\n",
    " - Create a labeled dataset - which jobs will you apply for? Train a model to select the jobs you are most likely to apply for. :) "
   ]
  },
  {
   "cell_type": "code",
   "execution_count": null,
   "metadata": {},
   "outputs": [],
   "source": []
  },
  {
   "cell_type": "code",
   "execution_count": null,
   "metadata": {},
   "outputs": [],
   "source": []
  }
 ],
 "metadata": {
  "colab": {
   "collapsed_sections": [],
   "name": "LS_DS_422_BOW_Assignment.ipynb",
   "provenance": [],
   "version": "0.3.2"
  },
  "kernel_info": {
   "name": "python3"
  },
  "kernelspec": {
   "display_name": "U4-S1-NLP (Python3)",
   "language": "python",
   "name": "nlp"
  },
  "language_info": {
   "codemirror_mode": {
    "name": "ipython",
    "version": 3
   },
   "file_extension": ".py",
   "mimetype": "text/x-python",
   "name": "python",
   "nbconvert_exporter": "python",
   "pygments_lexer": "ipython3",
   "version": "3.7.0"
  },
  "nteract": {
   "version": "0.14.3"
  }
 },
 "nbformat": 4,
 "nbformat_minor": 4
}
