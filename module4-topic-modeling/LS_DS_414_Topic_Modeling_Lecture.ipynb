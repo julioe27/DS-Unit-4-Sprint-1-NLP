{
 "cells": [
  {
   "cell_type": "markdown",
   "metadata": {},
   "source": [
    "Lambda School Data Science\n",
    "\n",
    "*Unit 4, Sprint 1, Module 4*\n",
    "\n",
    "---"
   ]
  },
  {
   "cell_type": "markdown",
   "metadata": {},
   "source": [
    "# Topic Modeling (Prepare)\n",
    "\n",
    "On Monday we talked about summarizing your documents using just token counts. Today, we're going to learn about a much more sophisticated approach - learning 'topics' from documents. Topics are a latent structure. They are not directly observable in the data, but we know they're there by reading them.\n",
    "\n",
    "> **latent**: existing but not yet developed or manifest; hidden or concealed.\n",
    "\n",
    "## Use Cases\n",
    "Primary use case: what the hell are your documents about? Who might want to know that in industry - \n",
    "* Identifying common themes in customer reviews\n",
    "* Discovering the needle in a haystack \n",
    "* Monitoring communications (Email - State Department) \n",
    "\n",
    "## Learning Objectives\n",
    "*At the end of the lesson you should be able to:*\n",
    "* <a href=\"#p1\">Part 1</a>: Describe how an LDA Model works\n",
    "* <a href=\"#p2\">Part 2</a>: Estimate a LDA Model with Gensim\n",
    "* <a href=\"#p3\">Part 3</a>: Interpret LDA results\n",
    "* <a href=\"#p4\">Part 4</a>: Select the appropriate number of topics\n"
   ]
  },
  {
   "cell_type": "markdown",
   "metadata": {},
   "source": [
    "# Latent Dirchilet Allocation Models (Learn)\n",
    "<a id=\"#p1\"></a>"
   ]
  },
  {
   "cell_type": "markdown",
   "metadata": {},
   "source": [
    "## Overview\n",
    "LDA is a \"generative probabilistic model\". \n",
    "\n",
    "Let's play with a model available [here](https://lettier.com/projects/lda-topic-modeling/)"
   ]
  },
  {
   "cell_type": "markdown",
   "metadata": {
    "heading_collapsed": true
   },
   "source": [
    "## Follow Along"
   ]
  },
  {
   "cell_type": "markdown",
   "metadata": {},
   "source": [
    "## Challenge "
   ]
  },
  {
   "cell_type": "markdown",
   "metadata": {},
   "source": [
    "# Estimating LDA Models with Gensim (Learn)\n",
    "<a id=\"#p1\"></a>"
   ]
  },
  {
   "cell_type": "markdown",
   "metadata": {
    "toc-hr-collapsed": true
   },
   "source": [
    "## Overview\n",
    "### A Literary Introduction: *Jane Austen V. Charlotte Bronte*\n",
    "Despite being born nearly forty years apart, modern fans often pit Jane Austen & Charlotte Bronte against one another in a battle for literary  supremacy. The battle centers around the topics of education for women, courting, and marriage. The authors' similar backgrounds naturally draw comparisons, but the modern fascination is probably due to novelty of British women publishing novels during the early 19th century. \n",
    "\n",
    "Can we help close a literary battle for supremacy and simply acknowledge that the authors addressed different topics and deserve to be acknowledged as excellent authors each in their own right?\n",
    "\n",
    "We're going to apply Latent Dirichlet Allocation a machine learning algorithm for topic modeling to each of the author's novels to compare the distribution of topics in their novels."
   ]
  },
  {
   "cell_type": "code",
   "execution_count": 1,
   "metadata": {},
   "outputs": [],
   "source": [
    "import numpy as np\n",
    "import gensim\n",
    "import os\n",
    "import re\n",
    "\n",
    "from gensim.utils import simple_preprocess\n",
    "from gensim.parsing.preprocessing import STOPWORDS\n",
    "from gensim import corpora\n",
    "\n",
    "from gensim.models.ldamulticore import LdaMulticore\n",
    "\n",
    "import pandas as pd"
   ]
  },
  {
   "cell_type": "code",
   "execution_count": 2,
   "metadata": {},
   "outputs": [
    {
     "data": {
      "text/plain": [
       "'3.8.1'"
      ]
     },
     "execution_count": 2,
     "metadata": {},
     "output_type": "execute_result"
    }
   ],
   "source": [
    "gensim.__version__"
   ]
  },
  {
   "cell_type": "markdown",
   "metadata": {},
   "source": [
    "### Novel Data\n",
    "I grabbed the novel data pre-split into a bunch of smaller chunks"
   ]
  },
  {
   "cell_type": "code",
   "execution_count": 4,
   "metadata": {},
   "outputs": [],
   "source": [
    "path = './data/austen-brontë-split'"
   ]
  },
  {
   "cell_type": "markdown",
   "metadata": {},
   "source": [
    "### Text Preprocessing\n",
    "**Activity**: update the function `tokenize` with any technique you have learned so far this week. "
   ]
  },
  {
   "cell_type": "code",
   "execution_count": 5,
   "metadata": {},
   "outputs": [],
   "source": [
    "# 1) Plain Python - ''.split command\n",
    "# 2) Spacy - just the lemmas from the document\n",
    "# 3) Gensim - simple_preprocess\n",
    "\n",
    "STOPWORDS = set(STOPWORDS).union(set(['said', 'mr', 'mrs'])) \n",
    "# Side note: gemsim is a great library but the docmentation tends to be very disorganized\n",
    "\n",
    "def tokenize(text):\n",
    "    return [token for token in simple_preprocess(text) if token not in STOPWORDS]"
   ]
  },
  {
   "cell_type": "code",
   "execution_count": null,
   "metadata": {},
   "outputs": [],
   "source": [
    "from gensim.parsing.preprocessing import preprocess_string, strip_tags, strip_punctuation, strip_numeric, stem_text\n",
    "from gensim.parsing.preprocessing import strip_multiple_whitespaces, strip_non_alphanum, remove_stopwords, strip_short\n",
    "CUSTOM_FILTERS = [lambda x: x.lower(),         # Lowercase\n",
    "                  strip_multiple_whitespaces,  # Remove repeating white space\n",
    "                  strip_numeric,               # Remove numbers\n",
    "                  remove_stopwords,            # Remove stopwords\n",
    "                  strip_non_alphanum,          # Remove non-alpha numeric characters,\n",
    "                  strip_short                  # Remove words less than 3 characters long\n",
    "                  ]\n",
    "# Preprocess text with custom filters\n",
    "preprocess_string(ex_str, CUSTOM_FILTERS)"
   ]
  },
  {
   "cell_type": "code",
   "execution_count": 6,
   "metadata": {},
   "outputs": [],
   "source": [
    "import os\n",
    "\n",
    "def gather_data(path_to_data): \n",
    "    data = []\n",
    "    for f in os.listdir(path):\n",
    "        if os.path.isdir(f) == False: \n",
    "            if f[-3:] == 'txt':\n",
    "                with open(os.path.join(path,f)) as t:\n",
    "                    text = t.read().strip('\\n') # removing new line\n",
    "                    data.append(tokenize(str(text)))       \n",
    "    return data"
   ]
  },
  {
   "cell_type": "code",
   "execution_count": 7,
   "metadata": {},
   "outputs": [],
   "source": [
    "tokens = gather_data(path)"
   ]
  },
  {
   "cell_type": "code",
   "execution_count": 8,
   "metadata": {},
   "outputs": [
    {
     "data": {
      "text/plain": [
       "['emma',\n",
       " 'jane',\n",
       " 'austen',\n",
       " 'volume',\n",
       " 'chapter',\n",
       " 'emma',\n",
       " 'woodhouse',\n",
       " 'handsome',\n",
       " 'clever',\n",
       " 'rich']"
      ]
     },
     "execution_count": 8,
     "metadata": {},
     "output_type": "execute_result"
    }
   ],
   "source": [
    "tokens[0][0:10]"
   ]
  },
  {
   "cell_type": "code",
   "execution_count": 9,
   "metadata": {},
   "outputs": [
    {
     "data": {
      "text/plain": [
       "'this is a sample string with a  newline character'"
      ]
     },
     "execution_count": 9,
     "metadata": {},
     "output_type": "execute_result"
    }
   ],
   "source": [
    "\"this is a sample string with a \\n newline character\".replace('\\n', '')"
   ]
  },
  {
   "cell_type": "markdown",
   "metadata": {
    "toc-hr-collapsed": true
   },
   "source": [
    "## Follow Along"
   ]
  },
  {
   "cell_type": "code",
   "execution_count": 10,
   "metadata": {},
   "outputs": [],
   "source": [
    "titles = [t[:-4] for t in os.listdir(path) if os.path.isdir(t) == False]"
   ]
  },
  {
   "cell_type": "code",
   "execution_count": 11,
   "metadata": {},
   "outputs": [
    {
     "data": {
      "text/plain": [
       "813"
      ]
     },
     "execution_count": 11,
     "metadata": {},
     "output_type": "execute_result"
    }
   ],
   "source": [
    "len(titles)"
   ]
  },
  {
   "cell_type": "code",
   "execution_count": 12,
   "metadata": {},
   "outputs": [
    {
     "data": {
      "text/plain": [
       "813"
      ]
     },
     "execution_count": 12,
     "metadata": {},
     "output_type": "execute_result"
    }
   ],
   "source": [
    "len(tokens)"
   ]
  },
  {
   "cell_type": "markdown",
   "metadata": {},
   "source": [
    "### Author DataFrame\n"
   ]
  },
  {
   "cell_type": "code",
   "execution_count": 13,
   "metadata": {},
   "outputs": [],
   "source": [
    "df = pd.DataFrame(index=titles, data={'tokens':tokens})"
   ]
  },
  {
   "cell_type": "code",
   "execution_count": 14,
   "metadata": {},
   "outputs": [
    {
     "data": {
      "text/html": [
       "<div>\n",
       "<style scoped>\n",
       "    .dataframe tbody tr th:only-of-type {\n",
       "        vertical-align: middle;\n",
       "    }\n",
       "\n",
       "    .dataframe tbody tr th {\n",
       "        vertical-align: top;\n",
       "    }\n",
       "\n",
       "    .dataframe thead th {\n",
       "        text-align: right;\n",
       "    }\n",
       "</style>\n",
       "<table border=\"1\" class=\"dataframe\">\n",
       "  <thead>\n",
       "    <tr style=\"text-align: right;\">\n",
       "      <th></th>\n",
       "      <th>tokens</th>\n",
       "    </tr>\n",
       "  </thead>\n",
       "  <tbody>\n",
       "    <tr>\n",
       "      <th>Austen_Emma0000</th>\n",
       "      <td>[emma, jane, austen, volume, chapter, emma, wo...</td>\n",
       "    </tr>\n",
       "    <tr>\n",
       "      <th>Austen_Emma0001</th>\n",
       "      <td>[taylor, wish, pity, weston, thought, agree, p...</td>\n",
       "    </tr>\n",
       "    <tr>\n",
       "      <th>Austen_Emma0002</th>\n",
       "      <td>[behaved, charmingly, body, punctual, body, be...</td>\n",
       "    </tr>\n",
       "    <tr>\n",
       "      <th>Austen_Emma0003</th>\n",
       "      <td>[native, highbury, born, respectable, family, ...</td>\n",
       "    </tr>\n",
       "    <tr>\n",
       "      <th>Austen_Emma0004</th>\n",
       "      <td>[mention, handsome, letter, weston, received, ...</td>\n",
       "    </tr>\n",
       "  </tbody>\n",
       "</table>\n",
       "</div>"
      ],
      "text/plain": [
       "                                                            tokens\n",
       "Austen_Emma0000  [emma, jane, austen, volume, chapter, emma, wo...\n",
       "Austen_Emma0001  [taylor, wish, pity, weston, thought, agree, p...\n",
       "Austen_Emma0002  [behaved, charmingly, body, punctual, body, be...\n",
       "Austen_Emma0003  [native, highbury, born, respectable, family, ...\n",
       "Austen_Emma0004  [mention, handsome, letter, weston, received, ..."
      ]
     },
     "execution_count": 14,
     "metadata": {},
     "output_type": "execute_result"
    }
   ],
   "source": [
    "df.head()"
   ]
  },
  {
   "cell_type": "code",
   "execution_count": 15,
   "metadata": {},
   "outputs": [],
   "source": [
    "df['author'] = df.reset_index()['index'].apply(lambda x: x.split('_')[0]).tolist()\n",
    "df['book'] = df.reset_index()['index'].apply(lambda x: x.split('_')[1][:-4]).tolist()\n",
    "df['section'] = df.reset_index()['index'].apply(lambda x: x[-4:]).tolist()\n",
    "df['section'] = df['section'].astype('int')"
   ]
  },
  {
   "cell_type": "code",
   "execution_count": 16,
   "metadata": {},
   "outputs": [],
   "source": [
    "df['author'] = df['author'].map({'Austen':1, 'CBronte':0})"
   ]
  },
  {
   "cell_type": "code",
   "execution_count": 17,
   "metadata": {},
   "outputs": [
    {
     "data": {
      "text/plain": [
       "0    441\n",
       "1    372\n",
       "Name: author, dtype: int64"
      ]
     },
     "execution_count": 17,
     "metadata": {},
     "output_type": "execute_result"
    }
   ],
   "source": [
    "df.author.value_counts()"
   ]
  },
  {
   "cell_type": "code",
   "execution_count": 18,
   "metadata": {},
   "outputs": [
    {
     "data": {
      "text/html": [
       "<div>\n",
       "<style scoped>\n",
       "    .dataframe tbody tr th:only-of-type {\n",
       "        vertical-align: middle;\n",
       "    }\n",
       "\n",
       "    .dataframe tbody tr th {\n",
       "        vertical-align: top;\n",
       "    }\n",
       "\n",
       "    .dataframe thead th {\n",
       "        text-align: right;\n",
       "    }\n",
       "</style>\n",
       "<table border=\"1\" class=\"dataframe\">\n",
       "  <thead>\n",
       "    <tr style=\"text-align: right;\">\n",
       "      <th></th>\n",
       "      <th>tokens</th>\n",
       "      <th>author</th>\n",
       "      <th>book</th>\n",
       "      <th>section</th>\n",
       "    </tr>\n",
       "  </thead>\n",
       "  <tbody>\n",
       "    <tr>\n",
       "      <th>Austen_Emma0000</th>\n",
       "      <td>[emma, jane, austen, volume, chapter, emma, wo...</td>\n",
       "      <td>1</td>\n",
       "      <td>Emma</td>\n",
       "      <td>0</td>\n",
       "    </tr>\n",
       "    <tr>\n",
       "      <th>Austen_Emma0001</th>\n",
       "      <td>[taylor, wish, pity, weston, thought, agree, p...</td>\n",
       "      <td>1</td>\n",
       "      <td>Emma</td>\n",
       "      <td>1</td>\n",
       "    </tr>\n",
       "    <tr>\n",
       "      <th>Austen_Emma0002</th>\n",
       "      <td>[behaved, charmingly, body, punctual, body, be...</td>\n",
       "      <td>1</td>\n",
       "      <td>Emma</td>\n",
       "      <td>2</td>\n",
       "    </tr>\n",
       "    <tr>\n",
       "      <th>Austen_Emma0003</th>\n",
       "      <td>[native, highbury, born, respectable, family, ...</td>\n",
       "      <td>1</td>\n",
       "      <td>Emma</td>\n",
       "      <td>3</td>\n",
       "    </tr>\n",
       "    <tr>\n",
       "      <th>Austen_Emma0004</th>\n",
       "      <td>[mention, handsome, letter, weston, received, ...</td>\n",
       "      <td>1</td>\n",
       "      <td>Emma</td>\n",
       "      <td>4</td>\n",
       "    </tr>\n",
       "  </tbody>\n",
       "</table>\n",
       "</div>"
      ],
      "text/plain": [
       "                                                            tokens  author  \\\n",
       "Austen_Emma0000  [emma, jane, austen, volume, chapter, emma, wo...       1   \n",
       "Austen_Emma0001  [taylor, wish, pity, weston, thought, agree, p...       1   \n",
       "Austen_Emma0002  [behaved, charmingly, body, punctual, body, be...       1   \n",
       "Austen_Emma0003  [native, highbury, born, respectable, family, ...       1   \n",
       "Austen_Emma0004  [mention, handsome, letter, weston, received, ...       1   \n",
       "\n",
       "                 book  section  \n",
       "Austen_Emma0000  Emma        0  \n",
       "Austen_Emma0001  Emma        1  \n",
       "Austen_Emma0002  Emma        2  \n",
       "Austen_Emma0003  Emma        3  \n",
       "Austen_Emma0004  Emma        4  "
      ]
     },
     "execution_count": 18,
     "metadata": {},
     "output_type": "execute_result"
    }
   ],
   "source": [
    "df.head()"
   ]
  },
  {
   "cell_type": "markdown",
   "metadata": {},
   "source": [
    "### Streaming Documents\n",
    "Here we use a new pythonic thingy: the `yield` statement in our function. This allows us to iterate over a bunch of documents without actually reading them into memory. You can see how we use this function later on. "
   ]
  },
  {
   "cell_type": "code",
   "execution_count": 19,
   "metadata": {},
   "outputs": [],
   "source": [
    "def doc_stream(path):\n",
    "    for f in os.listdir(path):\n",
    "        if os.path.isdir(f) == False:\n",
    "            if f[-3:] == 'txt':\n",
    "                with open(os.path.join(path,f)) as t:\n",
    "                    text = t.read().strip('\\n')\n",
    "                    tokens = tokenize(text)\n",
    "                yield tokens"
   ]
  },
  {
   "cell_type": "code",
   "execution_count": 20,
   "metadata": {},
   "outputs": [],
   "source": [
    "streaming_data = doc_stream(path)"
   ]
  },
  {
   "cell_type": "code",
   "execution_count": 21,
   "metadata": {},
   "outputs": [
    {
     "data": {
      "text/plain": [
       "generator"
      ]
     },
     "execution_count": 21,
     "metadata": {},
     "output_type": "execute_result"
    }
   ],
   "source": [
    "type(streaming_data)"
   ]
  },
  {
   "cell_type": "code",
   "execution_count": null,
   "metadata": {},
   "outputs": [],
   "source": [
    "# gather_data => returns a list\n",
    "# doc_stream => returns a generator"
   ]
  },
  {
   "cell_type": "code",
   "execution_count": 25,
   "metadata": {},
   "outputs": [
    {
     "data": {
      "text/plain": [
       "['native',\n",
       " 'highbury',\n",
       " 'born',\n",
       " 'respectable',\n",
       " 'family',\n",
       " 'generations',\n",
       " 'rising',\n",
       " 'gentility',\n",
       " 'property',\n",
       " 'received',\n",
       " 'good',\n",
       " 'education',\n",
       " 'succeeding',\n",
       " 'early',\n",
       " 'life',\n",
       " 'small',\n",
       " 'independence',\n",
       " 'indisposed',\n",
       " 'homely',\n",
       " 'pursuits',\n",
       " 'brothers',\n",
       " 'engaged',\n",
       " 'satisfied',\n",
       " 'active',\n",
       " 'cheerful',\n",
       " 'mind',\n",
       " 'social',\n",
       " 'temper',\n",
       " 'entering',\n",
       " 'militia',\n",
       " 'county',\n",
       " 'embodied',\n",
       " 'captain',\n",
       " 'weston',\n",
       " 'general',\n",
       " 'favourite',\n",
       " 'chances',\n",
       " 'military',\n",
       " 'life',\n",
       " 'introduced',\n",
       " 'miss',\n",
       " 'churchill',\n",
       " 'great',\n",
       " 'yorkshire',\n",
       " 'family',\n",
       " 'miss',\n",
       " 'churchill',\n",
       " 'fell',\n",
       " 'love',\n",
       " 'surprized',\n",
       " 'brother',\n",
       " 'wife',\n",
       " 'seen',\n",
       " 'pride',\n",
       " 'importance',\n",
       " 'connexion',\n",
       " 'offend',\n",
       " 'miss',\n",
       " 'churchill',\n",
       " 'age',\n",
       " 'command',\n",
       " 'fortune',\n",
       " 'fortune',\n",
       " 'bore',\n",
       " 'proportion',\n",
       " 'family',\n",
       " 'estate',\n",
       " 'dissuaded',\n",
       " 'marriage',\n",
       " 'took',\n",
       " 'place',\n",
       " 'infinite',\n",
       " 'mortification',\n",
       " 'churchill',\n",
       " 'threw',\n",
       " 'decorum',\n",
       " 'unsuitable',\n",
       " 'connexion',\n",
       " 'produce',\n",
       " 'happiness',\n",
       " 'weston',\n",
       " 'ought',\n",
       " 'husband',\n",
       " 'warm',\n",
       " 'heart',\n",
       " 'sweet',\n",
       " 'temper',\n",
       " 'think',\n",
       " 'thing',\n",
       " 'return',\n",
       " 'great',\n",
       " 'goodness',\n",
       " 'love',\n",
       " 'sort',\n",
       " 'spirit',\n",
       " 'best',\n",
       " 'resolution',\n",
       " 'pursue',\n",
       " 'spite',\n",
       " 'brother',\n",
       " 'refrain',\n",
       " 'unreasonable',\n",
       " 'regrets',\n",
       " 'brother',\n",
       " 'unreasonable',\n",
       " 'anger',\n",
       " 'missing',\n",
       " 'luxuries',\n",
       " 'home',\n",
       " 'lived',\n",
       " 'income',\n",
       " 'comparison',\n",
       " 'enscombe',\n",
       " 'cease',\n",
       " 'love',\n",
       " 'husband',\n",
       " 'wanted',\n",
       " 'wife',\n",
       " 'captain',\n",
       " 'weston',\n",
       " 'miss',\n",
       " 'churchill',\n",
       " 'enscombe',\n",
       " 'captain',\n",
       " 'weston',\n",
       " 'considered',\n",
       " 'especially',\n",
       " 'churchills',\n",
       " 'making',\n",
       " 'amazing',\n",
       " 'match',\n",
       " 'proved',\n",
       " 'worst',\n",
       " 'bargain',\n",
       " 'wife',\n",
       " 'died',\n",
       " 'years',\n",
       " 'marriage',\n",
       " 'poorer',\n",
       " 'man',\n",
       " 'child',\n",
       " 'maintain',\n",
       " 'expense',\n",
       " 'child',\n",
       " 'soon',\n",
       " 'relieved',\n",
       " 'boy',\n",
       " 'additional',\n",
       " 'softening',\n",
       " 'claim',\n",
       " 'lingering',\n",
       " 'illness',\n",
       " 'mother',\n",
       " 'means',\n",
       " 'sort',\n",
       " 'reconciliation',\n",
       " 'churchill',\n",
       " 'having',\n",
       " 'children',\n",
       " 'young',\n",
       " 'creature',\n",
       " 'equal',\n",
       " 'kindred',\n",
       " 'care',\n",
       " 'offered',\n",
       " 'charge',\n",
       " 'little',\n",
       " 'frank',\n",
       " 'soon',\n",
       " 'decease',\n",
       " 'scruples',\n",
       " 'reluctance',\n",
       " 'widower',\n",
       " 'father',\n",
       " 'supposed',\n",
       " 'felt',\n",
       " 'overcome',\n",
       " 'considerations',\n",
       " 'child',\n",
       " 'given',\n",
       " 'care',\n",
       " 'wealth',\n",
       " 'churchills',\n",
       " 'comfort',\n",
       " 'seek',\n",
       " 'situation',\n",
       " 'improve',\n",
       " 'complete',\n",
       " 'change',\n",
       " 'life',\n",
       " 'desirable',\n",
       " 'quitted',\n",
       " 'militia',\n",
       " 'engaged',\n",
       " 'trade',\n",
       " 'having',\n",
       " 'brothers',\n",
       " 'established',\n",
       " 'good',\n",
       " 'way',\n",
       " 'london',\n",
       " 'afforded',\n",
       " 'favourable',\n",
       " 'opening',\n",
       " 'concern',\n",
       " 'brought',\n",
       " 'employment',\n",
       " 'small',\n",
       " 'house',\n",
       " 'highbury',\n",
       " 'leisure',\n",
       " 'days',\n",
       " 'spent',\n",
       " 'useful',\n",
       " 'occupation',\n",
       " 'pleasures',\n",
       " 'society',\n",
       " 'eighteen',\n",
       " 'years',\n",
       " 'life',\n",
       " 'passed',\n",
       " 'cheerfully',\n",
       " 'away',\n",
       " 'time',\n",
       " 'realised',\n",
       " 'easy',\n",
       " 'competence',\n",
       " 'secure',\n",
       " 'purchase',\n",
       " 'little',\n",
       " 'estate',\n",
       " 'adjoining',\n",
       " 'highbury',\n",
       " 'longed',\n",
       " 'marry',\n",
       " 'woman',\n",
       " 'portionless',\n",
       " 'miss',\n",
       " 'taylor',\n",
       " 'live',\n",
       " 'according',\n",
       " 'wishes',\n",
       " 'friendly',\n",
       " 'social',\n",
       " 'disposition',\n",
       " 'time',\n",
       " 'miss',\n",
       " 'taylor',\n",
       " 'begun',\n",
       " 'influence',\n",
       " 'schemes',\n",
       " 'tyrannic',\n",
       " 'influence',\n",
       " 'youth',\n",
       " 'youth',\n",
       " 'shaken',\n",
       " 'determination',\n",
       " 'settling',\n",
       " 'till',\n",
       " 'purchase',\n",
       " 'randalls',\n",
       " 'sale',\n",
       " 'randalls',\n",
       " 'long',\n",
       " 'looked',\n",
       " 'forward',\n",
       " 'gone',\n",
       " 'steadily',\n",
       " 'objects',\n",
       " 'view',\n",
       " 'till',\n",
       " 'accomplished',\n",
       " 'fortune',\n",
       " 'bought',\n",
       " 'house',\n",
       " 'obtained',\n",
       " 'wife',\n",
       " 'beginning',\n",
       " 'new',\n",
       " 'period',\n",
       " 'existence',\n",
       " 'probability',\n",
       " 'greater',\n",
       " 'happiness',\n",
       " 'passed',\n",
       " 'unhappy',\n",
       " 'man',\n",
       " 'temper',\n",
       " 'secured',\n",
       " 'marriage',\n",
       " 'second',\n",
       " 'shew',\n",
       " 'delightful',\n",
       " 'judging',\n",
       " 'truly',\n",
       " 'amiable',\n",
       " 'woman',\n",
       " 'pleasantest',\n",
       " 'proof',\n",
       " 'great',\n",
       " 'deal',\n",
       " 'better',\n",
       " 'choose',\n",
       " 'chosen',\n",
       " 'excite',\n",
       " 'gratitude',\n",
       " 'feel',\n",
       " 'choice',\n",
       " 'fortune',\n",
       " 'frank',\n",
       " 'tacitly',\n",
       " 'brought',\n",
       " 'uncle',\n",
       " 'heir',\n",
       " 'avowed',\n",
       " 'adoption',\n",
       " 'assume',\n",
       " 'churchill',\n",
       " 'coming',\n",
       " 'age',\n",
       " 'unlikely',\n",
       " 'want',\n",
       " 'father',\n",
       " 'assistance',\n",
       " 'father',\n",
       " 'apprehension',\n",
       " 'aunt',\n",
       " 'capricious',\n",
       " 'woman',\n",
       " 'governed',\n",
       " 'husband',\n",
       " 'entirely',\n",
       " 'weston',\n",
       " 'nature',\n",
       " 'imagine',\n",
       " 'caprice',\n",
       " 'strong',\n",
       " 'affect',\n",
       " 'dear',\n",
       " 'believed',\n",
       " 'deservedly',\n",
       " 'dear',\n",
       " 'saw',\n",
       " 'son',\n",
       " 'year',\n",
       " 'london',\n",
       " 'proud',\n",
       " 'fond',\n",
       " 'report',\n",
       " 'fine',\n",
       " 'young',\n",
       " 'man',\n",
       " 'highbury',\n",
       " 'feel',\n",
       " 'sort',\n",
       " 'pride',\n",
       " 'looked',\n",
       " 'sufficiently',\n",
       " 'belonging',\n",
       " 'place',\n",
       " 'merits',\n",
       " 'prospects',\n",
       " 'kind',\n",
       " 'common',\n",
       " 'concern',\n",
       " 'frank',\n",
       " 'churchill',\n",
       " 'boasts',\n",
       " 'highbury',\n",
       " 'lively',\n",
       " 'curiosity',\n",
       " 'prevailed',\n",
       " 'compliment',\n",
       " 'little',\n",
       " 'returned',\n",
       " 'life',\n",
       " 'coming',\n",
       " 'visit',\n",
       " 'father',\n",
       " 'talked',\n",
       " 'achieved',\n",
       " 'father',\n",
       " 'marriage',\n",
       " 'generally',\n",
       " 'proposed',\n",
       " 'proper',\n",
       " 'attention',\n",
       " 'visit',\n",
       " 'place',\n",
       " 'dissentient',\n",
       " 'voice',\n",
       " 'subject',\n",
       " 'perry',\n",
       " 'drank',\n",
       " 'tea',\n",
       " 'miss',\n",
       " 'bates',\n",
       " 'miss',\n",
       " 'bates',\n",
       " 'returned',\n",
       " 'visit',\n",
       " 'time',\n",
       " 'frank',\n",
       " 'churchill',\n",
       " 'come',\n",
       " 'hope',\n",
       " 'strengthened',\n",
       " 'understood',\n",
       " 'written',\n",
       " 'new',\n",
       " 'mother',\n",
       " 'occasion',\n",
       " 'days',\n",
       " 'morning',\n",
       " 'visit',\n",
       " 'highbury',\n",
       " 'included']"
      ]
     },
     "execution_count": 25,
     "metadata": {},
     "output_type": "execute_result"
    }
   ],
   "source": [
    "next(streaming_data) # Returns one document at a time from the generator"
   ]
  },
  {
   "cell_type": "markdown",
   "metadata": {},
   "source": [
    "### Gensim LDA Topic Modeling"
   ]
  },
  {
   "cell_type": "code",
   "execution_count": 26,
   "metadata": {},
   "outputs": [],
   "source": [
    "# A Dictionary Representation of all the words in our corpus\n",
    "id2word = corpora.Dictionary(doc_stream(path))"
   ]
  },
  {
   "cell_type": "code",
   "execution_count": 27,
   "metadata": {},
   "outputs": [
    {
     "data": {
      "text/plain": [
       "3986"
      ]
     },
     "execution_count": 27,
     "metadata": {},
     "output_type": "execute_result"
    }
   ],
   "source": [
    "id2word.token2id['england'] # england is represented by the number 3986 in this case"
   ]
  },
  {
   "cell_type": "code",
   "execution_count": 28,
   "metadata": {},
   "outputs": [
    {
     "data": {
      "text/plain": [
       "[(2753, 1), (3986, 3), (6601, 1), (6818, 1)]"
      ]
     },
     "execution_count": 28,
     "metadata": {},
     "output_type": "execute_result"
    }
   ],
   "source": [
    "id2word.doc2bow(tokenize(\"This is a sample message Darcy England England England\"))"
   ]
  },
  {
   "cell_type": "code",
   "execution_count": 29,
   "metadata": {},
   "outputs": [
    {
     "name": "stdout",
     "output_type": "stream",
     "text": [
      "56\n",
      "7056\n"
     ]
    }
   ],
   "source": [
    "import sys\n",
    "print(sys.getsizeof(id2word))\n",
    "print(sys.getsizeof(tokens))"
   ]
  },
  {
   "cell_type": "code",
   "execution_count": 30,
   "metadata": {},
   "outputs": [
    {
     "data": {
      "text/plain": [
       "22095"
      ]
     },
     "execution_count": 30,
     "metadata": {},
     "output_type": "execute_result"
    }
   ],
   "source": [
    "len(id2word.keys())"
   ]
  },
  {
   "cell_type": "code",
   "execution_count": 31,
   "metadata": {},
   "outputs": [],
   "source": [
    "# Let's remove extreme values from the dataset\n",
    "id2word.filter_extremes(no_below=5, no_above=0.95) # removew words that show up less than 5 times\n",
    "# remove words that show up 95% percent in the dataset"
   ]
  },
  {
   "cell_type": "code",
   "execution_count": 32,
   "metadata": {},
   "outputs": [
    {
     "data": {
      "text/plain": [
       "8102"
      ]
     },
     "execution_count": 32,
     "metadata": {},
     "output_type": "execute_result"
    }
   ],
   "source": [
    "len(id2word.keys())"
   ]
  },
  {
   "cell_type": "code",
   "execution_count": 33,
   "metadata": {},
   "outputs": [],
   "source": [
    "# a bag of words(bow) representation of our corpus\n",
    "# Note: we haven't actually read any text into memory here\n",
    "# Although abstracted away - tokenization IS happening in the doc_stream f(x)\n",
    "corpus = [id2word.doc2bow(text) for text in doc_stream(path)] # irerating over the generator"
   ]
  },
  {
   "cell_type": "code",
   "execution_count": 34,
   "metadata": {},
   "outputs": [
    {
     "data": {
      "text/plain": [
       "[(0, 1),\n",
       " (2, 1),\n",
       " (11, 1),\n",
       " (21, 2),\n",
       " (32, 1),\n",
       " (34, 1),\n",
       " (35, 1),\n",
       " (37, 1),\n",
       " (53, 1),\n",
       " (54, 1)]"
      ]
     },
     "execution_count": 34,
     "metadata": {},
     "output_type": "execute_result"
    }
   ],
   "source": [
    "corpus[345][:10]"
   ]
  },
  {
   "cell_type": "code",
   "execution_count": 36,
   "metadata": {},
   "outputs": [],
   "source": [
    "lda = LdaMulticore(corpus=corpus,\n",
    "                   id2word=id2word,\n",
    "                   random_state=42,\n",
    "                   num_topics = 15,\n",
    "                   passes=10,\n",
    "                   workers=12\n",
    "                  )"
   ]
  },
  {
   "cell_type": "code",
   "execution_count": 65,
   "metadata": {},
   "outputs": [
    {
     "data": {
      "text/plain": [
       "[(0,\n",
       "  '0.009*\"pounds\" + 0.007*\"mother\" + 0.006*\"sure\" + 0.006*\"think\" + 0.006*\"year\" + 0.004*\"rochester\" + 0.004*\"certainly\" + 0.004*\"thornfield\" + 0.004*\"fairfax\" + 0.004*\"live\"'),\n",
       " (1,\n",
       "  '0.008*\"pelet\" + 0.005*\"thought\" + 0.005*\"like\" + 0.004*\"little\" + 0.004*\"man\" + 0.004*\"hunsden\" + 0.004*\"time\" + 0.003*\"having\" + 0.003*\"pupils\" + 0.003*\"crimsworth\"'),\n",
       " (2,\n",
       "  '0.008*\"madame\" + 0.006*\"little\" + 0.006*\"like\" + 0.004*\"day\" + 0.004*\"vous\" + 0.004*\"thought\" + 0.003*\"know\" + 0.003*\"beck\" + 0.003*\"good\" + 0.003*\"paul\"'),\n",
       " (3,\n",
       "  '0.005*\"night\" + 0.005*\"look\" + 0.005*\"like\" + 0.004*\"old\" + 0.004*\"est\" + 0.004*\"looked\" + 0.003*\"sir\" + 0.003*\"thought\" + 0.003*\"house\" + 0.003*\"hunsden\"'),\n",
       " (4,\n",
       "  '0.007*\"little\" + 0.005*\"madame\" + 0.005*\"like\" + 0.004*\"thought\" + 0.004*\"know\" + 0.004*\"hand\" + 0.004*\"good\" + 0.004*\"night\" + 0.003*\"day\" + 0.003*\"dr\"'),\n",
       " (5,\n",
       "  '0.017*\"elizabeth\" + 0.013*\"darcy\" + 0.010*\"miss\" + 0.010*\"bingley\" + 0.010*\"bennet\" + 0.009*\"jane\" + 0.007*\"know\" + 0.007*\"think\" + 0.006*\"wickham\" + 0.005*\"sister\"'),\n",
       " (6,\n",
       "  '0.006*\"know\" + 0.006*\"jane\" + 0.006*\"life\" + 0.005*\"like\" + 0.005*\"long\" + 0.005*\"love\" + 0.005*\"thought\" + 0.005*\"heart\" + 0.005*\"shall\" + 0.005*\"good\"'),\n",
       " (7,\n",
       "  '0.011*\"frances\" + 0.009*\"monsieur\" + 0.007*\"hunsden\" + 0.007*\"little\" + 0.006*\"english\" + 0.005*\"mdlle\" + 0.004*\"long\" + 0.004*\"time\" + 0.004*\"mademoiselle\" + 0.004*\"shall\"'),\n",
       " (8,\n",
       "  '0.008*\"good\" + 0.006*\"little\" + 0.006*\"like\" + 0.006*\"emma\" + 0.005*\"elton\" + 0.005*\"thought\" + 0.005*\"miss\" + 0.004*\"think\" + 0.004*\"great\" + 0.004*\"woman\"'),\n",
       " (9,\n",
       "  '0.012*\"sir\" + 0.006*\"long\" + 0.006*\"jane\" + 0.006*\"rochester\" + 0.005*\"little\" + 0.005*\"yes\" + 0.005*\"adele\" + 0.004*\"come\" + 0.004*\"life\" + 0.004*\"pounds\"'),\n",
       " (10,\n",
       "  '0.007*\"like\" + 0.005*\"little\" + 0.005*\"rochester\" + 0.005*\"miss\" + 0.004*\"room\" + 0.004*\"time\" + 0.004*\"thought\" + 0.003*\"sir\" + 0.003*\"day\" + 0.003*\"come\"'),\n",
       " (11,\n",
       "  '0.015*\"emma\" + 0.012*\"miss\" + 0.009*\"harriet\" + 0.008*\"thing\" + 0.008*\"weston\" + 0.008*\"think\" + 0.007*\"know\" + 0.007*\"knightley\" + 0.006*\"elton\" + 0.006*\"good\"'),\n",
       " (12,\n",
       "  '0.010*\"jane\" + 0.009*\"emma\" + 0.009*\"little\" + 0.008*\"thing\" + 0.008*\"miss\" + 0.008*\"dear\" + 0.007*\"fairfax\" + 0.006*\"shall\" + 0.006*\"know\" + 0.006*\"like\"'),\n",
       " (13,\n",
       "  '0.011*\"elinor\" + 0.010*\"marianne\" + 0.007*\"sister\" + 0.006*\"mother\" + 0.005*\"time\" + 0.004*\"soon\" + 0.004*\"jennings\" + 0.004*\"willoughby\" + 0.004*\"good\" + 0.004*\"dashwood\"'),\n",
       " (14,\n",
       "  '0.006*\"monsieur\" + 0.004*\"henri\" + 0.004*\"georgiana\" + 0.004*\"mdlle\" + 0.004*\"little\" + 0.003*\"know\" + 0.003*\"good\" + 0.003*\"asked\" + 0.003*\"time\" + 0.003*\"course\"')]"
      ]
     },
     "execution_count": 65,
     "metadata": {},
     "output_type": "execute_result"
    }
   ],
   "source": [
    "lda.print_topics()"
   ]
  },
  {
   "cell_type": "code",
   "execution_count": 37,
   "metadata": {},
   "outputs": [],
   "source": [
    "words = [re.findall(r'\"([^\"]*)\"',t[1]) for t in lda.print_topics()]"
   ]
  },
  {
   "cell_type": "code",
   "execution_count": 38,
   "metadata": {},
   "outputs": [],
   "source": [
    "topics = [' '.join(t[0:5]) for t in words]"
   ]
  },
  {
   "cell_type": "code",
   "execution_count": 39,
   "metadata": {},
   "outputs": [
    {
     "name": "stdout",
     "output_type": "stream",
     "text": [
      "------ Topic 0 ------\n",
      "monsieur little paul pelet madame\n",
      "\n",
      "------ Topic 1 ------\n",
      "elinor marianne think time know\n",
      "\n",
      "------ Topic 2 ------\n",
      "sir jane know good like\n",
      "\n",
      "------ Topic 3 ------\n",
      "little like thought day long\n",
      "\n",
      "------ Topic 4 ------\n",
      "little white like rochester long\n",
      "\n",
      "------ Topic 5 ------\n",
      "little like graham bretton know\n",
      "\n",
      "------ Topic 6 ------\n",
      "elizabeth miss darcy bennet bingley\n",
      "\n",
      "------ Topic 7 ------\n",
      "like little night long time\n",
      "\n",
      "------ Topic 8 ------\n",
      "think little sir miss come\n",
      "\n",
      "------ Topic 9 ------\n",
      "miss time elinor know house\n",
      "\n",
      "------ Topic 10 ------\n",
      "emma miss weston elton knightley\n",
      "\n",
      "------ Topic 11 ------\n",
      "madame dr little john know\n",
      "\n",
      "------ Topic 12 ------\n",
      "john st hand little jane\n",
      "\n",
      "------ Topic 13 ------\n",
      "hand thought madame good like\n",
      "\n",
      "------ Topic 14 ------\n",
      "like little time hunsden thought\n",
      "\n"
     ]
    }
   ],
   "source": [
    "for id, t in enumerate(topics): \n",
    "    print(f\"------ Topic {id} ------\")\n",
    "    print(t, end=\"\\n\\n\")"
   ]
  },
  {
   "cell_type": "markdown",
   "metadata": {
    "heading_collapsed": true
   },
   "source": [
    "## Challenge \n",
    "\n",
    "You will apply an LDA model to a customer review dataset to practice the fitting and estimation of LDA. "
   ]
  },
  {
   "cell_type": "markdown",
   "metadata": {},
   "source": [
    "# Interpret LDA Results (Learn)\n",
    "<a id=\"#p3\"></a>"
   ]
  },
  {
   "cell_type": "markdown",
   "metadata": {},
   "source": [
    "## Overview"
   ]
  },
  {
   "cell_type": "markdown",
   "metadata": {
    "toc-hr-collapsed": true
   },
   "source": [
    "## Follow Along"
   ]
  },
  {
   "cell_type": "markdown",
   "metadata": {},
   "source": [
    "### Topic Distance Visualization"
   ]
  },
  {
   "cell_type": "code",
   "execution_count": 40,
   "metadata": {},
   "outputs": [],
   "source": [
    "import pyLDAvis.gensim\n",
    "\n",
    "pyLDAvis.enable_notebook()"
   ]
  },
  {
   "cell_type": "code",
   "execution_count": 41,
   "metadata": {},
   "outputs": [
    {
     "data": {
      "text/html": [
       "\n",
       "<link rel=\"stylesheet\" type=\"text/css\" href=\"https://cdn.rawgit.com/bmabey/pyLDAvis/files/ldavis.v1.0.0.css\">\n",
       "\n",
       "\n",
       "<div id=\"ldavis_el1316019924069900641139334753\"></div>\n",
       "<script type=\"text/javascript\">\n",
       "\n",
       "var ldavis_el1316019924069900641139334753_data = {\"mdsDat\": {\"x\": [0.14508576035847148, 0.15773110478057967, 0.16700024930176197, -0.06639484417681554, -0.008240364819438737, -0.003024561711963721, -0.06019566900680465, -0.05395011675113735, -0.10341885174527464, -0.04600452253665262, -0.05532949997704093, 0.036701574593725646, -0.06985948922493755, -0.013534605508410746, -0.026566163576062268], \"y\": [-0.00963717614081272, -0.018137807599287584, 0.0016884095150391703, 0.01981759628624187, 0.013421794192880485, 0.024663449997534732, 0.02709017967862469, 0.0026998282814247646, -0.1167420524269409, -0.0035828609234460312, -0.046048576211544456, 0.015517271044842294, 0.1180069549858432, -0.04765881622608428, 0.018901805545684738], \"topics\": [1, 2, 3, 4, 5, 6, 7, 8, 9, 10, 11, 12, 13, 14, 15], \"cluster\": [1, 1, 1, 1, 1, 1, 1, 1, 1, 1, 1, 1, 1, 1, 1], \"Freq\": [17.77657699584961, 13.18825912475586, 12.62507152557373, 11.432390213012695, 7.89329719543457, 7.6458940505981445, 6.497049331665039, 5.953108787536621, 4.867012023925781, 3.680624008178711, 3.218534469604492, 2.4119832515716553, 1.3835866451263428, 1.119766354560852, 0.30684980750083923]}, \"tinfo\": {\"Term\": [\"emma\", \"elizabeth\", \"elinor\", \"weston\", \"miss\", \"think\", \"little\", \"jane\", \"marianne\", \"knightley\", \"elton\", \"sir\", \"bennet\", \"madame\", \"like\", \"darcy\", \"harriet\", \"good\", \"woodhouse\", \"bingley\", \"come\", \"rochester\", \"monsieur\", \"thing\", \"night\", \"lucy\", \"know\", \"hand\", \"john\", \"churchill\", \"stopt\", \"sussex\", \"delaford\", \"somersetshire\", \"norland\", \"occurrences\", \"inconveniences\", \"saucy\", \"dorsetshire\", \"outlived\", \"palmers\", \"brandon\", \"unavoidable\", \"acquit\", \"intentionally\", \"enquire\", \"boarder\", \"vindication\", \"gentility\", \"improving\", \"unceasing\", \"illiterate\", \"prepossession\", \"devonshire\", \"militia\", \"attaching\", \"overcoming\", \"unfortunate\", \"avoiding\", \"coxcomb\", \"willoughby\", \"marianne\", \"robert\", \"elinor\", \"dashwood\", \"barton\", \"fanny\", \"recollecting\", \"increase\", \"colonel\", \"attachment\", \"recovery\", \"edward\", \"behaviour\", \"engagement\", \"affection\", \"jennings\", \"sink\", \"unhappy\", \"ferrars\", \"conduct\", \"feelings\", \"sister\", \"cottage\", \"acquaintance\", \"gardiner\", \"happiness\", \"opinion\", \"mother\", \"harriet\", \"man\", \"replied\", \"think\", \"time\", \"mind\", \"present\", \"felt\", \"soon\", \"family\", \"good\", \"know\", \"great\", \"thing\", \"heart\", \"thought\", \"little\", \"house\", \"having\", \"love\", \"saw\", \"long\", \"day\", \"miss\", \"bates\", \"weston\", \"cole\", \"churchill\", \"woodhouse\", \"dixon\", \"maple\", \"campbell\", \"enscombe\", \"randalls\", \"perry\", \"eltons\", \"ford\", \"hawkins\", \"campbells\", \"coles\", \"weymouth\", \"taylor\", \"suckling\", \"elton\", \"patty\", \"churchills\", \"larkins\", \"exploring\", \"knightley\", \"selina\", \"richmond\", \"vicarage\", \"brunswick\", \"emma\", \"isabella\", \"hartfield\", \"frank\", \"highbury\", \"abbey\", \"donwell\", \"surprized\", \"harriet\", \"fairfax\", \"body\", \"goddard\", \"surprize\", \"thing\", \"miss\", \"extremely\", \"dear\", \"jane\", \"oh\", \"think\", \"great\", \"father\", \"know\", \"sure\", \"good\", \"little\", \"shall\", \"young\", \"time\", \"come\", \"like\", \"soon\", \"thought\", \"day\", \"collins\", \"bennet\", \"lucas\", \"bingley\", \"bourgh\", \"catherine\", \"lucases\", \"charlotte\", \"lizzy\", \"longbourn\", \"kitty\", \"bennets\", \"netherfield\", \"judgement\", \"jenkinson\", \"hunsford\", \"rosings\", \"phillips\", \"elizabeth\", \"ladyship\", \"hertfordshire\", \"meryton\", \"conduit\", \"palmer\", \"hurst\", \"bingleys\", \"enumerating\", \"apologising\", \"gracechurch\", \"chooses\", \"darcy\", \"lydia\", \"maria\", \"forster\", \"wickham\", \"middleton\", \"sister\", \"lady\", \"everybody\", \"sisters\", \"jane\", \"town\", \"miss\", \"mother\", \"soon\", \"family\", \"dear\", \"know\", \"room\", \"elinor\", \"good\", \"shall\", \"time\", \"think\", \"sir\", \"young\", \"day\", \"great\", \"sure\", \"little\", \"come\", \"away\", \"whitcross\", \"lowton\", \"monitor\", \"hail\", \"jar\", \"fragrant\", \"misty\", \"efficient\", \"genii\", \"jocund\", \"unlocked\", \"chimneys\", \"consumed\", \"vehicle\", \"tramp\", \"slate\", \"trod\", \"simultaneously\", \"walravens\", \"gaping\", \"retiring\", \"mantle\", \"traveller\", \"tap\", \"flinging\", \"blanched\", \"coward\", \"inside\", \"curb\", \"hazel\", \"costly\", \"waiter\", \"marie\", \"casement\", \"justine\", \"straw\", \"ivy\", \"nun\", \"amidst\", \"hollow\", \"wall\", \"dormitory\", \"sophie\", \"dark\", \"fields\", \"beck\", \"rochester\", \"curtain\", \"reader\", \"temple\", \"city\", \"white\", \"road\", \"door\", \"broad\", \"black\", \"madame\", \"night\", \"ingram\", \"eyes\", \"face\", \"chamber\", \"light\", \"high\", \"deep\", \"like\", \"looked\", \"sound\", \"bed\", \"round\", \"saw\", \"new\", \"long\", \"went\", \"room\", \"little\", \"heard\", \"morning\", \"thought\", \"day\", \"time\", \"stood\", \"felt\", \"look\", \"came\", \"house\", \"come\", \"far\", \"hand\", \"left\", \"life\", \"miss\", \"good\", \"polly\", \"warren\", \"missis\", \"countess\", \"bassompierre\", \"bessie\", \"graham\", \"sire\", \"scotch\", \"papa\", \"opaque\", \"sedate\", \"glittered\", \"paulina\", \"bretton\", \"studious\", \"preaching\", \"chide\", \"appealing\", \"snowe\", \"kinsfolk\", \"instruments\", \"coaxing\", \"naughty\", \"couldn\", \"isidore\", \"lloyd\", \"caressing\", \"ache\", \"cholmondeley\", \"gateshead\", \"reed\", \"fanshawe\", \"count\", \"ginevra\", \"alfred\", \"dr\", \"doll\", \"audience\", \"child\", \"mamma\", \"lucy\", \"little\", \"like\", \"cup\", \"georgiana\", \"know\", \"miss\", \"face\", \"think\", \"john\", \"good\", \"hand\", \"eyes\", \"thought\", \"look\", \"room\", \"tell\", \"long\", \"night\", \"shall\", \"come\", \"day\", \"looked\", \"old\", \"backwards\", \"absolved\", \"patrician\", \"abstracted\", \"eton\", \"vandenhuten\", \"helen\", \"seacombe\", \"benefactress\", \"yorke\", \"announcement\", \"sympathies\", \"victor\", \"victims\", \"india\", \"blot\", \"workings\", \"pope\", \"behest\", \"vigilance\", \"members\", \"tynedale\", \"urgency\", \"pioneer\", \"omission\", \"notre\", \"indies\", \"burns\", \"curate\", \"automaton\", \"uncles\", \"lad\", \"mason\", \"poole\", \"scatcherd\", \"lowood\", \"hunsden\", \"pilot\", \"adele\", \"brocklehurst\", \"sir\", \"rochester\", \"bride\", \"ll\", \"eyre\", \"jane\", \"thornfield\", \"frances\", \"god\", \"temple\", \"yes\", \"know\", \"long\", \"good\", \"like\", \"shall\", \"heart\", \"thought\", \"man\", \"come\", \"wife\", \"night\", \"school\", \"looked\", \"hand\", \"little\", \"room\", \"time\", \"life\", \"eyes\", \"day\", \"think\", \"miss\", \"love\", \"left\", \"house\", \"face\", \"wages\", \"antiquity\", \"potatoes\", \"revolted\", \"sand\", \"swiss\", \"passively\", \"pervaded\", \"alight\", \"traversed\", \"damask\", \"grapes\", \"coal\", \"nation\", \"jack\", \"crimsworth\", \"employer\", \"dispensed\", \"whip\", \"irritating\", \"deeming\", \"porridge\", \"strangest\", \"swam\", \"slavery\", \"strove\", \"rubbed\", \"repast\", \"healed\", \"miller\", \"featured\", \"grate\", \"switzerland\", \"hunsden\", \"tyrant\", \"hearth\", \"apartments\", \"german\", \"frances\", \"counting\", \"like\", \"french\", \"england\", \"ll\", \"wood\", \"hall\", \"bright\", \"light\", \"little\", \"eye\", \"chair\", \"land\", \"reed\", \"english\", \"house\", \"room\", \"work\", \"shall\", \"old\", \"liked\", \"thought\", \"took\", \"looking\", \"time\", \"night\", \"saw\", \"door\", \"day\", \"long\", \"place\", \"good\", \"come\", \"face\", \"came\", \"man\", \"looked\", \"knew\", \"life\", \"know\", \"soon\", \"briggs\", \"diana\", \"hannah\", \"average\", \"translation\", \"henri\", \"insuperable\", \"harangue\", \"aspire\", \"foul\", \"marsh\", \"pencils\", \"beast\", \"margin\", \"turbulent\", \"relinquish\", \"combination\", \"flint\", \"scholars\", \"moor\", \"mysteries\", \"flimsy\", \"woes\", \"clouded\", \"idiot\", \"startling\", \"sternness\", \"rivers\", \"cursed\", \"carlo\", \"st\", \"austerity\", \"composition\", \"ye\", \"essay\", \"mason\", \"mary\", \"mdlle\", \"thy\", \"frances\", \"despair\", \"english\", \"morton\", \"monsieur\", \"john\", \"directress\", \"rochester\", \"god\", \"england\", \"hand\", \"life\", \"brow\", \"words\", \"school\", \"voice\", \"yes\", \"felt\", \"head\", \"jane\", \"heart\", \"face\", \"eye\", \"eyes\", \"asked\", \"little\", \"time\", \"day\", \"like\", \"thought\", \"know\", \"long\", \"tell\", \"looked\", \"moment\", \"saw\", \"grec\", \"allez\", \"pelet\", \"zelie\", \"paletot\", \"une\", \"garcon\", \"reuter\", \"peut\", \"pierre\", \"soit\", \"fait\", \"comme\", \"etre\", \"zoraide\", \"eulalie\", \"reflex\", \"tinged\", \"mes\", \"dites\", \"jour\", \"estrade\", \"demoiselles\", \"anglais\", \"ce\", \"des\", \"qu\", \"bouquet\", \"moi\", \"sais\", \"sylvie\", \"paul\", \"que\", \"je\", \"vous\", \"est\", \"il\", \"monsieur\", \"pas\", \"ne\", \"les\", \"professor\", \"emanuel\", \"et\", \"classe\", \"la\", \"mdlle\", \"mademoiselle\", \"pupils\", \"madame\", \"desk\", \"little\", \"thought\", \"hand\", \"like\", \"day\", \"eyes\", \"eye\", \"looked\", \"time\", \"man\", \"good\", \"know\", \"took\", \"destruction\", \"magnanimity\", \"venerable\", \"lull\", \"collation\", \"roared\", \"bas\", \"furnace\", \"holy\", \"soir\", \"rupture\", \"beef\", \"eighty\", \"coquette\", \"turk\", \"realized\", \"dispositions\", \"balcony\", \"caprices\", \"scent\", \"elders\", \"suave\", \"glory\", \"petty\", \"haunting\", \"glossy\", \"radiant\", \"intellectual\", \"disapproved\", \"bonnets\", \"cloaks\", \"scrupulously\", \"boughs\", \"medical\", \"chestnut\", \"creed\", \"vestibule\", \"poured\", \"rome\", \"god\", \"moon\", \"rue\", \"graham\", \"paulina\", \"ears\", \"faith\", \"hotel\", \"wind\", \"madame\", \"fossette\", \"filled\", \"little\", \"like\", \"long\", \"certain\", \"day\", \"thought\", \"beck\", \"door\", \"heart\", \"world\", \"watched\", \"bretton\", \"hand\", \"hour\", \"come\", \"half\", \"eyes\", \"good\", \"evening\", \"came\", \"great\", \"round\", \"time\", \"night\", \"old\", \"let\", \"life\", \"know\", \"head\", \"look\", \"away\", \"think\", \"georgette\", \"fifine\", \"grisette\", \"chambre\", \"wheel\", \"plebeian\", \"motherly\", \"phase\", \"morbid\", \"trampling\", \"reverence\", \"sardonic\", \"sleeve\", \"ca\", \"portress\", \"hauteur\", \"femme\", \"sa\", \"lottery\", \"spy\", \"platform\", \"confidences\", \"imperious\", \"concentrated\", \"shawls\", \"miracles\", \"fabric\", \"etes\", \"confessional\", \"turban\", \"rosine\", \"dr\", \"hamal\", \"madame\", \"doctor\", \"desiree\", \"beck\", \"cleopatra\", \"isidore\", \"et\", \"les\", \"john\", \"le\", \"penetrated\", \"english\", \"night\", \"bed\", \"pas\", \"little\", \"monsieur\", \"door\", \"know\", \"good\", \"like\", \"came\", \"saw\", \"day\", \"way\", \"lucy\", \"change\", \"feel\", \"think\", \"time\", \"thought\", \"better\", \"looked\", \"hour\", \"hand\", \"look\", \"heart\", \"took\", \"man\", \"half\", \"eyes\", \"enquiry\", \"downs\", \"harry\", \"await\", \"repelled\", \"footman\", \"disappoint\", \"savings\", \"expedients\", \"rained\", \"exacted\", \"hostess\", \"forte\", \"margaret\", \"aching\", \"liberated\", \"faubourg\", \"tis\", \"seasons\", \"eshton\", \"comer\", \"disposal\", \"unkind\", \"showy\", \"sketches\", \"dispersed\", \"compass\", \"gray\", \"rupture\", \"feasted\", \"ecstasy\", \"lynn\", \"steele\", \"ingram\", \"board\", \"ma\", \"jennings\", \"lucy\", \"basket\", \"elinor\", \"marianne\", \"house\", \"ay\", \"sure\", \"cottage\", \"time\", \"room\", \"miss\", \"thing\", \"know\", \"got\", \"dashwood\", \"come\", \"till\", \"came\", \"john\", \"little\", \"home\", \"tell\", \"good\", \"day\", \"knew\", \"soon\", \"shall\", \"thought\", \"better\", \"away\", \"heart\", \"think\", \"like\", \"heard\", \"sloping\", \"gems\", \"feather\", \"bust\", \"blocked\", \"majesty\", \"portfolio\", \"majestic\", \"ringlets\", \"consistency\", \"dutch\", \"bloomed\", \"satin\", \"discussing\", \"paler\", \"fascination\", \"xix\", \"asunder\", \"disordered\", \"displeasing\", \"petit\", \"richly\", \"emphatic\", \"josef\", \"summits\", \"science\", \"enclosing\", \"conferred\", \"lilies\", \"platform\", \"dent\", \"godmother\", \"splendour\", \"blanche\", \"queen\", \"braided\", \"bracelet\", \"white\", \"adele\", \"moulded\", \"pictures\", \"hair\", \"ingram\", \"rochester\", \"bretton\", \"dark\", \"features\", \"eye\", \"fine\", \"liked\", \"crimson\", \"blue\", \"face\", \"little\", \"dr\", \"long\", \"large\", \"like\", \"days\", \"room\", \"good\", \"mother\", \"think\", \"black\", \"time\", \"saw\", \"miss\", \"having\", \"thought\", \"lady\", \"day\", \"night\", \"know\", \"charade\", \"soliloquy\", \"testified\", \"anecdote\", \"monde\", \"suite\", \"undressed\", \"settlement\", \"brittle\", \"dubious\", \"chained\", \"clay\", \"bustling\", \"conquer\", \"alleged\", \"interrupting\", \"unction\", \"pretended\", \"traitor\", \"soup\", \"intricate\", \"inheritance\", \"generation\", \"divisions\", \"ominous\", \"cries\", \"captive\", \"augmented\", \"demonstration\", \"david\", \"betray\", \"powerless\", \"blent\", \"possessor\", \"grasp\", \"joyous\", \"highest\", \"lamp\", \"hand\", \"madame\", \"lines\", \"doors\", \"eye\", \"beck\", \"softly\", \"write\", \"rosine\", \"thought\", \"love\", \"let\", \"shall\", \"read\", \"moment\", \"oh\", \"lost\", \"saw\", \"good\", \"like\", \"come\", \"door\", \"little\", \"caught\", \"room\", \"think\", \"look\", \"night\", \"stood\", \"open\", \"soon\", \"looked\", \"jane\", \"thing\", \"came\", \"yes\", \"looking\", \"morning\", \"way\", \"experiment\", \"landlord\", \"rent\", \"narrated\", \"deserted\", \"cushion\", \"savings\", \"sprite\", \"recalling\", \"spurred\", \"eventful\", \"unaccountably\", \"necks\", \"adoption\", \"fetters\", \"disdainful\", \"hide\", \"rudeness\", \"haply\", \"cooled\", \"ornamented\", \"tinged\", \"conjectured\", \"vouchsafed\", \"justine\", \"unction\", \"fade\", \"lure\", \"froze\", \"imperious\", \"station\", \"marie\", \"bible\", \"belonged\", \"indignant\", \"jealous\", \"tidings\", \"flame\", \"ingram\", \"janet\", \"moonlight\", \"changes\", \"spectacles\", \"entreated\", \"confidence\", \"paul\", \"think\", \"sir\", \"words\", \"finger\", \"half\", \"come\", \"near\", \"little\", \"miss\", \"night\", \"jane\", \"good\", \"heart\", \"tell\", \"god\", \"heard\", \"want\", \"lucy\", \"rochester\", \"know\", \"love\", \"great\", \"chair\", \"eyes\", \"day\", \"like\"], \"Freq\": [883.0, 638.0, 675.0, 450.0, 1541.0, 1312.0, 1715.0, 939.0, 558.0, 398.0, 394.0, 597.0, 318.0, 398.0, 1319.0, 412.0, 531.0, 1349.0, 320.0, 302.0, 822.0, 356.0, 283.0, 795.0, 613.0, 364.0, 1434.0, 605.0, 615.0, 230.0, 14.407066345214844, 9.023414611816406, 27.815746307373047, 7.949052333831787, 47.268062591552734, 6.917832851409912, 6.925122261047363, 6.0226664543151855, 5.987549304962158, 5.962307453155518, 9.382521629333496, 123.3740234375, 5.052438259124756, 11.01575756072998, 5.048267841339111, 5.888656139373779, 5.035251140594482, 5.892434120178223, 7.59802770614624, 7.354739189147949, 5.882637977600098, 5.024547576904297, 5.010402679443359, 22.7564640045166, 7.551553726196289, 4.910510063171387, 4.877505302429199, 32.37278747558594, 9.598243713378906, 5.556515693664551, 166.8563995361328, 407.13739013671875, 61.58868408203125, 479.2410583496094, 179.98707580566406, 67.27499389648438, 36.50813674926758, 15.084325790405273, 27.470481872558594, 188.85342407226562, 81.15044403076172, 11.7669095993042, 174.19708251953125, 88.2420883178711, 71.28506469726562, 137.86898803710938, 119.41898345947266, 16.890369415283203, 42.3715705871582, 72.19833374023438, 67.26732635498047, 168.7511749267578, 234.23040771484375, 47.969303131103516, 113.9331283569336, 53.14598083496094, 122.66629028320312, 109.9310073852539, 215.13375854492188, 177.6598358154297, 249.29466247558594, 130.21173095703125, 312.7637634277344, 311.0875244140625, 175.12069702148438, 140.15843200683594, 186.10267639160156, 219.59547424316406, 132.72061157226562, 247.41403198242188, 252.9547119140625, 187.2906036376953, 183.15248107910156, 162.74057006835938, 195.7422332763672, 226.94149780273438, 164.45687866210938, 142.4481658935547, 142.56442260742188, 149.880859375, 152.00830078125, 151.4208984375, 155.3585968017578, 152.64846801757812, 442.4931335449219, 61.91165542602539, 224.92898559570312, 311.9254150390625, 44.52532958984375, 31.627281188964844, 51.37805938720703, 36.388668060302734, 89.39490509033203, 79.38528442382812, 22.337013244628906, 16.372446060180664, 19.257436752319336, 25.989179611206055, 17.285633087158203, 18.203222274780273, 48.801971435546875, 14.319141387939453, 368.1880187988281, 12.285664558410645, 15.136590003967285, 13.224921226501465, 11.248259544372559, 367.0871887207031, 10.248424530029297, 13.0609130859375, 16.76434898376465, 11.132899284362793, 806.5645751953125, 64.6981201171875, 148.0015411376953, 216.99343872070312, 113.49312591552734, 29.21668243408203, 44.69736862182617, 29.938142776489258, 328.5198059082031, 243.76535034179688, 181.9527130126953, 48.46441650390625, 32.114707946777344, 358.1080627441406, 594.9010009765625, 67.22786712646484, 224.3922119140625, 302.758544921875, 182.25228881835938, 305.80255126953125, 222.2581024169922, 168.732666015625, 301.2530212402344, 184.95535278320312, 270.8704833984375, 293.1767883300781, 188.24351501464844, 155.4398193359375, 196.1271209716797, 162.2762451171875, 178.4623565673828, 159.1160888671875, 163.97804260253906, 158.7045135498047, 173.83444213867188, 311.75885009765625, 68.27338409423828, 293.4569396972656, 37.98218536376953, 123.58109283447266, 13.651612281799316, 103.9007339477539, 89.09427642822266, 80.59844970703125, 66.56370544433594, 9.779911994934082, 65.99571990966797, 10.624488830566406, 8.833711624145508, 23.04657745361328, 44.31800079345703, 28.10767364501953, 557.4661254882812, 47.700538635253906, 35.498355865478516, 48.99986267089844, 6.631777763366699, 65.0827865600586, 30.858985900878906, 4.941287040710449, 4.937831878662109, 6.5154242515563965, 7.934405326843262, 7.8397698402404785, 323.7927551269531, 131.1046142578125, 19.548202514648438, 29.53744888305664, 114.21300506591797, 62.87995910644531, 278.1825256347656, 269.52752685546875, 39.88782501220703, 86.20205688476562, 269.29107666015625, 100.71100616455078, 329.99554443359375, 188.2375946044922, 226.40211486816406, 132.34304809570312, 163.1453094482422, 233.71446228027344, 169.54798889160156, 148.4259490966797, 202.60458374023438, 170.4029998779297, 196.28529357910156, 189.51422119140625, 134.98114013671875, 135.9623260498047, 153.65029907226562, 139.96893310546875, 126.45379638671875, 157.21177673339844, 132.69041442871094, 125.1965103149414, 10.169873237609863, 10.885960578918457, 6.138077259063721, 6.080622673034668, 6.0006818771362305, 5.994096755981445, 5.100142478942871, 5.088810920715332, 5.052190780639648, 5.024105548858643, 4.985481262207031, 5.778378009796143, 8.181314468383789, 9.0806884765625, 7.298865795135498, 8.066904067993164, 5.667288303375244, 5.507004737854004, 19.474048614501953, 6.317782402038574, 4.683259963989258, 7.04525899887085, 13.084430694580078, 6.911125659942627, 4.583087921142578, 6.041044235229492, 5.090299606323242, 6.0063042640686035, 4.917652130126953, 6.695598602294922, 10.268065452575684, 10.18787956237793, 21.070241928100586, 17.02808380126953, 14.980749130249023, 11.50264835357666, 10.274977684020996, 25.266950607299805, 33.41286087036133, 25.30641746520996, 37.412933349609375, 20.390539169311523, 16.76319122314453, 85.79740142822266, 23.20008659362793, 63.11142349243164, 115.95673370361328, 25.641130447387695, 45.68858337402344, 34.43985366821289, 22.039384841918945, 76.91507720947266, 41.336185455322266, 134.167724609375, 34.4913444519043, 61.45328903198242, 107.1652603149414, 139.350341796875, 34.296268463134766, 128.84283447265625, 107.71095275878906, 39.369930267333984, 77.0306625366211, 57.72428894042969, 55.64665985107422, 189.03646850585938, 126.08772277832031, 50.95643997192383, 61.10527420043945, 80.36091613769531, 125.91532135009766, 71.65988159179688, 137.3573760986328, 95.28597259521484, 126.40618896484375, 173.4713134765625, 99.31659698486328, 89.85429382324219, 131.35586547851562, 123.07640075683594, 135.09371948242188, 70.50009155273438, 94.13272857666016, 91.82862091064453, 91.23641967773438, 93.01828002929688, 91.61656188964844, 77.7802734375, 82.4363021850586, 80.1553955078125, 79.79972076416016, 86.8577651977539, 80.69058990478516, 71.7095947265625, 7.690530300140381, 16.812118530273438, 12.51722526550293, 56.80629348754883, 97.60091400146484, 163.95513916015625, 4.8351969718933105, 11.47507381439209, 126.04640197753906, 4.789858341217041, 5.58028507232666, 4.805744171142578, 56.56147384643555, 161.40609741210938, 3.894508123397827, 3.8713204860687256, 3.8723714351654053, 3.8234734535217285, 39.14153289794922, 3.766037702560425, 3.797020196914673, 3.798105478286743, 7.960963249206543, 4.21960973739624, 14.995757102966309, 7.693846225738525, 6.05609655380249, 5.778491973876953, 14.044788360595703, 26.429622650146484, 75.11215209960938, 49.772727966308594, 17.49639892578125, 60.553443908691406, 11.644538879394531, 96.28746032714844, 11.345389366149902, 7.666842937469482, 84.952880859375, 26.68871307373047, 96.08740997314453, 230.47332763671875, 190.60890197753906, 21.27813720703125, 20.817716598510742, 148.33773803710938, 146.00975036621094, 74.08997344970703, 131.40744018554688, 81.68084716796875, 121.73960876464844, 78.48992156982422, 79.1489486694336, 106.54078674316406, 76.39735412597656, 88.0433578491211, 69.1874771118164, 88.35514831542969, 71.9754409790039, 82.77734375, 76.86477661132812, 79.21266174316406, 66.1946029663086, 63.70087814331055, 9.572078704833984, 4.61926794052124, 5.945642948150635, 5.796813011169434, 5.748571395874023, 15.378886222839355, 45.852848052978516, 12.646248817443848, 7.709885120391846, 9.609816551208496, 5.713684558868408, 8.061837196350098, 15.665204048156738, 3.9767074584960938, 14.705610275268555, 3.976618528366089, 3.879840612411499, 4.53346586227417, 3.8131678104400635, 4.472903251647949, 3.8003318309783936, 7.427927017211914, 5.617036819458008, 3.6391148567199707, 4.944842338562012, 3.6629254817962646, 4.760142803192139, 19.62548828125, 4.654078006744385, 3.6231253147125244, 11.687864303588867, 10.294337272644043, 31.256519317626953, 17.761497497558594, 12.773241996765137, 26.847440719604492, 62.612693786621094, 12.765478134155273, 54.278804779052734, 25.2060489654541, 174.51942443847656, 103.50880432128906, 20.37244415283203, 46.095184326171875, 34.60786056518555, 163.7667694091797, 32.31624984741211, 34.197242736816406, 50.365325927734375, 24.175729751586914, 83.78062438964844, 129.51490783691406, 99.81851196289062, 122.07759857177734, 119.89110565185547, 97.93869018554688, 80.24555206298828, 106.48180389404297, 94.09274291992188, 86.4651107788086, 48.60235595703125, 69.01068878173828, 44.928524017333984, 69.39898681640625, 64.80493927001953, 98.46363830566406, 72.68120574951172, 82.54793548583984, 60.1862907409668, 61.87515640258789, 73.48533630371094, 76.8250961303711, 79.9868392944336, 57.82468032836914, 55.5789794921875, 56.76325607299805, 54.341182708740234, 12.998272895812988, 4.733229637145996, 4.707007884979248, 5.289287567138672, 6.5190958976745605, 10.91961669921875, 5.644313335418701, 4.96906042098999, 4.694789409637451, 6.787999629974365, 5.4196624755859375, 6.6604905128479, 5.215398788452148, 5.957960605621338, 4.679261684417725, 68.15754699707031, 8.449911117553711, 4.484507083892822, 5.722728252410889, 3.6896228790283203, 5.591763496398926, 5.508741855621338, 5.545664310455322, 3.6813368797302246, 4.291072368621826, 3.5953948497772217, 4.140915393829346, 6.3850603103637695, 3.573636770248413, 15.100115776062012, 7.174727916717529, 10.531805038452148, 7.101528167724609, 79.4382553100586, 10.720372200012207, 30.5393123626709, 9.447830200195312, 18.515045166015625, 40.300689697265625, 10.16192626953125, 198.66661071777344, 44.60334014892578, 34.42628479003906, 37.218055725097656, 23.53974151611328, 36.91069030761719, 27.340574264526367, 48.89238739013672, 125.7407455444336, 52.557960510253906, 32.3697624206543, 16.430219650268555, 27.213472366333008, 36.98046112060547, 71.21210479736328, 77.70938110351562, 39.27214431762695, 75.93527221679688, 53.59657669067383, 32.904273986816406, 79.0629653930664, 52.1144905090332, 45.064208984375, 80.09111022949219, 56.423946380615234, 61.8173828125, 51.00779342651367, 65.47537994384766, 58.868377685546875, 47.028717041015625, 65.20944213867188, 53.361480712890625, 44.87179946899414, 47.423988342285156, 50.04269027709961, 46.893253326416016, 43.748226165771484, 44.14922332763672, 45.28446578979492, 44.088356018066406, 14.300145149230957, 68.10313415527344, 35.07677459716797, 6.693111419677734, 6.590190410614014, 40.34723663330078, 4.777746200561523, 4.819620609283447, 3.892428398132324, 3.8705086708068848, 8.830140113830566, 4.937106609344482, 3.74815034866333, 4.9517974853515625, 3.6948366165161133, 7.2784247398376465, 3.51857328414917, 4.11978006362915, 10.038625717163086, 17.128097534179688, 3.464698314666748, 3.416184663772583, 3.8846070766448975, 4.534289836883545, 5.642024993896484, 3.837433099746704, 4.389196872711182, 34.13322830200195, 3.8823189735412598, 4.917154312133789, 109.02403259277344, 5.04433536529541, 7.6052398681640625, 15.436545372009277, 5.649590492248535, 26.533390045166016, 52.71648406982422, 41.99138641357422, 11.190984725952148, 38.74507141113281, 16.7827091217041, 61.32406234741211, 16.133974075317383, 65.52488708496094, 112.84909057617188, 16.890398025512695, 65.24298858642578, 46.63884735107422, 31.685964584350586, 78.82874298095703, 72.91960906982422, 23.807113647460938, 52.463165283203125, 40.12470245361328, 50.13134765625, 61.16143035888672, 64.41426086425781, 49.64826202392578, 74.08330535888672, 61.19746398925781, 52.90045166015625, 46.9451789855957, 58.35730743408203, 46.02574920654297, 78.80778503417969, 70.57913208007812, 64.6788558959961, 69.04191589355469, 64.50627136230469, 66.6097412109375, 58.237281799316406, 50.543155670166016, 52.36931228637695, 49.05250549316406, 48.11191177368164, 13.985113143920898, 6.170223712921143, 96.75025177001953, 15.373000144958496, 17.666481018066406, 31.8552303314209, 4.819283485412598, 64.42437744140625, 5.145969867706299, 25.0701904296875, 7.626402378082275, 9.913872718811035, 18.130767822265625, 5.122552871704102, 21.508886337280273, 11.235682487487793, 5.137879371643066, 4.128222942352295, 5.033509731292725, 5.816244602203369, 5.1145339012146, 28.399154663085938, 11.255263328552246, 8.451394081115723, 37.42131423950195, 24.819622039794922, 22.060321807861328, 9.533695220947266, 17.702844619750977, 5.461810111999512, 19.26951026916504, 115.64703369140625, 41.93424606323242, 46.436763763427734, 72.93048858642578, 68.05889892578125, 27.39561653137207, 143.46885681152344, 35.11526107788086, 22.406259536743164, 23.579784393310547, 36.32945251464844, 53.50027084350586, 44.038909912109375, 33.36071014404297, 47.20400619506836, 49.401371002197266, 49.82083511352539, 53.7763671875, 89.20184326171875, 38.28456497192383, 117.02287292480469, 68.19828796386719, 55.50372314453125, 61.40840530395508, 51.977439880371094, 42.46005630493164, 38.410865783691406, 40.624969482421875, 42.347328186035156, 39.96341323852539, 40.00688934326172, 39.86677169799805, 37.50808334350586, 3.4590110778808594, 3.3429653644561768, 3.8006527423858643, 3.5212981700897217, 3.5138111114501953, 3.5173957347869873, 3.9769558906555176, 3.2399988174438477, 6.8064799308776855, 4.546234607696533, 2.578871488571167, 2.5449318885803223, 3.229949712753296, 4.53617525100708, 2.6581780910491943, 5.0976409912109375, 2.586709499359131, 5.137969017028809, 2.6052188873291016, 3.3712637424468994, 2.5450921058654785, 3.6869218349456787, 10.571622848510742, 2.399479866027832, 2.3640260696411133, 2.840512752532959, 4.292858600616455, 5.555525779724121, 2.6908609867095947, 2.7360525131225586, 3.7941367626190186, 3.388424873352051, 5.763359546661377, 3.2916958332061768, 4.31381893157959, 5.500292778015137, 7.306032657623291, 7.095120429992676, 6.871377944946289, 34.3839225769043, 15.38593864440918, 14.882831573486328, 30.387849807739258, 15.680206298828125, 10.942716598510742, 11.061070442199707, 8.151216506958008, 15.484213829040527, 34.60856246948242, 10.399271011352539, 15.516776084899902, 66.7553939819336, 56.187503814697266, 47.05937957763672, 27.35355567932129, 48.02809524536133, 49.08891296386719, 18.206762313842773, 31.77005958557129, 34.7608757019043, 26.992801666259766, 14.861058235168457, 20.693016052246094, 31.91218376159668, 27.024269104003906, 36.242645263671875, 30.93378448486328, 31.986244201660156, 42.83576202392578, 27.251934051513672, 31.349672317504883, 32.43715286254883, 23.34485626220703, 37.29023742675781, 27.532947540283203, 25.47450065612793, 25.035863876342773, 25.30603790283203, 30.146240234375, 22.05236053466797, 23.930007934570312, 23.76299476623535, 25.131393432617188, 13.672311782836914, 9.248525619506836, 6.792972087860107, 3.252065420150757, 4.6151862144470215, 3.644204616546631, 5.479931354522705, 5.3672380447387695, 3.3250598907470703, 2.6419713497161865, 4.169487953186035, 2.8052425384521484, 5.478030204772949, 2.708343744277954, 8.108076095581055, 3.641653299331665, 5.934272766113281, 3.5203065872192383, 3.441927194595337, 3.3960487842559814, 2.79010009765625, 2.8082997798919678, 2.7433176040649414, 3.6424379348754883, 2.759986162185669, 2.400998592376709, 2.230708122253418, 5.709330081939697, 3.5129499435424805, 4.6161627769470215, 13.838942527770996, 72.47331237792969, 9.98011302947998, 93.76725006103516, 14.940583229064941, 6.533971309661865, 35.77880096435547, 4.7618584632873535, 7.504026412963867, 17.327411651611328, 10.07574462890625, 60.411407470703125, 11.24548053741455, 6.094947814941406, 25.321962356567383, 41.923892974853516, 23.2018985748291, 11.479912757873535, 68.69338989257812, 26.14674949645996, 31.903444290161133, 51.213714599609375, 48.69972610473633, 42.9339599609375, 31.936460494995117, 32.607337951660156, 36.485679626464844, 30.1245059967041, 22.98627281188965, 18.279550552368164, 23.133548736572266, 35.7451171875, 35.413516998291016, 33.01645278930664, 26.226980209350586, 27.27501106262207, 23.118877410888672, 25.21579933166504, 25.390254974365234, 24.483617782592773, 22.982173919677734, 25.311038970947266, 23.610715866088867, 23.613637924194336, 4.081715106964111, 5.021656036376953, 5.738133430480957, 3.298269510269165, 3.971653699874878, 5.581112861633301, 4.0937981605529785, 2.4009976387023926, 2.469087839126587, 6.341552257537842, 2.3442537784576416, 2.3452043533325195, 3.063603162765503, 14.084962844848633, 2.2107789516448975, 2.4765453338623047, 3.3304998874664307, 4.098887920379639, 2.374842643737793, 10.227431297302246, 2.6276087760925293, 3.329667568206787, 2.6184513568878174, 2.384376287460327, 2.4831454753875732, 3.2741498947143555, 2.4727389812469482, 4.031654357910156, 1.7031790018081665, 1.680144190788269, 2.6495182514190674, 5.909454822540283, 10.18079948425293, 18.58184051513672, 5.755728721618652, 17.660419464111328, 27.242406845092773, 33.33429718017578, 5.621364593505859, 41.11663055419922, 34.50403594970703, 37.509220123291016, 5.763396263122559, 31.74704360961914, 10.521392822265625, 42.17684555053711, 33.66187286376953, 43.595699310302734, 30.11460304260254, 38.55221176147461, 17.47144889831543, 16.356672286987305, 27.59785270690918, 22.275434494018555, 24.928386688232422, 23.74949836730957, 34.777374267578125, 21.223358154296875, 21.508983612060547, 29.549039840698242, 26.92107391357422, 21.31311798095703, 25.045570373535156, 24.353668212890625, 24.999771118164062, 20.897220611572266, 21.05844497680664, 20.090417861938477, 22.228731155395508, 20.39452362060547, 19.086624145507812, 4.302258014678955, 3.5174074172973633, 3.3975532054901123, 3.2428905963897705, 2.5930280685424805, 2.16788649559021, 2.9457924365997314, 2.1914799213409424, 2.19730544090271, 2.8553390502929688, 2.389925003051758, 2.504969358444214, 9.8717622756958, 2.5752053260803223, 1.7416839599609375, 1.7131131887435913, 1.7014641761779785, 1.7405893802642822, 1.7390899658203125, 1.7155780792236328, 1.7463552951812744, 2.879622220993042, 1.681682825088501, 2.558002471923828, 1.605003833770752, 4.038156986236572, 1.6065850257873535, 2.386568784713745, 2.133265495300293, 1.733418345451355, 7.683579444885254, 7.811226844787598, 3.5929696559906006, 6.5564351081848145, 5.1336236000061035, 3.2147674560546875, 2.6431891918182373, 19.971763610839844, 13.635099411010742, 2.3817386627197266, 6.245038986206055, 13.804935455322266, 8.409308433532715, 18.531740188598633, 14.681229591369629, 14.378159523010254, 10.151209831237793, 16.350704193115234, 11.722335815429688, 10.273944854736328, 4.688961029052734, 8.086091995239258, 14.980010032653809, 23.772563934326172, 10.329352378845215, 17.58851432800293, 10.703091621398926, 19.158153533935547, 10.743642807006836, 15.44158935546875, 17.326248168945312, 13.488819122314453, 15.72704029083252, 9.017931938171387, 15.055085182189941, 12.794100761413574, 14.238700866699219, 11.2797212600708, 12.884858131408691, 11.419035911560059, 12.011046409606934, 10.234628677368164, 10.422061920166016, 11.938852310180664, 2.240748167037964, 2.2590174674987793, 2.2380785942077637, 1.8304688930511475, 2.007936716079712, 2.2683701515197754, 1.5542625188827515, 1.5135525465011597, 1.5082037448883057, 1.5021252632141113, 1.4568947553634644, 2.2411017417907715, 1.658633828163147, 1.8924815654754639, 1.5808734893798828, 1.521266222000122, 2.273287773132324, 1.5232717990875244, 1.8069523572921753, 1.5235263109207153, 1.532361388206482, 1.538496971130371, 1.52979576587677, 1.514209508895874, 1.5179697275161743, 1.4784705638885498, 1.4668657779693604, 2.2499659061431885, 1.4011971950531006, 4.317978858947754, 2.0246903896331787, 2.1558334827423096, 2.19417405128479, 3.615244150161743, 2.236254930496216, 4.2915449142456055, 5.051482677459717, 19.668977737426758, 15.556497573852539, 5.030301094055176, 5.8988237380981445, 11.358480453491211, 7.370996475219727, 3.9023332595825195, 6.645205020904541, 3.541931629180908, 16.095905303955078, 11.809355735778809, 10.628592491149902, 14.0111083984375, 8.992927551269531, 11.346009254455566, 11.216665267944336, 6.566364288330078, 12.591717720031738, 15.542919158935547, 14.993500709533691, 12.370555877685547, 10.062814712524414, 14.717825889587402, 5.737959861755371, 10.615349769592285, 11.99764347076416, 9.38271713256836, 9.01453685760498, 7.4815874099731445, 6.847630977630615, 8.884729385375977, 8.390504837036133, 8.875354766845703, 8.503763198852539, 8.00455093383789, 7.767269134521484, 7.3130011558532715, 7.519989490509033, 7.498068332672119, 1.8206160068511963, 1.24363374710083, 1.8423216342926025, 1.246662974357605, 1.2449941635131836, 1.205823302268982, 0.6422079801559448, 0.6429459452629089, 0.6418372988700867, 0.6412224769592285, 0.6457274556159973, 0.6411631107330322, 0.6414642930030823, 0.6399581432342529, 0.6432424783706665, 0.6418541669845581, 1.2469274997711182, 0.6414937973022461, 0.6412383317947388, 0.6424052119255066, 0.6347115635871887, 0.6398828029632568, 1.2358521223068237, 1.2283883094787598, 2.444720983505249, 0.6448724269866943, 0.6466079354286194, 0.6437414884567261, 0.6424714922904968, 0.6407839059829712, 3.061495065689087, 2.4437334537506104, 1.2494996786117554, 1.8364667892456055, 1.242649793624878, 1.8586280345916748, 1.1428792476654053, 1.8538777828216553, 3.053062915802002, 1.2457116842269897, 1.8450511693954468, 1.2056804895401, 1.251528024673462, 1.2481482028961182, 2.465830087661743, 3.1294538974761963, 7.3110551834106445, 4.946364879608154, 3.786938428878784, 1.2523483037948608, 3.7526559829711914, 4.1882476806640625, 3.131958246231079, 5.225180149078369, 4.553011417388916, 3.4820351600646973, 3.9250223636627197, 4.113333702087402, 3.2670130729675293, 3.117586612701416, 2.518536329269409, 3.1577165126800537, 2.6488304138183594, 2.6700072288513184, 2.603734254837036, 3.2028377056121826, 2.718008279800415, 2.807138681411743, 2.274160385131836, 2.3357157707214355, 2.348282814025879, 2.37052321434021], \"Total\": [883.0, 638.0, 675.0, 450.0, 1541.0, 1312.0, 1715.0, 939.0, 558.0, 398.0, 394.0, 597.0, 318.0, 398.0, 1319.0, 412.0, 531.0, 1349.0, 320.0, 302.0, 822.0, 356.0, 283.0, 795.0, 613.0, 364.0, 1434.0, 605.0, 615.0, 230.0, 15.821825981140137, 9.944832801818848, 30.831544876098633, 8.921189308166504, 53.08893966674805, 7.9041972160339355, 7.924747467041016, 6.919312953948975, 6.926258563995361, 6.908585548400879, 10.908214569091797, 144.6022186279297, 5.9269280433654785, 12.92546272277832, 5.927358150482178, 6.914868354797363, 5.912750720977783, 6.91987419128418, 8.935941696166992, 8.656387329101562, 6.927165508270264, 5.921120643615723, 5.9193339347839355, 26.904788970947266, 8.93505859375, 5.919050693511963, 5.89784049987793, 39.84315872192383, 11.87106704711914, 6.909986972808838, 213.25213623046875, 558.1680908203125, 79.97657012939453, 675.8888549804688, 249.2244873046875, 88.75040435791016, 48.28909683227539, 18.92235565185547, 36.39352798461914, 307.4765319824219, 124.7484130859375, 14.80211067199707, 315.8750305175781, 146.4314727783203, 116.54928588867188, 263.6331787109375, 223.8687744140625, 22.79935073852539, 67.80237579345703, 129.34934997558594, 120.12568664550781, 383.33343505859375, 586.4480590820312, 83.07990264892578, 245.98272705078125, 95.47537231445312, 279.6236267089844, 261.468505859375, 665.7084350585938, 531.0114135742188, 910.4097290039062, 351.841064453125, 1312.907958984375, 1311.932373046875, 572.1118774414062, 416.5749206542969, 669.2943725585938, 922.2679443359375, 385.1911926269531, 1349.73193359375, 1434.4371337890625, 829.5320434570312, 795.002685546875, 646.2784423828125, 1138.0260009765625, 1715.251220703125, 745.6013793945312, 543.151611328125, 566.6611328125, 771.32470703125, 936.5302734375, 1053.975341796875, 1541.2308349609375, 155.37686157226562, 450.8587646484375, 63.303077697753906, 230.07957458496094, 320.7036437988281, 45.916725158691406, 32.63985824584961, 53.07925796508789, 37.739994049072266, 92.90221405029297, 82.57012939453125, 23.411296844482422, 17.287038803100586, 20.353857040405273, 27.505598068237305, 18.298126220703125, 19.3277645111084, 51.93098068237305, 15.239660263061523, 394.8958740234375, 13.191926002502441, 16.25356101989746, 14.211129188537598, 12.168455123901367, 398.3712158203125, 11.146053314208984, 14.20651912689209, 18.285200119018555, 12.152507781982422, 883.7918090820312, 71.12400817871094, 164.21795654296875, 243.79624938964844, 128.5386962890625, 32.55839538574219, 50.932010650634766, 33.58749771118164, 531.0114135742188, 379.9857177734375, 282.98333740234375, 61.005313873291016, 38.65419387817383, 795.002685546875, 1541.2308349609375, 103.97834777832031, 595.7586059570312, 939.0993041992188, 562.0729370117188, 1312.907958984375, 829.5320434570312, 518.7348022460938, 1434.4371337890625, 617.9169921875, 1349.73193359375, 1715.251220703125, 923.4557495117188, 667.44140625, 1311.932373046875, 822.8572998046875, 1319.689453125, 922.2679443359375, 1138.0260009765625, 1053.975341796875, 177.140869140625, 318.8508605957031, 69.833251953125, 302.1820983886719, 39.31150436401367, 128.50570678710938, 14.689128875732422, 111.83604431152344, 96.4288101196289, 87.63947296142578, 73.1351318359375, 10.754863739013672, 72.8385009765625, 11.739790916442871, 9.772650718688965, 25.550052642822266, 49.21430587768555, 31.463747024536133, 638.0902099609375, 55.053443908691406, 41.3626823425293, 57.15158462524414, 7.765698432922363, 76.3931884765625, 36.29008483886719, 5.832761764526367, 5.830479621887207, 7.7986907958984375, 9.780220985412598, 9.765572547912598, 412.1400451660156, 169.9525604248047, 24.63102149963379, 39.463714599609375, 193.40052795410156, 100.48597717285156, 586.4480590820312, 617.4208374023438, 65.63047790527344, 186.0260009765625, 939.0993041992188, 237.9225311279297, 1541.2308349609375, 665.7084350585938, 922.2679443359375, 385.1911926269531, 595.7586059570312, 1434.4371337890625, 880.3726196289062, 675.8888549804688, 1349.73193359375, 923.4557495117188, 1311.932373046875, 1312.907958984375, 597.0443115234375, 667.44140625, 1053.975341796875, 829.5320434570312, 617.9169921875, 1715.251220703125, 822.8572998046875, 678.491943359375, 11.102055549621582, 12.097146987915039, 7.0274505615234375, 7.0044965744018555, 7.0023322105407715, 7.000606536865234, 6.004283428192139, 5.99322509765625, 5.992514133453369, 5.989596366882324, 5.9593892097473145, 6.985562324523926, 9.984713554382324, 11.094362258911133, 8.953828811645508, 9.93362045288086, 6.988305568695068, 6.938111782073975, 24.538339614868164, 8.004596710205078, 5.934635639190674, 8.947558403015137, 16.89409637451172, 8.969379425048828, 5.952545642852783, 7.975724697113037, 6.744372367858887, 7.980443477630615, 6.589106559753418, 8.97587776184082, 13.774165153503418, 13.734808921813965, 28.956804275512695, 24.96879005432129, 21.9602108001709, 16.940797805786133, 14.935493469238281, 44.01516342163086, 63.92662048339844, 45.57558822631836, 75.89318084716797, 35.2785758972168, 27.594139099121094, 224.8726043701172, 43.00346374511719, 159.5277099609375, 356.2685546875, 49.18290710449219, 107.0550765991211, 75.0735855102539, 41.283775329589844, 231.3687744140625, 99.07502746582031, 528.0633544921875, 78.34871673583984, 179.43594360351562, 398.5545349121094, 613.754150390625, 83.7755126953125, 635.3150634765625, 495.3562927246094, 103.908203125, 303.96527099609375, 192.040283203125, 181.17771911621094, 1319.689453125, 697.250244140625, 157.83876037597656, 218.86053466796875, 351.0165710449219, 771.32470703125, 296.2803955078125, 936.5302734375, 492.5047607421875, 880.3726196289062, 1715.251220703125, 622.4573974609375, 513.9303588867188, 1138.0260009765625, 1053.975341796875, 1311.932373046875, 320.6695861816406, 669.2943725585938, 639.101318359375, 684.2755126953125, 745.6013793945312, 822.8572998046875, 463.4582824707031, 605.926513671875, 535.8468017578125, 579.2014770507812, 1541.2308349609375, 1349.73193359375, 77.63589477539062, 8.634315490722656, 20.27509307861328, 15.329030990600586, 72.4444580078125, 127.88603973388672, 215.07020568847656, 6.347382545471191, 15.199420928955078, 170.9218292236328, 6.569745063781738, 7.681506156921387, 6.7424750328063965, 79.92499542236328, 232.3672332763672, 5.618371486663818, 5.7386345863342285, 5.749199390411377, 5.683398246765137, 58.74740219116211, 5.677662372589111, 5.758583068847656, 5.79370641708374, 12.256622314453125, 6.543912887573242, 23.71771240234375, 12.278197288513184, 9.68455696105957, 9.261407852172852, 22.559160232543945, 42.67427062988281, 126.30734252929688, 84.4251937866211, 29.047870635986328, 109.15705871582031, 19.465850830078125, 223.15182495117188, 21.190000534057617, 13.160080909729004, 293.9236755371094, 65.6171646118164, 364.9880676269531, 1715.251220703125, 1319.689453125, 56.0189094543457, 59.160099029541016, 1434.4371337890625, 1541.2308349609375, 495.3562927246094, 1312.907958984375, 615.4295654296875, 1349.73193359375, 605.926513671875, 635.3150634765625, 1138.0260009765625, 639.101318359375, 880.3726196289062, 537.2723388671875, 936.5302734375, 613.754150390625, 923.4557495117188, 822.8572998046875, 1053.975341796875, 697.250244140625, 478.3113098144531, 11.50869083404541, 5.784579277038574, 7.660868167877197, 7.783574104309082, 7.846802234649658, 21.049564361572266, 63.061241149902344, 17.543636322021484, 10.753393173217773, 13.628966331481934, 8.19351863861084, 11.724743843078613, 22.87924575805664, 5.820028305053711, 21.544189453125, 5.851505756378174, 5.711819648742676, 6.791448593139648, 5.824400901794434, 6.865109920501709, 5.871204376220703, 11.64266300201416, 8.88869857788086, 5.762556076049805, 7.846540451049805, 5.865803241729736, 7.666561603546143, 31.652788162231445, 7.532312393188477, 5.888172626495361, 19.576147079467773, 17.647226333618164, 60.69110107421875, 32.715328216552734, 22.85036849975586, 54.826507568359375, 146.77098083496094, 23.840002059936523, 133.418212890625, 55.95380783081055, 597.0443115234375, 356.2685546875, 46.017520904541016, 147.03684997558594, 100.39030456542969, 939.0993041992188, 98.57392883300781, 114.94619750976562, 221.64842224121094, 75.0735855102539, 599.3349609375, 1434.4371337890625, 936.5302734375, 1349.73193359375, 1319.689453125, 923.4557495117188, 646.2784423828125, 1138.0260009765625, 910.4097290039062, 822.8572998046875, 282.6952209472656, 613.754150390625, 245.1124725341797, 697.250244140625, 605.926513671875, 1715.251220703125, 880.3726196289062, 1311.932373046875, 579.2014770507812, 635.3150634765625, 1053.975341796875, 1312.907958984375, 1541.2308349609375, 566.6611328125, 535.8468017578125, 745.6013793945312, 495.3562927246094, 15.1399507522583, 5.636054039001465, 5.641426086425781, 6.610368251800537, 8.15082836151123, 14.232556343078613, 7.437167644500732, 6.616276264190674, 6.461197376251221, 9.353365898132324, 7.60970401763916, 9.382647514343262, 7.354544162750244, 8.42041015625, 6.692185401916504, 97.49456787109375, 12.139156341552734, 6.582248210906982, 8.492812156677246, 5.5228729248046875, 8.397438049316406, 8.3604154586792, 8.518946647644043, 5.665201187133789, 6.6883368492126465, 5.652899742126465, 6.542997360229492, 10.151792526245117, 5.712456226348877, 24.17062759399414, 11.565475463867188, 17.23465919494629, 11.452272415161133, 146.77098083496094, 18.709192276000977, 68.01911926269531, 17.06100082397461, 40.887081146240234, 114.94619750976562, 19.257986068725586, 1319.689453125, 157.0836944580078, 125.6989974975586, 147.03684997558594, 73.95433044433594, 169.4249267578125, 109.36959838867188, 303.96527099609375, 1715.251220703125, 388.0292663574219, 168.7055206298828, 50.46391296386719, 126.30734252929688, 224.75177001953125, 745.6013793945312, 880.3726196289062, 250.81248474121094, 923.4557495117188, 478.3113098144531, 190.50320434570312, 1138.0260009765625, 492.3061828613281, 371.61053466796875, 1311.932373046875, 613.754150390625, 771.32470703125, 528.0633544921875, 1053.975341796875, 936.5302734375, 508.5528564453125, 1349.73193359375, 822.8572998046875, 495.3562927246094, 684.2755126953125, 910.4097290039062, 697.250244140625, 541.8171997070312, 579.2014770507812, 1434.4371337890625, 922.2679443359375, 15.434210777282715, 74.62079620361328, 40.71287536621094, 8.604293823242188, 8.62269401550293, 54.182334899902344, 6.471088886260986, 6.728766918182373, 5.752227783203125, 5.76373815536499, 13.45431137084961, 7.631984710693359, 5.796437740325928, 7.682272434234619, 5.797530174255371, 11.587787628173828, 5.709507942199707, 6.703633785247803, 16.379756927490234, 28.417966842651367, 5.804111480712891, 5.797421932220459, 6.594529151916504, 7.745766639709473, 9.650994300842285, 6.590851306915283, 7.565032005310059, 58.920040130615234, 6.705524921417236, 8.528327941894531, 194.78823852539062, 8.756709098815918, 13.534049987792969, 30.16883087158203, 10.137961387634277, 60.69110107421875, 146.99827575683594, 114.52423858642578, 23.150615692138672, 114.94619750976562, 41.02650833129883, 224.75177001953125, 41.37884521484375, 283.8634033203125, 615.4295654296875, 45.93863296508789, 356.2685546875, 221.64842224121094, 125.6989974975586, 605.926513671875, 579.2014770507812, 90.09180450439453, 338.64947509765625, 245.1124725341797, 393.3007507324219, 599.3349609375, 669.2943725585938, 406.3774719238281, 939.0993041992188, 646.2784423828125, 495.3562927246094, 388.0292663574219, 635.3150634765625, 394.4464416503906, 1715.251220703125, 1311.932373046875, 1053.975341796875, 1319.689453125, 1138.0260009765625, 1434.4371337890625, 936.5302734375, 537.2723388671875, 697.250244140625, 573.4225463867188, 771.32470703125, 15.352426528930664, 7.111659049987793, 113.14794158935547, 18.34819984436035, 21.289796829223633, 39.45481872558594, 6.056286334991455, 81.64901733398438, 6.68233585357666, 32.657527923583984, 9.940350532531738, 12.957051277160645, 24.227251052856445, 6.8525710105896, 28.916040420532227, 15.198248863220215, 6.9950947761535645, 5.642086029052734, 6.935716152191162, 8.049463272094727, 7.091322898864746, 39.5177001953125, 15.671954154968262, 11.88421630859375, 52.829044342041016, 35.280487060546875, 31.658340454101562, 13.874425888061523, 25.806901931762695, 8.026666641235352, 28.43218421936035, 183.37954711914062, 64.27848815917969, 72.25704193115234, 119.45592498779297, 111.60958099365234, 43.01724624633789, 283.8634033203125, 60.83125305175781, 36.439186096191406, 38.97659683227539, 65.36936950683594, 107.1926498413086, 84.71871948242188, 63.91697311401367, 104.6278076171875, 114.52423858642578, 120.15949249267578, 155.50701904296875, 398.5545349121094, 102.81348419189453, 1715.251220703125, 1138.0260009765625, 605.926513671875, 1319.689453125, 1053.975341796875, 635.3150634765625, 388.0292663574219, 697.250244140625, 1311.932373046875, 910.4097290039062, 1349.73193359375, 1434.4371337890625, 492.3061828613281, 5.392708778381348, 5.420363426208496, 6.273408889770508, 6.326870918273926, 6.353899955749512, 6.391251087188721, 7.24540901184082, 6.149179458618164, 12.951178550720215, 8.702900886535645, 5.14924955368042, 5.082409381866455, 6.485319137573242, 9.166423797607422, 5.424798965454102, 10.484110832214355, 5.342187881469727, 10.820422172546387, 5.554043769836426, 7.192028522491455, 5.4346184730529785, 8.114608764648438, 23.854806900024414, 5.524172782897949, 5.48347806930542, 6.590221881866455, 9.987204551696777, 13.095948219299316, 6.433532238006592, 6.543216705322266, 9.128536224365234, 8.218645095825195, 14.716707229614258, 8.02977466583252, 11.174193382263184, 15.712940216064453, 22.932510375976562, 22.573749542236328, 21.98538589477539, 221.64842224121094, 74.76347351074219, 71.56590270996094, 215.07020568847656, 79.92499542236328, 49.7319450378418, 51.364097595214844, 31.329212188720703, 95.00447845458984, 398.5545349121094, 48.4202766418457, 102.29737854003906, 1715.251220703125, 1319.689453125, 936.5302734375, 336.1545104980469, 1053.975341796875, 1138.0260009765625, 159.5277099609375, 528.0633544921875, 646.2784423828125, 411.03887939453125, 113.02766418457031, 232.3672332763672, 605.926513671875, 428.4239807128906, 822.8572998046875, 586.3515625, 635.3150634765625, 1349.73193359375, 484.1083068847656, 684.2755126953125, 829.5320434570312, 351.0165710449219, 1311.932373046875, 613.754150390625, 478.3113098144531, 459.8924255371094, 579.2014770507812, 1434.4371337890625, 406.3774719238281, 639.101318359375, 678.491943359375, 1312.907958984375, 15.670621871948242, 11.629958152770996, 10.187444686889648, 5.34671688079834, 8.055237770080566, 6.562119960784912, 10.397571563720703, 10.324902534484863, 6.540688991546631, 5.270636558532715, 8.362046241760254, 5.642823219299316, 11.103540420532227, 5.490920543670654, 16.63542366027832, 7.5437517166137695, 12.568219184875488, 7.520046234130859, 7.544336318969727, 7.505041122436523, 6.192015171051025, 6.357959747314453, 6.266573905944824, 8.430548667907715, 6.390541076660156, 5.612011909484863, 5.2354044914245605, 13.545680046081543, 8.438374519348145, 11.161495208740234, 34.2862434387207, 223.15182495117188, 27.476564407348633, 398.5545349121094, 46.904911041259766, 17.602367401123047, 159.5277099609375, 12.19087028503418, 23.71771240234375, 84.71871948242188, 38.97659683227539, 615.4295654296875, 46.37130355834961, 18.843231201171875, 224.75177001953125, 613.754150390625, 218.86053466796875, 60.83125305175781, 1715.251220703125, 283.8634033203125, 528.0633544921875, 1434.4371337890625, 1349.73193359375, 1319.689453125, 684.2755126953125, 771.32470703125, 1053.975341796875, 688.8890991210938, 364.9880676269531, 215.32525634765625, 400.159423828125, 1312.907958984375, 1311.932373046875, 1138.0260009765625, 613.8541259765625, 697.250244140625, 428.4239807128906, 605.926513671875, 639.101318359375, 646.2784423828125, 492.3061828613281, 910.4097290039062, 586.3515625, 635.3150634765625, 5.003660678863525, 6.6775360107421875, 8.631360054016113, 5.222898006439209, 6.774519443511963, 9.566113471984863, 8.005462646484375, 4.859589576721191, 5.2834062576293945, 13.573683738708496, 5.1195220947265625, 5.312177658081055, 7.255071640014648, 33.75270462036133, 5.326199531555176, 6.272228717803955, 8.465900421142578, 10.666833877563477, 6.238447666168213, 27.1226863861084, 7.225802898406982, 9.201128959655762, 7.347257614135742, 6.816104412078857, 7.274439334869385, 9.659051895141602, 7.305518627166748, 12.110209465026855, 5.14924955368042, 5.222564697265625, 8.282917976379395, 19.51433753967285, 36.479923248291016, 83.7755126953125, 22.961050033569336, 118.22811126708984, 223.8687744140625, 364.9880676269531, 24.23499870300293, 675.8888549804688, 558.1680908203125, 745.6013793945312, 26.587892532348633, 617.9169921875, 83.07990264892578, 1311.932373046875, 880.3726196289062, 1541.2308349609375, 795.002685546875, 1434.4371337890625, 284.82427978515625, 249.2244873046875, 822.8572998046875, 516.5067138671875, 684.2755126953125, 615.4295654296875, 1715.251220703125, 489.8744812011719, 537.2723388671875, 1349.73193359375, 1053.975341796875, 541.8171997070312, 922.2679443359375, 923.4557495117188, 1138.0260009765625, 613.8541259765625, 678.491943359375, 646.2784423828125, 1312.907958984375, 1319.689453125, 622.4573974609375, 6.90199089050293, 6.117267608642578, 7.113788604736328, 7.222911834716797, 6.275905609130859, 5.412670612335205, 8.394827842712402, 6.286792755126953, 6.31956672668457, 8.267980575561523, 6.999790668487549, 7.3604936599731445, 29.66960906982422, 7.947288990020752, 5.431324005126953, 5.443170070648193, 5.439985752105713, 5.615923881530762, 5.6120710372924805, 5.567911148071289, 5.711967468261719, 9.448346138000488, 5.548377990722656, 8.529937744140625, 5.358249664306641, 13.713042259216309, 5.514334678649902, 8.330878257751465, 7.522088050842285, 6.192015171051025, 27.91481590270996, 29.052608489990234, 13.302886009216309, 27.680593490600586, 23.139474868774414, 13.216442108154297, 10.24148178100586, 231.3687744140625, 133.418212890625, 9.175981521606445, 42.755584716796875, 186.6009979248047, 83.7755126953125, 356.2685546875, 232.3672332763672, 224.8726043701172, 130.22494506835938, 388.0292663574219, 245.82472229003906, 190.50320434570312, 31.360790252685547, 112.03256225585938, 495.3562927246094, 1715.251220703125, 223.15182495117188, 936.5302734375, 266.56689453125, 1319.689453125, 285.6516418457031, 880.3726196289062, 1349.73193359375, 665.7084350585938, 1312.907958984375, 179.43594360351562, 1311.932373046875, 771.32470703125, 1541.2308349609375, 543.151611328125, 1138.0260009765625, 617.4208374023438, 1053.975341796875, 613.754150390625, 1434.4371337890625, 19.923580169677734, 5.994414806365967, 6.053013801574707, 6.102868556976318, 5.2572431564331055, 6.104905605316162, 7.0062689781188965, 4.949377536773682, 5.2551069259643555, 5.265861988067627, 5.2796525955200195, 5.167558670043945, 8.00666332244873, 6.125208854675293, 7.008508205413818, 6.114408493041992, 5.925897598266602, 8.998570442199707, 6.081315040588379, 7.268143653869629, 6.2076592445373535, 6.283140182495117, 6.343316078186035, 6.3457865715026855, 6.323508262634277, 6.432921409606934, 6.286886692047119, 6.281355381011963, 9.742945671081543, 6.154225826263428, 19.173261642456055, 9.00274658203125, 9.720385551452637, 9.966032981872559, 19.22682762145996, 11.334283828735352, 38.20111846923828, 52.71213912963867, 605.926513671875, 398.5545349121094, 56.08708190917969, 83.66505432128906, 388.0292663574219, 159.5277099609375, 40.517303466796875, 132.71572875976562, 34.2862434387207, 1138.0260009765625, 566.6611328125, 459.8924255371094, 923.4557495117188, 314.8015441894531, 573.4225463867188, 562.0729370117188, 150.23416137695312, 771.32470703125, 1349.73193359375, 1319.689453125, 822.8572998046875, 528.0633544921875, 1715.251220703125, 118.20764923095703, 880.3726196289062, 1312.907958984375, 639.101318359375, 613.754150390625, 320.6695861816406, 251.8145751953125, 922.2679443359375, 697.250244140625, 939.0993041992188, 795.002685546875, 684.2755126953125, 599.3349609375, 371.61053466796875, 513.9303588867188, 688.8890991210938, 8.198209762573242, 6.824611186981201, 11.56108570098877, 7.8760294914245605, 8.8679780960083, 8.841320037841797, 4.859589576721191, 5.144900321960449, 5.18253755569458, 5.284256935119629, 5.342213153839111, 5.382722854614258, 5.394553184509277, 5.393034934997559, 5.4225382804870605, 5.490100860595703, 10.672861099243164, 5.521296501159668, 5.538381576538086, 5.570296287536621, 5.5373992919921875, 5.642086029052734, 10.963301658630371, 10.965660095214844, 21.9602108001709, 5.925897598266602, 6.1692633628845215, 6.20179557800293, 6.243504524230957, 6.266573905944824, 33.234901428222656, 28.956804275512695, 14.188435554504395, 28.262001037597656, 16.775875091552734, 32.01798629760742, 14.729107856750488, 32.98491668701172, 83.7755126953125, 19.78626823425293, 43.461326599121094, 20.568828582763672, 22.333942413330078, 22.524250030517578, 107.20341491699219, 183.37954711914062, 1312.907958984375, 597.0443115234375, 338.64947509765625, 29.025278091430664, 586.3515625, 822.8572998046875, 358.543701171875, 1715.251220703125, 1541.2308349609375, 613.754150390625, 939.0993041992188, 1349.73193359375, 646.2784423828125, 537.2723388671875, 221.64842224121094, 622.4573974609375, 326.9824523925781, 364.9880676269531, 356.2685546875, 1434.4371337890625, 566.6611328125, 829.5320434570312, 168.7055206298828, 635.3150634765625, 1053.975341796875, 1319.689453125], \"Category\": [\"Default\", \"Default\", \"Default\", \"Default\", \"Default\", \"Default\", \"Default\", \"Default\", \"Default\", \"Default\", \"Default\", \"Default\", \"Default\", \"Default\", \"Default\", \"Default\", \"Default\", \"Default\", \"Default\", \"Default\", \"Default\", \"Default\", \"Default\", \"Default\", \"Default\", \"Default\", \"Default\", \"Default\", \"Default\", \"Default\", \"Topic1\", \"Topic1\", \"Topic1\", \"Topic1\", \"Topic1\", \"Topic1\", \"Topic1\", \"Topic1\", \"Topic1\", \"Topic1\", \"Topic1\", \"Topic1\", \"Topic1\", \"Topic1\", \"Topic1\", \"Topic1\", \"Topic1\", \"Topic1\", \"Topic1\", \"Topic1\", \"Topic1\", \"Topic1\", \"Topic1\", \"Topic1\", \"Topic1\", \"Topic1\", \"Topic1\", \"Topic1\", \"Topic1\", \"Topic1\", \"Topic1\", \"Topic1\", \"Topic1\", \"Topic1\", \"Topic1\", \"Topic1\", \"Topic1\", \"Topic1\", \"Topic1\", \"Topic1\", \"Topic1\", \"Topic1\", \"Topic1\", \"Topic1\", \"Topic1\", \"Topic1\", \"Topic1\", \"Topic1\", \"Topic1\", \"Topic1\", \"Topic1\", \"Topic1\", \"Topic1\", \"Topic1\", \"Topic1\", \"Topic1\", \"Topic1\", \"Topic1\", \"Topic1\", \"Topic1\", \"Topic1\", \"Topic1\", \"Topic1\", \"Topic1\", \"Topic1\", \"Topic1\", \"Topic1\", \"Topic1\", \"Topic1\", \"Topic1\", \"Topic1\", \"Topic1\", \"Topic1\", \"Topic1\", \"Topic1\", \"Topic1\", \"Topic1\", \"Topic1\", \"Topic1\", \"Topic1\", \"Topic1\", \"Topic1\", \"Topic1\", \"Topic2\", \"Topic2\", \"Topic2\", \"Topic2\", \"Topic2\", \"Topic2\", \"Topic2\", \"Topic2\", \"Topic2\", \"Topic2\", \"Topic2\", \"Topic2\", \"Topic2\", \"Topic2\", \"Topic2\", \"Topic2\", \"Topic2\", \"Topic2\", \"Topic2\", \"Topic2\", \"Topic2\", \"Topic2\", \"Topic2\", \"Topic2\", \"Topic2\", \"Topic2\", \"Topic2\", \"Topic2\", \"Topic2\", \"Topic2\", \"Topic2\", \"Topic2\", \"Topic2\", \"Topic2\", \"Topic2\", \"Topic2\", \"Topic2\", \"Topic2\", \"Topic2\", \"Topic2\", \"Topic2\", \"Topic2\", \"Topic2\", \"Topic2\", \"Topic2\", \"Topic2\", \"Topic2\", \"Topic2\", \"Topic2\", \"Topic2\", \"Topic2\", \"Topic2\", \"Topic2\", \"Topic2\", \"Topic2\", \"Topic2\", \"Topic2\", \"Topic2\", \"Topic2\", \"Topic2\", \"Topic2\", \"Topic2\", \"Topic2\", \"Topic3\", \"Topic3\", \"Topic3\", \"Topic3\", \"Topic3\", \"Topic3\", \"Topic3\", \"Topic3\", \"Topic3\", \"Topic3\", \"Topic3\", \"Topic3\", \"Topic3\", \"Topic3\", \"Topic3\", \"Topic3\", \"Topic3\", \"Topic3\", \"Topic3\", \"Topic3\", \"Topic3\", \"Topic3\", \"Topic3\", \"Topic3\", \"Topic3\", \"Topic3\", \"Topic3\", \"Topic3\", \"Topic3\", \"Topic3\", \"Topic3\", \"Topic3\", \"Topic3\", \"Topic3\", \"Topic3\", \"Topic3\", \"Topic3\", \"Topic3\", \"Topic3\", \"Topic3\", \"Topic3\", \"Topic3\", \"Topic3\", \"Topic3\", \"Topic3\", \"Topic3\", \"Topic3\", \"Topic3\", \"Topic3\", \"Topic3\", \"Topic3\", \"Topic3\", \"Topic3\", \"Topic3\", \"Topic3\", \"Topic3\", \"Topic3\", \"Topic3\", \"Topic3\", \"Topic3\", \"Topic3\", \"Topic3\", \"Topic4\", \"Topic4\", \"Topic4\", \"Topic4\", \"Topic4\", \"Topic4\", \"Topic4\", \"Topic4\", \"Topic4\", \"Topic4\", \"Topic4\", \"Topic4\", \"Topic4\", \"Topic4\", \"Topic4\", \"Topic4\", \"Topic4\", \"Topic4\", \"Topic4\", \"Topic4\", \"Topic4\", \"Topic4\", \"Topic4\", \"Topic4\", \"Topic4\", \"Topic4\", \"Topic4\", \"Topic4\", \"Topic4\", \"Topic4\", \"Topic4\", \"Topic4\", \"Topic4\", \"Topic4\", \"Topic4\", \"Topic4\", \"Topic4\", \"Topic4\", \"Topic4\", \"Topic4\", \"Topic4\", \"Topic4\", \"Topic4\", \"Topic4\", \"Topic4\", \"Topic4\", \"Topic4\", \"Topic4\", \"Topic4\", \"Topic4\", \"Topic4\", \"Topic4\", \"Topic4\", \"Topic4\", \"Topic4\", \"Topic4\", \"Topic4\", \"Topic4\", \"Topic4\", \"Topic4\", \"Topic4\", \"Topic4\", \"Topic4\", \"Topic4\", \"Topic4\", \"Topic4\", \"Topic4\", \"Topic4\", \"Topic4\", \"Topic4\", \"Topic4\", \"Topic4\", \"Topic4\", \"Topic4\", \"Topic4\", \"Topic4\", \"Topic4\", \"Topic4\", \"Topic4\", \"Topic4\", \"Topic4\", \"Topic4\", \"Topic4\", \"Topic4\", \"Topic4\", \"Topic4\", \"Topic4\", \"Topic4\", \"Topic4\", \"Topic4\", \"Topic4\", \"Topic4\", \"Topic4\", \"Topic5\", \"Topic5\", \"Topic5\", \"Topic5\", \"Topic5\", \"Topic5\", \"Topic5\", \"Topic5\", \"Topic5\", \"Topic5\", \"Topic5\", \"Topic5\", \"Topic5\", \"Topic5\", \"Topic5\", \"Topic5\", \"Topic5\", \"Topic5\", \"Topic5\", \"Topic5\", \"Topic5\", \"Topic5\", \"Topic5\", \"Topic5\", \"Topic5\", \"Topic5\", \"Topic5\", \"Topic5\", \"Topic5\", \"Topic5\", \"Topic5\", \"Topic5\", \"Topic5\", \"Topic5\", \"Topic5\", \"Topic5\", \"Topic5\", \"Topic5\", \"Topic5\", \"Topic5\", \"Topic5\", \"Topic5\", \"Topic5\", \"Topic5\", \"Topic5\", \"Topic5\", \"Topic5\", \"Topic5\", \"Topic5\", \"Topic5\", \"Topic5\", \"Topic5\", \"Topic5\", \"Topic5\", \"Topic5\", \"Topic5\", \"Topic5\", \"Topic5\", \"Topic5\", \"Topic5\", \"Topic5\", \"Topic5\", \"Topic5\", \"Topic5\", \"Topic5\", \"Topic6\", \"Topic6\", \"Topic6\", \"Topic6\", \"Topic6\", \"Topic6\", \"Topic6\", \"Topic6\", \"Topic6\", \"Topic6\", \"Topic6\", \"Topic6\", \"Topic6\", \"Topic6\", \"Topic6\", \"Topic6\", \"Topic6\", \"Topic6\", \"Topic6\", \"Topic6\", \"Topic6\", \"Topic6\", \"Topic6\", \"Topic6\", \"Topic6\", \"Topic6\", \"Topic6\", \"Topic6\", \"Topic6\", \"Topic6\", \"Topic6\", \"Topic6\", \"Topic6\", \"Topic6\", \"Topic6\", \"Topic6\", \"Topic6\", \"Topic6\", \"Topic6\", \"Topic6\", \"Topic6\", \"Topic6\", \"Topic6\", \"Topic6\", \"Topic6\", \"Topic6\", \"Topic6\", \"Topic6\", \"Topic6\", \"Topic6\", \"Topic6\", \"Topic6\", \"Topic6\", \"Topic6\", \"Topic6\", \"Topic6\", \"Topic6\", \"Topic6\", \"Topic6\", \"Topic6\", \"Topic6\", \"Topic6\", \"Topic6\", \"Topic6\", \"Topic6\", \"Topic6\", \"Topic6\", \"Topic6\", \"Topic6\", \"Topic6\", \"Topic6\", \"Topic6\", \"Topic6\", \"Topic6\", \"Topic6\", \"Topic6\", \"Topic6\", \"Topic7\", \"Topic7\", \"Topic7\", \"Topic7\", \"Topic7\", \"Topic7\", \"Topic7\", \"Topic7\", \"Topic7\", \"Topic7\", \"Topic7\", \"Topic7\", \"Topic7\", \"Topic7\", \"Topic7\", \"Topic7\", \"Topic7\", \"Topic7\", \"Topic7\", \"Topic7\", \"Topic7\", \"Topic7\", \"Topic7\", \"Topic7\", \"Topic7\", \"Topic7\", \"Topic7\", \"Topic7\", \"Topic7\", \"Topic7\", \"Topic7\", \"Topic7\", \"Topic7\", \"Topic7\", \"Topic7\", \"Topic7\", \"Topic7\", \"Topic7\", \"Topic7\", \"Topic7\", \"Topic7\", \"Topic7\", \"Topic7\", \"Topic7\", \"Topic7\", \"Topic7\", \"Topic7\", \"Topic7\", \"Topic7\", \"Topic7\", \"Topic7\", \"Topic7\", \"Topic7\", \"Topic7\", \"Topic7\", \"Topic7\", \"Topic7\", \"Topic7\", \"Topic7\", \"Topic7\", \"Topic7\", \"Topic7\", \"Topic7\", \"Topic7\", \"Topic7\", \"Topic7\", \"Topic7\", \"Topic7\", \"Topic7\", \"Topic7\", \"Topic7\", \"Topic7\", \"Topic7\", \"Topic7\", \"Topic7\", \"Topic7\", \"Topic7\", \"Topic7\", \"Topic7\", \"Topic7\", \"Topic8\", \"Topic8\", \"Topic8\", \"Topic8\", \"Topic8\", \"Topic8\", \"Topic8\", \"Topic8\", \"Topic8\", \"Topic8\", \"Topic8\", \"Topic8\", \"Topic8\", \"Topic8\", \"Topic8\", \"Topic8\", \"Topic8\", \"Topic8\", \"Topic8\", \"Topic8\", \"Topic8\", \"Topic8\", \"Topic8\", \"Topic8\", \"Topic8\", \"Topic8\", \"Topic8\", \"Topic8\", \"Topic8\", \"Topic8\", \"Topic8\", \"Topic8\", \"Topic8\", \"Topic8\", \"Topic8\", \"Topic8\", \"Topic8\", \"Topic8\", \"Topic8\", \"Topic8\", \"Topic8\", \"Topic8\", \"Topic8\", \"Topic8\", \"Topic8\", \"Topic8\", \"Topic8\", \"Topic8\", \"Topic8\", \"Topic8\", \"Topic8\", \"Topic8\", \"Topic8\", \"Topic8\", \"Topic8\", \"Topic8\", \"Topic8\", \"Topic8\", \"Topic8\", \"Topic8\", \"Topic8\", \"Topic8\", \"Topic8\", \"Topic8\", \"Topic8\", \"Topic8\", \"Topic8\", \"Topic8\", \"Topic8\", \"Topic8\", \"Topic8\", \"Topic8\", \"Topic8\", \"Topic8\", \"Topic8\", \"Topic9\", \"Topic9\", \"Topic9\", \"Topic9\", \"Topic9\", \"Topic9\", \"Topic9\", \"Topic9\", \"Topic9\", \"Topic9\", \"Topic9\", \"Topic9\", \"Topic9\", \"Topic9\", \"Topic9\", \"Topic9\", \"Topic9\", \"Topic9\", \"Topic9\", \"Topic9\", \"Topic9\", \"Topic9\", \"Topic9\", \"Topic9\", \"Topic9\", \"Topic9\", \"Topic9\", \"Topic9\", \"Topic9\", \"Topic9\", \"Topic9\", \"Topic9\", \"Topic9\", \"Topic9\", \"Topic9\", \"Topic9\", \"Topic9\", \"Topic9\", \"Topic9\", \"Topic9\", \"Topic9\", \"Topic9\", \"Topic9\", \"Topic9\", \"Topic9\", \"Topic9\", \"Topic9\", \"Topic9\", \"Topic9\", \"Topic9\", \"Topic9\", \"Topic9\", \"Topic9\", \"Topic9\", \"Topic9\", \"Topic9\", \"Topic9\", \"Topic9\", \"Topic9\", \"Topic9\", \"Topic9\", \"Topic9\", \"Topic9\", \"Topic9\", \"Topic10\", \"Topic10\", \"Topic10\", \"Topic10\", \"Topic10\", \"Topic10\", \"Topic10\", \"Topic10\", \"Topic10\", \"Topic10\", \"Topic10\", \"Topic10\", \"Topic10\", \"Topic10\", \"Topic10\", \"Topic10\", \"Topic10\", \"Topic10\", \"Topic10\", \"Topic10\", \"Topic10\", \"Topic10\", \"Topic10\", \"Topic10\", \"Topic10\", \"Topic10\", \"Topic10\", \"Topic10\", \"Topic10\", \"Topic10\", \"Topic10\", \"Topic10\", \"Topic10\", \"Topic10\", \"Topic10\", \"Topic10\", \"Topic10\", \"Topic10\", \"Topic10\", \"Topic10\", \"Topic10\", \"Topic10\", \"Topic10\", \"Topic10\", \"Topic10\", \"Topic10\", \"Topic10\", \"Topic10\", \"Topic10\", \"Topic10\", \"Topic10\", \"Topic10\", \"Topic10\", \"Topic10\", \"Topic10\", \"Topic10\", \"Topic10\", \"Topic10\", \"Topic10\", \"Topic10\", \"Topic10\", \"Topic10\", \"Topic10\", \"Topic10\", \"Topic10\", \"Topic10\", \"Topic10\", \"Topic10\", \"Topic10\", \"Topic10\", \"Topic10\", \"Topic10\", \"Topic10\", \"Topic10\", \"Topic10\", \"Topic10\", \"Topic10\", \"Topic10\", \"Topic10\", \"Topic10\", \"Topic10\", \"Topic10\", \"Topic10\", \"Topic11\", \"Topic11\", \"Topic11\", \"Topic11\", \"Topic11\", \"Topic11\", \"Topic11\", \"Topic11\", \"Topic11\", \"Topic11\", \"Topic11\", \"Topic11\", \"Topic11\", \"Topic11\", \"Topic11\", \"Topic11\", \"Topic11\", \"Topic11\", \"Topic11\", \"Topic11\", \"Topic11\", \"Topic11\", \"Topic11\", \"Topic11\", \"Topic11\", \"Topic11\", \"Topic11\", \"Topic11\", \"Topic11\", \"Topic11\", \"Topic11\", \"Topic11\", \"Topic11\", \"Topic11\", \"Topic11\", \"Topic11\", \"Topic11\", \"Topic11\", \"Topic11\", \"Topic11\", \"Topic11\", \"Topic11\", \"Topic11\", \"Topic11\", \"Topic11\", \"Topic11\", \"Topic11\", \"Topic11\", \"Topic11\", \"Topic11\", \"Topic11\", \"Topic11\", \"Topic11\", \"Topic11\", \"Topic11\", \"Topic11\", \"Topic11\", \"Topic11\", \"Topic11\", \"Topic11\", \"Topic11\", \"Topic11\", \"Topic11\", \"Topic11\", \"Topic11\", \"Topic11\", \"Topic11\", \"Topic11\", \"Topic11\", \"Topic11\", \"Topic11\", \"Topic11\", \"Topic11\", \"Topic11\", \"Topic12\", \"Topic12\", \"Topic12\", \"Topic12\", \"Topic12\", \"Topic12\", \"Topic12\", \"Topic12\", \"Topic12\", \"Topic12\", \"Topic12\", \"Topic12\", \"Topic12\", \"Topic12\", \"Topic12\", \"Topic12\", \"Topic12\", \"Topic12\", \"Topic12\", \"Topic12\", \"Topic12\", \"Topic12\", \"Topic12\", \"Topic12\", \"Topic12\", \"Topic12\", \"Topic12\", \"Topic12\", \"Topic12\", \"Topic12\", \"Topic12\", \"Topic12\", \"Topic12\", \"Topic12\", \"Topic12\", \"Topic12\", \"Topic12\", \"Topic12\", \"Topic12\", \"Topic12\", \"Topic12\", \"Topic12\", \"Topic12\", \"Topic12\", \"Topic12\", \"Topic12\", \"Topic12\", \"Topic12\", \"Topic12\", \"Topic12\", \"Topic12\", \"Topic12\", \"Topic12\", \"Topic12\", \"Topic12\", \"Topic12\", \"Topic12\", \"Topic12\", \"Topic12\", \"Topic12\", \"Topic12\", \"Topic12\", \"Topic12\", \"Topic12\", \"Topic12\", \"Topic12\", \"Topic12\", \"Topic12\", \"Topic12\", \"Topic12\", \"Topic12\", \"Topic13\", \"Topic13\", \"Topic13\", \"Topic13\", \"Topic13\", \"Topic13\", \"Topic13\", \"Topic13\", \"Topic13\", \"Topic13\", \"Topic13\", \"Topic13\", \"Topic13\", \"Topic13\", \"Topic13\", \"Topic13\", \"Topic13\", \"Topic13\", \"Topic13\", \"Topic13\", \"Topic13\", \"Topic13\", \"Topic13\", \"Topic13\", \"Topic13\", \"Topic13\", \"Topic13\", \"Topic13\", \"Topic13\", \"Topic13\", \"Topic13\", \"Topic13\", \"Topic13\", \"Topic13\", \"Topic13\", \"Topic13\", \"Topic13\", \"Topic13\", \"Topic13\", \"Topic13\", \"Topic13\", \"Topic13\", \"Topic13\", \"Topic13\", \"Topic13\", \"Topic13\", \"Topic13\", \"Topic13\", \"Topic13\", \"Topic13\", \"Topic13\", \"Topic13\", \"Topic13\", \"Topic13\", \"Topic13\", \"Topic13\", \"Topic13\", \"Topic13\", \"Topic13\", \"Topic13\", \"Topic13\", \"Topic13\", \"Topic13\", \"Topic13\", \"Topic13\", \"Topic13\", \"Topic13\", \"Topic13\", \"Topic13\", \"Topic13\", \"Topic13\", \"Topic13\", \"Topic13\", \"Topic14\", \"Topic14\", \"Topic14\", \"Topic14\", \"Topic14\", \"Topic14\", \"Topic14\", \"Topic14\", \"Topic14\", \"Topic14\", \"Topic14\", \"Topic14\", \"Topic14\", \"Topic14\", \"Topic14\", \"Topic14\", \"Topic14\", \"Topic14\", \"Topic14\", \"Topic14\", \"Topic14\", \"Topic14\", \"Topic14\", \"Topic14\", \"Topic14\", \"Topic14\", \"Topic14\", \"Topic14\", \"Topic14\", \"Topic14\", \"Topic14\", \"Topic14\", \"Topic14\", \"Topic14\", \"Topic14\", \"Topic14\", \"Topic14\", \"Topic14\", \"Topic14\", \"Topic14\", \"Topic14\", \"Topic14\", \"Topic14\", \"Topic14\", \"Topic14\", \"Topic14\", \"Topic14\", \"Topic14\", \"Topic14\", \"Topic14\", \"Topic14\", \"Topic14\", \"Topic14\", \"Topic14\", \"Topic14\", \"Topic14\", \"Topic14\", \"Topic14\", \"Topic14\", \"Topic14\", \"Topic14\", \"Topic14\", \"Topic14\", \"Topic14\", \"Topic14\", \"Topic14\", \"Topic14\", \"Topic14\", \"Topic14\", \"Topic14\", \"Topic14\", \"Topic14\", \"Topic14\", \"Topic14\", \"Topic14\", \"Topic14\", \"Topic14\", \"Topic15\", \"Topic15\", \"Topic15\", \"Topic15\", \"Topic15\", \"Topic15\", \"Topic15\", \"Topic15\", \"Topic15\", \"Topic15\", \"Topic15\", \"Topic15\", \"Topic15\", \"Topic15\", \"Topic15\", \"Topic15\", \"Topic15\", \"Topic15\", \"Topic15\", \"Topic15\", \"Topic15\", \"Topic15\", \"Topic15\", \"Topic15\", \"Topic15\", \"Topic15\", \"Topic15\", \"Topic15\", \"Topic15\", \"Topic15\", \"Topic15\", \"Topic15\", \"Topic15\", \"Topic15\", \"Topic15\", \"Topic15\", \"Topic15\", \"Topic15\", \"Topic15\", \"Topic15\", \"Topic15\", \"Topic15\", \"Topic15\", \"Topic15\", \"Topic15\", \"Topic15\", \"Topic15\", \"Topic15\", \"Topic15\", \"Topic15\", \"Topic15\", \"Topic15\", \"Topic15\", \"Topic15\", \"Topic15\", \"Topic15\", \"Topic15\", \"Topic15\", \"Topic15\", \"Topic15\", \"Topic15\", \"Topic15\", \"Topic15\", \"Topic15\", \"Topic15\", \"Topic15\", \"Topic15\", \"Topic15\", \"Topic15\", \"Topic15\", \"Topic15\", \"Topic15\"], \"logprob\": [30.0, 29.0, 28.0, 27.0, 26.0, 25.0, 24.0, 23.0, 22.0, 21.0, 20.0, 19.0, 18.0, 17.0, 16.0, 15.0, 14.0, 13.0, 12.0, 11.0, 10.0, 9.0, 8.0, 7.0, 6.0, 5.0, 4.0, 3.0, 2.0, 1.0, -8.260299682617188, -8.72819995880127, -7.602499961853027, -8.854999542236328, -7.072199821472168, -8.994000434875488, -8.992899894714355, -9.132499694824219, -9.138400077819824, -9.142600059509277, -8.689200401306152, -6.112800121307373, -9.308199882507324, -8.52869987487793, -9.309000015258789, -9.154999732971191, -9.311599731445312, -9.154399871826172, -8.900199890136719, -8.932700157165527, -9.156100273132324, -9.313699722290039, -9.316499710083008, -7.803199768066406, -8.906299591064453, -9.336700439453125, -9.343400001525879, -7.450699806213379, -8.666500091552734, -9.21310043334961, -5.8109002113342285, -4.918900012969971, -6.807600021362305, -4.755899906158447, -5.735199928283691, -6.719299793243408, -7.33050012588501, -8.214400291442871, -7.614999771118164, -5.687099933624268, -6.531799793243408, -8.462800025939941, -5.767899990081787, -6.447999954223633, -6.661399841308594, -6.001800060272217, -6.145400047302246, -8.101300239562988, -7.181600093841553, -6.648600101470947, -6.719399929046631, -5.799600124359131, -5.471799850463867, -7.057499885559082, -6.192500114440918, -6.954999923706055, -6.118599891662598, -6.2281999588012695, -5.55679988861084, -5.748199939727783, -5.40939998626709, -6.058899879455566, -5.182600021362305, -5.188000202178955, -5.762599945068359, -5.985300064086914, -5.7017998695373535, -5.536300182342529, -6.03980016708374, -5.416999816894531, -5.394899845123291, -5.695400238037109, -5.717700004577637, -5.835899829864502, -5.651299953460693, -5.503399848937988, -5.825399875640869, -5.969099998474121, -5.968299865722656, -5.9182000160217285, -5.904099941253662, -5.9079999923706055, -5.882299900054932, -5.601399898529053, -4.537099838256836, -6.503799915313721, -5.213699817657471, -4.88670015335083, -6.833399772644043, -7.17549991607666, -6.690299987792969, -7.035299777984619, -6.13640022277832, -6.255199909210205, -7.5233001708984375, -7.833899974822998, -7.671599864959717, -7.371799945831299, -7.779600143432617, -7.72790002822876, -6.741700172424316, -7.967899799346924, -4.720900058746338, -8.121100425720215, -7.912399768829346, -8.04740047454834, -8.20930004119873, -4.723899841308594, -8.302399635314941, -8.059900283813477, -7.810299873352051, -8.219599723815918, -3.9367001056671143, -6.459799766540527, -5.632299900054932, -5.249599933624268, -5.897799968719482, -7.254799842834473, -6.829599857330322, -7.230400085449219, -4.83489990234375, -5.133299827575684, -5.42579984664917, -6.748700141906738, -7.160200119018555, -4.748700141906738, -4.241099834442139, -6.42140007019043, -5.216100215911865, -4.916600227355957, -5.424099922180176, -4.906599998474121, -5.2256999015808105, -5.501200199127197, -4.921599864959717, -5.40939998626709, -5.027900218963623, -4.948699951171875, -5.3917999267578125, -5.583199977874756, -5.3506999015808105, -5.540200233459473, -5.445099830627441, -5.559899806976318, -5.529799938201904, -5.5625, -5.427800178527832, -4.843599796295166, -6.362299919128418, -4.904099941253662, -6.948699951171875, -5.769000053405762, -7.9720001220703125, -5.942399978637695, -6.096199989318848, -6.196400165557861, -6.387700080871582, -8.305500030517578, -6.396299839019775, -8.222700119018555, -8.407299995422363, -7.448299884796143, -6.79449987411499, -7.249800205230713, -4.262499809265137, -6.720900058746338, -7.01639986038208, -6.693999767303467, -8.694000244140625, -6.410200119018555, -7.156400203704834, -8.988200187683105, -8.988900184631348, -8.711700439453125, -8.514699935913086, -8.526700019836426, -4.805799961090088, -5.70989990234375, -7.61299991607666, -7.200200080871582, -5.847799777984619, -6.4446001052856445, -4.957600116729736, -4.989200115203857, -6.899799823760986, -6.129199981689453, -4.990099906921387, -5.973599910736084, -4.786799907684326, -5.348199844360352, -5.163599967956543, -5.700500011444092, -5.491199970245361, -5.131800174713135, -5.452700138092041, -5.5858001708984375, -5.274600028991699, -5.447700023651123, -5.306300163269043, -5.341400146484375, -5.680699825286865, -5.673500061035156, -5.551199913024902, -5.644400119781494, -5.745999813079834, -5.528299808502197, -5.697800159454346, -5.75600004196167, -8.167200088500977, -8.099200248718262, -8.672100067138672, -8.681500434875488, -8.69480037689209, -8.695899963378906, -8.857399940490723, -8.859600067138672, -8.866800308227539, -8.872400283813477, -8.88010025024414, -8.732500076293945, -8.38479995727539, -8.280500411987305, -8.498900413513184, -8.398900032043457, -8.751899719238281, -8.780599594116211, -7.517499923706055, -8.64330005645752, -8.94260025024414, -8.534299850463867, -7.915200233459473, -8.553500175476074, -8.964300155639648, -8.68809986114502, -8.859299659729004, -8.69379997253418, -8.893799781799316, -8.585200309753418, -8.157600402832031, -8.165399551391602, -7.438799858093262, -7.651800155639648, -7.779900074005127, -8.044099807739258, -8.156900405883789, -7.2571001052856445, -6.977700233459473, -7.2555999755859375, -6.86460018157959, -7.47160005569458, -7.667399883270264, -6.034599781036377, -7.34250020980835, -6.341700077056885, -5.733399868011475, -7.242400169372559, -6.66480016708374, -6.947400093078613, -7.393799781799316, -6.143899917602539, -6.764900207519531, -5.587500095367432, -6.945899963378906, -6.3684000968933105, -5.812300205230713, -5.549600124359131, -6.951600074768066, -5.627999782562256, -5.807199954986572, -6.813600063323975, -6.142399787902832, -6.431000232696533, -6.467599868774414, -5.244699954986572, -5.649700164794922, -6.555699825286865, -6.374000072479248, -6.100100040435791, -5.651000022888184, -6.214700222015381, -5.564000129699707, -5.929800033569336, -5.64709997177124, -5.330599784851074, -5.888299942016602, -5.988399982452393, -5.608699798583984, -5.673799991607666, -5.580699920654297, -6.230999946594238, -5.94189977645874, -5.966700077056885, -5.973199844360352, -5.953800201416016, -5.968999862670898, -6.132699966430664, -6.0746002197265625, -6.102700233459473, -6.107100009918213, -6.02239990234375, -6.0960001945495605, -5.843599796295166, -8.076199531555176, -7.294099807739258, -7.589099884033203, -6.076499938964844, -5.535299777984619, -5.016600131988525, -8.540300369262695, -7.676000118255615, -5.2795000076293945, -8.549699783325195, -8.397000312805176, -8.54640007019043, -6.080900192260742, -5.032299995422363, -8.756600379943848, -8.76259994506836, -8.762299537658691, -8.774999618530273, -6.448999881744385, -8.790200233459473, -8.781999588012695, -8.781700134277344, -8.041600227355957, -8.67650032043457, -7.408400058746338, -8.075799942016602, -8.315099716186523, -8.362099647521973, -7.473899841308594, -6.841700077056885, -5.7972002029418945, -6.208700180053711, -7.254199981689453, -6.012700080871582, -7.661399841308594, -5.548900127410889, -7.687399864196777, -8.079299926757812, -5.674099922180176, -6.831999778747559, -5.550899982452393, -4.67609977722168, -4.866000175476074, -7.058499813079834, -7.080399990081787, -5.116700172424316, -5.132500171661377, -5.8109002113342285, -5.2378997802734375, -5.713399887084961, -5.314300060272217, -5.753200054168701, -5.744900226593018, -5.447700023651123, -5.780200004577637, -5.638400077819824, -5.87939977645874, -5.634799957275391, -5.839900016784668, -5.699999809265137, -5.774099826812744, -5.744100093841553, -5.923600196838379, -5.961999893188477, -7.825500011444092, -8.554100036621094, -8.3016996383667, -8.32699966430664, -8.335399627685547, -7.351399898529053, -6.258900165557861, -7.546999931335449, -8.041799545288086, -7.821599960327148, -8.341500282287598, -7.997200012207031, -7.332900047302246, -8.703900337219238, -7.396100044250488, -8.703900337219238, -8.728599548339844, -8.57289981842041, -8.74590015411377, -8.586299896240234, -8.749300003051758, -8.079099655151367, -8.358499526977539, -8.79259967803955, -8.486000061035156, -8.786100387573242, -8.524100303649902, -7.107500076293945, -8.546600341796875, -8.79699993133545, -7.625800132751465, -7.752799987792969, -6.642099857330322, -7.207300186157227, -7.5370001792907715, -6.7941999435424805, -5.947400093078613, -7.537600040435791, -6.090199947357178, -6.8572998046875, -4.922299861907959, -5.444699764251709, -7.070199966430664, -6.253600120544434, -6.540299892425537, -4.985899925231934, -6.608799934387207, -6.552199840545654, -6.164999961853027, -6.89900016784668, -5.656099796295166, -5.220600128173828, -5.480999946594238, -5.279699802398682, -5.297800064086914, -5.5, -5.6992998123168945, -5.416399955749512, -5.54010009765625, -5.624599933624268, -6.200699806213379, -5.850100040435791, -6.279300212860107, -5.8445000648498535, -5.913000106811523, -5.494699954986572, -5.798299789428711, -5.671000003814697, -5.9868998527526855, -5.959199905395508, -5.787300109863281, -5.742800235748291, -5.702499866485596, -6.026899814605713, -6.066500186920166, -6.045499801635742, -6.089099884033203, -7.3566999435424805, -8.366900444030762, -8.3725004196167, -8.255800247192383, -8.046799659729004, -7.531000137329102, -8.190899848937988, -8.318300247192383, -8.375100135803223, -8.006400108337402, -8.231499671936035, -8.025300025939941, -8.26990032196045, -8.136799812316895, -8.378399848937988, -5.699699878692627, -7.787399768829346, -8.420900344848633, -8.17710018157959, -8.616000175476074, -8.200200080871582, -8.215200424194336, -8.208499908447266, -8.618300437927246, -8.46500015258789, -8.641900062561035, -8.50059986114502, -8.06760025024414, -8.647899627685547, -7.2067999839782715, -7.951000213623047, -7.5671000480651855, -7.96120023727417, -5.546500205993652, -7.5493998527526855, -6.502500057220459, -7.6757001876831055, -7.002900123596191, -6.225200176239014, -7.60290002822876, -4.629899978637695, -6.123700141906738, -6.382699966430664, -6.304699897766113, -6.762800216674805, -6.313000202178955, -6.6132001876831055, -6.031899929046631, -5.087299823760986, -5.95959997177124, -6.444300174713135, -7.122399806976318, -6.617800235748291, -6.311100006103516, -5.655900001525879, -5.568600177764893, -6.250999927520752, -5.591599941253662, -5.940000057220459, -6.4278998374938965, -5.551300048828125, -5.968100070953369, -6.113399982452393, -5.538400173187256, -5.888599872589111, -5.797299861907959, -5.98960018157959, -5.7399001121521, -5.846199989318848, -6.070799827575684, -5.743899822235107, -5.944399833679199, -6.117700099945068, -6.062399864196777, -6.008699893951416, -6.073699951171875, -6.143099784851074, -6.133999824523926, -6.10860013961792, -6.135300159454346, -7.173799991607666, -5.613100051879883, -6.276599884033203, -7.933000087738037, -7.948500156402588, -6.136600017547607, -8.270099639892578, -8.26140022277832, -8.475099563598633, -8.48069953918457, -7.655900001525879, -8.237299919128418, -8.512800216674805, -8.234299659729004, -8.527199745178223, -7.8491997718811035, -8.576000213623047, -8.418299674987793, -7.527699947357178, -6.9934000968933105, -8.591500282287598, -8.605600357055664, -8.477100372314453, -8.322400093078613, -8.103899955749512, -8.489299774169922, -8.354900360107422, -6.303800106048584, -8.477700233459473, -8.241399765014648, -5.142499923706055, -8.215800285339355, -7.805300235748291, -7.097400188446045, -8.102499961853027, -6.555699825286865, -5.869200229644775, -6.09660005569458, -7.419000148773193, -6.17710018157959, -7.013700008392334, -5.717899799346924, -7.053199768066406, -5.651700019836426, -5.107999801635742, -7.007400035858154, -5.656000137329102, -5.991700172424316, -6.378200054168701, -5.466800212860107, -5.5447001457214355, -6.664100170135498, -5.874000072479248, -6.142099857330322, -5.919400215148926, -5.720600128173828, -5.668799877166748, -5.929100036621094, -5.528900146484375, -5.71999979019165, -5.865699768066406, -5.985099792480469, -5.767499923706055, -6.004899978637695, -5.467100143432617, -5.577400207519531, -5.664700031280518, -5.599400043487549, -5.667300224304199, -5.635200023651123, -5.769599914550781, -5.911300182342529, -5.875800132751465, -5.941199779510498, -5.960599899291992, -6.994699954986572, -7.812900066375732, -5.060500144958496, -6.900000095367432, -6.761000156402588, -6.171500205993652, -8.0600004196167, -5.467199802398682, -7.9944000244140625, -6.410999774932861, -7.60099983215332, -7.338699817657471, -6.735099792480469, -7.999000072479248, -6.564199924468994, -7.213600158691406, -7.995999813079834, -8.214799880981445, -8.016500473022461, -7.872000217437744, -8.00059986114502, -6.286300182342529, -7.2118000984191895, -7.498300075531006, -6.01039981842041, -6.421000003814697, -6.538899898529053, -7.377799987792969, -6.758900165557861, -7.934899806976318, -6.674099922180176, -4.8821001052856445, -5.896599769592285, -5.794600009918213, -5.343200206756592, -5.412300109863281, -6.322299957275391, -4.666500091552734, -6.073999881744385, -6.5233001708984375, -6.472300052642822, -6.039999961853027, -5.6529998779296875, -5.847599983215332, -6.12529993057251, -5.778200149536133, -5.732699871063232, -5.7241997718811035, -5.647799968719482, -5.1417999267578125, -5.987599849700928, -4.870299816131592, -5.410200119018555, -5.616199970245361, -5.515100002288818, -5.6819000244140625, -5.884099960327148, -5.984300136566162, -5.928299903869629, -5.8867998123168945, -5.944699764251709, -5.943600177764893, -5.9471001625061035, -6.0081000328063965, -8.112299919128418, -8.146400451660156, -8.018099784851074, -8.094400405883789, -8.096599578857422, -8.095499992370605, -7.972700119018555, -8.17770004272461, -7.435400009155273, -7.839000225067139, -8.405900001525879, -8.41919994354248, -8.180800437927246, -7.84119987487793, -8.37559986114502, -7.7245001792907715, -8.402899742126465, -7.716599941253662, -8.395700454711914, -8.137999534606934, -8.419099807739258, -8.048500061035156, -6.995100021362305, -8.477999687194824, -8.492899894714355, -8.309300422668457, -7.896299839019775, -7.638500213623047, -8.36340045928955, -8.346699714660645, -8.019800186157227, -8.13290023803711, -7.6016998291015625, -8.16189956665039, -7.89139986038208, -7.648499965667725, -7.36460018157959, -7.393899917602539, -7.425899982452393, -5.815700054168701, -6.619800090789795, -6.65310001373291, -5.939199924468994, -6.600900173187256, -6.960599899291992, -6.94980001449585, -7.255099773406982, -6.613399982452393, -5.809199810028076, -7.011499881744385, -6.611299991607666, -5.152200222015381, -5.3246002197265625, -5.5019001960754395, -6.044400215148926, -5.481500148773193, -5.45959997177124, -6.451499938964844, -5.894700050354004, -5.804800033569336, -6.057700157165527, -6.6545000076293945, -6.323500156402588, -5.8902997970581055, -6.05649995803833, -5.763000011444092, -5.92140007019043, -5.888000011444092, -5.595900058746338, -6.048099994659424, -5.908100128173828, -5.874000072479248, -6.202899932861328, -5.734499931335449, -6.037899971008301, -6.115600109100342, -6.132999897003174, -6.122200012207031, -5.947199821472168, -6.259799957275391, -6.178100109100342, -6.185100078582764, -6.1290998458862305, -6.603700160980225, -6.99459981918335, -7.303199768066406, -8.039799690246582, -7.689799785614014, -7.926000118255615, -7.51800012588501, -7.53879976272583, -8.017600059509277, -8.247599601745605, -7.791299819946289, -8.187600135803223, -7.518400192260742, -8.222800254821777, -7.126200199127197, -7.926700115203857, -7.438399791717529, -7.960599899291992, -7.983099937438965, -7.996500015258789, -8.192999839782715, -8.18649959564209, -8.20989990234375, -7.926499843597412, -8.203900337219238, -8.343199729919434, -8.416799545288086, -7.4770002365112305, -7.962699890136719, -7.689499855041504, -6.591599941253662, -4.9359002113342285, -6.918499946594238, -4.678299903869629, -6.514999866485596, -7.342100143432617, -5.6417999267578125, -7.6585001945495605, -7.203700065612793, -6.366799831390381, -6.908999919891357, -5.1178998947143555, -6.799099922180176, -7.411600112915039, -5.987400054931641, -5.48330020904541, -6.074900150299072, -6.778500080108643, -4.989500045776367, -5.955399990081787, -5.756400108337402, -5.283100128173828, -5.333399772644043, -5.459400177001953, -5.75540018081665, -5.734600067138672, -5.622200012207031, -5.813799858093262, -6.084199905395508, -6.313300132751465, -6.0777997970581055, -5.6427001953125, -5.6519999504089355, -5.722099781036377, -5.952300071716309, -5.913099765777588, -6.078499794006348, -5.991600036621094, -5.9847002029418945, -6.021100044250488, -6.084400177001953, -5.9878997802734375, -6.057400226593018, -6.057300090789795, -7.524099826812744, -7.31689977645874, -7.183499813079834, -7.737199783325195, -7.551400184631348, -7.21120023727417, -7.521200180053711, -8.054699897766113, -8.026800155639648, -7.083499908447266, -8.078700065612793, -8.078300476074219, -7.810999870300293, -6.2855000495910645, -8.137299537658691, -8.023799896240234, -7.727499961853027, -7.519899845123291, -8.065699577331543, -6.605599880218506, -7.964600086212158, -7.727799892425537, -7.9679999351501465, -8.061699867248535, -8.021100044250488, -7.74459981918335, -8.025300025939941, -7.536499977111816, -8.398099899291992, -8.411800384521484, -7.956299781799316, -7.154099941253662, -6.610099792480469, -6.008399963378906, -7.1803998947143555, -6.059299945831299, -5.625899791717529, -5.423999786376953, -7.204100131988525, -5.214200019836426, -5.389599800109863, -5.306000232696533, -7.179100036621094, -5.472799777984619, -6.577199935913086, -5.188799858093262, -5.414299964904785, -5.155700206756592, -5.525599956512451, -5.278600215911865, -6.070099830627441, -6.136000156402588, -5.6128997802734375, -5.827099800109863, -5.714600086212158, -5.7631001472473145, -5.381700038909912, -5.875500202178955, -5.862199783325195, -5.544600009918213, -5.637700080871582, -5.871300220489502, -5.70989990234375, -5.7378997802734375, -5.7118000984191895, -5.890999794006348, -5.883299827575684, -5.9303998947143555, -5.82919979095459, -5.91540002822876, -5.981599807739258, -6.9156999588012695, -7.117099761962891, -7.151800155639648, -7.198400020599365, -7.421999931335449, -7.601099967956543, -7.29449987411499, -7.5903000831604, -7.587600231170654, -7.325699806213379, -7.503600120544434, -7.456600189208984, -6.08519983291626, -7.428899765014648, -7.820000171661377, -7.83650016784668, -7.843400001525879, -7.8206000328063965, -7.821499824523926, -7.835100173950195, -7.817299842834473, -7.317200183868408, -7.855100154876709, -7.4355998039245605, -7.901700019836426, -6.979100227355957, -7.9008002281188965, -7.505000114440918, -7.617199897766113, -7.82480001449585, -6.3358001708984375, -6.319300174713135, -7.095900058746338, -6.4944000244140625, -6.738999843597412, -7.207099914550781, -7.402900218963623, -5.380499839782715, -5.762199878692627, -7.506999969482422, -6.543099880218506, -5.749800205230713, -6.245500087738037, -5.455399990081787, -5.688300132751465, -5.709199905395508, -6.057300090789795, -5.580599784851074, -5.913400173187256, -6.045199871063232, -6.829599857330322, -6.2846999168396, -5.668099880218506, -5.206299781799316, -6.039899826049805, -5.507599830627441, -6.004300117492676, -5.422100067138672, -6.000500202178955, -5.637800216674805, -5.522600173950195, -5.7729997634887695, -5.619500160217285, -6.175600051879883, -5.663099765777588, -5.825900077819824, -5.718900203704834, -5.951900005340576, -5.81879997253418, -5.939599990844727, -5.888999938964844, -6.049099922180176, -6.030900001525879, -5.683499813079834, -7.356500148773193, -7.348400115966797, -7.357699871063232, -7.558700084686279, -7.46619987487793, -7.344200134277344, -7.722300052642822, -7.748799800872803, -7.752399921417236, -7.756400108337402, -7.7870001792907715, -7.356299877166748, -7.657299995422363, -7.525400161743164, -7.7052998542785645, -7.743800163269043, -7.342100143432617, -7.742400169372559, -7.571700096130371, -7.742300033569336, -7.736499786376953, -7.732500076293945, -7.7382001876831055, -7.7484002113342285, -7.7459001541137695, -7.772299766540527, -7.780200004577637, -7.352399826049805, -7.826000213623047, -6.700500011444092, -7.457900047302246, -7.395100116729736, -7.377500057220459, -6.8780999183654785, -7.358500003814697, -6.706699848175049, -6.543600082397461, -5.184299945831299, -5.418799877166748, -6.547800064086914, -6.388500213623047, -5.73330020904541, -6.1656999588012695, -6.801700115203857, -6.269400119781494, -6.898600101470947, -5.384699821472168, -5.694399833679199, -5.799799919128418, -5.523499965667725, -5.966899871826172, -5.734399795532227, -5.7459001541137695, -6.281300067901611, -5.630300045013428, -5.4197001457214355, -5.455699920654297, -5.6479997634887695, -5.854499816894531, -5.4741997718811035, -6.416200160980225, -5.801000118255615, -5.678599834442139, -5.9243998527526855, -5.9644999504089355, -6.150899887084961, -6.2393999099731445, -5.979000091552734, -6.036200046539307, -5.980000019073486, -6.022799968719482, -6.0833001136779785, -6.113399982452393, -6.173600196838379, -6.145699977874756, -6.14870023727417, -6.269599914550781, -6.650700092315674, -6.257800102233887, -6.6483001708984375, -6.649700164794922, -6.681600093841553, -7.311600208282471, -7.310500144958496, -7.31220006942749, -7.313199996948242, -7.30620002746582, -7.313300132751465, -7.31279993057251, -7.315100193023682, -7.309999942779541, -7.31220006942749, -6.648099899291992, -7.312699794769287, -7.3130998611450195, -7.311299800872803, -7.323400020599365, -7.315299987792969, -6.6570000648498535, -6.663099765777588, -5.974899768829346, -7.307499885559082, -7.304800033569336, -7.309199810028076, -7.311200141906738, -7.313799858093262, -5.749899864196777, -5.975299835205078, -6.645999908447266, -6.260900020599365, -6.651500225067139, -6.248899936676025, -6.735199928283691, -6.251500129699707, -5.752600193023682, -6.649099826812744, -6.25629997253418, -6.681700229644775, -6.644400119781494, -6.64709997177124, -5.966300010681152, -5.72790002822876, -4.87939977645874, -5.270100116729736, -5.537199974060059, -6.643799781799316, -5.546299934387207, -5.436500072479248, -5.727099895477295, -5.2153000831604, -5.353000164031982, -5.621200084686279, -5.501399993896484, -5.454599857330322, -5.684899806976318, -5.7316999435424805, -5.945099830627441, -5.718900203704834, -5.894700050354004, -5.88670015335083, -5.911799907684326, -5.704699993133545, -5.868899822235107, -5.836599826812744, -6.0472002029418945, -6.020500183105469, -6.015100002288818, -6.00570011138916], \"loglift\": [30.0, 29.0, 28.0, 27.0, 26.0, 25.0, 24.0, 23.0, 22.0, 21.0, 20.0, 19.0, 18.0, 17.0, 16.0, 15.0, 14.0, 13.0, 12.0, 11.0, 10.0, 9.0, 8.0, 7.0, 6.0, 5.0, 4.0, 3.0, 2.0, 1.0, 1.6335999965667725, 1.6301000118255615, 1.624400019645691, 1.611899971961975, 1.611199975013733, 1.593999981880188, 1.5924999713897705, 1.5885000228881836, 1.5816999673843384, 1.5800000429153442, 1.5765999555587769, 1.56850004196167, 1.5677000284194946, 1.5673999786376953, 1.5667999982833862, 1.56659996509552, 1.56659996509552, 1.56659996509552, 1.5650999546051025, 1.5642999410629272, 1.5637999773025513, 1.563099980354309, 1.5606000423431396, 1.5598000288009644, 1.5591000318527222, 1.5405000448226929, 1.5372999906539917, 1.519700050354004, 1.514799952507019, 1.5092999935150146, 1.4818999767303467, 1.4118000268936157, 1.465999960899353, 1.3834999799728394, 1.4018000364303589, 1.4501999616622925, 1.44760000705719, 1.500599980354309, 1.4459999799728394, 1.23989999294281, 1.2972999811172485, 1.4977999925613403, 1.132099986076355, 1.2208000421524048, 1.235700011253357, 1.0789999961853027, 1.0988999605178833, 1.427299976348877, 1.257200002670288, 1.1441999673843384, 1.1474000215530396, 0.9067999720573425, 0.809499979019165, 1.1779999732971191, 0.9575999975204468, 1.1414999961853027, 0.9032999873161316, 0.86080002784729, 0.5976999998092651, 0.6323999762535095, 0.4320000112056732, 0.733299970626831, 0.29269999265670776, 0.288100004196167, 0.54339998960495, 0.6380000114440918, 0.4474000036716461, 0.2921999990940094, 0.6618000268936157, 0.030700000002980232, -0.00800000037997961, 0.23909999430179596, 0.25929999351501465, 0.3481999933719635, -0.032999999821186066, -0.2953000068664551, 0.21570000052452087, 0.3889000117778778, 0.3472999930381775, 0.08900000154972076, -0.09099999815225601, -0.21299999952316284, -0.567300021648407, 2.0081000328063965, 2.0071001052856445, 2.0035998821258545, 2.003200054168701, 1.9981000423431396, 1.9951000213623047, 1.9943000078201294, 1.993299961090088, 1.989400029182434, 1.9874000549316406, 1.9865000247955322, 1.9788999557495117, 1.971500039100647, 1.9704999923706055, 1.969099998474121, 1.9688999652862549, 1.96589994430542, 1.9637000560760498, 1.9635000228881836, 1.9558000564575195, 1.954699993133545, 1.9545999765396118, 1.9538999795913696, 1.9471999406814575, 1.944100022315979, 1.9419000148773193, 1.9417999982833862, 1.9390000104904175, 1.9381999969482422, 1.934399962425232, 1.9312000274658203, 1.9219000339508057, 1.9093999862670898, 1.9013999700546265, 1.9175000190734863, 1.895300030708313, 1.9107999801635742, 1.545699954032898, 1.5819000005722046, 1.5842000246047974, 1.795699954032898, 1.840499997138977, 1.2282999753952026, 1.0738999843597412, 1.5896999835968018, 1.049399971961975, 0.8938999772071838, 0.8996000289916992, 0.5687999725341797, 0.7088000178337097, 0.9028000235557556, 0.4652999937534332, 0.819599986076355, 0.4198000133037567, 0.25929999351501465, 0.43549999594688416, 0.5687000155448914, 0.12530000507831573, 0.4023999869823456, 0.025100000202655792, 0.2685999870300293, 0.0885000005364418, 0.13259999454021454, 2.050600051879883, 2.046999931335449, 2.0469000339508057, 2.0401999950408936, 2.035099983215332, 2.030400037765503, 1.9961999654769897, 1.99590003490448, 1.990399956703186, 1.985700011253357, 1.9752999544143677, 1.9744999408721924, 1.9708000421524048, 1.9696999788284302, 1.968500018119812, 1.9664000272750854, 1.9646999835968018, 1.9566999673843384, 1.934399962425232, 1.9261000156402588, 1.916599988937378, 1.9155999422073364, 1.9115999937057495, 1.9092999696731567, 1.9074000120162964, 1.9035999774932861, 1.9033000469207764, 1.8897000551223755, 1.8602999448776245, 1.8497999906539917, 1.8281999826431274, 1.809999942779541, 1.8384000062942505, 1.7798000574111938, 1.542799949645996, 1.6007000207901, 1.323699951171875, 1.2405999898910522, 1.5714999437332153, 1.3003000020980835, 0.8203999996185303, 1.2098000049591064, 0.5281999707221985, 0.8062999844551086, 0.6650000214576721, 1.001099944114685, 0.7742999792098999, 0.2551000118255615, 0.4223000109195709, 0.5534999966621399, 0.17309999465942383, 0.37950000166893005, 0.16979999840259552, 0.1339000016450882, 0.5825999975204468, 0.47839999198913574, 0.14380000531673431, 0.28999999165534973, 0.4830000102519989, -0.32019999623298645, 0.24469999969005585, 0.37950000166893005, 2.0810000896453857, 2.063199996948242, 2.033400058746338, 2.0272998809814453, 2.0143001079559326, 2.0134999752044678, 2.005500078201294, 2.0051000118255615, 1.9980000257492065, 1.992900013923645, 1.9903000593185425, 1.9789999723434448, 1.969499945640564, 1.968400001525879, 1.964400053024292, 1.9606000185012817, 1.9592000246047974, 1.9377000331878662, 1.937600016593933, 1.9321000576019287, 1.9319000244140625, 1.9297000169754028, 1.9132000207901, 1.9079999923706055, 1.9072999954223633, 1.8909000158309937, 1.8873000144958496, 1.8845000267028809, 1.876099944114685, 1.875599980354309, 1.875, 1.8700000047683716, 1.8508000373840332, 1.7860000133514404, 1.7862999439239502, 1.781599998474121, 1.794700026512146, 1.613700032234192, 1.5198999643325806, 1.580399990081787, 1.461400032043457, 1.6204999685287476, 1.670300006866455, 1.205199956893921, 1.5515999794006348, 1.2414000034332275, 1.0463000535964966, 1.5174000263214111, 1.317199945449829, 1.3895000219345093, 1.541100025177002, 1.0673999786376953, 1.294600009918213, 0.7986000180244446, 1.3482999801635742, 1.0972000360488892, 0.8551999926567078, 0.6861000061035156, 1.2755999565124512, 0.573199987411499, 0.6428999900817871, 1.198199987411499, 0.7960000038146973, 0.96670001745224, 0.9883000254631042, 0.22550000250339508, 0.4586000144481659, 1.038100004196167, 0.8928999900817871, 0.6944000124931335, 0.3562000095844269, 0.7493000030517578, 0.249099999666214, 0.5260999798774719, 0.22789999842643738, -0.1225999966263771, 0.33340001106262207, 0.42480000853538513, 0.009600000455975533, 0.021199999377131462, -0.10459999740123749, 0.6539000272750854, 0.20720000565052032, 0.22859999537467957, 0.15379999577999115, 0.08730000257492065, -0.026499999687075615, 0.383899986743927, 0.17399999499320984, 0.2687999904155731, 0.186599999666214, -0.7073000073432922, -0.6482999920845032, 2.4598000049591064, 2.4233999252319336, 2.351900100708008, 2.3364999294281006, 2.2960000038146973, 2.268899917602539, 2.2678000926971436, 2.2669999599456787, 2.2581000328063965, 2.234600067138672, 2.2232000827789307, 2.219599962234497, 2.200500011444092, 2.1933999061584473, 2.174799919128418, 2.1726999282836914, 2.1454999446868896, 2.1440000534057617, 2.1428000926971436, 2.1331000328063965, 2.1285998821258545, 2.1226999759674072, 2.1168999671936035, 2.107599973678589, 2.100399971008301, 2.080699920654297, 2.0717999935150146, 2.069700002670288, 2.0673999786376953, 2.0652999877929688, 2.059999942779541, 2.019399881362915, 2.0107998847961426, 2.0322000980377197, 1.9499000310897827, 2.0253000259399414, 1.6986000537872314, 1.9143999814987183, 1.998900055885315, 1.2978999614715576, 1.6396000385284424, 1.2045999765396118, 0.5320000052452087, 0.604200005531311, 1.5710999965667725, 1.4946999549865723, 0.2700999975204468, 0.18250000476837158, 0.63919997215271, 0.23749999701976776, 0.5196999907493591, 0.13339999318122864, 0.49540001153945923, 0.4564000070095062, 0.17059999704360962, 0.41499999165534973, 0.23659999668598175, 0.4894999861717224, 0.17829999327659607, 0.39590001106262207, 0.12720000743865967, 0.16840000450611115, -0.04899999871850014, 0.18459999561309814, 0.5231000185012817, 2.386699914932251, 2.3459999561309814, 2.317500114440918, 2.2762999534606934, 2.2597999572753906, 2.2571001052856445, 2.2523000240325928, 2.2437000274658203, 2.238300085067749, 2.22160005569458, 2.2105000019073486, 2.1963999271392822, 2.192199945449829, 2.190200090408325, 2.1891000270843506, 2.1847000122070312, 2.184299945831299, 2.166800022125244, 2.14739990234375, 2.1426000595092773, 2.135999917984009, 2.1215999126434326, 2.111999988555908, 2.1113998889923096, 2.109299898147583, 2.100100040435791, 2.094399929046631, 2.0929999351501465, 2.0894999504089355, 2.085400104522705, 2.0552000999450684, 2.0320000648498535, 1.9074000120162964, 1.9601999521255493, 1.989400029182434, 1.8569999933242798, 1.719099998474121, 1.9464000463485718, 1.6715999841690063, 1.7735999822616577, 1.340999960899353, 1.3350000381469727, 1.7561999559402466, 1.4110000133514404, 1.50600004196167, 0.8245000243186951, 1.4558000564575195, 1.3587000370025635, 1.0892000198364258, 1.4378999471664429, 0.6033999919891357, 0.1662999987602234, 0.33219999074935913, 0.1679999977350235, 0.17239999771118164, 0.3271999955177307, 0.48489999771118164, 0.20190000534057617, 0.30140000581741333, 0.3179999887943268, 0.8102999925613403, 0.385699987411499, 0.8744000196456909, 0.263700008392334, 0.33559998869895935, -0.2865999937057495, 0.07670000195503235, -0.1949000060558319, 0.3068000078201294, 0.24199999868869781, -0.09220000356435776, -0.26750001311302185, -0.38749998807907104, 0.28870001435279846, 0.3050000071525574, -0.00430000014603138, 0.3610000014305115, 2.5813000202178955, 2.5592000484466553, 2.5527000427246094, 2.5109000205993652, 2.5104000568389893, 2.468899965286255, 2.4579999446868896, 2.447499990463257, 2.4144999980926514, 2.4131999015808105, 2.394399881362915, 2.391200065612793, 2.3901000022888184, 2.3879001140594482, 2.375999927520752, 2.3757998943328857, 2.371500015258789, 2.350100040435791, 2.3389999866485596, 2.330399990081787, 2.327199935913086, 2.316699981689453, 2.304500102996826, 2.302799940109253, 2.2899999618530273, 2.2813000679016113, 2.2762999534606934, 2.2701001167297363, 2.2648000717163086, 2.263400077819824, 2.2564001083374023, 2.241300106048584, 2.2558999061584473, 2.1198999881744385, 2.177000045776367, 1.9329999685287476, 2.1428000926971436, 1.94159996509552, 1.6857000589370728, 2.0945000648498535, 0.8403000235557556, 1.4749000072479248, 1.4387999773025513, 1.3598999977111816, 1.5891000032424927, 1.2099000215530396, 1.347499966621399, 0.906499981880188, 0.12070000171661377, 0.7347000241279602, 1.082900047302246, 1.6117000579833984, 1.198799967765808, 0.9291999936103821, 0.38530001044273376, 0.30649998784065247, 0.8795999884605408, 0.23559999465942383, 0.5450000166893005, 0.9778000116348267, 0.06700000166893005, 0.48820000886917114, 0.6241000294685364, -0.062300000339746475, 0.34709998965263367, 0.20990000665187836, 0.39660000801086426, -0.04479999840259552, -0.03310000151395798, 0.3529999852180481, -0.2962000072002411, -0.0019000000320374966, 0.33239999413490295, 0.06459999829530716, -0.1671999990940094, 0.03460000082850456, 0.21729999780654907, 0.15970000624656677, -0.7217000126838684, -0.3068000078201294, 2.7448999881744385, 2.7298998832702637, 2.672300100326538, 2.5701000690460205, 2.5524001121520996, 2.526400089263916, 2.517899990081787, 2.487600088119507, 2.4307000637054443, 2.423099994659424, 2.400099992752075, 2.385699987411499, 2.3852999210357666, 2.3821001052856445, 2.370800018310547, 2.3561999797821045, 2.3371999263763428, 2.334399938583374, 2.331700086593628, 2.315000057220459, 2.305299997329712, 2.2923998832702637, 2.2920000553131104, 2.285799980163574, 2.28439998626709, 2.280400037765503, 2.276900053024292, 2.2753000259399414, 2.2748000621795654, 2.2706000804901123, 2.2409000396728516, 2.269700050354004, 2.2448999881744385, 2.15120005607605, 2.236599922180176, 1.993899941444397, 1.795799970626831, 1.8178999423980713, 2.0943000316619873, 1.7338000535964966, 1.92739999294281, 1.5224000215530396, 1.8794000148773193, 1.3552000522613525, 1.125, 1.8207000494003296, 1.1237000226974487, 1.2625999450683594, 1.4431999921798706, 0.7817999720573425, 0.7490000128746033, 1.490399956703186, 0.9563999772071838, 1.0115000009536743, 0.7613000273704529, 0.5389999747276306, 0.4803999960422516, 0.7189000248908997, 0.2815000116825104, 0.4641000032424927, 0.5843999981880188, 0.7092000246047974, 0.43369999527931213, 0.6729999780654907, -0.2590000033378601, -0.10130000114440918, 0.030400000512599945, -0.12919999659061432, -0.04899999871850014, -0.2484000027179718, 0.04360000044107437, 0.4575999975204468, 0.23240000009536743, 0.36250001192092896, 0.04670000076293945, 2.9293999671936035, 2.88070011138916, 2.8661000728607178, 2.8457999229431152, 2.8361001014709473, 2.8087000846862793, 2.7941999435424805, 2.785799980163574, 2.761399984359741, 2.7583000659942627, 2.757699966430664, 2.755000114440918, 2.732800006866455, 2.7316999435424805, 2.726799964904785, 2.720599889755249, 2.714099884033203, 2.7102999687194824, 2.7021000385284424, 2.697700023651123, 2.6958999633789062, 2.6923000812530518, 2.691699981689453, 2.68179988861084, 2.6779000759124756, 2.6710000038146973, 2.6614999771118164, 2.6475000381469727, 2.6458001136779785, 2.637700080871582, 2.633699893951416, 2.5617001056671143, 2.595599889755249, 2.5806000232696533, 2.5292000770568848, 2.52810001373291, 2.571500062942505, 2.3403000831604004, 2.4732000827789307, 2.536400079727173, 2.5201001167297363, 2.43530011177063, 2.327699899673462, 2.3684000968933105, 2.372499942779541, 2.226799964904785, 2.1819000244140625, 2.1422998905181885, 1.960800051689148, 1.5256999731063843, 2.0348000526428223, 0.3377000093460083, 0.20810000598430634, 0.6323999762535095, -0.04490000009536743, 0.013199999928474426, 0.31709998846054077, 0.7099000215530396, 0.17990000545978546, -0.4106999933719635, -0.10320000350475311, -0.4959000051021576, -0.5602999925613403, 0.4481000006198883, 2.8580000400543213, 2.8187999725341797, 2.8008999824523926, 2.716099977493286, 2.709700107574463, 2.704900026321411, 2.702199935913086, 2.66129994392395, 2.658799886703491, 2.6526999473571777, 2.610599994659424, 2.6103999614715576, 2.6050000190734863, 2.598599910736084, 2.58870005607605, 2.5810000896453857, 2.5768001079559326, 2.557300090789795, 2.545099973678589, 2.5443999767303467, 2.5434999465942383, 2.513200044631958, 2.488300085067749, 2.4681999683380127, 2.460700035095215, 2.4605000019073486, 2.45770001411438, 2.4446001052856445, 2.4303998947143555, 2.4302000999450684, 2.424099922180176, 2.4159998893737793, 2.3645999431610107, 2.4103000164031982, 2.3503000736236572, 2.2523999214172363, 2.1582000255584717, 2.144700050354004, 2.1391000747680664, 1.438599944114685, 1.7211999893188477, 1.7316999435424805, 1.3451999425888062, 1.6734000444412231, 1.788100004196167, 1.7666000127792358, 1.9557000398635864, 1.4880000352859497, 0.858299970626831, 1.7639000415802002, 1.416100025177002, 0.055799998342990875, 0.14560000598430634, 0.31130000948905945, 0.79339998960495, 0.2134999930858612, 0.15870000422000885, 1.131700038909912, 0.49140000343322754, 0.37929999828338623, 0.5789999961853027, 1.2732000350952148, 0.8835999965667725, 0.35830000042915344, 0.5386999845504761, 0.17949999868869781, 0.36000001430511475, 0.3133000135421753, -0.14820000529289246, 0.42489999532699585, 0.21889999508857727, 0.060499999672174454, 0.5916000008583069, -0.25839999318122864, 0.19789999723434448, 0.3695000112056732, 0.391400009393692, 0.17149999737739563, -0.5604000091552734, 0.3882000148296356, 0.01720000058412552, -0.04969999939203262, -0.6538000106811523, 3.299799919128418, 3.2070999145507812, 3.0309998989105225, 2.9391000270843506, 2.879300117492676, 2.848099946975708, 2.795799970626831, 2.7820000648498535, 2.759700059890747, 2.7455999851226807, 2.740299940109253, 2.737299919128418, 2.7297000885009766, 2.7295000553131104, 2.717600107192993, 2.7079999446868896, 2.685800075531006, 2.6772000789642334, 2.6514999866485596, 2.6433000564575195, 2.6391000747680664, 2.6191000938415527, 2.6101999282836914, 2.5969998836517334, 2.5966999530792236, 2.5871999263763428, 2.5831000804901123, 2.5722999572753906, 2.5599000453948975, 2.553299903869629, 2.5290000438690186, 2.3115999698638916, 2.4235000610351562, 1.9891999959945679, 2.2922000885009766, 2.445199966430664, 1.9414000511169434, 2.4962000846862793, 2.2855000495910645, 1.8492000102996826, 2.083400011062622, 1.1151000261306763, 2.0195000171661377, 2.3076000213623047, 1.2529000043869019, 0.7524999976158142, 1.1920000314712524, 1.7687000036239624, 0.21860000491142273, 1.0514999628067017, 0.6297000050544739, 0.10369999706745148, 0.11429999768733978, 0.01080000028014183, 0.3716000020503998, 0.2727000117301941, 0.07280000299215317, 0.30649998784065247, 0.6712999939918518, 0.9699000120162964, 0.5856999754905701, -0.1673000007867813, -0.17589999735355377, -0.10379999876022339, 0.2833000123500824, 0.19509999454021454, 0.5167999863624573, 0.25699999928474426, 0.21050000190734863, 0.16300000250339508, 0.3718999922275543, -0.14640000462532043, 0.2240000069141388, 0.14390000700950623, 3.5211000442504883, 3.43969988822937, 3.316499948501587, 3.2651000022888184, 3.190700054168701, 3.1858999729156494, 3.0541000366210938, 3.019700050354004, 2.9639999866485596, 2.96370005607605, 2.9435999393463135, 2.907099962234497, 2.862600088119507, 2.850800037384033, 2.845400094985962, 2.7955000400543213, 2.791800022125244, 2.7683000564575195, 2.7588999271392822, 2.7493999004364014, 2.713099956512451, 2.7083001136779785, 2.693000078201294, 2.6744000911712646, 2.649899959564209, 2.642899990081787, 2.641400098800659, 2.624799966812134, 2.6184000968933105, 2.59060001373291, 2.58489990234375, 2.530100107192993, 2.448499917984009, 2.2188000679016113, 2.341099977493286, 1.8234000205993652, 1.618399977684021, 1.3314000368118286, 2.2634999752044678, 0.9251000285148621, 0.941100001335144, 0.7350999712944031, 2.1958000659942627, 0.7562000155448914, 1.6583000421524048, 0.2872999906539917, 0.46070000529289246, 0.15929999947547913, 0.4514000117778778, 0.10819999873638153, 0.9333999752998352, 1.0010000467300415, 0.3296999931335449, 0.5810999870300293, 0.4124000072479248, 0.4699999988079071, -0.1736000031232834, 0.5856999754905701, 0.5066999793052673, -0.09690000116825104, 0.05730000138282776, 0.48910000920295715, 0.11860000342130661, 0.0892999991774559, -0.09350000321865082, 0.34459999203681946, 0.25209999084472656, 0.25369998812675476, -0.3538999855518341, -0.44519999623298645, 0.23999999463558197, 3.807800054550171, 3.727099895477295, 3.5415000915527344, 3.4797000885009766, 3.3966000080108643, 3.365499973297119, 3.233299970626831, 3.226599931716919, 3.224100112915039, 3.2172999382019043, 3.205899953842163, 3.2026000022888184, 3.180000066757202, 3.153599977493286, 3.143199920654297, 3.1243999004364014, 3.1182000637054443, 3.109100103378296, 3.1089000701904297, 3.1031999588012695, 3.0954999923706055, 3.0922999382019043, 3.0868000984191895, 3.0761001110076904, 3.075000047683716, 3.0578999519348145, 3.047300100326538, 3.030400037765503, 3.0202999114990234, 3.0072999000549316, 2.9904000759124756, 2.966900110244751, 2.9714999198913574, 2.8401999473571777, 2.7748000621795654, 2.86680006980896, 2.9260001182556152, 1.8308000564575195, 1.9996000528335571, 2.9316999912261963, 2.356800079345703, 1.6764999628067017, 1.9816999435424805, 1.3243000507354736, 1.5187000036239624, 1.5306999683380127, 1.7288000583648682, 1.113700032234192, 1.2374000549316406, 1.3603999614715576, 2.3801000118255615, 1.6518000364303589, 0.7818999886512756, 0.0017000000225380063, 1.2075999975204468, 0.30559998750686646, 1.0654000043869019, 0.04809999838471413, 1.0, 0.23720000684261322, -0.07490000128746033, 0.3815000057220459, -0.14409999549388885, 1.2898999452590942, -0.18700000643730164, 0.18140000104904175, -0.40389999747276306, 0.40610000491142273, -0.2004999965429306, 0.29019999504089355, -0.1940000057220459, 0.1867000013589859, -0.64410001039505, 3.9798998832702637, 3.507999897003174, 3.5064001083374023, 3.4888999462127686, 3.437000036239624, 3.3801000118255615, 3.364300012588501, 3.3338000774383545, 3.247299909591675, 3.2416999340057373, 3.235100030899048, 3.2260000705718994, 3.2186999320983887, 3.1856000423431396, 3.182800054550171, 3.139400005340576, 3.1322999000549316, 3.1161999702453613, 3.1077001094818115, 3.1001999378204346, 3.0873000621795654, 3.0810000896453857, 3.075500011444092, 3.0694000720977783, 3.062700033187866, 3.0480000972747803, 3.044600009918213, 3.037600040435791, 3.026400089263916, 3.012200117111206, 3.001300096511841, 2.9999001026153564, 2.9860000610351562, 2.9786999225616455, 2.8208999633789062, 2.86899995803833, 2.305799961090088, 2.146899938583374, 1.0642999410629272, 1.2487000226974487, 2.0806000232696533, 1.840000033378601, 0.9609000086784363, 1.4174000024795532, 2.151900053024292, 1.4976999759674072, 2.2219998836517334, 0.23360000550746918, 0.6212000250816345, 0.7246000170707703, 0.30379998683929443, 0.9365000128746033, 0.5692999958992004, 0.5777999758720398, 1.361799955368042, 0.37700000405311584, 0.02800000086426735, 0.014499999582767487, 0.2946000099182129, 0.5317000150680542, -0.2662000060081482, 1.4666999578475952, 0.07400000095367432, -0.20319999754428864, 0.27090001106262207, 0.27129998803138733, 0.7340999841690063, 0.8873000144958496, -0.15049999952316284, 0.07199999690055847, -0.1695999950170517, -0.04580000042915344, 0.043699998408555984, 0.1460999995470047, 0.5638999938964844, 0.26750001311302185, -0.0284000001847744, 4.281799793243408, 4.084099769592285, 3.949899911880493, 3.94320011138916, 3.8232998847961426, 3.794300079345703, 3.7627999782562256, 3.706899881362915, 3.6979000568389893, 3.677500009536743, 3.6735000610351562, 3.658900022506714, 3.6572000980377197, 3.655100107192993, 3.6547999382019043, 3.640199899673462, 3.6394999027252197, 3.634000062942505, 3.630500078201294, 3.6266000270843506, 3.620500087738037, 3.609800100326538, 3.603800058364868, 3.5975000858306885, 3.5913000106811523, 3.56850004196167, 3.5309998989105225, 3.5213000774383545, 3.5125999450683594, 3.5062999725341797, 3.401900053024292, 3.314300060272217, 3.3568999767303467, 3.0529000759124756, 3.1839001178741455, 2.9400999546051025, 3.230299949645996, 2.9077999591827393, 2.474600076675415, 3.0213000774383545, 2.62719988822937, 2.9498000144958496, 2.9047999382019043, 2.8935999870300293, 2.014400005340576, 1.71589994430542, 0.5960000157356262, 0.9932000041007996, 1.2932000160217285, 2.643399953842163, 0.7350999712944031, 0.5060999989509583, 1.0462000370025635, -0.007300000172108412, -0.03799999877810478, 0.6146000027656555, 0.3089999854564667, -0.006899999920278788, 0.4991999864578247, 0.6370999813079834, 1.3092000484466553, 0.5026999711990356, 0.97079998254776, 0.8687999844551086, 0.8677999973297119, -0.31790000200271606, 0.44670000672340393, 0.09790000319480896, 1.4800000190734863, 0.18080000579357147, -0.32010000944137573, -0.5354999899864197]}, \"token.table\": {\"Topic\": [1, 2, 6, 6, 8, 5, 10, 12, 1, 7, 12, 1, 2, 3, 4, 5, 6, 7, 8, 9, 10, 11, 12, 13, 14, 1, 3, 4, 5, 6, 7, 8, 9, 10, 11, 13, 14, 2, 9, 12, 15, 1, 2, 3, 4, 5, 6, 7, 8, 9, 10, 11, 12, 13, 14, 15, 4, 5, 6, 11, 7, 12, 3, 6, 10, 14, 9, 1, 3, 4, 5, 6, 7, 8, 11, 12, 14, 6, 14, 9, 10, 11, 6, 14, 15, 7, 1, 2, 3, 5, 7, 12, 3, 5, 11, 1, 2, 3, 4, 5, 6, 7, 8, 9, 10, 11, 12, 13, 14, 15, 3, 8, 1, 13, 1, 1, 2, 3, 4, 5, 6, 8, 10, 14, 3, 5, 10, 13, 1, 3, 5, 7, 14, 1, 8, 9, 4, 6, 5, 8, 1, 6, 9, 12, 1, 2, 3, 4, 5, 6, 7, 8, 9, 10, 11, 12, 13, 14, 1, 3, 5, 7, 10, 11, 12, 6, 14, 9, 10, 12, 13, 1, 3, 12, 9, 10, 11, 2, 4, 5, 7, 12, 13, 14, 4, 5, 9, 10, 13, 1, 2, 4, 8, 4, 5, 7, 8, 9, 10, 11, 12, 13, 14, 1, 2, 3, 4, 5, 6, 7, 8, 9, 10, 11, 12, 13, 14, 10, 13, 14, 1, 2, 3, 5, 9, 14, 5, 6, 1, 2, 3, 4, 5, 6, 7, 9, 11, 15, 1, 6, 7, 1, 2, 3, 5, 14, 3, 4, 5, 7, 8, 10, 1, 2, 3, 6, 7, 9, 10, 13, 14, 1, 2, 3, 4, 5, 6, 7, 8, 9, 10, 11, 12, 13, 14, 15, 5, 6, 7, 10, 11, 15, 1, 2, 3, 5, 14, 3, 1, 2, 3, 4, 5, 6, 7, 8, 9, 10, 11, 12, 13, 14, 15, 2, 4, 6, 8, 9, 11, 12, 13, 4, 5, 7, 8, 10, 11, 14, 7, 11, 13, 4, 7, 9, 10, 13, 1, 6, 1, 2, 3, 4, 5, 6, 7, 8, 9, 10, 11, 13, 14, 15, 3, 4, 5, 6, 7, 11, 12, 1, 1, 2, 3, 4, 5, 6, 7, 8, 9, 10, 12, 13, 14, 4, 10, 4, 7, 10, 12, 14, 5, 9, 14, 3, 5, 8, 9, 11, 13, 4, 5, 8, 9, 13, 1, 3, 10, 12, 4, 5, 7, 9, 10, 11, 13, 15, 1, 2, 3, 5, 6, 8, 10, 12, 13, 14, 8, 2, 4, 5, 6, 7, 8, 9, 10, 11, 12, 13, 14, 3, 9, 12, 14, 1, 2, 4, 5, 6, 7, 8, 9, 10, 11, 12, 14, 4, 5, 6, 7, 1, 4, 5, 6, 7, 8, 9, 10, 11, 12, 13, 2, 4, 6, 10, 7, 8, 13, 4, 5, 7, 14, 5, 10, 11, 1, 2, 3, 4, 5, 6, 7, 8, 9, 10, 11, 12, 13, 14, 2, 1, 2, 2, 4, 10, 5, 9, 10, 14, 4, 5, 4, 8, 13, 2, 4, 5, 6, 7, 11, 1, 3, 12, 14, 1, 2, 3, 4, 5, 6, 7, 8, 9, 10, 11, 12, 13, 14, 4, 5, 8, 9, 10, 11, 14, 1, 2, 3, 4, 5, 6, 7, 8, 9, 10, 11, 12, 13, 3, 8, 14, 1, 2, 3, 4, 5, 6, 7, 8, 9, 10, 11, 12, 14, 15, 1, 2, 3, 4, 5, 6, 7, 8, 9, 10, 11, 12, 13, 14, 11, 14, 1, 2, 3, 4, 5, 6, 7, 8, 9, 10, 11, 12, 13, 14, 1, 3, 4, 5, 6, 7, 9, 10, 11, 13, 15, 1, 2, 4, 14, 1, 3, 6, 10, 13, 6, 7, 10, 5, 6, 1, 2, 3, 4, 5, 6, 7, 8, 9, 10, 11, 12, 13, 14, 4, 4, 5, 10, 11, 12, 13, 3, 6, 1, 2, 2, 3, 4, 6, 7, 8, 10, 11, 12, 13, 4, 5, 9, 10, 11, 12, 14, 8, 10, 11, 14, 4, 7, 11, 13, 6, 8, 10, 12, 1, 4, 8, 7, 12, 4, 5, 2, 2, 2, 8, 10, 1, 3, 1, 2, 3, 4, 5, 6, 10, 11, 12, 13, 4, 8, 10, 1, 2, 3, 4, 5, 6, 7, 8, 9, 10, 11, 12, 13, 14, 15, 1, 5, 8, 12, 4, 5, 9, 10, 14, 2, 4, 11, 12, 1, 3, 5, 8, 11, 12, 13, 14, 15, 1, 2, 3, 4, 5, 6, 7, 8, 9, 10, 12, 14, 3, 2, 4, 7, 8, 13, 4, 10, 11, 1, 2, 3, 4, 5, 6, 7, 8, 9, 10, 11, 12, 14, 15, 7, 10, 11, 1, 3, 4, 5, 7, 15, 1, 8, 10, 14, 1, 5, 8, 13, 4, 7, 2, 5, 9, 15, 4, 5, 10, 4, 11, 13, 1, 3, 4, 5, 6, 7, 8, 12, 5, 10, 5, 6, 9, 10, 11, 12, 14, 5, 7, 3, 4, 5, 6, 7, 4, 14, 1, 3, 4, 5, 7, 8, 10, 12, 1, 4, 14, 4, 5, 7, 8, 9, 10, 11, 13, 4, 6, 7, 9, 15, 4, 5, 6, 7, 8, 9, 10, 13, 6, 12, 13, 4, 15, 5, 8, 2, 4, 5, 6, 7, 9, 10, 13, 5, 7, 8, 15, 7, 9, 1, 2, 3, 5, 1, 2, 3, 4, 5, 6, 7, 8, 9, 10, 11, 12, 13, 14, 1, 3, 6, 12, 6, 9, 12, 13, 14, 1, 2, 3, 4, 5, 6, 7, 8, 9, 10, 11, 12, 13, 14, 15, 1, 2, 3, 4, 5, 6, 7, 8, 9, 10, 11, 12, 13, 14, 15, 1, 2, 3, 4, 5, 6, 7, 8, 9, 10, 11, 12, 14, 15, 7, 8, 12, 1, 2, 3, 4, 5, 6, 7, 8, 9, 10, 11, 12, 13, 14, 15, 1, 3, 12, 4, 9, 11, 15, 7, 11, 14, 4, 6, 12, 13, 4, 5, 7, 9, 10, 11, 1, 4, 11, 12, 15, 4, 11, 14, 1, 4, 5, 6, 7, 8, 9, 10, 11, 12, 14, 1, 2, 3, 4, 6, 7, 8, 10, 12, 6, 10, 1, 3, 4, 5, 6, 8, 4, 7, 8, 9, 10, 11, 12, 1, 12, 1, 10, 11, 5, 11, 12, 13, 5, 6, 9, 15, 3, 4, 13, 7, 11, 5, 8, 11, 12, 13, 9, 11, 13, 1, 12, 3, 10, 13, 5, 8, 9, 1, 4, 5, 14, 2, 3, 4, 5, 6, 9, 11, 12, 13, 14, 4, 5, 7, 9, 13, 1, 2, 1, 2, 3, 4, 5, 6, 7, 8, 9, 10, 11, 12, 13, 14, 15, 1, 2, 3, 4, 5, 6, 7, 8, 9, 10, 11, 12, 14, 4, 5, 6, 9, 10, 11, 12, 14, 1, 5, 12, 2, 4, 5, 7, 8, 9, 10, 11, 12, 13, 14, 6, 7, 14, 5, 10, 13, 14, 4, 5, 6, 7, 9, 10, 11, 12, 13, 14, 3, 4, 6, 12, 1, 3, 4, 6, 7, 8, 10, 12, 13, 4, 4, 10, 7, 10, 1, 3, 6, 10, 12, 14, 1, 2, 3, 4, 5, 8, 13, 14, 1, 2, 14, 2, 4, 5, 8, 9, 10, 11, 12, 13, 14, 15, 1, 2, 4, 12, 14, 3, 5, 6, 13, 7, 11, 6, 11, 13, 1, 2, 3, 5, 12, 1, 2, 3, 4, 5, 6, 7, 8, 9, 10, 11, 12, 1, 2, 4, 5, 6, 7, 8, 9, 10, 11, 12, 13, 14, 15, 1, 12, 2, 1, 2, 4, 5, 6, 7, 8, 10, 15, 3, 4, 12, 13, 2, 7, 8, 10, 15, 4, 5, 6, 7, 8, 9, 10, 11, 14, 4, 8, 9, 11, 4, 5, 8, 9, 10, 11, 14, 4, 9, 11, 4, 6, 9, 13, 4, 6, 9, 11, 1, 2, 3, 4, 5, 6, 7, 8, 9, 10, 11, 12, 13, 14, 6, 9, 12, 15, 1, 3, 4, 5, 6, 8, 9, 10, 11, 14, 10, 12, 1, 7, 12, 9, 10, 11, 12, 15, 2, 1, 2, 3, 4, 5, 6, 7, 9, 10, 1, 2, 3, 4, 5, 6, 7, 8, 9, 10, 11, 12, 13, 14, 15, 1, 2, 3, 4, 5, 6, 7, 8, 9, 10, 11, 12, 13, 14, 15, 4, 5, 6, 7, 8, 9, 10, 13, 14, 11, 13, 14, 1, 2, 3, 4, 5, 6, 7, 8, 9, 10, 11, 12, 13, 14, 15, 5, 8, 10, 13, 15, 1, 2, 4, 5, 6, 7, 8, 9, 10, 11, 12, 13, 14, 15, 4, 9, 14, 1, 2, 4, 5, 6, 7, 8, 10, 11, 12, 1, 2, 3, 4, 5, 6, 7, 8, 10, 11, 12, 13, 14, 1, 3, 12, 4, 5, 7, 8, 9, 10, 11, 12, 13, 1, 2, 3, 4, 5, 6, 7, 8, 9, 10, 11, 12, 13, 14, 15, 7, 8, 11, 13, 1, 2, 3, 4, 5, 6, 7, 8, 10, 11, 12, 13, 14, 5, 6, 10, 12, 13, 15, 8, 12, 1, 8, 12, 13, 4, 7, 1, 2, 3, 4, 5, 6, 7, 8, 9, 10, 11, 13, 14, 1, 2, 3, 4, 5, 6, 7, 8, 9, 10, 11, 12, 13, 14, 15, 1, 2, 3, 4, 5, 6, 7, 8, 9, 10, 11, 12, 13, 14, 15, 1, 2, 3, 4, 5, 6, 7, 8, 9, 10, 11, 12, 13, 14, 15, 9, 11, 1, 3, 12, 4, 13, 15, 2, 4, 6, 7, 8, 10, 11, 12, 13, 14, 11, 14, 1, 3, 4, 5, 6, 7, 8, 9, 10, 11, 13, 14, 1, 2, 3, 4, 5, 6, 7, 8, 9, 10, 11, 12, 13, 14, 1, 2, 4, 5, 6, 7, 9, 10, 11, 14, 15, 4, 5, 7, 8, 9, 10, 13, 14, 15, 4, 8, 4, 11, 5, 8, 5, 8, 12, 2, 1, 3, 1, 6, 9, 12, 4, 5, 8, 9, 10, 11, 14, 15, 1, 8, 4, 6, 7, 8, 1, 2, 4, 5, 6, 8, 10, 11, 14, 1, 4, 5, 6, 7, 8, 9, 10, 11, 12, 13, 4, 6, 13, 15, 10, 11, 14, 4, 6, 9, 1, 3, 4, 5, 6, 7, 8, 8, 10, 13, 5, 9, 14, 4, 1, 2, 5, 11, 1, 3, 5, 6, 7, 8, 4, 5, 7, 8, 9, 10, 11, 12, 13, 4, 5, 7, 8, 9, 10, 11, 12, 13, 4, 5, 1, 4, 5, 6, 8, 9, 10, 13, 9, 10, 1, 2, 3, 4, 5, 6, 7, 8, 9, 10, 11, 12, 13, 14, 15, 1, 2, 4, 5, 6, 7, 10, 11, 13, 1, 2, 3, 4, 5, 6, 7, 8, 9, 10, 11, 12, 13, 14, 15, 1, 2, 3, 4, 5, 6, 7, 8, 9, 10, 11, 12, 13, 14, 1, 3, 2, 4, 5, 7, 10, 11, 12, 13, 14, 7, 11, 1, 5, 6, 7, 8, 14, 1, 5, 6, 7, 1, 4, 6, 9, 12, 1, 2, 3, 4, 5, 6, 7, 8, 9, 10, 11, 12, 13, 14, 15, 9, 5, 7, 11, 4, 1, 2, 3, 4, 5, 6, 7, 8, 9, 10, 11, 12, 13, 14, 15, 1, 2, 3, 4, 5, 6, 7, 8, 9, 10, 11, 12, 13, 14, 15, 1, 2, 3, 4, 5, 6, 7, 8, 9, 10, 11, 12, 13, 14, 15, 4, 5, 10, 11, 1, 2, 3, 4, 5, 6, 7, 8, 9, 10, 11, 12, 13, 14, 15, 2, 4, 5, 8, 4, 6, 15, 1, 2, 3, 4, 5, 6, 7, 8, 9, 10, 11, 12, 14, 6, 8, 1, 2, 4, 5, 7, 9, 10, 14, 2, 5, 12, 1, 2, 2, 10, 11, 3, 11, 1, 2, 3, 4, 5, 6, 7, 8, 9, 10, 11, 12, 13, 14, 15, 2, 4, 8, 1, 2, 3, 4, 5, 6, 7, 8, 9, 10, 11, 12, 13, 14, 15, 2, 7, 1, 2, 3, 4, 5, 6, 7, 8, 9, 10, 11, 12, 13, 14, 15, 1, 2, 3, 4, 5, 6, 7, 8, 9, 10, 11, 12, 13, 14, 15, 3, 4, 5, 6, 7, 8, 9, 10, 11, 14, 4, 6, 10, 13, 4, 6, 7, 8, 1, 3, 3, 5, 6, 7, 9, 12, 15, 1, 2, 3, 4, 5, 6, 7, 8, 9, 10, 11, 12, 13, 14, 15, 1, 2, 1, 2, 3, 5, 8, 9, 10, 14, 1, 4, 5, 6, 7, 8, 9, 11, 12, 14, 4, 6, 9, 10, 1, 2, 3, 4, 5, 6, 7, 8, 9, 10, 11, 12, 13, 14, 15, 1, 7, 12, 3, 4, 5, 6, 9, 10, 13, 1, 2, 3, 4, 5, 6, 7, 8, 9, 10, 11, 12, 13, 14, 15, 1, 2, 3, 4, 5, 6, 7, 8, 9, 10, 11, 12, 13, 14, 15, 4, 5, 6, 7, 1, 3, 1, 2, 3, 5, 8, 9, 10, 7, 8, 9, 10, 11, 13, 14, 1, 4, 5, 11, 15, 1, 1, 1, 3, 4, 5, 11, 12, 3, 5, 6, 8, 1, 6, 12, 1, 2, 3, 5, 6, 11, 15, 4, 5, 6, 12, 13, 15, 2, 4, 10, 14, 4, 5, 2, 5, 8, 14, 1, 2, 4, 10, 11, 1, 5, 9, 12, 14, 9, 10, 14, 7, 12, 1, 2, 14, 5, 11, 4, 6, 7, 7, 9, 1, 2, 3, 4, 5, 6, 7, 8, 10, 11, 13, 14, 15, 4, 6, 7, 8, 11, 15, 4, 4, 5, 8, 9, 10, 11, 12, 14, 1, 2, 3, 4, 5, 9, 10, 11, 14, 15, 3, 1, 3, 10, 12, 4, 1, 2, 3, 4, 5, 6, 7, 8, 9, 10, 11, 12, 13, 14, 4, 8, 13, 4, 9, 2, 4, 9, 14, 3, 4, 10, 14, 15, 5, 7, 1, 3, 14, 1, 2, 3, 4, 5, 6, 7, 8, 9, 10, 11, 12, 13, 14, 15, 1, 2, 1, 2, 3, 4, 5, 6, 7, 8, 9, 10, 11, 12, 13, 14, 15, 2, 3, 4, 5, 8, 9, 10, 11, 12, 13, 14, 1, 4, 5, 6, 7, 1, 2, 3, 4, 5, 6, 7, 8, 9, 10, 11, 12, 13, 14, 15, 1, 3, 5, 2, 4, 6, 7, 9, 10, 11, 13, 14, 1, 2, 3, 4, 5, 6, 7, 8, 9, 10, 11, 12, 13, 14, 15, 1, 7, 12, 15, 1, 2, 3, 4, 5, 6, 7, 8, 9, 10, 11, 12, 13, 2, 4, 5, 6, 7, 8, 9, 10, 11, 12, 14, 1, 2, 3, 4, 5, 6, 7, 8, 9, 10, 11, 12, 13, 14, 7, 9, 10, 11, 14, 1, 2, 3, 4, 5, 6, 7, 8, 9, 10, 11, 12, 13, 14, 7, 9, 11, 12, 1, 2, 3, 4, 5, 6, 7, 8, 9, 10, 11, 12, 13, 14, 15, 1, 2, 3, 4, 5, 6, 7, 8, 9, 10, 11, 12, 13, 14, 1, 2, 3, 4, 5, 6, 7, 8, 9, 10, 11, 12, 13, 14, 15, 1, 2, 3, 4, 5, 6, 7, 8, 9, 10, 11, 12, 13, 14, 15, 4, 7, 13, 1, 2, 3, 4, 5, 6, 8, 9, 12, 13, 14, 1, 2, 3, 4, 5, 6, 7, 8, 9, 10, 11, 12, 13, 14, 15, 1, 3, 7, 4, 5, 6, 7, 8, 9, 10, 12, 13, 14, 5, 7, 12, 1, 2, 3, 4, 5, 6, 7, 8, 9, 10, 11, 12, 13, 14, 15, 1, 3, 1, 2, 3, 4, 5, 6, 7, 8, 9, 10, 11, 12, 13, 14, 15, 1, 2, 3, 4, 5, 6, 7, 8, 9, 10, 11, 12, 13, 14, 15, 1, 2, 3, 4, 5, 6, 7, 8, 9, 10, 11, 12, 13, 14, 1, 2, 3, 4, 5, 6, 7, 8, 9, 10, 12, 13, 14, 15, 3, 11, 1, 2, 3, 4, 5, 6, 7, 8, 9, 10, 11, 12, 13, 14, 15, 4, 5, 6, 7, 8, 10, 4, 3, 3, 1, 3, 4, 5, 7, 9, 10, 11, 12, 13, 14, 15, 4, 10, 11, 6, 10, 11, 15, 1, 3, 5, 4, 12, 13, 1, 2, 3, 4, 5, 6, 7, 8, 9, 10, 11, 12, 13, 2, 4, 5, 6, 7, 8, 9, 10, 11, 12, 14, 15, 4, 5, 6, 7, 8, 9, 10, 11, 14, 1, 10, 8, 10, 13, 7, 13, 1, 3, 4, 5, 7, 10, 11, 13, 1, 2, 3, 4, 5, 6, 7, 8, 9, 10, 11, 12, 13, 14, 15, 4, 11, 2, 1, 3, 12, 6, 7, 8, 3, 4, 1, 3, 6, 10, 12, 14, 4, 10, 14, 15, 5, 6, 7, 8, 1, 3, 4, 5, 6, 7, 8, 12, 13, 14, 4, 6, 8, 4, 6, 7, 8, 9, 11, 2, 10, 11, 13, 4, 6, 1, 3, 9, 10, 1, 3, 12, 1, 2, 3, 4, 7, 1, 2, 3, 4, 5, 6, 7, 8, 9, 10, 11, 12, 13, 14, 15, 5, 6, 11, 1, 2, 3, 4, 5, 6, 7, 8, 9, 10, 11, 12, 13, 14, 15, 4, 5, 7, 4, 4, 5, 8, 9, 10, 11, 14, 1, 2, 3, 4, 5, 6, 7, 8, 9, 10, 11, 12, 13, 14, 15, 5, 9, 14, 4, 4, 5, 6, 7, 8, 9, 10, 11, 12, 13, 15, 4, 5, 6, 7, 8, 10, 11, 12, 13, 14, 2, 4, 5, 6, 7, 8, 9, 10, 11, 15, 4, 6, 8, 9, 5, 11, 1, 2, 3, 4, 5, 6, 7, 8, 9, 10, 11, 12, 13, 14, 15, 1, 3, 4, 6, 7, 8, 12, 1, 2, 3, 4, 5, 6, 7, 8, 9, 10, 11, 12, 13, 14, 15, 1, 2, 3, 5, 11, 4, 9, 10, 13, 8, 9, 6, 7, 9, 10, 15, 7, 8, 10, 5, 7, 10, 13, 4, 7, 8, 9, 10, 11, 12, 13, 15, 1, 2, 3, 4, 5, 6, 7, 8, 9, 10, 11, 12, 13, 14, 15, 7, 9, 15, 1, 3, 1, 2, 3, 4, 5, 6, 7, 8, 9, 10, 11, 12, 13, 14, 1, 2, 3, 4, 5, 6, 7, 8, 9, 10, 11, 12, 13, 14, 15, 1, 12, 4, 6, 4, 5, 6, 9, 10, 11, 12, 14, 1, 1, 2, 3, 4, 5, 6, 7, 8, 9, 10, 11, 12, 13, 14, 1, 2, 3, 4, 5, 6, 7, 8, 9, 10, 11, 12, 13, 15, 5, 6, 14, 1, 6, 5, 13, 1, 2, 3, 4, 5, 6, 7, 8, 9, 10, 11, 12, 13, 14, 15, 1, 2, 3, 4, 5, 6, 7, 8, 9, 10, 11, 12, 14, 1, 9, 15, 1, 1, 3, 11, 13, 9, 11, 1, 3, 10, 1, 3, 1, 2, 3, 4, 5, 6, 7, 10, 14, 15, 4, 5, 8, 9, 10, 11, 12, 14, 7, 13, 6, 12, 2, 4, 5, 6, 7, 8, 9, 10, 11, 12, 13, 14, 15, 4, 5, 7, 10, 13, 14, 1, 4, 5, 6, 7, 8, 9, 10, 11, 13, 7, 8, 2, 4, 5, 8, 10, 11, 14, 1, 2, 14, 7, 9, 13, 1, 6, 10, 9, 15, 5, 6, 8, 11, 1, 3, 1, 2, 4, 5, 6, 7, 8, 11, 13, 4, 5, 8, 9, 11, 4, 6, 8, 9, 10, 11, 13, 14, 6, 8, 1, 2, 3, 4, 5, 6, 7, 8, 9, 10, 11, 12, 13, 14, 11, 12, 13, 6, 11, 5, 7, 10, 13, 4, 6, 7, 8, 1, 6, 5, 7, 10, 4, 8, 9, 13, 5, 9, 11, 13, 14, 1, 5, 6, 13, 14, 7, 3, 4, 5, 6, 10, 11, 1, 5, 6, 7, 8, 14, 4, 5, 1, 1, 2, 3, 4, 5, 6, 7, 8, 9, 10, 11, 12, 13, 14, 3, 6, 7, 14, 4, 5, 6, 7, 8, 9, 10, 11, 15, 4, 5, 6, 7, 8, 9, 10, 11, 12, 13, 14, 15, 4, 7, 8, 9, 10, 14, 4, 5, 8, 9, 10, 11, 14, 4, 6, 7, 11, 12, 13, 14, 7, 8, 10, 4, 8, 12, 1, 2, 1, 2, 3, 4, 5, 6, 7, 8, 9, 10, 11, 12, 14, 1, 3, 4, 5, 6, 7, 8, 9, 10, 11, 13, 14, 6, 10, 11, 12, 15, 7, 8, 10, 12, 15, 1, 3, 4, 6, 1, 5, 11, 4, 5, 6, 7, 8, 10, 13, 9, 11, 3, 6, 7, 8, 1, 3, 4, 6, 7, 8, 15, 4, 7, 10, 14, 1, 12, 14, 1, 2, 3, 4, 5, 6, 7, 8, 9, 10, 11, 12, 14, 15, 4, 4, 6, 8, 9, 11, 4, 6, 10, 11, 7, 1, 4, 13, 2, 4, 8, 13, 14, 4, 5, 6, 7, 8, 13, 14, 1, 2, 3, 4, 5, 6, 7, 8, 10, 11, 12, 13, 5, 9, 10, 1, 2, 3, 4, 5, 4, 5, 6, 7, 8, 9, 10, 11, 12, 13, 14, 15, 4, 7, 8, 9, 10, 1, 2, 3, 4, 5, 6, 7, 8, 9, 10, 11, 12, 13, 14, 15, 4, 5, 9, 11, 12, 14, 1, 3, 1, 2, 3, 4, 5, 6, 7, 8, 9, 10, 11, 12, 13, 14, 5, 7, 13, 2, 5, 15, 4, 5, 6, 7, 8, 9, 10, 11, 13, 14, 15, 10, 12, 6, 8, 11, 5, 8, 9, 7, 15, 1, 11, 1, 4, 7, 9, 10, 13, 1, 11, 12, 15, 1, 2, 3, 4, 5, 6, 7, 8, 9, 10, 11, 12, 13, 14, 15, 4, 5, 6, 10, 13, 7, 10, 4, 6, 7, 8, 1, 2, 3, 4, 5, 6, 7, 8, 9, 10, 11, 12, 13, 15, 4, 5, 8, 11, 12, 13, 2, 5, 13, 4, 5, 10, 12, 6, 7, 4, 8, 10, 12, 2, 5, 2, 5, 12, 14, 1, 2, 3, 4, 5, 6, 7, 8, 9, 10, 11, 12, 13, 14, 15, 4, 11, 13, 8, 11, 12, 13, 14, 4, 1, 4, 6, 7, 1, 2, 3, 4, 5, 6, 7, 8, 10, 11, 12, 13, 14, 15, 5, 15, 1, 2, 3, 4, 5, 6, 7, 8, 9, 10, 12, 14, 1, 2, 3, 4, 5, 6, 7, 8, 11, 12, 13, 14, 7, 8, 9, 12, 4, 10, 2, 7, 9, 5, 7, 8, 10, 11, 10, 11, 13, 4, 5, 7, 9, 10, 11, 12, 13, 1, 4, 5, 6, 7, 8, 10, 11, 12, 14, 6, 8, 10, 14, 9, 13, 7, 9, 10, 14, 1, 1, 2, 3, 4, 5, 6, 7, 8, 9, 10, 11, 12, 13, 14, 15, 4, 6, 7, 10, 13, 1, 2, 3, 4, 5, 6, 7, 8, 9, 10, 11, 12, 13, 14, 5, 9, 14, 2, 4, 7, 15, 2, 4, 9, 10, 13, 5, 10, 11, 15, 5, 9, 11, 13, 15, 8, 11, 1, 3, 4, 5, 6, 7, 8, 9, 10, 12, 5, 8, 10, 2, 3, 4, 5, 6, 7, 8, 10, 11, 15, 1, 3, 12, 6, 8, 12, 1, 2, 3, 4, 5, 6, 7, 8, 9, 10, 11, 12, 13, 14, 1, 1, 7, 8, 4, 7, 8, 9, 10, 5, 7, 5, 13, 7, 10, 11, 2, 5, 8, 14, 4, 10, 12, 13, 1, 2, 3, 4, 5, 6, 7, 8, 9, 10, 11, 12, 14, 15, 1, 2, 1, 2, 1, 7, 8, 7, 8, 6, 7, 8, 4, 5, 6, 8, 9, 4, 6, 9, 10, 4, 7, 1, 2, 12, 1, 2, 3, 4, 5, 6, 7, 8, 9, 10, 11, 12, 13, 14, 15, 1, 4, 5, 6, 7, 10, 12, 14, 1, 4, 8, 14, 1, 2, 3, 4, 5, 6, 7, 8, 9, 10, 11, 12, 13, 14, 15, 1, 2, 3, 4, 5, 6, 7, 8, 9, 10, 11, 12, 13, 14, 15, 4, 5, 6, 7, 8, 10, 11, 12, 13, 14, 1, 2, 3, 4, 5, 6, 7, 8, 9, 10, 11, 12, 13, 14, 15, 4, 8, 9, 10, 11, 12, 14, 1, 2, 3, 5, 7, 8, 10, 13, 15, 1, 2, 3, 4, 5, 6, 7, 8, 9, 10, 11, 12, 13, 14, 15, 1, 2, 3, 4, 5, 6, 7, 8, 9, 10, 11, 12, 13, 14, 15, 9, 15, 3, 12, 14, 1, 2, 3, 4, 5, 6, 7, 8, 9, 10, 11, 12, 13, 14, 15, 1, 2, 3, 4, 5, 6, 7, 8, 9, 10, 11, 12, 14, 8, 10, 14, 4, 11, 13, 14, 7, 8, 4, 5, 11, 7, 10, 11, 4, 4, 7, 8, 10, 11, 13, 4, 8, 7, 10, 6, 7, 7, 8, 9, 10, 11, 12, 14, 1, 5, 6, 11, 15, 1, 1, 3, 4, 5, 6, 7, 5, 9, 11, 14, 15, 5, 14, 4, 9, 11, 13, 1, 3, 5, 6, 1, 2, 3, 5, 6, 9, 10, 1, 12, 4, 2, 6, 9, 6, 7, 10, 15, 2, 4, 7, 10, 3, 4, 5, 9, 10, 11, 12, 13, 14, 1, 2, 5, 6, 4, 6, 10, 14, 15, 4, 6, 1, 1, 2, 3, 4, 5, 6, 7, 8, 9, 10, 11, 12, 13, 14, 1, 4, 6, 9, 12, 15, 4, 5, 8, 9, 10, 11, 14, 5, 7, 1, 4, 12, 4, 5, 6, 7, 8, 9, 10, 11, 12, 13, 15, 4, 10, 14, 1, 2, 3, 4, 5, 6, 7, 8, 9, 10, 11, 12, 13, 14, 15, 5, 1, 2, 3, 4, 5, 6, 7, 8, 9, 10, 11, 12, 13, 14, 15, 1, 2, 3, 4, 5, 6, 7, 8, 9, 10, 11, 12, 13, 14, 15, 1, 2, 3, 4, 5, 6, 7, 8, 9, 10, 11, 12, 13, 14, 15, 1, 2, 14, 2, 6, 11, 12, 14, 3, 7, 11, 4, 1, 2, 3, 4, 5, 6, 7, 8, 9, 10, 11, 12, 13, 14, 1, 3, 5, 1, 2, 3, 4, 5, 6, 7, 8, 9, 10, 12, 13, 14, 1, 3, 10, 12, 14, 1, 2, 3, 4, 5, 6, 7, 8, 10, 11, 12, 13, 7, 8, 10, 1, 4, 5, 6, 7, 8, 9, 10, 14, 1, 2, 12, 14, 1, 2, 3, 4, 5, 6, 7, 8, 9, 10, 11, 12, 13, 14, 15, 1, 2, 3, 4, 5, 6, 7, 8, 9, 10, 11, 12, 13, 14, 6, 13, 1, 2, 3, 4, 5, 6, 7, 8, 9, 10, 11, 12, 13, 14, 15, 1, 2, 3, 4, 5, 6, 7, 8, 9, 10, 11, 12, 14, 5, 7, 11, 13, 2, 5, 7, 8, 12, 1, 2, 3, 4, 5, 6, 7, 8, 9, 10, 11, 12, 13, 14, 6, 7, 1, 2, 3, 4, 5, 6, 7, 8, 9, 10, 11, 12, 13, 14, 6, 9, 11, 5, 7, 9, 11, 15], \"Freq\": [0.06142808869481087, 0.8907073140144348, 0.8643670678138733, 0.770854115486145, 0.12847568094730377, 0.6478496789932251, 0.2159498929977417, 0.10797494649887085, 0.18775112926959991, 0.18775112926959991, 0.37550225853919983, 0.4634471833705902, 0.15041705965995789, 0.1341557651758194, 0.03252260759472847, 0.04471858590841293, 0.04065326228737831, 0.048783913254737854, 0.012195978313684464, 0.004065325949341059, 0.04471858590841293, 0.004065325949341059, 0.008130651898682117, 0.012195978313684464, 0.004065325949341059, 0.8510333895683289, 0.0773666724562645, 0.2548377811908722, 0.0074952286668121815, 0.4047423303127289, 0.06745705753564835, 0.03747614100575447, 0.02248568646609783, 0.06745705753564835, 0.0074952286668121815, 0.10493320226669312, 0.029980914667248726, 0.18542435765266418, 0.37084871530532837, 0.18542435765266418, 0.18542435765266418, 0.5234546065330505, 0.026552045717835426, 0.18586431443691254, 0.041724640876054764, 0.03413834422826767, 0.05310409143567085, 0.030345194041728973, 0.030345194041728973, 0.02275889553129673, 0.011379447765648365, 0.026552045717835426, 0.0037931492552161217, 0.0037931492552161217, 0.007586298510432243, 0.0037931492552161217, 0.20548807084560394, 0.6164641976356506, 0.10274403542280197, 0.051372017711400986, 0.7738503813743591, 0.15477007627487183, 0.1426837146282196, 0.2853674292564392, 0.1426837146282196, 0.2853674292564392, 0.84368497133255, 0.046928808093070984, 0.03128587082028389, 0.5162168741226196, 0.06257174164056778, 0.03128587082028389, 0.046928808093070984, 0.15642935037612915, 0.06257174164056778, 0.015642935410141945, 0.015642935410141945, 0.4915721118450165, 0.327714741230011, 0.6731617450714111, 0.16829043626785278, 0.08414521813392639, 0.7322860956192017, 0.12204768508672714, 0.12204768508672714, 0.8871455192565918, 0.05861320719122887, 0.05861320719122887, 0.11722641438245773, 0.11722641438245773, 0.5275188684463501, 0.05861320719122887, 0.8975865840911865, 0.7038042545318604, 0.1759510636329651, 0.06337995827198029, 0.08366154879331589, 0.09126714617013931, 0.12929512560367584, 0.14704151451587677, 0.12675991654396057, 0.09633754193782806, 0.11661912500858307, 0.04816877096891403, 0.025351984426379204, 0.015211191028356552, 0.03802797570824623, 0.015211191028356552, 0.002535198349505663, 0.002535198349505663, 0.17384569346904755, 0.6953827738761902, 0.5341953039169312, 0.3561301827430725, 0.8447300791740417, 0.6493068337440491, 0.17635494470596313, 0.08016134053468704, 0.008016133680939674, 0.01603226736187935, 0.01603226736187935, 0.008016133680939674, 0.024048402905464172, 0.008016133680939674, 0.15197475254535675, 0.607899010181427, 0.15197475254535675, 0.07598737627267838, 0.15920130908489227, 0.15920130908489227, 0.15920130908489227, 0.15920130908489227, 0.15920130908489227, 0.11419815570116043, 0.5709907412528992, 0.22839631140232086, 0.16983197629451752, 0.6793279051780701, 0.11622104048728943, 0.8135473132133484, 0.8423842787742615, 0.08423842489719391, 0.1914645880460739, 0.5743937492370605, 0.16359810531139374, 0.1665458232164383, 0.18423210084438324, 0.09137912839651108, 0.08695755153894424, 0.07516670227050781, 0.06337584555149078, 0.04274185001850128, 0.025055566802620888, 0.03537256270647049, 0.019160138443112373, 0.030950993299484253, 0.007369284052401781, 0.008843140676617622, 0.03761110454797745, 0.0752222090959549, 0.26327773928642273, 0.22566662728786469, 0.0752222090959549, 0.0752222090959549, 0.22566662728786469, 0.8689085841178894, 0.08689085394144058, 0.27725350856781006, 0.4620891809463501, 0.09241783618927002, 0.09241783618927002, 0.7549261450767517, 0.16901332139968872, 0.05633777007460594, 0.1380184292793274, 0.5520737171173096, 0.1380184292793274, 0.16505055129528046, 0.2888384759426117, 0.12378791719675064, 0.041262637823820114, 0.24757583439350128, 0.041262637823820114, 0.041262637823820114, 0.041411034762859344, 0.7868096828460693, 0.027607357129454613, 0.0690183937549591, 0.055214714258909225, 0.006435964722186327, 0.9847025871276855, 0.1725197583436966, 0.6900790333747864, 0.39491572976112366, 0.056416530162096024, 0.02507401444017887, 0.0313425175845623, 0.07522203773260117, 0.11283306032419205, 0.2256661206483841, 0.02507401444017887, 0.006268503610044718, 0.04387952387332916, 0.05939855799078941, 0.05026031658053398, 0.022845599800348282, 0.2787162959575653, 0.1690574288368225, 0.09595151245594025, 0.06396767497062683, 0.03655295819044113, 0.009138239547610283, 0.03655295819044113, 0.10508975386619568, 0.045691199600696564, 0.013707359321415424, 0.013707359321415424, 0.5902712345123291, 0.19675707817077637, 0.19675707817077637, 0.6009637117385864, 0.061462197452783585, 0.3004818558692932, 0.006829132791608572, 0.006829132791608572, 0.006829132791608572, 0.17169147729873657, 0.6867659091949463, 0.1769159883260727, 0.1061495989561081, 0.0707663968205452, 0.1061495989561081, 0.0353831984102726, 0.0353831984102726, 0.2830655872821808, 0.0707663968205452, 0.0353831984102726, 0.0707663968205452, 0.09299390017986298, 0.7439512014389038, 0.09299390017986298, 0.012545050121843815, 0.0031362625304609537, 0.9785138964653015, 0.0031362625304609537, 0.0031362625304609537, 0.9298118948936462, 0.11729192733764648, 0.7663072347640991, 0.0938335433602333, 0.00781946163624525, 0.00781946163624525, 0.05215596780180931, 0.20862387120723724, 0.15646789968013763, 0.05215596780180931, 0.05215596780180931, 0.15646789968013763, 0.05215596780180931, 0.05215596780180931, 0.20862387120723724, 0.18734093010425568, 0.23132531344890594, 0.1254369616508484, 0.05538775026798248, 0.0716782659292221, 0.07982352375984192, 0.04561344161629677, 0.05538775026798248, 0.022806720808148384, 0.030951978638768196, 0.04235533997416496, 0.03421008214354515, 0.008145257830619812, 0.008145257830619812, 0.0016290515195578337, 0.2819197475910187, 0.07047993689775467, 0.14095987379550934, 0.2819197475910187, 0.07047993689775467, 0.07047993689775467, 0.013237051665782928, 0.006618525832891464, 0.9696140289306641, 0.003309262916445732, 0.003309262916445732, 0.8572268486022949, 0.00557301938533783, 0.01671905815601349, 0.00557301938533783, 0.3399541974067688, 0.12817944586277008, 0.050157174468040466, 0.15604454278945923, 0.07802227139472961, 0.050157174468040466, 0.03901113569736481, 0.04458415508270264, 0.02229207754135132, 0.050157174468040466, 0.01114603877067566, 0.00557301938533783, 0.03612639382481575, 0.25288474559783936, 0.0722527876496315, 0.0722527876496315, 0.03612639382481575, 0.144505575299263, 0.144505575299263, 0.25288474559783936, 0.7522827386856079, 0.12538045644760132, 0.2057531625032425, 0.10287658125162125, 0.10287658125162125, 0.2057531625032425, 0.2057531625032425, 0.3186790943145752, 0.1593395471572876, 0.4780186712741852, 0.13586045801639557, 0.13586045801639557, 0.27172091603279114, 0.13586045801639557, 0.4075813591480255, 0.17089618742465973, 0.6835847496986389, 0.008925976231694221, 0.008925976231694221, 0.008925976231694221, 0.21422342956066132, 0.11603768914937973, 0.07140780985355377, 0.11603768914937973, 0.08925976604223251, 0.13388964533805847, 0.07140780985355377, 0.05355585739016533, 0.07140780985355377, 0.017851952463388443, 0.008925976231694221, 0.08710402995347977, 0.04355201497673988, 0.08710402995347977, 0.13065604865550995, 0.3048641085624695, 0.08710402995347977, 0.2613120973110199, 0.8456301093101501, 0.18729017674922943, 0.6431474089622498, 0.03887154534459114, 0.014135108329355717, 0.010601330548524857, 0.028270216658711433, 0.014135108329355717, 0.014135108329355717, 0.003533777082338929, 0.007067554164677858, 0.024736437946558, 0.003533777082338929, 0.007067554164677858, 0.4584900736808777, 0.4584900736808777, 0.33974990248680115, 0.06794998049736023, 0.4076998829841614, 0.06794998049736023, 0.06794998049736023, 0.14415010809898376, 0.7207505702972412, 0.07207505404949188, 0.9666381478309631, 0.2929263710975647, 0.19528424739837646, 0.09764212369918823, 0.09764212369918823, 0.2929263710975647, 0.07566332817077637, 0.07566332817077637, 0.37831664085388184, 0.15132665634155273, 0.2269899845123291, 0.8506093621253967, 0.117563895881176, 0.006915523204952478, 0.013831046409904957, 0.07316005975008011, 0.6928687691688538, 0.017214130610227585, 0.008607065305113792, 0.0903741866350174, 0.04733886197209358, 0.06455299258232117, 0.004303532652556896, 0.021730853244662285, 0.2607702314853668, 0.0651925578713417, 0.08692341297864914, 0.4346170723438263, 0.021730853244662285, 0.021730853244662285, 0.021730853244662285, 0.021730853244662285, 0.021730853244662285, 0.9070758819580078, 0.009143308736383915, 0.21029609441757202, 0.08228977769613266, 0.10057639330625534, 0.24686934053897858, 0.045716542750597, 0.10057639330625534, 0.091433085501194, 0.045716542750597, 0.01828661747276783, 0.02742992527782917, 0.01828661747276783, 0.19029109179973602, 0.19029109179973602, 0.19029109179973602, 0.38058218359947205, 0.0382903516292572, 0.05105380341410637, 0.4339573383331299, 0.025526901707053185, 0.012763450853526592, 0.12763451039791107, 0.08934415876865387, 0.0765807032585144, 0.0382903516292572, 0.05105380341410637, 0.012763450853526592, 0.025526901707053185, 0.17871885001659393, 0.23233449459075928, 0.44679710268974304, 0.1251031905412674, 0.033299367874860764, 0.16649682819843292, 0.08879830688238144, 0.11099788546562195, 0.11099788546562195, 0.2663949429988861, 0.09989809989929199, 0.055498942732810974, 0.02219957672059536, 0.02219957672059536, 0.033299367874860764, 0.9051629900932312, 0.12637117505073547, 0.631855845451355, 0.22114954888820648, 0.1384483128786087, 0.2768966257572174, 0.4153449535369873, 0.2497919499874115, 0.12489597499370575, 0.2497919499874115, 0.2497919499874115, 0.18211881816387177, 0.18211881816387177, 0.5463564991950989, 0.1271417737007141, 0.1461399644613266, 0.13737156987190247, 0.1329873651266098, 0.07891558110713959, 0.07599278539419174, 0.06868578493595123, 0.04238058999180794, 0.040919192135334015, 0.04530338943004608, 0.046764787286520004, 0.03653499111533165, 0.0073069981299340725, 0.011691196821630001, 0.9608272910118103, 0.03635623678565025, 0.9452621340751648, 0.18004900217056274, 0.18004900217056274, 0.5401470065116882, 0.3181224763393402, 0.1590612381696701, 0.1590612381696701, 0.1590612381696701, 0.2065143585205078, 0.6195430755615234, 0.1172562763094902, 0.586281418800354, 0.1172562763094902, 0.040049999952316284, 0.6808499693870544, 0.040049999952316284, 0.08009999990463257, 0.040049999952316284, 0.040049999952316284, 0.007781755644828081, 0.964937686920166, 0.007781755644828081, 0.007781755644828081, 0.05075813829898834, 0.1776534765958786, 0.10151627659797668, 0.13535502552986145, 0.11843565106391907, 0.05075813829898834, 0.10997596383094788, 0.03383875638246536, 0.02537906914949417, 0.05075813829898834, 0.06767751276493073, 0.01691937819123268, 0.00845968909561634, 0.05075813829898834, 0.05678694322705269, 0.018928982317447662, 0.037857964634895325, 0.7003723382949829, 0.037857964634895325, 0.09464490413665771, 0.037857964634895325, 0.13981665670871735, 0.05652162805199623, 0.151715949177742, 0.13386701047420502, 0.059496451169252396, 0.08032020926475525, 0.08329503238201141, 0.04164751619100571, 0.08032020926475525, 0.08032020926475525, 0.04462233558297157, 0.020823758095502853, 0.020823758095502853, 0.1894063949584961, 0.3788127899169922, 0.3788127899169922, 0.04149241745471954, 0.0533473938703537, 0.035564929246902466, 0.1066947877407074, 0.13633222877979279, 0.09483981132507324, 0.18967962265014648, 0.11854976415634155, 0.06520237028598785, 0.06520237028598785, 0.02370995283126831, 0.035564929246902466, 0.017782464623451233, 0.011854976415634155, 0.009623879566788673, 0.019247759133577347, 0.009623879566788673, 0.3753312826156616, 0.06736715137958527, 0.11548654735088348, 0.05774327367544174, 0.08661491423845291, 0.04811939597129822, 0.05774327367544174, 0.10586266964673996, 0.019247759133577347, 0.009623879566788673, 0.019247759133577347, 0.561091959476471, 0.18703065812587738, 0.25078341364860535, 0.19969789683818817, 0.06966205686330795, 0.06966205686330795, 0.06966205686330795, 0.046441368758678436, 0.05108550935983658, 0.046441368758678436, 0.02786482311785221, 0.023220684379339218, 0.08359446376562119, 0.023220684379339218, 0.013932411558926105, 0.018576547503471375, 0.09723450988531113, 0.04861725494265556, 0.24308627843856812, 0.1458517611026764, 0.09723450988531113, 0.04861725494265556, 0.04861725494265556, 0.04861725494265556, 0.04861725494265556, 0.04861725494265556, 0.04861725494265556, 0.05019178241491318, 0.2509589195251465, 0.10038356482982635, 0.6023013591766357, 0.026824982836842537, 0.9299327731132507, 0.00894166063517332, 0.01788332127034664, 0.00894166063517332, 0.4474595785140991, 0.08949191868305206, 0.35796767473220825, 0.695749044418335, 0.17393726110458374, 0.19733014702796936, 0.04082692414522171, 0.04082692414522171, 0.07825160771608353, 0.28919070959091187, 0.07144711911678314, 0.0918605849146843, 0.05103365704417229, 0.020413462072610855, 0.023815706372261047, 0.034022439271211624, 0.034022439271211624, 0.017011219635605812, 0.00680448766797781, 0.8589143753051758, 0.08865578472614288, 0.6205904483795166, 0.04432789236307144, 0.04432789236307144, 0.04432789236307144, 0.13298366963863373, 0.8192043900489807, 0.10240054875612259, 0.013038966804742813, 0.9779225587844849, 0.9228746891021729, 0.04844518005847931, 0.5328969955444336, 0.04844518005847931, 0.07266777008771896, 0.04844518005847931, 0.04844518005847931, 0.04844518005847931, 0.12111295759677887, 0.024222590029239655, 0.12516237795352936, 0.10951707512140274, 0.5162947773933411, 0.12516237795352936, 0.04693588986992836, 0.01564529724419117, 0.01564529724419117, 0.19351497292518616, 0.19351497292518616, 0.19351497292518616, 0.19351497292518616, 0.24608579277992249, 0.24608579277992249, 0.4101429879665375, 0.0820285975933075, 0.2190931737422943, 0.10954658687114716, 0.4381863474845886, 0.10954658687114716, 0.12910278141498566, 0.12910278141498566, 0.6455138921737671, 0.679851770401001, 0.1359703540802002, 0.17260108888149261, 0.6904043555259705, 0.979415237903595, 0.9290568828582764, 0.15738365054130554, 0.15738365054130554, 0.6295346021652222, 0.005645224824547768, 0.9822691082954407, 0.61468106508255, 0.09756842255592346, 0.1886322796344757, 0.02927052602171898, 0.003252280643209815, 0.00650456128641963, 0.00650456128641963, 0.01300912257283926, 0.02927052602171898, 0.01300912257283926, 0.1751464456319809, 0.7005857825279236, 0.1751464456319809, 0.06562498956918716, 0.1968749612569809, 0.16163191199302673, 0.11180553585290909, 0.09357637166976929, 0.10451386868953705, 0.06440971046686172, 0.054687488824129105, 0.01579860784113407, 0.04374999180436134, 0.023090273141860962, 0.03402777016162872, 0.009722220711410046, 0.014583330601453781, 0.004861110355705023, 0.13839292526245117, 0.27678585052490234, 0.13839292526245117, 0.4151787757873535, 0.1238275021314621, 0.041275832802057266, 0.742965042591095, 0.041275832802057266, 0.041275832802057266, 0.13688282668590546, 0.2737656533718109, 0.13688282668590546, 0.2737656533718109, 0.14777542650699615, 0.07388771325349808, 0.14777542650699615, 0.5911017060279846, 0.47446495294570923, 0.23723247647285461, 0.11861623823642731, 0.11861623823642731, 0.11861623823642731, 0.5577491521835327, 0.0832461416721344, 0.09157075732946396, 0.03329845517873764, 0.0416230708360672, 0.04994768649339676, 0.0416230708360672, 0.01664922758936882, 0.0416230708360672, 0.02497384324669838, 0.00832461379468441, 0.00832461379468441, 0.9013999104499817, 0.12003536522388458, 0.12003536522388458, 0.12003536522388458, 0.24007073044776917, 0.24007073044776917, 0.3555186986923218, 0.11850623786449432, 0.4740249514579773, 0.3264821469783783, 0.10260867327451706, 0.12126479297876358, 0.01865612156689167, 0.01865612156689167, 0.13059285283088684, 0.01865612156689167, 0.05596836656332016, 0.0466403067111969, 0.0466403067111969, 0.06529642641544342, 0.01865612156689167, 0.009328060783445835, 0.01865612156689167, 0.15728315711021423, 0.31456631422042847, 0.4718494713306427, 0.2736401855945587, 0.1824267953634262, 0.0912133976817131, 0.1824267953634262, 0.0912133976817131, 0.0912133976817131, 0.3265194892883301, 0.16325974464416504, 0.16325974464416504, 0.3265194892883301, 0.12094851583242416, 0.3628455400466919, 0.12094851583242416, 0.3628455400466919, 0.8012247681617737, 0.10015309602022171, 0.3590473234653473, 0.17952366173267365, 0.17952366173267365, 0.17952366173267365, 0.1090938001871109, 0.3272813856601715, 0.5454689860343933, 0.7259967923164368, 0.07259967923164368, 0.14519935846328735, 0.5777570605278015, 0.10832944512367249, 0.01203660573810339, 0.01203660573810339, 0.02407321147620678, 0.02407321147620678, 0.10832944512367249, 0.13240265846252441, 0.6112551093101501, 0.15281377732753754, 0.5852408409118652, 0.03442593291401863, 0.06885186582803726, 0.06885186582803726, 0.06885186582803726, 0.06885186582803726, 0.03442593291401863, 0.8480640649795532, 0.1304713934659958, 0.05192650854587555, 0.15577952563762665, 0.1038530170917511, 0.15577952563762665, 0.5192651152610779, 0.7413588166236877, 0.14827176928520203, 0.868308424949646, 0.14471806585788727, 0.2545672655105591, 0.12728363275527954, 0.06364181637763977, 0.06364181637763977, 0.38185086846351624, 0.06364181637763977, 0.15545037388801575, 0.46635109186172485, 0.3109007477760315, 0.3507564663887024, 0.1594347506761551, 0.09566085785627365, 0.03188695013523102, 0.03188695013523102, 0.09566085785627365, 0.06377390027046204, 0.1594347506761551, 0.01025698147714138, 0.2359105795621872, 0.6974747776985168, 0.03077094443142414, 0.01025698147714138, 0.24991561472415924, 0.37487342953681946, 0.1606600284576416, 0.053553346544504166, 0.01785111427307129, 0.10710669308900833, 0.01785111427307129, 0.01785111427307129, 0.6638067960739136, 0.13276135921478271, 0.13276135921478271, 0.7588282227516174, 0.1517656445503235, 0.29826152324676514, 0.5965230464935303, 0.02033226750791073, 0.5286389589309692, 0.02033226750791073, 0.12199360132217407, 0.08132907003164291, 0.08132907003164291, 0.060996800661087036, 0.08132907003164291, 0.2262105643749237, 0.33931586146354675, 0.2262105643749237, 0.11310528218746185, 0.6570557951927185, 0.13141115009784698, 0.19896149635314941, 0.00727907894179225, 0.7861405611038208, 0.004852719604969025, 0.022234812378883362, 0.00889392476528883, 0.004446962382644415, 0.3824387490749359, 0.06670443713665009, 0.031128736212849617, 0.15119671821594238, 0.08893924951553345, 0.031128736212849617, 0.04002266004681587, 0.07559835910797119, 0.022234812378883362, 0.062257472425699234, 0.004446962382644415, 0.7222404479980469, 0.20463478565216064, 0.004012446850538254, 0.06419914960861206, 0.16248998045921326, 0.16248998045921326, 0.16248998045921326, 0.16248998045921326, 0.16248998045921326, 0.14326710999011993, 0.15085741877555847, 0.14611347019672394, 0.11670102179050446, 0.0749543160200119, 0.0692615807056427, 0.06167127192020416, 0.06167127192020416, 0.04933701828122139, 0.04554186388850212, 0.034156396985054016, 0.025617297738790512, 0.01138546597212553, 0.005692732986062765, 0.0018975775456055999, 0.15403376519680023, 0.14003069698810577, 0.1225268617272377, 0.1750383824110031, 0.07001534849405289, 0.0490107461810112, 0.017503837123513222, 0.0980214923620224, 0.010502303019165993, 0.06651458144187927, 0.010502303019165993, 0.03850844129920006, 0.03850844129920006, 0.007001535035669804, 0.003500767517834902, 0.18799561262130737, 0.37599122524261475, 0.2736007571220398, 0.020142385736107826, 0.041963305324316025, 0.02182091772556305, 0.0033570644445717335, 0.0033570644445717335, 0.01174972578883171, 0.015106789767742157, 0.0050355964340269566, 0.030213579535484314, 0.00839266087859869, 0.0016785322222858667, 0.7145036458969116, 0.1190839409828186, 0.1190839409828186, 0.0551944263279438, 0.0551944263279438, 0.0275972131639719, 0.3090887665748596, 0.0883110761642456, 0.08279163390398026, 0.04967498406767845, 0.08279163390398026, 0.0772721916437149, 0.0772721916437149, 0.0551944263279438, 0.00551944226026535, 0.01655832678079605, 0.00551944226026535, 0.00551944226026535, 0.9081608057022095, 0.032434314489364624, 0.032434314489364624, 0.06380825489759445, 0.701890766620636, 0.1276165097951889, 0.06380825489759445, 0.6158301830291748, 0.1026383638381958, 0.2052767276763916, 0.5015257596969604, 0.0358232706785202, 0.1432930827140808, 0.2865861654281616, 0.08503284305334091, 0.05668855831027031, 0.028344279155135155, 0.708607017993927, 0.028344279155135155, 0.11337711662054062, 0.45106109976768494, 0.11276527494192123, 0.11276527494192123, 0.11276527494192123, 0.11276527494192123, 0.45448431372642517, 0.3976737856864929, 0.17043161392211914, 0.009726351127028465, 0.04863175377249718, 0.06808445602655411, 0.029179051518440247, 0.14589525759220123, 0.23343241214752197, 0.3696013391017914, 0.03890540450811386, 0.009726351127028465, 0.009726351127028465, 0.01945270225405693, 0.1218724250793457, 0.07312345504760742, 0.04874897003173828, 0.17062139511108398, 0.04874897003173828, 0.07312345504760742, 0.4143662452697754, 0.02437448501586914, 0.02437448501586914, 0.18543556332588196, 0.5563067197799683, 0.8548663854598999, 0.11150431632995605, 0.0402032695710659, 0.013401090167462826, 0.013401090167462826, 0.9112741351127625, 0.06530451029539108, 0.152377188205719, 0.37005889415740967, 0.152377188205719, 0.021768171340227127, 0.19591353833675385, 0.043536342680454254, 0.37474411725997925, 0.49965882301330566, 0.3108712136745453, 0.4663068354129791, 0.15543560683727264, 0.2516581416130066, 0.1258290708065033, 0.2516581416130066, 0.3774872124195099, 0.3642920255661011, 0.18214601278305054, 0.3642920255661011, 0.18214601278305054, 0.17818734049797058, 0.35637468099594116, 0.35637468099594116, 0.6076951026916504, 0.1519237756729126, 0.20705966651439667, 0.10352983325719833, 0.10352983325719833, 0.3105894923210144, 0.20705966651439667, 0.3592011332511902, 0.1796005666255951, 0.3592011332511902, 0.5434115529060364, 0.3260469436645508, 0.1871892213821411, 0.5615676641464233, 0.1871892213821411, 0.12423188239336014, 0.12423188239336014, 0.745391309261322, 0.3151697516441345, 0.15758487582206726, 0.15758487582206726, 0.3151697516441345, 0.9800350666046143, 0.08527891337871552, 0.10659864544868469, 0.2771564722061157, 0.02131972834467888, 0.04263945668935776, 0.3197959363460541, 0.08527891337871552, 0.02131972834467888, 0.02131972834467888, 0.09438414126634598, 0.519112765789032, 0.18876828253269196, 0.09438414126634598, 0.04719207063317299, 0.09817008674144745, 0.8835307955741882, 0.0378742441534996, 0.07385477423667908, 0.07764220237731934, 0.25375741720199585, 0.08332333713769913, 0.056811366230249405, 0.09657932072877884, 0.08521705120801926, 0.043555378913879395, 0.060598790645599365, 0.060598790645599365, 0.035980530083179474, 0.011362273246049881, 0.0189371220767498, 0.0018937122076749802, 0.011952421627938747, 0.1075717955827713, 0.1075717955827713, 0.29881054162979126, 0.023904843255877495, 0.011952421627938747, 0.1075717955827713, 0.023904843255877495, 0.16733390092849731, 0.023904843255877495, 0.023904843255877495, 0.011952421627938747, 0.07171452790498734, 0.566916286945343, 0.11338326334953308, 0.02834581583738327, 0.05669163167476654, 0.02834581583738327, 0.11338326334953308, 0.02834581583738327, 0.02834581583738327, 0.8662685751914978, 0.1497558355331421, 0.7487791776657104, 0.008962508291006088, 0.04033128544688225, 0.43020036816596985, 0.026887523010373116, 0.004481254145503044, 0.02240627072751522, 0.04481254145503044, 0.322650283575058, 0.02240627072751522, 0.04481254145503044, 0.02240627072751522, 0.1899024397134781, 0.3798048794269562, 0.3798048794269562, 0.2857228219509125, 0.14286141097545624, 0.2857228219509125, 0.14286141097545624, 0.1407545953989029, 0.20107799768447876, 0.12064679712057114, 0.06032339856028557, 0.08043120056390762, 0.2211858034133911, 0.06032339856028557, 0.04021560028195381, 0.020107800140976906, 0.020107800140976906, 0.36219120025634766, 0.12073040008544922, 0.12073040008544922, 0.36219120025634766, 0.5508507490158081, 0.27225956320762634, 0.006331617943942547, 0.04748713597655296, 0.06648198515176773, 0.018994852900505066, 0.0031658089719712734, 0.022160662338137627, 0.009497426450252533, 0.8342753648757935, 0.3083888292312622, 0.4625832438468933, 0.36801111698150635, 0.5520166754722595, 0.7086964249610901, 0.2189709097146988, 0.0014795331517234445, 0.005918132606893778, 0.06066086143255234, 0.0014795331517234445, 0.10656800121068954, 0.00783588271588087, 0.8729173541069031, 0.0015671765431761742, 0.0031343530863523483, 0.0015671765431761742, 0.0015671765431761742, 0.0015671765431761742, 0.055710889399051666, 0.9318912029266357, 0.005064626224339008, 0.9397172927856445, 0.16792196035385132, 0.06530298292636871, 0.018657995387911797, 0.503765881061554, 0.11194797605276108, 0.06530298292636871, 0.018657995387911797, 0.009328997693955898, 0.02798699401319027, 0.009328997693955898, 0.0780726820230484, 0.9131109714508057, 0.0011314882431179285, 0.0011314882431179285, 0.003394464496523142, 0.18023285269737244, 0.18023285269737244, 0.18023285269737244, 0.3604657053947449, 0.6590243577957153, 0.16475608944892883, 0.36269107460975647, 0.18134553730487823, 0.36269107460975647, 0.6091843247413635, 0.08580061048269272, 0.26598188281059265, 0.008580061607062817, 0.017160123214125633, 0.03182205185294151, 0.07159961760044098, 0.05568858981132507, 0.1034216657280922, 0.04773307591676712, 0.07955513149499893, 0.2704874277114868, 0.2545764148235321, 0.02386653795838356, 0.03182205185294151, 0.007955512963235378, 0.02386653795838356, 0.008898706175386906, 0.013348059728741646, 0.12458188831806183, 0.05784159153699875, 0.044493529945611954, 0.16462606191635132, 0.2714105546474457, 0.1156831830739975, 0.04894288629293442, 0.11123383045196533, 0.004449353087693453, 0.022246764972805977, 0.013348059728741646, 0.004449353087693453, 0.8676954507827759, 0.7994146943092346, 0.9538952112197876, 0.1775863766670227, 0.13318978250026703, 0.044396594166755676, 0.13318978250026703, 0.13318978250026703, 0.08879318833351135, 0.13318978250026703, 0.08879318833351135, 0.044396594166755676, 0.8575623631477356, 0.405564546585083, 0.36869505047798157, 0.14747801423072815, 0.09863916039466858, 0.09863916039466858, 0.5918349623680115, 0.09863916039466858, 0.09863916039466858, 0.11647745221853256, 0.00895980466157198, 0.00895980466157198, 0.00895980466157198, 0.10751765221357346, 0.6092666983604431, 0.08063823729753494, 0.03583921864628792, 0.01791960932314396, 0.05061023309826851, 0.15183070302009583, 0.7085432410240173, 0.025305116549134254, 0.059018831700086594, 0.011803766712546349, 0.011803766712546349, 0.5193657279014587, 0.11803766340017319, 0.20066402852535248, 0.059018831700086594, 0.14764854311943054, 0.36912137269973755, 0.442945659160614, 0.1274404525756836, 0.7646427154541016, 0.7296531200408936, 0.14593063294887543, 0.06579705327749252, 0.06579705327749252, 0.7237675786018372, 0.06579705327749252, 0.09502005577087402, 0.17144924402236938, 0.16318662464618683, 0.08469179272651672, 0.08675744384527206, 0.07642918080091476, 0.0784948319196701, 0.028919149190187454, 0.07642918080091476, 0.05577264353632927, 0.022722188383340836, 0.033050455152988434, 0.016525227576494217, 0.008262613788247108, 0.37437668442726135, 0.18718834221363068, 0.18718834221363068, 0.18718834221363068, 0.07618411630392075, 0.609472930431366, 0.015236823819577694, 0.12189459055662155, 0.09142094105482101, 0.015236823819577694, 0.030473647639155388, 0.015236823819577694, 0.015236823819577694, 0.015236823819577694, 0.39066147804260254, 0.39066147804260254, 0.18927183747291565, 0.18927183747291565, 0.3785436749458313, 0.24395570158958435, 0.24395570158958435, 0.12197785079479218, 0.12197785079479218, 0.24395570158958435, 0.9039766788482666, 0.09617386758327484, 0.6443648934364319, 0.18273034691810608, 0.009617387317121029, 0.019234774634242058, 0.009617387317121029, 0.009617387317121029, 0.019234774634242058, 0.009617387317121029, 0.04896537959575653, 0.04123400151729584, 0.023194126784801483, 0.10823925584554672, 0.1468961387872696, 0.0876222550868988, 0.13658763468265533, 0.12112488597631454, 0.09793075919151306, 0.03607975319027901, 0.051542505621910095, 0.030925503000617027, 0.04123400151729584, 0.028348376974463463, 0.00257712509483099, 0.0897192656993866, 0.05666479840874672, 0.0834231749176979, 0.20304885506629944, 0.1243477538228035, 0.09758937358856201, 0.05823881924152374, 0.09129328280687332, 0.06610893458127975, 0.05036871135234833, 0.037776533514261246, 0.018888266757130623, 0.012592177838087082, 0.006296088919043541, 0.0031480444595217705, 0.1294945776462555, 0.20918354392051697, 0.34863924980163574, 0.08965009450912476, 0.09961121529340744, 0.009961121715605259, 0.09961121529340744, 0.009961121715605259, 0.009961121715605259, 0.3820144236087799, 0.19100721180438995, 0.19100721180438995, 0.06863746792078018, 0.0363374799489975, 0.0383562296628952, 0.21802489459514618, 0.1493874192237854, 0.10901244729757309, 0.09084369987249374, 0.10699369758367538, 0.06056246906518936, 0.032299984246492386, 0.02624373696744442, 0.01816873997449875, 0.03028123453259468, 0.012112493626773357, 0.002018749015405774, 0.1620939075946808, 0.48628172278404236, 0.1620939075946808, 0.1620939075946808, 0.1620939075946808, 0.007895033806562424, 0.6421294212341309, 0.10526711493730545, 0.002631677780300379, 0.12895222008228302, 0.04210684448480606, 0.02105342224240303, 0.002631677780300379, 0.002631677780300379, 0.007895033806562424, 0.007895033806562424, 0.02368510141968727, 0.002631677780300379, 0.005263355560600758, 0.07717805355787277, 0.7717805504798889, 0.07717805355787277, 0.13628196716308594, 0.07787540555000305, 0.09734425693750381, 0.214157372713089, 0.07787540555000305, 0.05840655416250229, 0.05840655416250229, 0.214157372713089, 0.038937702775001526, 0.019468851387500763, 0.3452830910682678, 0.13240177929401398, 0.3426869511604309, 0.03115336038172245, 0.0129805663600564, 0.0519222654402256, 0.0259611327201128, 0.015576680190861225, 0.0077883400954306126, 0.0129805663600564, 0.005192226730287075, 0.015576680190861225, 0.0025961133651435375, 0.7662185430526733, 0.16566887497901917, 0.06212582439184189, 0.07106883078813553, 0.5922402739524841, 0.01184480544179678, 0.01184480544179678, 0.11844805628061295, 0.035534415394067764, 0.09475844353437424, 0.01184480544179678, 0.04737922176718712, 0.23518837988376617, 0.09062304347753525, 0.09062304347753525, 0.16829994320869446, 0.07551920413970947, 0.07767689228057861, 0.06473074853420258, 0.07336150854825974, 0.02589229866862297, 0.02373460680246353, 0.03236537426710129, 0.017261531203985214, 0.010788457468152046, 0.010788457468152046, 0.0021576914004981518, 0.18371647596359253, 0.18371647596359253, 0.18371647596359253, 0.36743295192718506, 0.2409709095954895, 0.32579267024993896, 0.1580769270658493, 0.021205440163612366, 0.10602720081806183, 0.0636163204908371, 0.019277673214673996, 0.025060975924134254, 0.021205440163612366, 0.0038555345963686705, 0.0038555345963686705, 0.0038555345963686705, 0.0038555345963686705, 0.11812092363834381, 0.11812092363834381, 0.11812092363834381, 0.3543627858161926, 0.11812092363834381, 0.11812092363834381, 0.38295361399650574, 0.38295361399650574, 0.14057207107543945, 0.14057207107543945, 0.14057207107543945, 0.42171621322631836, 0.25939270853996277, 0.6052496433258057, 0.046074122190475464, 0.030716082081198692, 0.061432164162397385, 0.19965453445911407, 0.10750628262758255, 0.1535804122686386, 0.08446922153234482, 0.08446922153234482, 0.11518530547618866, 0.007679020520299673, 0.015358041040599346, 0.0767902061343193, 0.015358041040599346, 0.2873854637145996, 0.15243923664093018, 0.05497808754444122, 0.07497011870145798, 0.09746115654706955, 0.06997211277484894, 0.05997609719634056, 0.05497808754444122, 0.017493028193712234, 0.024990040808916092, 0.05747709050774574, 0.022491035982966423, 0.0049980077892541885, 0.012495020404458046, 0.0024990038946270943, 0.44086945056915283, 0.10956519097089767, 0.15130430459976196, 0.05217389762401581, 0.05739128962159157, 0.05478259548544884, 0.020869560539722443, 0.026086948812007904, 0.015652170404791832, 0.028695644810795784, 0.015652170404791832, 0.007826085202395916, 0.010434780269861221, 0.007826085202395916, 0.0026086950674653053, 0.2779046297073364, 0.09562309831380844, 0.10608187317848206, 0.14044642448425293, 0.06125854700803757, 0.046317435801029205, 0.03884688392281532, 0.09562309831380844, 0.05229388177394867, 0.03137632831931114, 0.02390577457845211, 0.022411663085222244, 0.001494110911153257, 0.004482332617044449, 0.001494110911153257, 0.3978288471698761, 0.47739461064338684, 0.5566321015357971, 0.3942810595035553, 0.038655005395412445, 0.5532464385032654, 0.18441547453403473, 0.18441547453403473, 0.023253940045833588, 0.5348406434059143, 0.09301576018333435, 0.1627775877714157, 0.046507880091667175, 0.023253940045833588, 0.023253940045833588, 0.023253940045833588, 0.023253940045833588, 0.023253940045833588, 0.7738634943962097, 0.08598483353853226, 0.048877108842134476, 0.01955084316432476, 0.3030380606651306, 0.087978795170784, 0.09775421768426895, 0.14663133025169373, 0.03910168632864952, 0.06842795014381409, 0.15640674531459808, 0.00977542158216238, 0.01955084316432476, 0.00977542158216238, 0.11797023564577103, 0.154581680893898, 0.1057664155960083, 0.14644581079483032, 0.09356260299682617, 0.06508702784776688, 0.08542671799659729, 0.044747330248355865, 0.028475573286414146, 0.05288320779800415, 0.028475573286414146, 0.028475573286414146, 0.04881526902318001, 0.00406793924048543, 0.03445272892713547, 0.06890545785427094, 0.24116909503936768, 0.1033581793308258, 0.1033581793308258, 0.17226363718509674, 0.1033581793308258, 0.03445272892713547, 0.03445272892713547, 0.06890545785427094, 0.03445272892713547, 0.21221821010112762, 0.18190132081508636, 0.24253509938716888, 0.09095066040754318, 0.03031688742339611, 0.09095066040754318, 0.03031688742339611, 0.03031688742339611, 0.06063377484679222, 0.1724904626607895, 0.5174713730812073, 0.8399767875671387, 0.16799534857273102, 0.2983456552028656, 0.5966913104057312, 0.10453566163778305, 0.2090713232755661, 0.6272139549255371, 0.9255489110946655, 0.2280575931072235, 0.7601919770240784, 0.1378346085548401, 0.1378346085548401, 0.1378346085548401, 0.41350385546684265, 0.39239758253097534, 0.1032625213265419, 0.02065250463783741, 0.08261001855134964, 0.2065250426530838, 0.14456753432750702, 0.02065250463783741, 0.02065250463783741, 0.1734985113143921, 0.6939940452575684, 0.8570685982704163, 0.29579055309295654, 0.34798890352249146, 0.3392891585826874, 0.03281428664922714, 0.8900875449180603, 0.008203571662306786, 0.012305357493460178, 0.01640714332461357, 0.004101785831153393, 0.008203571662306786, 0.01640714332461357, 0.004101785831153393, 0.006366033107042313, 0.197347030043602, 0.08275843411684036, 0.038196198642253876, 0.28647148609161377, 0.101856529712677, 0.12732066214084625, 0.057294297963380814, 0.0509282648563385, 0.006366033107042313, 0.04456223174929619, 0.16016645729541779, 0.32033291459083557, 0.32033291459083557, 0.16016645729541779, 0.4878699779510498, 0.1626233160495758, 0.1626233160495758, 0.749569296836853, 0.12492822110652924, 0.8255884647369385, 0.5551169514656067, 0.42943012714385986, 0.11716661602258682, 0.6092664003372192, 0.07029996812343597, 0.0937332957983017, 0.11716661602258682, 0.16347168385982513, 0.16347168385982513, 0.6538867354393005, 0.31529250741004944, 0.31529250741004944, 0.31529250741004944, 0.8343743085861206, 0.8952609896659851, 0.11190762370824814, 0.06381367892026901, 0.893391489982605, 0.10141970962285995, 0.15212956070899963, 0.35496896505355835, 0.016903284937143326, 0.10141970962285995, 0.2704525589942932, 0.07337281107902527, 0.048915207386016846, 0.46469447016716003, 0.26903364062309265, 0.024457603693008423, 0.024457603693008423, 0.024457603693008423, 0.024457603693008423, 0.024457603693008423, 0.10077222436666489, 0.558827817440033, 0.01832222379744053, 0.009161111898720264, 0.15573890507221222, 0.009161111898720264, 0.0824500024318695, 0.009161111898720264, 0.06412778049707413, 0.1483134925365448, 0.7415674328804016, 0.08384054154157639, 0.04192027077078819, 0.04192027077078819, 0.08384054154157639, 0.12576082348823547, 0.08384054154157639, 0.461122989654541, 0.08384054154157639, 0.4552198648452759, 0.4552198648452759, 0.045116495341062546, 0.018046598881483078, 0.013534948229789734, 0.11730288714170456, 0.09925629198551178, 0.22558248043060303, 0.036093197762966156, 0.2120475322008133, 0.018046598881483078, 0.15339608490467072, 0.013534948229789734, 0.009023299440741539, 0.013534948229789734, 0.013534948229789734, 0.013534948229789734, 0.1803121566772461, 0.7868167161941528, 0.2753625512123108, 0.30978286266326904, 0.03442031890153885, 0.03442031890153885, 0.03442031890153885, 0.0688406378030777, 0.2753625512123108, 0.18299929797649384, 0.20078061521053314, 0.15040023624897003, 0.06001191586256027, 0.09038832038640976, 0.09038832038640976, 0.0481577105820179, 0.030376402661204338, 0.029635515064001083, 0.031858179718256, 0.036303505301475525, 0.022226635366678238, 0.012595093809068203, 0.011854205280542374, 0.0029635513201355934, 0.0667077973484993, 0.10181716084480286, 0.09830622375011444, 0.14043746888637543, 0.08426248282194138, 0.11586090922355652, 0.11586090922355652, 0.09128434956073761, 0.03862030431628227, 0.03510936722159386, 0.02457655593752861, 0.05968592315912247, 0.0070218732580542564, 0.014043746516108513, 0.10224717855453491, 0.8179774284362793, 0.00464964471757412, 0.01859857887029648, 0.7625417113304138, 0.013948933221399784, 0.1394893378019333, 0.027897866442799568, 0.00464964471757412, 0.013948933221399784, 0.00464964471757412, 0.7460581064224243, 0.2131594568490982, 0.052010659128427505, 0.052010659128427505, 0.20804263651371002, 0.15603198111057281, 0.31206396222114563, 0.20804263651371002, 0.05802261456847191, 0.05802261456847191, 0.23209045827388763, 0.6382487416267395, 0.08257495611906052, 0.24772486090660095, 0.08257495611906052, 0.16514991223812103, 0.33029982447624207, 0.22542829811573029, 0.2676207721233368, 0.16876985132694244, 0.08197392523288727, 0.044603459537029266, 0.037370465695858, 0.049425456672906876, 0.016876984387636185, 0.01808248460292816, 0.03857596591114998, 0.01928798295557499, 0.016876984387636185, 0.007232993841171265, 0.0024109978694468737, 0.0036164969205856323, 0.911907970905304, 0.0981600433588028, 0.0981600433588028, 0.6871203184127808, 0.85659259557724, 0.10182153433561325, 0.048231251537799835, 0.016077084466814995, 0.2357972413301468, 0.13933473825454712, 0.04287222400307655, 0.09646250307559967, 0.09110347926616669, 0.09646250307559967, 0.010718056000769138, 0.021436112001538277, 0.016077084466814995, 0.07502639293670654, 0.005359028000384569, 0.005359028000384569, 0.13984784483909607, 0.16713522374629974, 0.09550584107637405, 0.1347314566373825, 0.08186215162277222, 0.06480753421783447, 0.06310207396745682, 0.04945838451385498, 0.05286930501461029, 0.05286930501461029, 0.04093107581138611, 0.028992844745516777, 0.011938230134546757, 0.010232768952846527, 0.0068218461237847805, 0.011804638430476189, 0.029511595144867897, 0.053120873868465424, 0.24199508130550385, 0.08853478729724884, 0.11804638057947159, 0.21838581562042236, 0.053120873868465424, 0.01770695671439171, 0.029511595144867897, 0.053120873868465424, 0.023609276860952377, 0.03541391342878342, 0.01770695671439171, 0.005902319215238094, 0.10918395966291428, 0.473130464553833, 0.03639465197920799, 0.3639465272426605, 0.07756716012954712, 0.05776277929544449, 0.03795839846134186, 0.1353299468755722, 0.1287284791469574, 0.10727373510599136, 0.07096569985151291, 0.1303788423538208, 0.09242045134305954, 0.05281168594956398, 0.04125912860035896, 0.023105112835764885, 0.00990219134837389, 0.03300730139017105, 0.0033007303718477488, 0.04912450909614563, 0.024562254548072815, 0.04912450909614563, 0.8596789240837097, 0.5416744947433472, 0.18055815994739532, 0.18055815994739532, 0.4398770034313202, 0.11801578104496002, 0.2324553281068802, 0.025033650919795036, 0.0321861207485199, 0.0321861207485199, 0.007152471225708723, 0.03576235845685005, 0.025033650919795036, 0.03576235845685005, 0.0035762356128543615, 0.0035762356128543615, 0.0035762356128543615, 0.14861564338207245, 0.7430781722068787, 0.33520936965942383, 0.6195723414421082, 0.0037663974799215794, 0.028247980400919914, 0.0018831987399607897, 0.0018831987399607897, 0.0018831987399607897, 0.009415993466973305, 0.1158565953373909, 0.1158565953373909, 0.6951395869255066, 0.0852525532245636, 0.9012412428855896, 0.1823660135269165, 0.364732027053833, 0.1823660135269165, 0.3976801037788391, 0.5302401185035706, 0.2614371180534363, 0.16938179731369019, 0.12335413694381714, 0.132559671998024, 0.06443873047828674, 0.042345449328422546, 0.036822132766246796, 0.027616597712039948, 0.058915410190820694, 0.018411066383123398, 0.012887746095657349, 0.022093279287219048, 0.020252171903848648, 0.0036822131369262934, 0.0018411065684631467, 0.9334840178489685, 0.7798680067062378, 0.11140971630811691, 0.07874452322721481, 0.08366605639457703, 0.08858758956193924, 0.17225363850593567, 0.11565601825714111, 0.07874452322721481, 0.06151915714144707, 0.12303831428289413, 0.05413685739040375, 0.05413685739040375, 0.03937226161360741, 0.024607663974165916, 0.017225364223122597, 0.004921532701700926, 0.002460766350850463, 0.17505604028701782, 0.7002241611480713, 0.1397686004638672, 0.17832545936107635, 0.1204901710152626, 0.15904702246189117, 0.05944181978702545, 0.07711371034383774, 0.06104835495352745, 0.07068756967782974, 0.03373724967241287, 0.02570457011461258, 0.02409803494811058, 0.030524177476763725, 0.004819606896489859, 0.009639213792979717, 0.004819606896489859, 0.2522132694721222, 0.041777659207582474, 0.06498746573925018, 0.10057584196329117, 0.06808210909366608, 0.12378565222024918, 0.06344015151262283, 0.09438656270503998, 0.04951426014304161, 0.05415622517466545, 0.03713569790124893, 0.030946413055062294, 0.0046419622376561165, 0.0077366032637655735, 0.0046419622376561165, 0.01470174826681614, 0.1470174938440323, 0.16171923279762268, 0.04410524666309357, 0.45575422048568726, 0.05880699306726456, 0.02940349653363228, 0.04410524666309357, 0.02940349653363228, 0.01470174826681614, 0.20614881813526154, 0.7294496297836304, 0.015857601538300514, 0.03171520307660103, 0.05536859855055809, 0.05536859855055809, 0.11073719710111618, 0.7382479906082153, 0.12088190764188766, 0.8461733460426331, 0.18739117681980133, 0.18739117681980133, 0.09369558840990067, 0.09369558840990067, 0.09369558840990067, 0.09369558840990067, 0.09369558840990067, 0.07810860872268677, 0.05727965012192726, 0.07810860872268677, 0.30201995372772217, 0.07810860872268677, 0.06769412755966187, 0.12497378140687943, 0.05207240954041481, 0.015621722675859928, 0.06248689070343971, 0.026036204770207405, 0.020828962326049805, 0.026036204770207405, 0.005207240581512451, 0.005207240581512451, 0.10891661792993546, 0.879112720489502, 0.2355951964855194, 0.2355951964855194, 0.15706346929073334, 0.07853173464536667, 0.052354488521814346, 0.052354488521814346, 0.052354488521814346, 0.10470897704362869, 0.021941570565104485, 0.5485392808914185, 0.021941570565104485, 0.0658247098326683, 0.021941570565104485, 0.08776628226041794, 0.1316494196653366, 0.021941570565104485, 0.021941570565104485, 0.021941570565104485, 0.07721304893493652, 0.23163914680480957, 0.07721304893493652, 0.5404913425445557, 0.17555516958236694, 0.2184232920408249, 0.12452169507741928, 0.044909462332725525, 0.12860436737537384, 0.06940553337335587, 0.044909462332725525, 0.05307482182979584, 0.006124017760157585, 0.02653741091489792, 0.04286812245845795, 0.04286812245845795, 0.01224803552031517, 0.01224803552031517, 0.002041339175775647, 0.1882467120885849, 0.1882467120885849, 0.3764934241771698, 0.03191909193992615, 0.22343364357948303, 0.2553527355194092, 0.03191909193992615, 0.1276763677597046, 0.2553527355194092, 0.0638381838798523, 0.1073702722787857, 0.16105541586875916, 0.08169477432966232, 0.12137509137392044, 0.07002408802509308, 0.0653558149933815, 0.07469236105680466, 0.07469236105680466, 0.06302168220281601, 0.06302168220281601, 0.05368513613939285, 0.03501204401254654, 0.01400481816381216, 0.01400481816381216, 0.0023341362830251455, 0.2199566811323166, 0.08181315660476685, 0.1394847184419632, 0.12473152577877045, 0.0563303679227829, 0.07644835859537125, 0.09522514790296555, 0.05767156556248665, 0.0187767893075943, 0.02816518396139145, 0.03084758296608925, 0.0509655699133873, 0.006705996114760637, 0.00938839465379715, 0.0026823985390365124, 0.020440008491277695, 0.006813336163759232, 0.4292401671409607, 0.5382535457611084, 0.07827772200107574, 0.9001938104629517, 0.027555735781788826, 0.027555735781788826, 0.8542278409004211, 0.08266720920801163, 0.6216976046562195, 0.2072325348854065, 0.10361626744270325, 0.023246489465236664, 0.09298595786094666, 0.6276552677154541, 0.09298595786094666, 0.06973946839570999, 0.023246489465236664, 0.04649297893047333, 0.8444347381591797, 0.15957683324813843, 0.15957683324813843, 0.4787304997444153, 0.15957683324813843, 0.8086514472961426, 0.8833088874816895, 0.7418901324272156, 0.05495482683181763, 0.05495482683181763, 0.05495482683181763, 0.027477413415908813, 0.05495482683181763, 0.04641622677445412, 0.04641622677445412, 0.696243405342102, 0.18566490709781647, 0.13043656945228577, 0.6521828770637512, 0.13043656945228577, 0.23843763768672943, 0.05960940942168236, 0.11921881884336472, 0.2980470359325409, 0.05960940942168236, 0.11921881884336472, 0.05960940942168236, 0.405846506357193, 0.02387332357466221, 0.19098658859729767, 0.22679658234119415, 0.09549329429864883, 0.03580998629331589, 0.15915608406066895, 0.3183121681213379, 0.15915608406066895, 0.3183121681213379, 0.7518379092216492, 0.12530632317066193, 0.17365382611751556, 0.6946153044700623, 0.7726674675941467, 0.1545334905385971, 0.07635949552059174, 0.2290784865617752, 0.15271899104118347, 0.4581569731235504, 0.07635949552059174, 0.8435461521148682, 0.32709622383117676, 0.16354811191558838, 0.16354811191558838, 0.32709622383117676, 0.32218262553215027, 0.32218262553215027, 0.32218262553215027, 0.7242607474327087, 0.18106518685817719, 0.05623979866504669, 0.9138967394828796, 0.014059949666261673, 0.6324387192726135, 0.3373006582260132, 0.6695460081100464, 0.1339091956615448, 0.1339091956615448, 0.747140109539032, 0.14942802488803864, 0.0287509523332119, 0.32264959812164307, 0.28644469380378723, 0.023426702246069908, 0.03833460435271263, 0.17463542520999908, 0.011713351123034954, 0.07879890501499176, 0.01597275212407112, 0.003194550285115838, 0.00106485013384372, 0.009583651088178158, 0.00425940053537488, 0.1516202986240387, 0.4043208062648773, 0.10108020156621933, 0.20216040313243866, 0.050540100783109665, 0.050540100783109665, 0.8568573594093323, 0.055357925593853, 0.0276789627969265, 0.0691974088549614, 0.6366161704063416, 0.055357925593853, 0.0968763679265976, 0.01383948139846325, 0.0276789627969265, 0.09369733184576035, 0.09369733184576035, 0.1873946636915207, 0.09369733184576035, 0.09369733184576035, 0.21862711012363434, 0.062464889138936996, 0.031232444569468498, 0.031232444569468498, 0.062464889138936996, 0.9209374189376831, 0.5315613746643066, 0.3260838985443115, 0.013400707393884659, 0.12060637027025223, 0.8347808122634888, 0.22585850954055786, 0.08774358779191971, 0.08774358779191971, 0.032497625797986984, 0.13324026763439178, 0.032497625797986984, 0.04224691540002823, 0.18361158668994904, 0.004874643869698048, 0.009749287739396095, 0.09749288111925125, 0.03899715095758438, 0.016248812898993492, 0.008124406449496746, 0.5861707329750061, 0.11723414808511734, 0.3517024517059326, 0.14101740717887878, 0.7050870656967163, 0.26468369364738464, 0.1764557957649231, 0.26468369364738464, 0.1764557957649231, 0.9369843006134033, 0.6830535531044006, 0.1366107165813446, 0.04553690180182457, 0.09107380360364914, 0.704515278339386, 0.1761288195848465, 0.04101995751261711, 0.9161123633384705, 0.027346638962626457, 0.15134255588054657, 0.1236579418182373, 0.0904364064335823, 0.11812102049589157, 0.09412768483161926, 0.0830538421869278, 0.08120819926261902, 0.07567127794027328, 0.051677946001291275, 0.04060409963130951, 0.022147690877318382, 0.03875846043229103, 0.012919486500322819, 0.012919486500322819, 0.0036912818904966116, 0.07028619945049286, 0.9212512969970703, 0.17637580633163452, 0.209838405251503, 0.16313019394874573, 0.052982453256845474, 0.10317635536193848, 0.09062787890434265, 0.03137119114398956, 0.04670821502804756, 0.027885502204298973, 0.020914126187562943, 0.03555401414632797, 0.027188364416360855, 0.006971375551074743, 0.004879963118582964, 0.002091412665322423, 0.019115377217531204, 0.019115377217531204, 0.10513457655906677, 0.08601919561624527, 0.03823075443506241, 0.44921135902404785, 0.12424995005130768, 0.05734613165259361, 0.05734613165259361, 0.019115377217531204, 0.019115377217531204, 0.05666612833738327, 0.11333225667476654, 0.1699983924627304, 0.5666612982749939, 0.05666612833738327, 0.10365701466798782, 0.10365701466798782, 0.4373030364513397, 0.0939391702413559, 0.06802491843700409, 0.03563209995627403, 0.04696958512067795, 0.009717845357954502, 0.006478563416749239, 0.019435690715909004, 0.021055331453680992, 0.027533894404768944, 0.017816049978137016, 0.004858922678977251, 0.0032392817083746195, 0.05449250340461731, 0.871880054473877, 0.05449250340461731, 0.03794192522764206, 0.36044827103614807, 0.07588385045528412, 0.07588385045528412, 0.07588385045528412, 0.15176770091056824, 0.09485480934381485, 0.01897096261382103, 0.09485480934381485, 0.059448421001434326, 0.03963228315114975, 0.019816141575574875, 0.17834526300430298, 0.019816141575574875, 0.09908070415258408, 0.317058265209198, 0.059448421001434326, 0.03963228315114975, 0.019816141575574875, 0.019816141575574875, 0.03963228315114975, 0.03963228315114975, 0.019816141575574875, 0.019816141575574875, 0.29305699467658997, 0.29305699467658997, 0.14652849733829498, 0.14652849733829498, 0.10879070311784744, 0.11254210770130157, 0.07877947390079498, 0.1950729787349701, 0.06002245843410492, 0.06752526760101318, 0.08628228306770325, 0.07127666473388672, 0.10503929853439331, 0.04126543924212456, 0.018757017329335213, 0.018757017329335213, 0.04126543924212456, 0.9147760272026062, 0.04313012212514877, 0.04313012212514877, 0.021565061062574387, 0.08626024425029755, 0.04313012212514877, 0.4313012361526489, 0.04313012212514877, 0.23721566796302795, 0.021565061062574387, 0.021565061062574387, 0.22394460439682007, 0.07464820146560669, 0.1175709143280983, 0.14929640293121338, 0.08584543317556381, 0.10450748354196548, 0.042922716587781906, 0.07838061451911926, 0.029859280213713646, 0.03919030725955963, 0.016795845702290535, 0.014929640106856823, 0.011197229847311974, 0.011197229847311974, 0.02565642073750496, 0.6157541275024414, 0.05131284147500992, 0.2565642297267914, 0.05131284147500992, 0.11306992173194885, 0.16090719401836395, 0.1369885504245758, 0.08697686344385147, 0.10654665529727936, 0.10654665529727936, 0.05870938301086426, 0.06088380515575409, 0.03696516528725624, 0.054360538721084595, 0.032616324722766876, 0.015220951288938522, 0.006523264572024345, 0.02391863614320755, 0.15943296253681183, 0.15943296253681183, 0.15943296253681183, 0.31886592507362366, 0.18473710119724274, 0.08287271857261658, 0.063881054520607, 0.13812118768692017, 0.06906059384346008, 0.10359089821577072, 0.07596665620803833, 0.12603558599948883, 0.031077269464731216, 0.04316287487745285, 0.03453029692173004, 0.02589772455394268, 0.010359089821577072, 0.006906059570610523, 0.0017265148926526308, 0.07566653937101364, 0.016449248418211937, 0.019739096984267235, 0.2533183991909027, 0.1250142753124237, 0.06908684223890305, 0.16120262444019318, 0.06250713765621185, 0.059217292815446854, 0.059217292815446854, 0.04276804253458977, 0.029608646407723427, 0.019739096984267235, 0.0032898494973778725, 0.06744010746479034, 0.1348802149295807, 0.05076951906085014, 0.14321550726890564, 0.14473101496696472, 0.09093048423528671, 0.15079304575920105, 0.052285026758909225, 0.0462229959666729, 0.04243422672152519, 0.03258342295885086, 0.015155080705881119, 0.014397326856851578, 0.011366310529410839, 0.0015155080473050475, 0.08398808538913727, 0.07348957657814026, 0.09973585605621338, 0.1259821355342865, 0.08398808538913727, 0.06299106776714325, 0.17322543263435364, 0.041994042694568634, 0.041994042694568634, 0.07348957657814026, 0.05249255523085594, 0.020997021347284317, 0.05249255523085594, 0.005249255336821079, 0.005249255336821079, 0.39882543683052063, 0.1329418122768402, 0.2658836245536804, 0.19612360000610352, 0.21395300328731537, 0.05348825082182884, 0.07131767272949219, 0.08914709091186523, 0.08914709091186523, 0.05348825082182884, 0.10697650164365768, 0.017829418182373047, 0.017829418182373047, 0.08914709091186523, 0.132342129945755, 0.1708204597234726, 0.09153178334236145, 0.1008598580956459, 0.13409113883972168, 0.057134486734867096, 0.07345862686634064, 0.04605739191174507, 0.06821158528327942, 0.03906133398413658, 0.040227342396974564, 0.020405173301696777, 0.013992119580507278, 0.008745074272155762, 0.0029150249902158976, 0.051851723343133926, 0.9229606986045837, 0.0103703448548913, 0.0748111754655838, 0.19722947478294373, 0.31284675002098083, 0.25163760781288147, 0.061209145933389664, 0.013602032326161861, 0.03400507941842079, 0.027204064652323723, 0.013602032326161861, 0.006801016163080931, 0.651561439037323, 0.16289035975933075, 0.08144517987966537, 0.1623012125492096, 0.11211597174406052, 0.10891265422105789, 0.14628463983535767, 0.0939638614654541, 0.1067771166563034, 0.06299849599599838, 0.06193072721362114, 0.03737198933959007, 0.05018524453043938, 0.0202876515686512, 0.011745482683181763, 0.019219880923628807, 0.005338855553418398, 0.002135542221367359, 0.0684623047709465, 0.9242410659790039, 0.12517577409744263, 0.1549050211906433, 0.092317134141922, 0.1439521312713623, 0.11891698092222214, 0.08136425167322159, 0.04381151869893074, 0.06571727991104126, 0.046940915286540985, 0.03755273297429085, 0.03911742940545082, 0.018776366487145424, 0.010952879674732685, 0.01408227439969778, 0.003129394259303808, 0.08748652040958405, 0.10326278209686279, 0.11760483682155609, 0.1807098686695099, 0.0946575477719307, 0.09896016865968704, 0.06740765273571014, 0.0745786726474762, 0.058802418410778046, 0.030118310824036598, 0.03872354328632355, 0.0200788751244545, 0.012907847762107849, 0.01147364266216755, 0.0028684106655418873, 0.04305582866072655, 0.16684134304523468, 0.09418462961912155, 0.16684134304523468, 0.08072967827320099, 0.07534769922494888, 0.12109452486038208, 0.06189275532960892, 0.0457468181848526, 0.02690989337861538, 0.040364839136600494, 0.03498286008834839, 0.021527914330363274, 0.01883692480623722, 0.23296965658664703, 0.07987530529499054, 0.13978178799152374, 0.15975061058998108, 0.053250204771757126, 0.053250204771757126, 0.0931878611445427, 0.03993765264749527, 0.019968826323747635, 0.03328137844800949, 0.026625102385878563, 0.013312551192939281, 0.04659393057227135, 0.006656275596469641, 0.39764928817749023, 0.39764928817749023, 0.2523553967475891, 0.10411866754293442, 0.15353091061115265, 0.07411836832761765, 0.05470641702413559, 0.10235393792390823, 0.06882420182228088, 0.06000058725476265, 0.022941401228308678, 0.03352973982691765, 0.030000293627381325, 0.014117784798145294, 0.005294169299304485, 0.02117667719721794, 0.005294169299304485, 0.21887223422527313, 0.10943611711263657, 0.49246251583099365, 0.05471805855631828, 0.03647870570421219, 0.07295741140842438, 0.9093053340911865, 0.9737481474876404, 0.9530857801437378, 0.2191852480173111, 0.2164454311132431, 0.041097234934568405, 0.2630223035812378, 0.0027398155070841312, 0.049316681921482086, 0.03561760112643242, 0.06301575899124146, 0.09041391313076019, 0.008219446986913681, 0.0027398155070841312, 0.008219446986913681, 0.15805602073669434, 0.6322240829467773, 0.15805602073669434, 0.3224872350692749, 0.16124361753463745, 0.3224872350692749, 0.16124361753463745, 0.2177078127861023, 0.7708033323287964, 0.0058839949779212475, 0.5636880993843079, 0.3074662387371063, 0.10248874872922897, 0.06766580045223236, 0.10149870067834854, 0.1776227355003357, 0.07612402737140656, 0.07612402737140656, 0.01691645011305809, 0.1945391744375229, 0.03383290022611618, 0.025374675169587135, 0.05074935033917427, 0.008458225056529045, 0.1522480547428131, 0.01691645011305809, 0.0025090668350458145, 0.2684701681137085, 0.04516320303082466, 0.005018133670091629, 0.042654138058423996, 0.030108803883194923, 0.22330695390701294, 0.08781734108924866, 0.23585228621959686, 0.012545334175229073, 0.04014506936073303, 0.0025090668350458145, 0.08322272449731827, 0.016644544899463654, 0.041611362248659134, 0.11651180684566498, 0.16644544899463654, 0.41611361503601074, 0.04993363469839096, 0.0915449932217598, 0.008322272449731827, 0.18448947370052338, 0.5534684062004089, 0.31812724471092224, 0.15906362235546112, 0.31812724471092224, 0.369503378868103, 0.369503378868103, 0.12191931903362274, 0.18287897109985352, 0.015239914879202843, 0.4114777147769928, 0.030479829758405685, 0.04571974277496338, 0.09143948554992676, 0.09143948554992676, 0.27350321412086487, 0.16366256773471832, 0.1318087875843048, 0.07139642536640167, 0.04832988604903221, 0.10325021296739578, 0.05492032691836357, 0.03185379132628441, 0.04393626004457474, 0.02526335045695305, 0.027460163459181786, 0.009885658510029316, 0.002196813002228737, 0.007688845973461866, 0.002196813002228737, 0.7823363542556763, 0.11176232993602753, 0.9803963899612427, 0.3555270731449127, 0.17776353657245636, 0.4147815704345703, 0.1301698237657547, 0.1301698237657547, 0.6508491039276123, 0.8119841814041138, 0.16239683330059052, 0.7291710376739502, 0.19169852137565613, 0.0017915749922394753, 0.008957874961197376, 0.06270512193441391, 0.0017915749922394753, 0.7252181768417358, 0.13813678920269012, 0.03453419730067253, 0.06906839460134506, 0.07432562112808228, 0.07432562112808228, 0.14865124225616455, 0.6689305305480957, 0.006802801042795181, 0.27891483902931213, 0.12925322353839874, 0.0748308077454567, 0.06122520938515663, 0.006802801042795181, 0.3605484366416931, 0.027211204171180725, 0.04761960729956627, 0.006802801042795181, 0.032953761518001556, 0.510783314704895, 0.4448757767677307, 0.05239065736532211, 0.04365887865424156, 0.08731775730848312, 0.3667345941066742, 0.42785701155662537, 0.008731775917112827, 0.12453649938106537, 0.3736094832420349, 0.12453649938106537, 0.24907299876213074, 0.17032280564308167, 0.6812912225723267, 0.12248129397630692, 0.857369065284729, 0.7209060788154602, 0.14418122172355652, 0.2885974943637848, 0.626953125, 0.0696614608168602, 0.8953494429588318, 0.11191868036985397, 0.04137253016233444, 0.2896077036857605, 0.620587944984436, 0.3058842420578003, 0.12060578167438507, 0.06642057746648788, 0.10137877613306046, 0.06467266380786896, 0.08914340287446976, 0.0489414781332016, 0.0611768439412117, 0.029714467003941536, 0.03845401853322983, 0.031462378799915314, 0.02272282913327217, 0.006991639267653227, 0.0122353695333004, 0.0034958196338266134, 0.178189218044281, 0.178189218044281, 0.356378436088562, 0.1005689725279808, 0.3860550820827484, 0.21411459147930145, 0.05644838884472847, 0.094729483127594, 0.05190656706690788, 0.021411458030343056, 0.0019464961951598525, 0.00778598478063941, 0.01297664176672697, 0.00843481719493866, 0.02854861132800579, 0.009083649143576622, 0.0025953282602131367, 0.0032441604416817427, 0.049321599304676056, 0.8384671807289124, 0.049321599304676056, 0.8327388167381287, 0.038749322295188904, 0.038749322295188904, 0.038749322295188904, 0.6974878311157227, 0.038749322295188904, 0.11624797433614731, 0.038749322295188904, 0.21798934042453766, 0.15346449613571167, 0.11509837210178375, 0.1028909683227539, 0.04708569496870041, 0.04534178227186203, 0.05406135693192482, 0.08545181900262833, 0.06103701516985893, 0.03662220761179924, 0.029646549373865128, 0.015695232897996902, 0.012207402847707272, 0.01918306201696396, 0.0034878293517977, 0.19021376967430115, 0.19021376967430115, 0.3804275393486023, 0.8537946939468384, 0.014091284945607185, 0.010568463243544102, 0.04227385297417641, 0.07045642286539078, 0.23250620067119598, 0.5037634372711182, 0.017614105716347694, 0.09159334748983383, 0.007045642472803593, 0.0035228212364017963, 0.0035228212364017963, 0.41464099287986755, 0.04012654721736908, 0.10700412094593048, 0.10700412094593048, 0.05350206047296524, 0.2006327360868454, 0.01337551511824131, 0.01337551511824131, 0.01337551511824131, 0.01337551511824131, 0.04601792246103287, 0.39115235209465027, 0.09203584492206573, 0.09203584492206573, 0.0690268874168396, 0.0690268874168396, 0.11504480987787247, 0.023008961230516434, 0.04601792246103287, 0.04601792246103287, 0.17594502866268158, 0.1407560259103775, 0.5982130765914917, 0.035189006477594376, 0.3057781755924225, 0.4586672782897949, 0.15955469012260437, 0.18095837533473969, 0.17901258170604706, 0.175121009349823, 0.07199419289827347, 0.060319457203149796, 0.01945788972079754, 0.03696998953819275, 0.03696998953819275, 0.029186833649873734, 0.013620522804558277, 0.01945788972079754, 0.0019457889720797539, 0.015566311776638031, 0.0019457889720797539, 0.16916856169700623, 0.1450016349554062, 0.024166937917470932, 0.09666775166988373, 0.0725008174777031, 0.3866710066795349, 0.0725008174777031, 0.32296422123908997, 0.08111659437417984, 0.28240591287612915, 0.02253238670527935, 0.07961443066596985, 0.06158852577209473, 0.02253238670527935, 0.01802590861916542, 0.012017273344099522, 0.021030228585004807, 0.02253238670527935, 0.024034546688199043, 0.019528068602085114, 0.0030043183360248804, 0.0015021591680124402, 0.09617630392313004, 0.09617630392313004, 0.09617630392313004, 0.09617630392313004, 0.4808815121650696, 0.21796032786369324, 0.10898016393184662, 0.32694050669670105, 0.21796032786369324, 0.5168749690055847, 0.17229166626930237, 0.2539350688457489, 0.2539350688457489, 0.12696753442287445, 0.12696753442287445, 0.12696753442287445, 0.7125543355941772, 0.11875905841588974, 0.11875905841588974, 0.6527083516120911, 0.16317708790302277, 0.08158854395151138, 0.08158854395151138, 0.08232895284891129, 0.02744298428297043, 0.08232895284891129, 0.6037456393241882, 0.02744298428297043, 0.10977193713188171, 0.02744298428297043, 0.02744298428297043, 0.02744298428297043, 0.08646086603403091, 0.10877335071563721, 0.10598429292440414, 0.18686704337596893, 0.10040616989135742, 0.0948280468583107, 0.06693744659423828, 0.11435147374868393, 0.019523421302437782, 0.01673436164855957, 0.04462496563792229, 0.027890602126717567, 0.008367180824279785, 0.008367180824279785, 0.008367180824279785, 0.55611652135849, 0.18537215888500214, 0.18537215888500214, 0.06864501535892487, 0.9061142206192017, 0.12488169968128204, 0.09450507164001465, 0.08100434392690659, 0.24301303923130035, 0.07087880373001099, 0.10463061183691025, 0.027001449838280678, 0.06412844359874725, 0.05062771588563919, 0.047252535820007324, 0.06412844359874725, 0.020251085981726646, 0.010125542990863323, 0.0033751812297850847, 0.0668019950389862, 0.05213813856244087, 0.05050882324576378, 0.2264750450849533, 0.11731081455945969, 0.1124228686094284, 0.0912417471408844, 0.0684313103556633, 0.04399155452847481, 0.0456208735704422, 0.0684313103556633, 0.019551802426576614, 0.01629316806793213, 0.01466385181993246, 0.004887950606644154, 0.8853068351745605, 0.09418157488107681, 0.1704796403646469, 0.6819185614585876, 0.5679860711097717, 0.09087777137756348, 0.02271944284439087, 0.09087777137756348, 0.13631665706634521, 0.02271944284439087, 0.02271944284439087, 0.02271944284439087, 0.8856054544448853, 0.1316555142402649, 0.3238013982772827, 0.15834243595600128, 0.053373854607343674, 0.08895642310380936, 0.07828165590763092, 0.02134954184293747, 0.046257343143224716, 0.014233028516173363, 0.01779128611087799, 0.010674770921468735, 0.033803440630435944, 0.0017791285645216703, 0.01957041397690773, 0.11916925013065338, 0.14634820818901062, 0.016725508496165276, 0.15680164098739624, 0.1338040679693222, 0.07526478916406631, 0.11289718747138977, 0.041813772171735764, 0.05226721614599228, 0.05226721614599228, 0.03763239458203316, 0.03763239458203316, 0.014634819701313972, 0.0020906885620206594, 0.15814006328582764, 0.4744201898574829, 0.3162801265716553, 0.2548893988132477, 0.637223482131958, 0.7610645294189453, 0.15221290290355682, 0.119135282933712, 0.14296233654022217, 0.08339469879865646, 0.17473174631595612, 0.051625289022922516, 0.04765411093831062, 0.07148116827011108, 0.039711758494377136, 0.08736587315797806, 0.059567641466856, 0.04368293657898903, 0.027798231691122055, 0.02382705546915531, 0.027798231691122055, 0.0039711762219667435, 0.4207007586956024, 0.18740306794643402, 0.17592941224575043, 0.011473657563328743, 0.04589463025331497, 0.04207007586956024, 0.019122762605547905, 0.03824552521109581, 0.019122762605547905, 0.007649104576557875, 0.019122762605547905, 0.007649104576557875, 0.0038245522882789373, 0.5417705774307251, 0.1805901974439621, 0.1805901974439621, 0.8684845566749573, 0.8477679491043091, 0.1841171681880951, 0.3682343363761902, 0.3682343363761902, 0.845475435256958, 0.09394171088933945, 0.0916312038898468, 0.8508611917495728, 0.039270516484975815, 0.8250662684440613, 0.09167402982711792, 0.005850627552717924, 0.18722008168697357, 0.005850627552717924, 0.011701255105435848, 0.7371791005134583, 0.005850627552717924, 0.029253138229250908, 0.005850627552717924, 0.005850627552717924, 0.005850627552717924, 0.016438918188214302, 0.032877836376428604, 0.08219458907842636, 0.5753621459007263, 0.032877836376428604, 0.18082809448242188, 0.016438918188214302, 0.032877836376428604, 0.8067587614059448, 0.13445979356765747, 0.7832010388374329, 0.13053350150585175, 0.9096472859382629, 0.07089122384786606, 0.038172196596860886, 0.005453170742839575, 0.0218126829713583, 0.0218126829713583, 0.632567822933197, 0.0872507318854332, 0.059984877705574036, 0.02726585417985916, 0.01090634148567915, 0.005453170742839575, 0.016359511762857437, 0.025023460388183594, 0.7131686210632324, 0.012511730194091797, 0.20018768310546875, 0.025023460388183594, 0.012511730194091797, 0.0088379867374897, 0.0088379867374897, 0.0088379867374897, 0.0176759734749794, 0.0265139602124691, 0.0176759734749794, 0.8572847247123718, 0.0088379867374897, 0.0353519469499588, 0.0088379867374897, 0.26205503940582275, 0.6551375985145569, 0.053069453686475754, 0.26534727215766907, 0.10613890737295151, 0.053069453686475754, 0.10613890737295151, 0.3184167146682739, 0.053069453686475754, 0.024221833795309067, 0.956762433052063, 0.012110916897654533, 0.75571209192276, 0.5252130627632141, 0.35014206171035767, 0.18102258443832397, 0.18102258443832397, 0.36204516887664795, 0.7482413649559021, 0.1496482640504837, 0.1937064230442047, 0.09685321152210236, 0.09685321152210236, 0.484266072511673, 0.0635652169585228, 0.8899130821228027, 0.023388758301734924, 0.04677751660346985, 0.1871100664138794, 0.07016627490520477, 0.023388758301734924, 0.257276326417923, 0.11694378405809402, 0.0935550332069397, 0.14033254981040955, 0.12248324602842331, 0.061241623014211655, 0.030620811507105827, 0.7655202746391296, 0.030620811507105827, 0.16778522729873657, 0.5453019738197327, 0.04194630682468414, 0.04194630682468414, 0.04194630682468414, 0.04194630682468414, 0.04194630682468414, 0.04194630682468414, 0.6941364407539368, 0.1735341101884842, 0.21040093898773193, 0.13567911088466644, 0.1396118402481079, 0.12978002429008484, 0.05505818873643875, 0.07865455746650696, 0.0924191027879715, 0.05899091809988022, 0.02556273154914379, 0.03342818841338158, 0.003932727966457605, 0.021630004048347473, 0.005899091716855764, 0.00786545593291521, 0.4844949245452881, 0.1614983081817627, 0.3229966163635254, 0.3047795593738556, 0.6095591187477112, 0.9274060726165771, 0.012880640104413033, 0.025761280208826065, 0.025761280208826065, 0.30566710233688354, 0.5502008199691772, 0.030566710978746414, 0.09170013666152954, 0.14724399149417877, 0.7362199425697327, 0.11961127817630768, 0.7176676988601685, 0.11961127817630768, 0.23824192583560944, 0.23824192583560944, 0.11912096291780472, 0.35736289620399475, 0.12022536993026733, 0.24045073986053467, 0.48090147972106934, 0.06011268496513367, 0.06011268496513367, 0.301022469997406, 0.1003408282995224, 0.2006816565990448, 0.1003408282995224, 0.2006816565990448, 0.8863007426261902, 0.04429924115538597, 0.22149620950222015, 0.17719696462154388, 0.13289771974086761, 0.3100946843624115, 0.08859848231077194, 0.1110772117972374, 0.1110772117972374, 0.1110772117972374, 0.1110772117972374, 0.2221544235944748, 0.2221544235944748, 0.17425748705863953, 0.6970299482345581, 0.8446896076202393, 0.33607399463653564, 0.1392306536436081, 0.10082220286130905, 0.10082220286130905, 0.060013215988874435, 0.0528116300702095, 0.02880634367465973, 0.050411101430654526, 0.04801057279109955, 0.02640581503510475, 0.021604757755994797, 0.021604757755994797, 0.00960211455821991, 0.004801057279109955, 0.44451504945755005, 0.11112876236438751, 0.11112876236438751, 0.22225752472877502, 0.09178610891103745, 0.03059536963701248, 0.12238147854804993, 0.01529768481850624, 0.03059536963701248, 0.5507166385650635, 0.09178610891103745, 0.04589305445551872, 0.01529768481850624, 0.18648676574230194, 0.012861155904829502, 0.06430578231811523, 0.03858346864581108, 0.16719502210617065, 0.34725120663642883, 0.025722311809659004, 0.09002809226512909, 0.03215289115905762, 0.012861155904829502, 0.012861155904829502, 0.006430577952414751, 0.031587254256010056, 0.031587254256010056, 0.06317450851202011, 0.6949195861816406, 0.06317450851202011, 0.06317450851202011, 0.0933438241481781, 0.01555730402469635, 0.01555730402469635, 0.6534067988395691, 0.0622292160987854, 0.10890112817287445, 0.0311146080493927, 0.2592971622943878, 0.04321619123220444, 0.17286476492881775, 0.17286476492881775, 0.04321619123220444, 0.21608096361160278, 0.04321619123220444, 0.3003843426704407, 0.20025624334812164, 0.4005124866962433, 0.4420318007469177, 0.07367196679115295, 0.4420318007469177, 0.021528013050556183, 0.9579965472221375, 0.15883022546768188, 0.09529813379049301, 0.07941511273384094, 0.09529813379049301, 0.1365939974784851, 0.10482794791460037, 0.05717888101935387, 0.08576831966638565, 0.05082567036151886, 0.05082567036151886, 0.03176604583859444, 0.022236231714487076, 0.028589440509676933, 0.009340986609458923, 0.018681973218917847, 0.4296853542327881, 0.09340986609458923, 0.06538690626621246, 0.018681973218917847, 0.1587967723608017, 0.08406887948513031, 0.05604591593146324, 0.02802295796573162, 0.02802295796573162, 0.009340986609458923, 0.19076485931873322, 0.47691217064857483, 0.09538242965936661, 0.09538242965936661, 0.09538242965936661, 0.19295567274093628, 0.38591134548187256, 0.19295567274093628, 0.19295567274093628, 0.19295567274093628, 0.7927131652832031, 0.052847541868686676, 0.052847541868686676, 0.052847541868686676, 0.8106951713562012, 0.0675579309463501, 0.0675579309463501, 0.055420372635126114, 0.5937896966934204, 0.07125476747751236, 0.21376429498195648, 0.03166878595948219, 0.007917196489870548, 0.007917196489870548, 0.7147865891456604, 0.14295731484889984, 0.08629775047302246, 0.17259550094604492, 0.08629775047302246, 0.6040842533111572, 0.17299413681030273, 0.08649706840515137, 0.08649706840515137, 0.17299413681030273, 0.08649706840515137, 0.17299413681030273, 0.17299413681030273, 0.09850477427244186, 0.59102863073349, 0.09850477427244186, 0.09850477427244186, 0.14761194586753845, 0.5904477834701538, 0.14761194586753845, 0.3694850206375122, 0.17053154110908508, 0.264323890209198, 0.034106310456991196, 0.03126411512494087, 0.025579731911420822, 0.039790693670511246, 0.022737538442015648, 0.011368769221007824, 0.002842192305251956, 0.002842192305251956, 0.017053155228495598, 0.002842192305251956, 0.002842192305251956, 0.8425117135047913, 0.024495089426636696, 0.061237722635269165, 0.08573281019926071, 0.7838428616523743, 0.012247544713318348, 0.11958795040845871, 0.11958795040845871, 0.11958795040845871, 0.47835180163383484, 0.7563875317573547, 0.21167725324630737, 0.31751587986946106, 0.31751587986946106, 0.9150728583335876, 0.31647738814353943, 0.15823869407176971, 0.31647738814353943, 0.15823869407176971, 0.03394430875778198, 0.01697215437889099, 0.25458231568336487, 0.08486077189445496, 0.5770532488822937, 0.01697215437889099, 0.01697215437889099, 0.2119605839252472, 0.12112032622098923, 0.05046680569648743, 0.4138278067111969, 0.02018672227859497, 0.04037344455718994, 0.04037344455718994, 0.010093361139297485, 0.05046680569648743, 0.010093361139297485, 0.02018672227859497, 0.02018672227859497, 0.1564638912677765, 0.1564638912677765, 0.625855565071106, 0.7752270698547363, 0.06251831352710724, 0.037510987371206284, 0.037510987371206284, 0.07502197474241257, 0.3255970776081085, 0.008420613594353199, 0.29191461205482483, 0.07297865301370621, 0.1824466437101364, 0.005613742861896753, 0.036489326506853104, 0.008420613594353199, 0.0028068714309483767, 0.05333055555820465, 0.008420613594353199, 0.008420613594353199, 0.4093628525733948, 0.090969517827034, 0.090969517827034, 0.090969517827034, 0.3183933198451996, 0.07951178401708603, 0.1226753294467926, 0.19310005009174347, 0.14312121272087097, 0.099957674741745, 0.08291943371295929, 0.08859884738922119, 0.043163541704416275, 0.03634824603796005, 0.02612530067563057, 0.017038239166140556, 0.038620010018348694, 0.017038239166140556, 0.012494709342718124, 0.0011358826886862516, 0.29166215658187866, 0.05833243206143379, 0.05833243206143379, 0.40832704305648804, 0.05833243206143379, 0.11666486412286758, 0.08127717673778534, 0.8940489888191223, 0.045581892132759094, 0.09686152637004852, 0.05127963051199913, 0.22790946066379547, 0.09401265531778336, 0.07122170925140381, 0.09116378426551819, 0.08261717855930328, 0.06837283819913864, 0.06552397459745407, 0.042733024805784225, 0.028488682582974434, 0.01709320954978466, 0.014244341291487217, 0.15283514559268951, 0.6113405823707581, 0.15283514559268951, 0.5433506369590759, 0.18111687898635864, 0.18111687898635864, 0.36330151557922363, 0.11178507655858994, 0.027946269139647484, 0.04191940277814865, 0.013973134569823742, 0.11178507655858994, 0.20959702134132385, 0.0838388055562973, 0.027946269139647484, 0.013973134569823742, 0.013973134569823742, 0.5826091766357422, 0.38840609788894653, 0.1329779028892517, 0.2659558057785034, 0.5319116115570068, 0.12458471953868866, 0.12458471953868866, 0.6229236125946045, 0.8588083982467651, 0.12268691509962082, 0.35443252325057983, 0.5316487550735474, 0.033704522997140884, 0.33704522252082825, 0.10111356526613235, 0.033704522997140884, 0.13481809198856354, 0.33704522252082825, 0.8671380877494812, 0.20577868819236755, 0.4115573763847351, 0.20577868819236755, 0.1944706290960312, 0.0972353145480156, 0.11538590490818024, 0.16335532069206238, 0.08038119226694107, 0.0674164816737175, 0.08038119226694107, 0.06223060190677643, 0.014261179603636265, 0.027225887402892113, 0.04278353974223137, 0.01944706216454506, 0.016854120418429375, 0.016854120418429375, 0.0012964708730578423, 0.08752594143152237, 0.043762970715761185, 0.5689185857772827, 0.21881484985351562, 0.043762970715761185, 0.4171285033226013, 0.4171285033226013, 0.06105096638202667, 0.06105096638202667, 0.18315289914608002, 0.6105096936225891, 0.04079759865999222, 0.02039879932999611, 0.004079759586602449, 0.14279158413410187, 0.17542967200279236, 0.18358919024467468, 0.06935591250658035, 0.16319039463996887, 0.0856749564409256, 0.04487735778093338, 0.04487735778093338, 0.008159519173204899, 0.012239279225468636, 0.004079759586602449, 0.07292328029870987, 0.14584656059741974, 0.218769833445549, 0.07292328029870987, 0.07292328029870987, 0.2916931211948395, 0.06579197943210602, 0.7237117886543274, 0.13158395886421204, 0.2433491200208664, 0.1216745600104332, 0.365023672580719, 0.1216745600104332, 0.7410094141960144, 0.2280029058456421, 0.16029629111289978, 0.16029629111289978, 0.16029629111289978, 0.32059258222579956, 0.13018280267715454, 0.7810968160629272, 0.8971785306930542, 0.20204560458660126, 0.20204560458660126, 0.4040912091732025, 0.13969266414642334, 0.20358312129974365, 0.18409112095832825, 0.055227335542440414, 0.08987978100776672, 0.10612311214208603, 0.08229956030845642, 0.04439844563603401, 0.016243332996964455, 0.022740667685866356, 0.010828888975083828, 0.025989335030317307, 0.0021657778415828943, 0.015160445123910904, 0.0010828889207914472, 0.15648126602172852, 0.46944382786750793, 0.31296253204345703, 0.14671136438846588, 0.14671136438846588, 0.29342272877693176, 0.14671136438846588, 0.14671136438846588, 0.8647885918617249, 0.7456352710723877, 0.04386089742183685, 0.04386089742183685, 0.13158269226551056, 0.08542079478502274, 0.11389439553022385, 0.22611387073993683, 0.05024752765893936, 0.07537128776311874, 0.29311057925224304, 0.0217739287763834, 0.06699670106172562, 0.006699670106172562, 0.01842409372329712, 0.010049505159258842, 0.013399340212345123, 0.011724422685801983, 0.008374587632715702, 0.7877262830734253, 0.15754525363445282, 0.39901232719421387, 0.028988074511289597, 0.47404026985168457, 0.0068207234144210815, 0.020462170243263245, 0.017051808536052704, 0.0017051808536052704, 0.013641446828842163, 0.005115542560815811, 0.005115542560815811, 0.022167351096868515, 0.0017051808536052704, 0.24727725982666016, 0.00537559250369668, 0.46230095624923706, 0.016126777976751328, 0.02150237001478672, 0.0376291498541832, 0.026877963915467262, 0.1397654116153717, 0.00537559250369668, 0.016126777976751328, 0.01075118500739336, 0.00537559250369668, 0.2749352753162384, 0.1374676376581192, 0.1374676376581192, 0.2749352753162384, 0.8053458333015442, 0.10066822916269302, 0.14951400458812714, 0.5980560183525085, 0.14951400458812714, 0.09006136655807495, 0.1801227331161499, 0.09006136655807495, 0.09006136655807495, 0.45030683279037476, 0.14488573372364044, 0.14488573372364044, 0.5795429348945618, 0.051066089421510696, 0.6638591289520264, 0.051066089421510696, 0.11915420740842819, 0.0340440571308136, 0.0340440571308136, 0.0340440571308136, 0.0170220285654068, 0.024680813774466515, 0.3455313742160797, 0.17276568710803986, 0.0740424394607544, 0.04936162754893303, 0.09872325509786606, 0.0740424394607544, 0.04936162754893303, 0.024680813774466515, 0.09872325509786606, 0.11490421742200851, 0.11490421742200851, 0.5745210647583008, 0.22980843484401703, 0.8048005700111389, 0.10060007125139236, 0.16682195663452148, 0.16682195663452148, 0.16682195663452148, 0.33364391326904297, 0.8967414498329163, 0.23854239284992218, 0.1724010854959488, 0.24504809081554413, 0.057467032223939896, 0.05638274550437927, 0.0531298965215683, 0.047708477824926376, 0.04337134212255478, 0.007589985150843859, 0.024938521906733513, 0.006505701690912247, 0.02710708975791931, 0.00867426861077547, 0.00975855253636837, 0.0021685671526938677, 0.6160728335380554, 0.14495831727981567, 0.10871873795986176, 0.03623957931995392, 0.03623957931995392, 0.06335579603910446, 0.05068463459610939, 0.03801347687840462, 0.3231145441532135, 0.05068463459610939, 0.06335579603910446, 0.08869811147451401, 0.08236253261566162, 0.10136926919221878, 0.05702021345496178, 0.044349055737257004, 0.006335579324513674, 0.012671158649027348, 0.006335579324513674, 0.2751734256744385, 0.2751734256744385, 0.2751734256744385, 0.40297409892082214, 0.35819917917251587, 0.08954979479312897, 0.044774897396564484, 0.15034331381320953, 0.30068662762641907, 0.15034331381320953, 0.07517165690660477, 0.30068662762641907, 0.19436722993850708, 0.38873445987701416, 0.19436722993850708, 0.19436722993850708, 0.18924136459827423, 0.18924136459827423, 0.18924136459827423, 0.18924136459827423, 0.18924136459827423, 0.399731308221817, 0.399731308221817, 0.005133780185133219, 0.030802682042121887, 0.0821404829621315, 0.061605364084243774, 0.0821404829621315, 0.03593645989894867, 0.5595820546150208, 0.12321072816848755, 0.005133780185133219, 0.005133780185133219, 0.15172547101974487, 0.6069018840789795, 0.15172547101974487, 0.06017770245671272, 0.09026655554771423, 0.2407108098268509, 0.09026655554771423, 0.15044425427913666, 0.03008885122835636, 0.06017770245671272, 0.06017770245671272, 0.12035540491342545, 0.09026655554771423, 0.2741233706474304, 0.411185085773468, 0.2741233706474304, 0.1321871429681778, 0.5287485718727112, 0.1321871429681778, 0.049895595759153366, 0.024947797879576683, 0.03118474781513214, 0.22141170501708984, 0.1434498429298401, 0.09979119151830673, 0.08419881761074066, 0.1153835654258728, 0.08108033984899521, 0.03742169588804245, 0.05301406979560852, 0.006236949469894171, 0.028066271916031837, 0.02182932384312153, 0.8848536014556885, 0.11738540232181549, 0.7043124437332153, 0.11738540232181549, 0.7083491683006287, 0.059029098600149155, 0.059029098600149155, 0.11805819720029831, 0.059029098600149155, 0.17690035700798035, 0.7076014280319214, 0.7119500637054443, 0.17798751592636108, 0.12323453277349472, 0.4929381310939789, 0.24646906554698944, 0.9186556339263916, 0.16380269825458527, 0.32760539650917053, 0.32760539650917053, 0.18662810325622559, 0.18662810325622559, 0.18662810325622559, 0.37325620651245117, 0.18125411868095398, 0.299392968416214, 0.20391088724136353, 0.058260250836610794, 0.051786892116069794, 0.051786892116069794, 0.022656764835119247, 0.030748466029763222, 0.014565062709152699, 0.012946723029017448, 0.011328382417559624, 0.051786892116069794, 0.009710041806101799, 0.001618340378627181, 0.15522249042987823, 0.827853262424469, 0.08931894600391388, 0.8931894898414612, 0.9049925804138184, 0.7060649394989014, 0.17651623487472534, 0.7728759050369263, 0.14052289724349976, 0.1746378242969513, 0.6112323999404907, 0.08731891214847565, 0.10551422834396362, 0.03517140820622444, 0.03517140820622444, 0.10551422834396362, 0.6682567596435547, 0.08528970927000046, 0.6823176741600037, 0.08528970927000046, 0.08528970927000046, 0.7804330587387085, 0.11149043589830399, 0.03851265460252762, 0.9435600638389587, 0.01925632730126381, 0.16006779670715332, 0.1060914471745491, 0.15076152980327606, 0.08747891336679459, 0.12842649221420288, 0.08189515024423599, 0.04839259013533592, 0.09492392838001251, 0.02233504131436348, 0.03350256383419037, 0.027918802574276924, 0.040947575122117996, 0.007445013616234064, 0.007445013616234064, 0.00558376032859087, 0.039960794150829315, 0.45288899540901184, 0.039960794150829315, 0.3196863532066345, 0.093241848051548, 0.026640528813004494, 0.013320264406502247, 0.013320264406502247, 0.16520695388317108, 0.16520695388317108, 0.16520695388317108, 0.33041390776634216, 0.23018790781497955, 0.45031294226646423, 0.07672929763793945, 0.033962149173021317, 0.050314296036958694, 0.018867861479520798, 0.036477863788604736, 0.011320716701447964, 0.017610004171729088, 0.006289287004619837, 0.013836431317031384, 0.037735722959041595, 0.005031429696828127, 0.011320716701447964, 0.0025157148484140635, 0.2384020835161209, 0.23307041823863983, 0.14471691846847534, 0.04950842261314392, 0.09977851063013077, 0.05864843726158142, 0.029705053195357323, 0.031228387728333473, 0.026658380404114723, 0.019041700288653374, 0.0274200476706028, 0.016756696626544, 0.012186688371002674, 0.00914001651108265, 0.005331675987690687, 0.35506346821784973, 0.010144670493900776, 0.32462945580482483, 0.1318807154893875, 0.060868021100759506, 0.030434010550379753, 0.030434010550379753, 0.010144670493900776, 0.030434010550379753, 0.010144670493900776, 0.17222805321216583, 0.14410918951034546, 0.07469073683023453, 0.11511160433292389, 0.09402245283126831, 0.09314373880624771, 0.06941845268011093, 0.057116445153951645, 0.05975258722901344, 0.04305701330304146, 0.028997579589486122, 0.02196786366403103, 0.011423288844525814, 0.014059432782232761, 0.0008787145488895476, 0.08639079332351685, 0.47514936327934265, 0.08639079332351685, 0.04319539666175842, 0.12958618998527527, 0.04319539666175842, 0.12958618998527527, 0.06789277493953705, 0.20367832481861115, 0.2715710997581482, 0.06789277493953705, 0.06789277493953705, 0.06789277493953705, 0.06789277493953705, 0.06789277493953705, 0.06789277493953705, 0.1974804848432541, 0.14714232087135315, 0.17231141030788422, 0.07357116043567657, 0.08325158059597015, 0.08325158059597015, 0.042593833059072495, 0.04065774753689766, 0.017424749210476875, 0.04452991485595703, 0.030977332964539528, 0.042593833059072495, 0.011616499163210392, 0.011616499163210392, 0.0019360833102837205, 0.23705489933490753, 0.14939793944358826, 0.14939793944358826, 0.1029016450047493, 0.045734066516160965, 0.06326545774936676, 0.06097875162959099, 0.05411864444613457, 0.032013844698667526, 0.02820267342031002, 0.02667820453643799, 0.032013844698667526, 0.011433516629040241, 0.005335641093552113, 0.0007622343837283552, 0.7089576125144958, 0.17723940312862396, 0.46874263882637024, 0.3749941289424896, 0.0937485322356224, 0.07921899110078812, 0.07718773931264877, 0.13812541961669922, 0.13812541961669922, 0.11578160524368286, 0.06093768775463104, 0.10562532395124435, 0.07312522083520889, 0.07718773931264877, 0.04468763619661331, 0.046718891710042953, 0.020312562584877014, 0.012187537737190723, 0.012187537737190723, 0.0020312562119215727, 0.2227615863084793, 0.0714518278837204, 0.42450791597366333, 0.06304573267698288, 0.03362438827753067, 0.08826402574777603, 0.021015243604779243, 0.012609146535396576, 0.004203048534691334, 0.008406097069382668, 0.016812194138765335, 0.016812194138765335, 0.008406097069382668, 0.32887622714042664, 0.32887622714042664, 0.32887622714042664, 0.7817884683609009, 0.5691912174224854, 0.18973040580749512, 0.18973040580749512, 0.11597303301095963, 0.8118112683296204, 0.7694995999336243, 0.05919227376580238, 0.05919227376580238, 0.748393714427948, 0.10691338032484055, 0.10691338032484055, 0.8585772514343262, 0.17918746173381805, 0.08959373086690903, 0.08959373086690903, 0.08959373086690903, 0.44796866178512573, 0.08959373086690903, 0.17248724400997162, 0.6899489760398865, 0.3686772584915161, 0.5530158877372742, 0.6012369990348816, 0.2576729953289032, 0.5879462957382202, 0.053449660539627075, 0.10689932107925415, 0.10689932107925415, 0.053449660539627075, 0.053449660539627075, 0.053449660539627075, 0.18577958643436432, 0.18577958643436432, 0.18577958643436432, 0.18577958643436432, 0.18577958643436432, 0.8436073660850525, 0.8661551475524902, 0.15324772894382477, 0.10216514766216278, 0.05108257383108139, 0.6129909157752991, 0.05108257383108139, 0.1687508076429367, 0.1687508076429367, 0.1687508076429367, 0.3375016152858734, 0.1687508076429367, 0.5709172487258911, 0.28545862436294556, 0.025345446541905403, 0.8110542893409729, 0.10138178616762161, 0.025345446541905403, 0.8031491637229919, 0.10039364546537399, 0.025098411366343498, 0.025098411366343498, 0.6194472908973694, 0.11798996478319168, 0.044246237725019455, 0.07374373078346252, 0.07374373078346252, 0.02949749119579792, 0.01474874559789896, 0.5444208383560181, 0.40831559896469116, 0.8390121459960938, 0.11250241100788116, 0.6750144362449646, 0.11250241100788116, 0.7126038074493408, 0.14252077043056488, 0.047506920993328094, 0.047506920993328094, 0.09013587236404419, 0.8112228512763977, 0.3188059329986572, 0.6376118659973145, 0.21803107857704163, 0.13081865012645721, 0.08721242845058441, 0.043606214225292206, 0.30524352192878723, 0.08721242845058441, 0.043606214225292206, 0.043606214225292206, 0.043606214225292206, 0.054689038544893265, 0.9297136664390564, 0.1718204766511917, 0.6872819066047668, 0.13112320005893707, 0.6993237733840942, 0.08741547167301178, 0.04370773583650589, 0.04370773583650589, 0.29132819175720215, 0.5826563835144043, 0.867067813873291, 0.12458658963441849, 0.0966181755065918, 0.07373492419719696, 0.11695884168148041, 0.09153300523757935, 0.10170333832502365, 0.08644784241914749, 0.1271291822195053, 0.07373492419719696, 0.017798084765672684, 0.04068133607506752, 0.015255500562489033, 0.022883251309394836, 0.012712917290627956, 0.0911937803030014, 0.0911937803030014, 0.1823875606060028, 0.2735813558101654, 0.0911937803030014, 0.0911937803030014, 0.10882674902677536, 0.01674257591366768, 0.09208416938781738, 0.6111040711402893, 0.058599017560482025, 0.08371288329362869, 0.01674257591366768, 0.06605041027069092, 0.8586553931236267, 0.07280771434307098, 0.7280771136283875, 0.14561542868614197, 0.48752734065055847, 0.02635282836854458, 0.01317641418427229, 0.17129339277744293, 0.07905848324298859, 0.07905848324298859, 0.05270565673708916, 0.02635282836854458, 0.02635282836854458, 0.01317641418427229, 0.01317641418427229, 0.7742984890937805, 0.12225765734910965, 0.04075255244970322, 0.2049039602279663, 0.2293701022863388, 0.11009765416383743, 0.07951497286558151, 0.08563150465488434, 0.06116536259651184, 0.039757486432790756, 0.09786457568407059, 0.018349608406424522, 0.03364094719290733, 0.012233071960508823, 0.01529134064912796, 0.003058267990127206, 0.003058267990127206, 0.009174804203212261, 0.9265355467796326, 0.09732130914926529, 0.026542173698544502, 0.053084347397089005, 0.13271087408065796, 0.053084347397089005, 0.06193174049258232, 0.13271087408065796, 0.053084347397089005, 0.10616869479417801, 0.13271087408065796, 0.07077912986278534, 0.03538956493139267, 0.008847391232848167, 0.026542173698544502, 0.008847391232848167, 0.15096770226955414, 0.18580639362335205, 0.14370962977409363, 0.10016126185655594, 0.08419352024793625, 0.07693546265363693, 0.062419336289167404, 0.06387095153331757, 0.023225799202919006, 0.03048386238515377, 0.043548375368118286, 0.013064512051641941, 0.0072580622509121895, 0.010161287151277065, 0.002903224900364876, 0.08121749013662338, 0.07512617856264114, 0.15228278934955597, 0.19289153814315796, 0.10355229675769806, 0.08324792981147766, 0.08730880171060562, 0.05888267979025841, 0.04670005664229393, 0.032486993819475174, 0.03654786944389343, 0.03451743349432945, 0.010152186267077923, 0.0020304371137171984, 0.0020304371137171984, 0.011089947074651718, 0.9803513288497925, 0.0022179894149303436, 0.9313027262687683, 0.12414282560348511, 0.6207141280174255, 0.12414282560348511, 0.12414282560348511, 0.11774662882089615, 0.7064797878265381, 0.11774662882089615, 0.9007341265678406, 0.017288418486714363, 0.012966313399374485, 0.008644209243357182, 0.33280202746391296, 0.09940840303897858, 0.05186525359749794, 0.10805261135101318, 0.056187357753515244, 0.09076419472694397, 0.06915367394685745, 0.04322104528546333, 0.021610522642731667, 0.08644209057092667, 0.004322104621678591, 0.39813748002052307, 0.5894502997398376, 0.005170616786926985, 0.2016305774450302, 0.19809319078922272, 0.19455581903457642, 0.028299028053879738, 0.03183640539646149, 0.17333154380321503, 0.05306067690253258, 0.07074756920337677, 0.014149514026939869, 0.014149514026939869, 0.010612135753035545, 0.0070747570134699345, 0.0035373785067349672, 0.7831105589866638, 0.12192140519618988, 0.01406785473227501, 0.06564998626708984, 0.004689284600317478, 0.0315774604678154, 0.0315774604678154, 0.010525819845497608, 0.2526196837425232, 0.07368073612451553, 0.1263098418712616, 0.08420655876398087, 0.07368073612451553, 0.1578872948884964, 0.07368073612451553, 0.052629098296165466, 0.021051639690995216, 0.151640847325325, 0.6065633893013, 0.151640847325325, 0.06760929524898529, 0.12169672548770905, 0.013521858491003513, 0.13521859049797058, 0.3245246112346649, 0.18930602073669434, 0.05408743396401405, 0.05408743396401405, 0.027043716982007027, 0.015590718016028404, 0.9728608131408691, 0.0031181436497718096, 0.0031181436497718096, 0.1535511016845703, 0.1063046082854271, 0.059058114886283875, 0.07086973637342453, 0.129927858710289, 0.09154008328914642, 0.059058114886283875, 0.1535511016845703, 0.06791683286428452, 0.03838777542114258, 0.026576152071356773, 0.011811623349785805, 0.005905811674892902, 0.008858717046678066, 0.011811623349785805, 0.05980563536286354, 0.05980563536286354, 0.07974084466695786, 0.09967605769634247, 0.09170197695493698, 0.04784450680017471, 0.15549464523792267, 0.1395464837551117, 0.09568901360034943, 0.04784450680017471, 0.051831550896167755, 0.035883381962776184, 0.007974084466695786, 0.023922253400087357, 0.700302243232727, 0.17507556080818176, 0.2651817202568054, 0.13867300748825073, 0.16056875884532928, 0.07055293768644333, 0.04135861620306969, 0.07785151898860931, 0.05838863551616669, 0.029194317758083344, 0.01946287974715233, 0.06568721681833267, 0.026761459186673164, 0.03162717819213867, 0.004865719936788082, 0.004865719936788082, 0.004865719936788082, 0.12055843323469162, 0.11302352696657181, 0.30893099308013916, 0.052744314074516296, 0.09041882306337357, 0.015069804154336452, 0.03767450898885727, 0.10548862814903259, 0.02260470576584339, 0.030139608308672905, 0.015069804154336452, 0.030139608308672905, 0.052744314074516296, 0.18382401764392853, 0.18382401764392853, 0.18382401764392853, 0.36764803528785706, 0.26517435908317566, 0.13258717954158783, 0.03314679488539696, 0.4972018897533417, 0.03314679488539696, 0.15016643702983856, 0.18186825513839722, 0.1001109629869461, 0.07174619287252426, 0.09343689680099487, 0.1401553452014923, 0.05339251458644867, 0.10177947580814362, 0.028364771977066994, 0.023359224200248718, 0.023359224200248718, 0.011679612100124359, 0.008342579938471317, 0.013348128646612167, 0.7337313890457153, 0.2201194018125534, 0.19627191126346588, 0.23223012685775757, 0.2037632018327713, 0.0824042409658432, 0.07041816413402557, 0.04494776576757431, 0.020975623279809952, 0.029965177178382874, 0.026968659833073616, 0.020975623279809952, 0.03296169638633728, 0.020975623279809952, 0.008989552967250347, 0.007491294294595718, 0.054501257836818695, 0.8175188899040222, 0.054501257836818695, 0.10374864190816879, 0.03458288311958313, 0.7608233690261841, 0.06916576623916626, 0.03458288311958313], \"Term\": [\"abbey\", \"abbey\", \"absolved\", \"abstracted\", \"abstracted\", \"ache\", \"ache\", \"ache\", \"aching\", \"aching\", \"aching\", \"acquaintance\", \"acquaintance\", \"acquaintance\", \"acquaintance\", \"acquaintance\", \"acquaintance\", \"acquaintance\", \"acquaintance\", \"acquaintance\", \"acquaintance\", \"acquaintance\", \"acquaintance\", \"acquaintance\", \"acquaintance\", \"acquit\", \"acquit\", \"adele\", \"adele\", \"adele\", \"adele\", \"adele\", \"adele\", \"adele\", \"adele\", \"adele\", \"adele\", \"adoption\", \"adoption\", \"adoption\", \"adoption\", \"affection\", \"affection\", \"affection\", \"affection\", \"affection\", \"affection\", \"affection\", \"affection\", \"affection\", \"affection\", \"affection\", \"affection\", \"affection\", \"affection\", \"affection\", \"alfred\", \"alfred\", \"alfred\", \"alfred\", \"alight\", \"alight\", \"alleged\", \"alleged\", \"alleged\", \"alleged\", \"allez\", \"amidst\", \"amidst\", \"amidst\", \"amidst\", \"amidst\", \"amidst\", \"amidst\", \"amidst\", \"amidst\", \"amidst\", \"anecdote\", \"anecdote\", \"anglais\", \"anglais\", \"anglais\", \"announcement\", \"announcement\", \"announcement\", \"antiquity\", \"apartments\", \"apartments\", \"apartments\", \"apartments\", \"apartments\", \"apartments\", \"apologising\", \"appealing\", \"appealing\", \"asked\", \"asked\", \"asked\", \"asked\", \"asked\", \"asked\", \"asked\", \"asked\", \"asked\", \"asked\", \"asked\", \"asked\", \"asked\", \"asked\", \"asked\", \"aspire\", \"aspire\", \"asunder\", \"asunder\", \"attaching\", \"attachment\", \"attachment\", \"attachment\", \"attachment\", \"attachment\", \"attachment\", \"attachment\", \"attachment\", \"attachment\", \"audience\", \"audience\", \"audience\", \"audience\", \"augmented\", \"augmented\", \"augmented\", \"augmented\", \"augmented\", \"austerity\", \"austerity\", \"austerity\", \"automaton\", \"automaton\", \"average\", \"average\", \"avoiding\", \"avoiding\", \"await\", \"await\", \"away\", \"away\", \"away\", \"away\", \"away\", \"away\", \"away\", \"away\", \"away\", \"away\", \"away\", \"away\", \"away\", \"away\", \"ay\", \"ay\", \"ay\", \"ay\", \"ay\", \"ay\", \"ay\", \"backwards\", \"backwards\", \"balcony\", \"balcony\", \"balcony\", \"balcony\", \"barton\", \"barton\", \"barton\", \"bas\", \"bas\", \"bas\", \"basket\", \"basket\", \"basket\", \"basket\", \"basket\", \"basket\", \"basket\", \"bassompierre\", \"bassompierre\", \"bassompierre\", \"bassompierre\", \"bassompierre\", \"bates\", \"bates\", \"beast\", \"beast\", \"beck\", \"beck\", \"beck\", \"beck\", \"beck\", \"beck\", \"beck\", \"beck\", \"beck\", \"beck\", \"bed\", \"bed\", \"bed\", \"bed\", \"bed\", \"bed\", \"bed\", \"bed\", \"bed\", \"bed\", \"bed\", \"bed\", \"bed\", \"bed\", \"beef\", \"beef\", \"beef\", \"behaviour\", \"behaviour\", \"behaviour\", \"behaviour\", \"behaviour\", \"behaviour\", \"behest\", \"behest\", \"belonged\", \"belonged\", \"belonged\", \"belonged\", \"belonged\", \"belonged\", \"belonged\", \"belonged\", \"belonged\", \"belonged\", \"benefactress\", \"benefactress\", \"benefactress\", \"bennet\", \"bennet\", \"bennet\", \"bennet\", \"bennet\", \"bennets\", \"bessie\", \"bessie\", \"bessie\", \"bessie\", \"bessie\", \"betray\", \"betray\", \"betray\", \"betray\", \"betray\", \"betray\", \"betray\", \"betray\", \"betray\", \"better\", \"better\", \"better\", \"better\", \"better\", \"better\", \"better\", \"better\", \"better\", \"better\", \"better\", \"better\", \"better\", \"better\", \"better\", \"bible\", \"bible\", \"bible\", \"bible\", \"bible\", \"bible\", \"bingley\", \"bingley\", \"bingley\", \"bingley\", \"bingley\", \"bingleys\", \"black\", \"black\", \"black\", \"black\", \"black\", \"black\", \"black\", \"black\", \"black\", \"black\", \"black\", \"black\", \"black\", \"black\", \"black\", \"blanche\", \"blanche\", \"blanche\", \"blanche\", \"blanche\", \"blanche\", \"blanche\", \"blanche\", \"blanched\", \"blanched\", \"blent\", \"blent\", \"blent\", \"blent\", \"blent\", \"blocked\", \"blocked\", \"blocked\", \"bloomed\", \"bloomed\", \"bloomed\", \"bloomed\", \"bloomed\", \"blot\", \"blot\", \"blue\", \"blue\", \"blue\", \"blue\", \"blue\", \"blue\", \"blue\", \"blue\", \"blue\", \"blue\", \"blue\", \"blue\", \"blue\", \"blue\", \"board\", \"board\", \"board\", \"board\", \"board\", \"board\", \"board\", \"boarder\", \"body\", \"body\", \"body\", \"body\", \"body\", \"body\", \"body\", \"body\", \"body\", \"body\", \"body\", \"body\", \"body\", \"bonnets\", \"bonnets\", \"boughs\", \"boughs\", \"boughs\", \"boughs\", \"boughs\", \"bouquet\", \"bouquet\", \"bouquet\", \"bourgh\", \"bracelet\", \"bracelet\", \"bracelet\", \"bracelet\", \"bracelet\", \"braided\", \"braided\", \"braided\", \"braided\", \"braided\", \"brandon\", \"brandon\", \"brandon\", \"brandon\", \"bretton\", \"bretton\", \"bretton\", \"bretton\", \"bretton\", \"bretton\", \"bretton\", \"bretton\", \"bride\", \"bride\", \"bride\", \"bride\", \"bride\", \"bride\", \"bride\", \"bride\", \"bride\", \"bride\", \"briggs\", \"bright\", \"bright\", \"bright\", \"bright\", \"bright\", \"bright\", \"bright\", \"bright\", \"bright\", \"bright\", \"bright\", \"bright\", \"brittle\", \"brittle\", \"brittle\", \"brittle\", \"broad\", \"broad\", \"broad\", \"broad\", \"broad\", \"broad\", \"broad\", \"broad\", \"broad\", \"broad\", \"broad\", \"broad\", \"brocklehurst\", \"brocklehurst\", \"brocklehurst\", \"brocklehurst\", \"brow\", \"brow\", \"brow\", \"brow\", \"brow\", \"brow\", \"brow\", \"brow\", \"brow\", \"brow\", \"brow\", \"brunswick\", \"burns\", \"burns\", \"burns\", \"bust\", \"bust\", \"bust\", \"bustling\", \"bustling\", \"bustling\", \"bustling\", \"ca\", \"ca\", \"ca\", \"came\", \"came\", \"came\", \"came\", \"came\", \"came\", \"came\", \"came\", \"came\", \"came\", \"came\", \"came\", \"came\", \"came\", \"campbell\", \"campbells\", \"campbells\", \"caprices\", \"caprices\", \"caprices\", \"captive\", \"captive\", \"captive\", \"captive\", \"caressing\", \"caressing\", \"carlo\", \"carlo\", \"carlo\", \"casement\", \"casement\", \"casement\", \"casement\", \"casement\", \"casement\", \"catherine\", \"catherine\", \"catherine\", \"catherine\", \"caught\", \"caught\", \"caught\", \"caught\", \"caught\", \"caught\", \"caught\", \"caught\", \"caught\", \"caught\", \"caught\", \"caught\", \"caught\", \"caught\", \"ce\", \"ce\", \"ce\", \"ce\", \"ce\", \"ce\", \"ce\", \"certain\", \"certain\", \"certain\", \"certain\", \"certain\", \"certain\", \"certain\", \"certain\", \"certain\", \"certain\", \"certain\", \"certain\", \"certain\", \"chained\", \"chained\", \"chained\", \"chair\", \"chair\", \"chair\", \"chair\", \"chair\", \"chair\", \"chair\", \"chair\", \"chair\", \"chair\", \"chair\", \"chair\", \"chair\", \"chair\", \"chamber\", \"chamber\", \"chamber\", \"chamber\", \"chamber\", \"chamber\", \"chamber\", \"chamber\", \"chamber\", \"chamber\", \"chamber\", \"chamber\", \"chamber\", \"chamber\", \"chambre\", \"chambre\", \"change\", \"change\", \"change\", \"change\", \"change\", \"change\", \"change\", \"change\", \"change\", \"change\", \"change\", \"change\", \"change\", \"change\", \"changes\", \"changes\", \"changes\", \"changes\", \"changes\", \"changes\", \"changes\", \"changes\", \"changes\", \"changes\", \"changes\", \"charade\", \"charade\", \"charade\", \"charade\", \"charlotte\", \"charlotte\", \"charlotte\", \"charlotte\", \"charlotte\", \"chestnut\", \"chestnut\", \"chestnut\", \"chide\", \"chide\", \"child\", \"child\", \"child\", \"child\", \"child\", \"child\", \"child\", \"child\", \"child\", \"child\", \"child\", \"child\", \"child\", \"child\", \"chimneys\", \"cholmondeley\", \"cholmondeley\", \"cholmondeley\", \"cholmondeley\", \"cholmondeley\", \"cholmondeley\", \"chooses\", \"chooses\", \"churchill\", \"churchill\", \"churchills\", \"city\", \"city\", \"city\", \"city\", \"city\", \"city\", \"city\", \"city\", \"city\", \"classe\", \"classe\", \"classe\", \"classe\", \"classe\", \"classe\", \"classe\", \"clay\", \"clay\", \"clay\", \"clay\", \"cleopatra\", \"cleopatra\", \"cleopatra\", \"cleopatra\", \"cloaks\", \"cloaks\", \"cloaks\", \"cloaks\", \"clouded\", \"clouded\", \"clouded\", \"coal\", \"coal\", \"coaxing\", \"coaxing\", \"cole\", \"coles\", \"collation\", \"collation\", \"collation\", \"collins\", \"collins\", \"colonel\", \"colonel\", \"colonel\", \"colonel\", \"colonel\", \"colonel\", \"colonel\", \"colonel\", \"colonel\", \"colonel\", \"combination\", \"combination\", \"combination\", \"come\", \"come\", \"come\", \"come\", \"come\", \"come\", \"come\", \"come\", \"come\", \"come\", \"come\", \"come\", \"come\", \"come\", \"come\", \"comer\", \"comer\", \"comer\", \"comer\", \"comme\", \"comme\", \"comme\", \"comme\", \"comme\", \"compass\", \"compass\", \"compass\", \"compass\", \"composition\", \"composition\", \"composition\", \"composition\", \"concentrated\", \"concentrated\", \"concentrated\", \"concentrated\", \"concentrated\", \"conduct\", \"conduct\", \"conduct\", \"conduct\", \"conduct\", \"conduct\", \"conduct\", \"conduct\", \"conduct\", \"conduct\", \"conduct\", \"conduct\", \"conduit\", \"conferred\", \"conferred\", \"conferred\", \"conferred\", \"conferred\", \"confessional\", \"confessional\", \"confessional\", \"confidence\", \"confidence\", \"confidence\", \"confidence\", \"confidence\", \"confidence\", \"confidence\", \"confidence\", \"confidence\", \"confidence\", \"confidence\", \"confidence\", \"confidence\", \"confidence\", \"confidences\", \"confidences\", \"confidences\", \"conjectured\", \"conjectured\", \"conjectured\", \"conjectured\", \"conjectured\", \"conjectured\", \"conquer\", \"conquer\", \"conquer\", \"conquer\", \"consistency\", \"consistency\", \"consistency\", \"consistency\", \"consumed\", \"consumed\", \"cooled\", \"cooled\", \"cooled\", \"cooled\", \"coquette\", \"coquette\", \"coquette\", \"costly\", \"costly\", \"costly\", \"cottage\", \"cottage\", \"cottage\", \"cottage\", \"cottage\", \"cottage\", \"cottage\", \"cottage\", \"couldn\", \"couldn\", \"count\", \"count\", \"count\", \"count\", \"count\", \"count\", \"count\", \"countess\", \"countess\", \"counting\", \"counting\", \"counting\", \"counting\", \"counting\", \"coward\", \"coward\", \"coxcomb\", \"coxcomb\", \"creed\", \"creed\", \"creed\", \"creed\", \"creed\", \"creed\", \"cries\", \"cries\", \"cries\", \"crimson\", \"crimson\", \"crimson\", \"crimson\", \"crimson\", \"crimson\", \"crimson\", \"crimson\", \"crimsworth\", \"crimsworth\", \"crimsworth\", \"crimsworth\", \"crimsworth\", \"cup\", \"cup\", \"cup\", \"cup\", \"cup\", \"cup\", \"cup\", \"cup\", \"curate\", \"curate\", \"curate\", \"curb\", \"curb\", \"cursed\", \"cursed\", \"curtain\", \"curtain\", \"curtain\", \"curtain\", \"curtain\", \"curtain\", \"curtain\", \"curtain\", \"cushion\", \"cushion\", \"cushion\", \"cushion\", \"damask\", \"damask\", \"darcy\", \"darcy\", \"darcy\", \"darcy\", \"dark\", \"dark\", \"dark\", \"dark\", \"dark\", \"dark\", \"dark\", \"dark\", \"dark\", \"dark\", \"dark\", \"dark\", \"dark\", \"dark\", \"dashwood\", \"dashwood\", \"dashwood\", \"dashwood\", \"david\", \"david\", \"david\", \"david\", \"david\", \"day\", \"day\", \"day\", \"day\", \"day\", \"day\", \"day\", \"day\", \"day\", \"day\", \"day\", \"day\", \"day\", \"day\", \"day\", \"days\", \"days\", \"days\", \"days\", \"days\", \"days\", \"days\", \"days\", \"days\", \"days\", \"days\", \"days\", \"days\", \"days\", \"days\", \"dear\", \"dear\", \"dear\", \"dear\", \"dear\", \"dear\", \"dear\", \"dear\", \"dear\", \"dear\", \"dear\", \"dear\", \"dear\", \"dear\", \"deeming\", \"deeming\", \"deeming\", \"deep\", \"deep\", \"deep\", \"deep\", \"deep\", \"deep\", \"deep\", \"deep\", \"deep\", \"deep\", \"deep\", \"deep\", \"deep\", \"deep\", \"deep\", \"delaford\", \"delaford\", \"delaford\", \"demoiselles\", \"demoiselles\", \"demoiselles\", \"demoiselles\", \"demonstration\", \"demonstration\", \"demonstration\", \"dent\", \"dent\", \"dent\", \"dent\", \"des\", \"des\", \"des\", \"des\", \"des\", \"des\", \"deserted\", \"deserted\", \"deserted\", \"deserted\", \"deserted\", \"desiree\", \"desiree\", \"desiree\", \"desk\", \"desk\", \"desk\", \"desk\", \"desk\", \"desk\", \"desk\", \"desk\", \"desk\", \"desk\", \"desk\", \"despair\", \"despair\", \"despair\", \"despair\", \"despair\", \"despair\", \"despair\", \"despair\", \"despair\", \"destruction\", \"destruction\", \"devonshire\", \"devonshire\", \"diana\", \"diana\", \"diana\", \"diana\", \"directress\", \"directress\", \"directress\", \"directress\", \"directress\", \"directress\", \"directress\", \"disappoint\", \"disappoint\", \"disapproved\", \"disapproved\", \"disapproved\", \"discussing\", \"discussing\", \"discussing\", \"discussing\", \"disdainful\", \"disdainful\", \"disdainful\", \"disdainful\", \"disordered\", \"disordered\", \"disordered\", \"dispensed\", \"dispensed\", \"dispersed\", \"dispersed\", \"dispersed\", \"dispersed\", \"dispersed\", \"displeasing\", \"displeasing\", \"displeasing\", \"disposal\", \"disposal\", \"dispositions\", \"dispositions\", \"dispositions\", \"dites\", \"dites\", \"dites\", \"divisions\", \"divisions\", \"divisions\", \"divisions\", \"dixon\", \"doctor\", \"doctor\", \"doctor\", \"doctor\", \"doctor\", \"doctor\", \"doctor\", \"doctor\", \"doctor\", \"doll\", \"doll\", \"doll\", \"doll\", \"doll\", \"donwell\", \"donwell\", \"door\", \"door\", \"door\", \"door\", \"door\", \"door\", \"door\", \"door\", \"door\", \"door\", \"door\", \"door\", \"door\", \"door\", \"door\", \"doors\", \"doors\", \"doors\", \"doors\", \"doors\", \"doors\", \"doors\", \"doors\", \"doors\", \"doors\", \"doors\", \"doors\", \"doors\", \"dormitory\", \"dormitory\", \"dormitory\", \"dormitory\", \"dormitory\", \"dormitory\", \"dormitory\", \"dormitory\", \"dorsetshire\", \"downs\", \"downs\", \"dr\", \"dr\", \"dr\", \"dr\", \"dr\", \"dr\", \"dr\", \"dr\", \"dr\", \"dr\", \"dr\", \"dubious\", \"dubious\", \"dubious\", \"dutch\", \"dutch\", \"dutch\", \"dutch\", \"ears\", \"ears\", \"ears\", \"ears\", \"ears\", \"ears\", \"ears\", \"ears\", \"ears\", \"ears\", \"ecstasy\", \"ecstasy\", \"ecstasy\", \"ecstasy\", \"edward\", \"edward\", \"edward\", \"edward\", \"edward\", \"edward\", \"edward\", \"edward\", \"edward\", \"efficient\", \"eighty\", \"eighty\", \"elders\", \"elders\", \"elinor\", \"elinor\", \"elinor\", \"elinor\", \"elinor\", \"elinor\", \"elizabeth\", \"elizabeth\", \"elizabeth\", \"elizabeth\", \"elizabeth\", \"elizabeth\", \"elizabeth\", \"elizabeth\", \"elton\", \"elton\", \"elton\", \"eltons\", \"emanuel\", \"emanuel\", \"emanuel\", \"emanuel\", \"emanuel\", \"emanuel\", \"emanuel\", \"emanuel\", \"emanuel\", \"emanuel\", \"emma\", \"emma\", \"emma\", \"emma\", \"emma\", \"emphatic\", \"emphatic\", \"emphatic\", \"emphatic\", \"employer\", \"employer\", \"enclosing\", \"enclosing\", \"enclosing\", \"engagement\", \"engagement\", \"engagement\", \"engagement\", \"engagement\", \"england\", \"england\", \"england\", \"england\", \"england\", \"england\", \"england\", \"england\", \"england\", \"england\", \"england\", \"england\", \"english\", \"english\", \"english\", \"english\", \"english\", \"english\", \"english\", \"english\", \"english\", \"english\", \"english\", \"english\", \"english\", \"english\", \"enquire\", \"enquiry\", \"enscombe\", \"entreated\", \"entreated\", \"entreated\", \"entreated\", \"entreated\", \"entreated\", \"entreated\", \"entreated\", \"entreated\", \"enumerating\", \"eshton\", \"eshton\", \"eshton\", \"essay\", \"essay\", \"essay\", \"essay\", \"essay\", \"est\", \"est\", \"est\", \"est\", \"est\", \"est\", \"est\", \"est\", \"est\", \"estrade\", \"estrade\", \"estrade\", \"estrade\", \"et\", \"et\", \"et\", \"et\", \"et\", \"et\", \"et\", \"etes\", \"etes\", \"etes\", \"eton\", \"eton\", \"etre\", \"etre\", \"eulalie\", \"eulalie\", \"eulalie\", \"eulalie\", \"evening\", \"evening\", \"evening\", \"evening\", \"evening\", \"evening\", \"evening\", \"evening\", \"evening\", \"evening\", \"evening\", \"evening\", \"evening\", \"evening\", \"eventful\", \"eventful\", \"eventful\", \"eventful\", \"everybody\", \"everybody\", \"everybody\", \"everybody\", \"everybody\", \"everybody\", \"everybody\", \"everybody\", \"everybody\", \"everybody\", \"exacted\", \"exacted\", \"expedients\", \"expedients\", \"expedients\", \"experiment\", \"experiment\", \"experiment\", \"experiment\", \"experiment\", \"exploring\", \"extremely\", \"extremely\", \"extremely\", \"extremely\", \"extremely\", \"extremely\", \"extremely\", \"extremely\", \"extremely\", \"eye\", \"eye\", \"eye\", \"eye\", \"eye\", \"eye\", \"eye\", \"eye\", \"eye\", \"eye\", \"eye\", \"eye\", \"eye\", \"eye\", \"eye\", \"eyes\", \"eyes\", \"eyes\", \"eyes\", \"eyes\", \"eyes\", \"eyes\", \"eyes\", \"eyes\", \"eyes\", \"eyes\", \"eyes\", \"eyes\", \"eyes\", \"eyes\", \"eyre\", \"eyre\", \"eyre\", \"eyre\", \"eyre\", \"eyre\", \"eyre\", \"eyre\", \"eyre\", \"fabric\", \"fabric\", \"fabric\", \"face\", \"face\", \"face\", \"face\", \"face\", \"face\", \"face\", \"face\", \"face\", \"face\", \"face\", \"face\", \"face\", \"face\", \"face\", \"fade\", \"fade\", \"fade\", \"fade\", \"fade\", \"fairfax\", \"fairfax\", \"fairfax\", \"fairfax\", \"fairfax\", \"fairfax\", \"fairfax\", \"fairfax\", \"fairfax\", \"fairfax\", \"fairfax\", \"fairfax\", \"fairfax\", \"fairfax\", \"fait\", \"fait\", \"fait\", \"faith\", \"faith\", \"faith\", \"faith\", \"faith\", \"faith\", \"faith\", \"faith\", \"faith\", \"faith\", \"family\", \"family\", \"family\", \"family\", \"family\", \"family\", \"family\", \"family\", \"family\", \"family\", \"family\", \"family\", \"family\", \"fanny\", \"fanny\", \"fanny\", \"fanshawe\", \"fanshawe\", \"fanshawe\", \"fanshawe\", \"fanshawe\", \"fanshawe\", \"fanshawe\", \"fanshawe\", \"fanshawe\", \"far\", \"far\", \"far\", \"far\", \"far\", \"far\", \"far\", \"far\", \"far\", \"far\", \"far\", \"far\", \"far\", \"far\", \"far\", \"fascination\", \"fascination\", \"fascination\", \"fascination\", \"father\", \"father\", \"father\", \"father\", \"father\", \"father\", \"father\", \"father\", \"father\", \"father\", \"father\", \"father\", \"father\", \"faubourg\", \"faubourg\", \"faubourg\", \"faubourg\", \"faubourg\", \"faubourg\", \"feasted\", \"feasted\", \"feather\", \"feather\", \"feather\", \"feather\", \"featured\", \"featured\", \"features\", \"features\", \"features\", \"features\", \"features\", \"features\", \"features\", \"features\", \"features\", \"features\", \"features\", \"features\", \"features\", \"feel\", \"feel\", \"feel\", \"feel\", \"feel\", \"feel\", \"feel\", \"feel\", \"feel\", \"feel\", \"feel\", \"feel\", \"feel\", \"feel\", \"feel\", \"feelings\", \"feelings\", \"feelings\", \"feelings\", \"feelings\", \"feelings\", \"feelings\", \"feelings\", \"feelings\", \"feelings\", \"feelings\", \"feelings\", \"feelings\", \"feelings\", \"feelings\", \"felt\", \"felt\", \"felt\", \"felt\", \"felt\", \"felt\", \"felt\", \"felt\", \"felt\", \"felt\", \"felt\", \"felt\", \"felt\", \"felt\", \"felt\", \"femme\", \"femme\", \"ferrars\", \"ferrars\", \"ferrars\", \"fetters\", \"fetters\", \"fetters\", \"fields\", \"fields\", \"fields\", \"fields\", \"fields\", \"fields\", \"fields\", \"fields\", \"fields\", \"fields\", \"fifine\", \"fifine\", \"filled\", \"filled\", \"filled\", \"filled\", \"filled\", \"filled\", \"filled\", \"filled\", \"filled\", \"filled\", \"filled\", \"filled\", \"fine\", \"fine\", \"fine\", \"fine\", \"fine\", \"fine\", \"fine\", \"fine\", \"fine\", \"fine\", \"fine\", \"fine\", \"fine\", \"fine\", \"finger\", \"finger\", \"finger\", \"finger\", \"finger\", \"finger\", \"finger\", \"finger\", \"finger\", \"finger\", \"finger\", \"flame\", \"flame\", \"flame\", \"flame\", \"flame\", \"flame\", \"flame\", \"flame\", \"flame\", \"flimsy\", \"flimsy\", \"flinging\", \"flinging\", \"flint\", \"flint\", \"footman\", \"footman\", \"footman\", \"ford\", \"forster\", \"forster\", \"forte\", \"forte\", \"forte\", \"forte\", \"fossette\", \"fossette\", \"fossette\", \"fossette\", \"fossette\", \"fossette\", \"fossette\", \"fossette\", \"foul\", \"foul\", \"fragrant\", \"frances\", \"frances\", \"frances\", \"frank\", \"frank\", \"frank\", \"frank\", \"frank\", \"frank\", \"frank\", \"frank\", \"frank\", \"french\", \"french\", \"french\", \"french\", \"french\", \"french\", \"french\", \"french\", \"french\", \"french\", \"french\", \"froze\", \"froze\", \"froze\", \"froze\", \"furnace\", \"furnace\", \"furnace\", \"gaping\", \"gaping\", \"garcon\", \"gardiner\", \"gardiner\", \"gateshead\", \"gateshead\", \"gateshead\", \"gateshead\", \"gateshead\", \"gems\", \"gems\", \"gems\", \"generation\", \"generation\", \"generation\", \"genii\", \"gentility\", \"gentility\", \"georgette\", \"georgette\", \"georgiana\", \"georgiana\", \"georgiana\", \"georgiana\", \"georgiana\", \"georgiana\", \"german\", \"german\", \"german\", \"german\", \"german\", \"german\", \"german\", \"german\", \"german\", \"ginevra\", \"ginevra\", \"ginevra\", \"ginevra\", \"ginevra\", \"ginevra\", \"ginevra\", \"ginevra\", \"ginevra\", \"glittered\", \"glittered\", \"glory\", \"glory\", \"glory\", \"glory\", \"glory\", \"glory\", \"glory\", \"glory\", \"glossy\", \"glossy\", \"god\", \"god\", \"god\", \"god\", \"god\", \"god\", \"god\", \"god\", \"god\", \"god\", \"god\", \"god\", \"god\", \"god\", \"god\", \"goddard\", \"goddard\", \"godmother\", \"godmother\", \"godmother\", \"godmother\", \"godmother\", \"godmother\", \"godmother\", \"good\", \"good\", \"good\", \"good\", \"good\", \"good\", \"good\", \"good\", \"good\", \"good\", \"good\", \"good\", \"good\", \"good\", \"good\", \"got\", \"got\", \"got\", \"got\", \"got\", \"got\", \"got\", \"got\", \"got\", \"got\", \"got\", \"got\", \"got\", \"got\", \"gracechurch\", \"gracechurch\", \"graham\", \"graham\", \"graham\", \"graham\", \"graham\", \"graham\", \"graham\", \"graham\", \"graham\", \"grapes\", \"grapes\", \"grasp\", \"grasp\", \"grasp\", \"grasp\", \"grasp\", \"grasp\", \"grate\", \"grate\", \"grate\", \"grate\", \"gray\", \"gray\", \"gray\", \"gray\", \"gray\", \"great\", \"great\", \"great\", \"great\", \"great\", \"great\", \"great\", \"great\", \"great\", \"great\", \"great\", \"great\", \"great\", \"great\", \"great\", \"grec\", \"grisette\", \"grisette\", \"grisette\", \"hail\", \"hair\", \"hair\", \"hair\", \"hair\", \"hair\", \"hair\", \"hair\", \"hair\", \"hair\", \"hair\", \"hair\", \"hair\", \"hair\", \"hair\", \"hair\", \"half\", \"half\", \"half\", \"half\", \"half\", \"half\", \"half\", \"half\", \"half\", \"half\", \"half\", \"half\", \"half\", \"half\", \"half\", \"hall\", \"hall\", \"hall\", \"hall\", \"hall\", \"hall\", \"hall\", \"hall\", \"hall\", \"hall\", \"hall\", \"hall\", \"hall\", \"hall\", \"hall\", \"hamal\", \"hamal\", \"hamal\", \"hamal\", \"hand\", \"hand\", \"hand\", \"hand\", \"hand\", \"hand\", \"hand\", \"hand\", \"hand\", \"hand\", \"hand\", \"hand\", \"hand\", \"hand\", \"hand\", \"hannah\", \"hannah\", \"hannah\", \"hannah\", \"haply\", \"haply\", \"haply\", \"happiness\", \"happiness\", \"happiness\", \"happiness\", \"happiness\", \"happiness\", \"happiness\", \"happiness\", \"happiness\", \"happiness\", \"happiness\", \"happiness\", \"happiness\", \"harangue\", \"harangue\", \"harriet\", \"harriet\", \"harriet\", \"harriet\", \"harriet\", \"harriet\", \"harriet\", \"harriet\", \"harry\", \"harry\", \"harry\", \"hartfield\", \"hartfield\", \"haunting\", \"haunting\", \"haunting\", \"hauteur\", \"hauteur\", \"having\", \"having\", \"having\", \"having\", \"having\", \"having\", \"having\", \"having\", \"having\", \"having\", \"having\", \"having\", \"having\", \"having\", \"having\", \"hawkins\", \"hazel\", \"hazel\", \"head\", \"head\", \"head\", \"head\", \"head\", \"head\", \"head\", \"head\", \"head\", \"head\", \"head\", \"head\", \"head\", \"head\", \"head\", \"healed\", \"healed\", \"heard\", \"heard\", \"heard\", \"heard\", \"heard\", \"heard\", \"heard\", \"heard\", \"heard\", \"heard\", \"heard\", \"heard\", \"heard\", \"heard\", \"heard\", \"heart\", \"heart\", \"heart\", \"heart\", \"heart\", \"heart\", \"heart\", \"heart\", \"heart\", \"heart\", \"heart\", \"heart\", \"heart\", \"heart\", \"heart\", \"hearth\", \"hearth\", \"hearth\", \"hearth\", \"hearth\", \"hearth\", \"hearth\", \"hearth\", \"hearth\", \"hearth\", \"helen\", \"helen\", \"helen\", \"helen\", \"henri\", \"henri\", \"henri\", \"henri\", \"hertfordshire\", \"hertfordshire\", \"hide\", \"hide\", \"hide\", \"hide\", \"hide\", \"hide\", \"hide\", \"high\", \"high\", \"high\", \"high\", \"high\", \"high\", \"high\", \"high\", \"high\", \"high\", \"high\", \"high\", \"high\", \"high\", \"high\", \"highbury\", \"highbury\", \"highest\", \"highest\", \"highest\", \"highest\", \"highest\", \"highest\", \"highest\", \"highest\", \"hollow\", \"hollow\", \"hollow\", \"hollow\", \"hollow\", \"hollow\", \"hollow\", \"hollow\", \"hollow\", \"hollow\", \"holy\", \"holy\", \"holy\", \"holy\", \"home\", \"home\", \"home\", \"home\", \"home\", \"home\", \"home\", \"home\", \"home\", \"home\", \"home\", \"home\", \"home\", \"home\", \"home\", \"hostess\", \"hostess\", \"hostess\", \"hotel\", \"hotel\", \"hotel\", \"hotel\", \"hotel\", \"hotel\", \"hotel\", \"hour\", \"hour\", \"hour\", \"hour\", \"hour\", \"hour\", \"hour\", \"hour\", \"hour\", \"hour\", \"hour\", \"hour\", \"hour\", \"hour\", \"hour\", \"house\", \"house\", \"house\", \"house\", \"house\", \"house\", \"house\", \"house\", \"house\", \"house\", \"house\", \"house\", \"house\", \"house\", \"house\", \"hunsden\", \"hunsden\", \"hunsden\", \"hunsden\", \"hunsford\", \"hunsford\", \"hurst\", \"hurst\", \"hurst\", \"hurst\", \"idiot\", \"idiot\", \"idiot\", \"il\", \"il\", \"il\", \"il\", \"il\", \"il\", \"il\", \"illiterate\", \"imperious\", \"imperious\", \"imperious\", \"imperious\", \"improving\", \"inconveniences\", \"increase\", \"increase\", \"increase\", \"increase\", \"increase\", \"increase\", \"india\", \"india\", \"india\", \"india\", \"indies\", \"indies\", \"indies\", \"indignant\", \"indignant\", \"indignant\", \"indignant\", \"indignant\", \"indignant\", \"indignant\", \"ingram\", \"ingram\", \"ingram\", \"ingram\", \"ingram\", \"ingram\", \"inheritance\", \"inheritance\", \"inheritance\", \"inheritance\", \"inside\", \"inside\", \"instruments\", \"instruments\", \"insuperable\", \"insuperable\", \"intellectual\", \"intellectual\", \"intellectual\", \"intellectual\", \"intellectual\", \"intentionally\", \"interrupting\", \"interrupting\", \"interrupting\", \"interrupting\", \"intricate\", \"intricate\", \"intricate\", \"irritating\", \"irritating\", \"isabella\", \"isabella\", \"isabella\", \"isidore\", \"isidore\", \"ivy\", \"ivy\", \"ivy\", \"jack\", \"jack\", \"jane\", \"jane\", \"jane\", \"jane\", \"jane\", \"jane\", \"jane\", \"jane\", \"jane\", \"jane\", \"jane\", \"jane\", \"jane\", \"janet\", \"janet\", \"janet\", \"janet\", \"janet\", \"janet\", \"jar\", \"je\", \"je\", \"je\", \"je\", \"je\", \"je\", \"je\", \"je\", \"jealous\", \"jealous\", \"jealous\", \"jealous\", \"jealous\", \"jealous\", \"jealous\", \"jealous\", \"jealous\", \"jealous\", \"jenkinson\", \"jennings\", \"jennings\", \"jennings\", \"jennings\", \"jocund\", \"john\", \"john\", \"john\", \"john\", \"john\", \"john\", \"john\", \"john\", \"john\", \"john\", \"john\", \"john\", \"john\", \"john\", \"josef\", \"josef\", \"josef\", \"jour\", \"jour\", \"joyous\", \"joyous\", \"joyous\", \"joyous\", \"judgement\", \"justine\", \"justine\", \"justine\", \"justine\", \"kinsfolk\", \"kinsfolk\", \"kitty\", \"kitty\", \"kitty\", \"knew\", \"knew\", \"knew\", \"knew\", \"knew\", \"knew\", \"knew\", \"knew\", \"knew\", \"knew\", \"knew\", \"knew\", \"knew\", \"knew\", \"knew\", \"knightley\", \"knightley\", \"know\", \"know\", \"know\", \"know\", \"know\", \"know\", \"know\", \"know\", \"know\", \"know\", \"know\", \"know\", \"know\", \"know\", \"know\", \"la\", \"la\", \"la\", \"la\", \"la\", \"la\", \"la\", \"la\", \"la\", \"la\", \"la\", \"lad\", \"lad\", \"lad\", \"lad\", \"lad\", \"lady\", \"lady\", \"lady\", \"lady\", \"lady\", \"lady\", \"lady\", \"lady\", \"lady\", \"lady\", \"lady\", \"lady\", \"lady\", \"lady\", \"lady\", \"ladyship\", \"ladyship\", \"ladyship\", \"lamp\", \"lamp\", \"lamp\", \"lamp\", \"lamp\", \"lamp\", \"lamp\", \"lamp\", \"lamp\", \"land\", \"land\", \"land\", \"land\", \"land\", \"land\", \"land\", \"land\", \"land\", \"land\", \"land\", \"land\", \"land\", \"land\", \"land\", \"landlord\", \"landlord\", \"landlord\", \"landlord\", \"large\", \"large\", \"large\", \"large\", \"large\", \"large\", \"large\", \"large\", \"large\", \"large\", \"large\", \"large\", \"large\", \"larkins\", \"le\", \"le\", \"le\", \"le\", \"le\", \"le\", \"le\", \"le\", \"le\", \"le\", \"left\", \"left\", \"left\", \"left\", \"left\", \"left\", \"left\", \"left\", \"left\", \"left\", \"left\", \"left\", \"left\", \"left\", \"les\", \"les\", \"les\", \"les\", \"les\", \"let\", \"let\", \"let\", \"let\", \"let\", \"let\", \"let\", \"let\", \"let\", \"let\", \"let\", \"let\", \"let\", \"let\", \"liberated\", \"liberated\", \"liberated\", \"liberated\", \"life\", \"life\", \"life\", \"life\", \"life\", \"life\", \"life\", \"life\", \"life\", \"life\", \"life\", \"life\", \"life\", \"life\", \"life\", \"light\", \"light\", \"light\", \"light\", \"light\", \"light\", \"light\", \"light\", \"light\", \"light\", \"light\", \"light\", \"light\", \"light\", \"like\", \"like\", \"like\", \"like\", \"like\", \"like\", \"like\", \"like\", \"like\", \"like\", \"like\", \"like\", \"like\", \"like\", \"like\", \"liked\", \"liked\", \"liked\", \"liked\", \"liked\", \"liked\", \"liked\", \"liked\", \"liked\", \"liked\", \"liked\", \"liked\", \"liked\", \"liked\", \"liked\", \"lilies\", \"lilies\", \"lilies\", \"lines\", \"lines\", \"lines\", \"lines\", \"lines\", \"lines\", \"lines\", \"lines\", \"lines\", \"lines\", \"lines\", \"little\", \"little\", \"little\", \"little\", \"little\", \"little\", \"little\", \"little\", \"little\", \"little\", \"little\", \"little\", \"little\", \"little\", \"little\", \"lizzy\", \"lizzy\", \"lizzy\", \"ll\", \"ll\", \"ll\", \"ll\", \"ll\", \"ll\", \"ll\", \"ll\", \"ll\", \"ll\", \"lloyd\", \"lloyd\", \"lloyd\", \"long\", \"long\", \"long\", \"long\", \"long\", \"long\", \"long\", \"long\", \"long\", \"long\", \"long\", \"long\", \"long\", \"long\", \"long\", \"longbourn\", \"longbourn\", \"look\", \"look\", \"look\", \"look\", \"look\", \"look\", \"look\", \"look\", \"look\", \"look\", \"look\", \"look\", \"look\", \"look\", \"look\", \"looked\", \"looked\", \"looked\", \"looked\", \"looked\", \"looked\", \"looked\", \"looked\", \"looked\", \"looked\", \"looked\", \"looked\", \"looked\", \"looked\", \"looked\", \"looking\", \"looking\", \"looking\", \"looking\", \"looking\", \"looking\", \"looking\", \"looking\", \"looking\", \"looking\", \"looking\", \"looking\", \"looking\", \"looking\", \"lost\", \"lost\", \"lost\", \"lost\", \"lost\", \"lost\", \"lost\", \"lost\", \"lost\", \"lost\", \"lost\", \"lost\", \"lost\", \"lost\", \"lottery\", \"lottery\", \"love\", \"love\", \"love\", \"love\", \"love\", \"love\", \"love\", \"love\", \"love\", \"love\", \"love\", \"love\", \"love\", \"love\", \"love\", \"lowood\", \"lowood\", \"lowood\", \"lowood\", \"lowood\", \"lowood\", \"lowton\", \"lucas\", \"lucases\", \"lucy\", \"lucy\", \"lucy\", \"lucy\", \"lucy\", \"lucy\", \"lucy\", \"lucy\", \"lucy\", \"lucy\", \"lucy\", \"lucy\", \"lull\", \"lull\", \"lull\", \"lure\", \"lure\", \"lure\", \"lure\", \"lydia\", \"lydia\", \"lydia\", \"lynn\", \"lynn\", \"lynn\", \"ma\", \"ma\", \"ma\", \"ma\", \"ma\", \"ma\", \"ma\", \"ma\", \"ma\", \"ma\", \"ma\", \"ma\", \"ma\", \"madame\", \"madame\", \"madame\", \"madame\", \"madame\", \"madame\", \"madame\", \"madame\", \"madame\", \"madame\", \"madame\", \"madame\", \"mademoiselle\", \"mademoiselle\", \"mademoiselle\", \"mademoiselle\", \"mademoiselle\", \"mademoiselle\", \"mademoiselle\", \"mademoiselle\", \"mademoiselle\", \"magnanimity\", \"magnanimity\", \"majestic\", \"majestic\", \"majestic\", \"majesty\", \"majesty\", \"mamma\", \"mamma\", \"mamma\", \"mamma\", \"mamma\", \"mamma\", \"mamma\", \"mamma\", \"man\", \"man\", \"man\", \"man\", \"man\", \"man\", \"man\", \"man\", \"man\", \"man\", \"man\", \"man\", \"man\", \"man\", \"man\", \"mantle\", \"mantle\", \"maple\", \"margaret\", \"margaret\", \"margaret\", \"margin\", \"margin\", \"margin\", \"maria\", \"maria\", \"marianne\", \"marianne\", \"marianne\", \"marianne\", \"marianne\", \"marianne\", \"marie\", \"marie\", \"marie\", \"marie\", \"marsh\", \"marsh\", \"marsh\", \"marsh\", \"mary\", \"mary\", \"mary\", \"mary\", \"mary\", \"mary\", \"mary\", \"mary\", \"mary\", \"mary\", \"mason\", \"mason\", \"mason\", \"mdlle\", \"mdlle\", \"mdlle\", \"mdlle\", \"mdlle\", \"mdlle\", \"medical\", \"medical\", \"medical\", \"medical\", \"members\", \"members\", \"meryton\", \"meryton\", \"mes\", \"mes\", \"middleton\", \"middleton\", \"middleton\", \"militia\", \"militia\", \"miller\", \"miller\", \"miller\", \"mind\", \"mind\", \"mind\", \"mind\", \"mind\", \"mind\", \"mind\", \"mind\", \"mind\", \"mind\", \"mind\", \"mind\", \"mind\", \"mind\", \"mind\", \"miracles\", \"miracles\", \"miracles\", \"miss\", \"miss\", \"miss\", \"miss\", \"miss\", \"miss\", \"miss\", \"miss\", \"miss\", \"miss\", \"miss\", \"miss\", \"miss\", \"miss\", \"miss\", \"missis\", \"missis\", \"missis\", \"misty\", \"moi\", \"moi\", \"moi\", \"moi\", \"moi\", \"moi\", \"moi\", \"moment\", \"moment\", \"moment\", \"moment\", \"moment\", \"moment\", \"moment\", \"moment\", \"moment\", \"moment\", \"moment\", \"moment\", \"moment\", \"moment\", \"moment\", \"monde\", \"monde\", \"monde\", \"monitor\", \"monsieur\", \"monsieur\", \"monsieur\", \"monsieur\", \"monsieur\", \"monsieur\", \"monsieur\", \"monsieur\", \"monsieur\", \"monsieur\", \"monsieur\", \"moon\", \"moon\", \"moon\", \"moon\", \"moon\", \"moon\", \"moon\", \"moon\", \"moon\", \"moon\", \"moonlight\", \"moonlight\", \"moonlight\", \"moonlight\", \"moonlight\", \"moonlight\", \"moonlight\", \"moonlight\", \"moonlight\", \"moonlight\", \"moor\", \"moor\", \"moor\", \"moor\", \"morbid\", \"morbid\", \"morning\", \"morning\", \"morning\", \"morning\", \"morning\", \"morning\", \"morning\", \"morning\", \"morning\", \"morning\", \"morning\", \"morning\", \"morning\", \"morning\", \"morning\", \"morton\", \"morton\", \"morton\", \"morton\", \"morton\", \"morton\", \"morton\", \"mother\", \"mother\", \"mother\", \"mother\", \"mother\", \"mother\", \"mother\", \"mother\", \"mother\", \"mother\", \"mother\", \"mother\", \"mother\", \"mother\", \"mother\", \"motherly\", \"motherly\", \"motherly\", \"motherly\", \"motherly\", \"moulded\", \"moulded\", \"moulded\", \"moulded\", \"mysteries\", \"mysteries\", \"narrated\", \"narrated\", \"narrated\", \"narrated\", \"narrated\", \"nation\", \"nation\", \"nation\", \"naughty\", \"naughty\", \"naughty\", \"naughty\", \"ne\", \"ne\", \"ne\", \"ne\", \"ne\", \"ne\", \"ne\", \"ne\", \"ne\", \"near\", \"near\", \"near\", \"near\", \"near\", \"near\", \"near\", \"near\", \"near\", \"near\", \"near\", \"near\", \"near\", \"near\", \"near\", \"necks\", \"necks\", \"necks\", \"netherfield\", \"netherfield\", \"new\", \"new\", \"new\", \"new\", \"new\", \"new\", \"new\", \"new\", \"new\", \"new\", \"new\", \"new\", \"new\", \"new\", \"night\", \"night\", \"night\", \"night\", \"night\", \"night\", \"night\", \"night\", \"night\", \"night\", \"night\", \"night\", \"night\", \"night\", \"night\", \"norland\", \"norland\", \"notre\", \"notre\", \"nun\", \"nun\", \"nun\", \"nun\", \"nun\", \"nun\", \"nun\", \"nun\", \"occurrences\", \"oh\", \"oh\", \"oh\", \"oh\", \"oh\", \"oh\", \"oh\", \"oh\", \"oh\", \"oh\", \"oh\", \"oh\", \"oh\", \"oh\", \"old\", \"old\", \"old\", \"old\", \"old\", \"old\", \"old\", \"old\", \"old\", \"old\", \"old\", \"old\", \"old\", \"old\", \"ominous\", \"ominous\", \"ominous\", \"omission\", \"omission\", \"opaque\", \"opaque\", \"open\", \"open\", \"open\", \"open\", \"open\", \"open\", \"open\", \"open\", \"open\", \"open\", \"open\", \"open\", \"open\", \"open\", \"open\", \"opinion\", \"opinion\", \"opinion\", \"opinion\", \"opinion\", \"opinion\", \"opinion\", \"opinion\", \"opinion\", \"opinion\", \"opinion\", \"opinion\", \"opinion\", \"ornamented\", \"ornamented\", \"ornamented\", \"outlived\", \"overcoming\", \"paler\", \"paler\", \"paler\", \"paletot\", \"paletot\", \"palmer\", \"palmer\", \"palmer\", \"palmers\", \"palmers\", \"papa\", \"papa\", \"papa\", \"papa\", \"papa\", \"papa\", \"papa\", \"papa\", \"papa\", \"papa\", \"pas\", \"pas\", \"pas\", \"pas\", \"pas\", \"pas\", \"pas\", \"pas\", \"passively\", \"passively\", \"patrician\", \"patrician\", \"patty\", \"paul\", \"paul\", \"paul\", \"paul\", \"paul\", \"paul\", \"paul\", \"paul\", \"paul\", \"paul\", \"paul\", \"paul\", \"paulina\", \"paulina\", \"paulina\", \"paulina\", \"paulina\", \"paulina\", \"pelet\", \"pelet\", \"pelet\", \"pelet\", \"pelet\", \"pelet\", \"pelet\", \"pelet\", \"pelet\", \"pelet\", \"pencils\", \"pencils\", \"penetrated\", \"penetrated\", \"penetrated\", \"penetrated\", \"penetrated\", \"penetrated\", \"penetrated\", \"perry\", \"perry\", \"perry\", \"pervaded\", \"petit\", \"petit\", \"petty\", \"petty\", \"petty\", \"peut\", \"peut\", \"phase\", \"phase\", \"phase\", \"phase\", \"phillips\", \"phillips\", \"pictures\", \"pictures\", \"pictures\", \"pictures\", \"pictures\", \"pictures\", \"pictures\", \"pictures\", \"pictures\", \"pierre\", \"pierre\", \"pierre\", \"pierre\", \"pierre\", \"pilot\", \"pilot\", \"pilot\", \"pilot\", \"pilot\", \"pilot\", \"pilot\", \"pilot\", \"pioneer\", \"pioneer\", \"place\", \"place\", \"place\", \"place\", \"place\", \"place\", \"place\", \"place\", \"place\", \"place\", \"place\", \"place\", \"place\", \"place\", \"platform\", \"platform\", \"platform\", \"plebeian\", \"plebeian\", \"polly\", \"polly\", \"polly\", \"polly\", \"poole\", \"poole\", \"poole\", \"poole\", \"pope\", \"pope\", \"porridge\", \"porridge\", \"porridge\", \"portfolio\", \"portfolio\", \"portfolio\", \"portfolio\", \"portress\", \"portress\", \"portress\", \"portress\", \"portress\", \"possessor\", \"possessor\", \"possessor\", \"possessor\", \"possessor\", \"potatoes\", \"poured\", \"poured\", \"poured\", \"poured\", \"poured\", \"poured\", \"powerless\", \"powerless\", \"powerless\", \"powerless\", \"powerless\", \"powerless\", \"preaching\", \"preaching\", \"prepossession\", \"present\", \"present\", \"present\", \"present\", \"present\", \"present\", \"present\", \"present\", \"present\", \"present\", \"present\", \"present\", \"present\", \"present\", \"pretended\", \"pretended\", \"pretended\", \"pretended\", \"professor\", \"professor\", \"professor\", \"professor\", \"professor\", \"professor\", \"professor\", \"professor\", \"professor\", \"pupils\", \"pupils\", \"pupils\", \"pupils\", \"pupils\", \"pupils\", \"pupils\", \"pupils\", \"pupils\", \"pupils\", \"pupils\", \"pupils\", \"qu\", \"qu\", \"qu\", \"qu\", \"qu\", \"qu\", \"que\", \"que\", \"que\", \"que\", \"que\", \"que\", \"que\", \"queen\", \"queen\", \"queen\", \"queen\", \"queen\", \"queen\", \"queen\", \"radiant\", \"radiant\", \"radiant\", \"rained\", \"rained\", \"rained\", \"randalls\", \"randalls\", \"read\", \"read\", \"read\", \"read\", \"read\", \"read\", \"read\", \"read\", \"read\", \"read\", \"read\", \"read\", \"read\", \"reader\", \"reader\", \"reader\", \"reader\", \"reader\", \"reader\", \"reader\", \"reader\", \"reader\", \"reader\", \"reader\", \"reader\", \"realized\", \"realized\", \"realized\", \"realized\", \"realized\", \"recalling\", \"recalling\", \"recalling\", \"recalling\", \"recalling\", \"recollecting\", \"recollecting\", \"recollecting\", \"recollecting\", \"recovery\", \"recovery\", \"recovery\", \"reed\", \"reed\", \"reed\", \"reed\", \"reed\", \"reed\", \"reed\", \"reflex\", \"reflex\", \"relinquish\", \"relinquish\", \"relinquish\", \"relinquish\", \"rent\", \"rent\", \"rent\", \"rent\", \"rent\", \"rent\", \"rent\", \"repast\", \"repast\", \"repast\", \"repast\", \"repelled\", \"repelled\", \"repelled\", \"replied\", \"replied\", \"replied\", \"replied\", \"replied\", \"replied\", \"replied\", \"replied\", \"replied\", \"replied\", \"replied\", \"replied\", \"replied\", \"replied\", \"retiring\", \"reuter\", \"reuter\", \"reuter\", \"reuter\", \"reuter\", \"reverence\", \"reverence\", \"reverence\", \"reverence\", \"revolted\", \"richly\", \"richly\", \"richly\", \"richmond\", \"ringlets\", \"ringlets\", \"ringlets\", \"ringlets\", \"rivers\", \"rivers\", \"rivers\", \"rivers\", \"rivers\", \"rivers\", \"rivers\", \"road\", \"road\", \"road\", \"road\", \"road\", \"road\", \"road\", \"road\", \"road\", \"road\", \"road\", \"road\", \"roared\", \"roared\", \"roared\", \"robert\", \"robert\", \"robert\", \"robert\", \"robert\", \"rochester\", \"rochester\", \"rochester\", \"rochester\", \"rochester\", \"rochester\", \"rochester\", \"rochester\", \"rochester\", \"rochester\", \"rochester\", \"rochester\", \"rome\", \"rome\", \"rome\", \"rome\", \"rome\", \"room\", \"room\", \"room\", \"room\", \"room\", \"room\", \"room\", \"room\", \"room\", \"room\", \"room\", \"room\", \"room\", \"room\", \"room\", \"rosine\", \"rosine\", \"rosine\", \"rosine\", \"rosine\", \"rosine\", \"rosings\", \"rosings\", \"round\", \"round\", \"round\", \"round\", \"round\", \"round\", \"round\", \"round\", \"round\", \"round\", \"round\", \"round\", \"round\", \"round\", \"rubbed\", \"rubbed\", \"rubbed\", \"rudeness\", \"rudeness\", \"rudeness\", \"rue\", \"rue\", \"rue\", \"rue\", \"rue\", \"rue\", \"rue\", \"rue\", \"rue\", \"rue\", \"rue\", \"rupture\", \"rupture\", \"sa\", \"sa\", \"sa\", \"sais\", \"sais\", \"sais\", \"sand\", \"sand\", \"sardonic\", \"sardonic\", \"satin\", \"satin\", \"satin\", \"satin\", \"satin\", \"satin\", \"saucy\", \"savings\", \"savings\", \"savings\", \"saw\", \"saw\", \"saw\", \"saw\", \"saw\", \"saw\", \"saw\", \"saw\", \"saw\", \"saw\", \"saw\", \"saw\", \"saw\", \"saw\", \"saw\", \"scatcherd\", \"scatcherd\", \"scatcherd\", \"scatcherd\", \"scatcherd\", \"scent\", \"scent\", \"scholars\", \"scholars\", \"scholars\", \"scholars\", \"school\", \"school\", \"school\", \"school\", \"school\", \"school\", \"school\", \"school\", \"school\", \"school\", \"school\", \"school\", \"school\", \"school\", \"science\", \"science\", \"science\", \"science\", \"science\", \"science\", \"scotch\", \"scotch\", \"scotch\", \"scrupulously\", \"scrupulously\", \"scrupulously\", \"scrupulously\", \"seacombe\", \"seacombe\", \"seasons\", \"seasons\", \"seasons\", \"seasons\", \"sedate\", \"sedate\", \"selina\", \"settlement\", \"settlement\", \"settlement\", \"shall\", \"shall\", \"shall\", \"shall\", \"shall\", \"shall\", \"shall\", \"shall\", \"shall\", \"shall\", \"shall\", \"shall\", \"shall\", \"shall\", \"shall\", \"shawls\", \"shawls\", \"shawls\", \"showy\", \"showy\", \"showy\", \"showy\", \"showy\", \"simultaneously\", \"sink\", \"sink\", \"sink\", \"sink\", \"sir\", \"sir\", \"sir\", \"sir\", \"sir\", \"sir\", \"sir\", \"sir\", \"sir\", \"sir\", \"sir\", \"sir\", \"sir\", \"sir\", \"sire\", \"sire\", \"sister\", \"sister\", \"sister\", \"sister\", \"sister\", \"sister\", \"sister\", \"sister\", \"sister\", \"sister\", \"sister\", \"sister\", \"sisters\", \"sisters\", \"sisters\", \"sisters\", \"sisters\", \"sisters\", \"sisters\", \"sisters\", \"sisters\", \"sisters\", \"sisters\", \"sisters\", \"sketches\", \"sketches\", \"sketches\", \"sketches\", \"slate\", \"slate\", \"slavery\", \"slavery\", \"slavery\", \"sleeve\", \"sleeve\", \"sleeve\", \"sleeve\", \"sleeve\", \"sloping\", \"sloping\", \"sloping\", \"snowe\", \"snowe\", \"snowe\", \"snowe\", \"snowe\", \"snowe\", \"snowe\", \"snowe\", \"softly\", \"softly\", \"softly\", \"softly\", \"softly\", \"softly\", \"softly\", \"softly\", \"softly\", \"softly\", \"soir\", \"soir\", \"soir\", \"soir\", \"soit\", \"soit\", \"soliloquy\", \"soliloquy\", \"soliloquy\", \"soliloquy\", \"somersetshire\", \"soon\", \"soon\", \"soon\", \"soon\", \"soon\", \"soon\", \"soon\", \"soon\", \"soon\", \"soon\", \"soon\", \"soon\", \"soon\", \"soon\", \"soon\", \"sophie\", \"sophie\", \"sophie\", \"sophie\", \"sophie\", \"sound\", \"sound\", \"sound\", \"sound\", \"sound\", \"sound\", \"sound\", \"sound\", \"sound\", \"sound\", \"sound\", \"sound\", \"sound\", \"sound\", \"soup\", \"soup\", \"soup\", \"spectacles\", \"spectacles\", \"spectacles\", \"spectacles\", \"splendour\", \"splendour\", \"splendour\", \"splendour\", \"splendour\", \"sprite\", \"sprite\", \"sprite\", \"sprite\", \"spurred\", \"spurred\", \"spurred\", \"spurred\", \"spurred\", \"spy\", \"spy\", \"st\", \"st\", \"st\", \"st\", \"st\", \"st\", \"st\", \"st\", \"st\", \"st\", \"startling\", \"startling\", \"startling\", \"station\", \"station\", \"station\", \"station\", \"station\", \"station\", \"station\", \"station\", \"station\", \"station\", \"steele\", \"steele\", \"steele\", \"sternness\", \"sternness\", \"sternness\", \"stood\", \"stood\", \"stood\", \"stood\", \"stood\", \"stood\", \"stood\", \"stood\", \"stood\", \"stood\", \"stood\", \"stood\", \"stood\", \"stood\", \"stopt\", \"strangest\", \"strangest\", \"strangest\", \"straw\", \"straw\", \"straw\", \"straw\", \"straw\", \"strove\", \"strove\", \"studious\", \"studious\", \"suave\", \"suave\", \"suave\", \"suckling\", \"suite\", \"suite\", \"suite\", \"summits\", \"summits\", \"summits\", \"summits\", \"sure\", \"sure\", \"sure\", \"sure\", \"sure\", \"sure\", \"sure\", \"sure\", \"sure\", \"sure\", \"sure\", \"sure\", \"sure\", \"sure\", \"surprize\", \"surprize\", \"surprized\", \"surprized\", \"sussex\", \"swam\", \"swam\", \"swiss\", \"swiss\", \"switzerland\", \"switzerland\", \"switzerland\", \"sylvie\", \"sylvie\", \"sylvie\", \"sylvie\", \"sylvie\", \"sympathies\", \"sympathies\", \"sympathies\", \"sympathies\", \"tap\", \"tap\", \"taylor\", \"taylor\", \"taylor\", \"tell\", \"tell\", \"tell\", \"tell\", \"tell\", \"tell\", \"tell\", \"tell\", \"tell\", \"tell\", \"tell\", \"tell\", \"tell\", \"tell\", \"tell\", \"temple\", \"temple\", \"temple\", \"temple\", \"temple\", \"temple\", \"temple\", \"temple\", \"testified\", \"testified\", \"testified\", \"testified\", \"thing\", \"thing\", \"thing\", \"thing\", \"thing\", \"thing\", \"thing\", \"thing\", \"thing\", \"thing\", \"thing\", \"thing\", \"thing\", \"thing\", \"thing\", \"think\", \"think\", \"think\", \"think\", \"think\", \"think\", \"think\", \"think\", \"think\", \"think\", \"think\", \"think\", \"think\", \"think\", \"think\", \"thornfield\", \"thornfield\", \"thornfield\", \"thornfield\", \"thornfield\", \"thornfield\", \"thornfield\", \"thornfield\", \"thornfield\", \"thornfield\", \"thought\", \"thought\", \"thought\", \"thought\", \"thought\", \"thought\", \"thought\", \"thought\", \"thought\", \"thought\", \"thought\", \"thought\", \"thought\", \"thought\", \"thought\", \"thy\", \"thy\", \"thy\", \"thy\", \"thy\", \"thy\", \"thy\", \"tidings\", \"tidings\", \"tidings\", \"tidings\", \"tidings\", \"tidings\", \"tidings\", \"tidings\", \"tidings\", \"till\", \"till\", \"till\", \"till\", \"till\", \"till\", \"till\", \"till\", \"till\", \"till\", \"till\", \"till\", \"till\", \"till\", \"till\", \"time\", \"time\", \"time\", \"time\", \"time\", \"time\", \"time\", \"time\", \"time\", \"time\", \"time\", \"time\", \"time\", \"time\", \"time\", \"tinged\", \"tinged\", \"tis\", \"tis\", \"tis\", \"took\", \"took\", \"took\", \"took\", \"took\", \"took\", \"took\", \"took\", \"took\", \"took\", \"took\", \"took\", \"took\", \"took\", \"took\", \"town\", \"town\", \"town\", \"town\", \"town\", \"town\", \"town\", \"town\", \"town\", \"town\", \"town\", \"town\", \"town\", \"traitor\", \"traitor\", \"traitor\", \"tramp\", \"trampling\", \"trampling\", \"trampling\", \"translation\", \"translation\", \"traveller\", \"traveller\", \"traveller\", \"traversed\", \"traversed\", \"traversed\", \"trod\", \"turban\", \"turban\", \"turban\", \"turban\", \"turban\", \"turban\", \"turbulent\", \"turbulent\", \"turk\", \"turk\", \"tynedale\", \"tynedale\", \"tyrant\", \"tyrant\", \"tyrant\", \"tyrant\", \"tyrant\", \"tyrant\", \"tyrant\", \"unaccountably\", \"unaccountably\", \"unaccountably\", \"unaccountably\", \"unaccountably\", \"unavoidable\", \"unceasing\", \"uncles\", \"uncles\", \"uncles\", \"uncles\", \"uncles\", \"unction\", \"unction\", \"unction\", \"unction\", \"unction\", \"undressed\", \"undressed\", \"une\", \"une\", \"une\", \"une\", \"unfortunate\", \"unfortunate\", \"unfortunate\", \"unfortunate\", \"unhappy\", \"unhappy\", \"unhappy\", \"unhappy\", \"unhappy\", \"unhappy\", \"unhappy\", \"unkind\", \"unkind\", \"unlocked\", \"urgency\", \"urgency\", \"urgency\", \"vandenhuten\", \"vandenhuten\", \"vandenhuten\", \"vandenhuten\", \"vehicle\", \"vehicle\", \"venerable\", \"venerable\", \"vestibule\", \"vestibule\", \"vestibule\", \"vestibule\", \"vestibule\", \"vestibule\", \"vestibule\", \"vestibule\", \"vestibule\", \"vicarage\", \"vicarage\", \"victims\", \"victims\", \"victor\", \"victor\", \"victor\", \"victor\", \"victor\", \"vigilance\", \"vigilance\", \"vindication\", \"voice\", \"voice\", \"voice\", \"voice\", \"voice\", \"voice\", \"voice\", \"voice\", \"voice\", \"voice\", \"voice\", \"voice\", \"voice\", \"voice\", \"vouchsafed\", \"vouchsafed\", \"vouchsafed\", \"vouchsafed\", \"vouchsafed\", \"vouchsafed\", \"vous\", \"vous\", \"vous\", \"vous\", \"vous\", \"vous\", \"vous\", \"wages\", \"wages\", \"waiter\", \"waiter\", \"waiter\", \"wall\", \"wall\", \"wall\", \"wall\", \"wall\", \"wall\", \"wall\", \"wall\", \"wall\", \"wall\", \"wall\", \"walravens\", \"walravens\", \"walravens\", \"want\", \"want\", \"want\", \"want\", \"want\", \"want\", \"want\", \"want\", \"want\", \"want\", \"want\", \"want\", \"want\", \"want\", \"want\", \"warren\", \"watched\", \"watched\", \"watched\", \"watched\", \"watched\", \"watched\", \"watched\", \"watched\", \"watched\", \"watched\", \"watched\", \"watched\", \"watched\", \"watched\", \"watched\", \"way\", \"way\", \"way\", \"way\", \"way\", \"way\", \"way\", \"way\", \"way\", \"way\", \"way\", \"way\", \"way\", \"way\", \"way\", \"went\", \"went\", \"went\", \"went\", \"went\", \"went\", \"went\", \"went\", \"went\", \"went\", \"went\", \"went\", \"went\", \"went\", \"went\", \"weston\", \"weston\", \"weston\", \"weymouth\", \"wheel\", \"wheel\", \"wheel\", \"wheel\", \"whip\", \"whip\", \"whip\", \"whitcross\", \"white\", \"white\", \"white\", \"white\", \"white\", \"white\", \"white\", \"white\", \"white\", \"white\", \"white\", \"white\", \"white\", \"white\", \"wickham\", \"wickham\", \"wickham\", \"wife\", \"wife\", \"wife\", \"wife\", \"wife\", \"wife\", \"wife\", \"wife\", \"wife\", \"wife\", \"wife\", \"wife\", \"wife\", \"willoughby\", \"willoughby\", \"willoughby\", \"willoughby\", \"willoughby\", \"wind\", \"wind\", \"wind\", \"wind\", \"wind\", \"wind\", \"wind\", \"wind\", \"wind\", \"wind\", \"wind\", \"wind\", \"woes\", \"woes\", \"woes\", \"wood\", \"wood\", \"wood\", \"wood\", \"wood\", \"wood\", \"wood\", \"wood\", \"wood\", \"woodhouse\", \"woodhouse\", \"woodhouse\", \"woodhouse\", \"words\", \"words\", \"words\", \"words\", \"words\", \"words\", \"words\", \"words\", \"words\", \"words\", \"words\", \"words\", \"words\", \"words\", \"words\", \"work\", \"work\", \"work\", \"work\", \"work\", \"work\", \"work\", \"work\", \"work\", \"work\", \"work\", \"work\", \"work\", \"work\", \"workings\", \"workings\", \"world\", \"world\", \"world\", \"world\", \"world\", \"world\", \"world\", \"world\", \"world\", \"world\", \"world\", \"world\", \"world\", \"world\", \"world\", \"write\", \"write\", \"write\", \"write\", \"write\", \"write\", \"write\", \"write\", \"write\", \"write\", \"write\", \"write\", \"write\", \"xix\", \"xix\", \"xix\", \"xix\", \"ye\", \"ye\", \"ye\", \"ye\", \"ye\", \"yes\", \"yes\", \"yes\", \"yes\", \"yes\", \"yes\", \"yes\", \"yes\", \"yes\", \"yes\", \"yes\", \"yes\", \"yes\", \"yes\", \"yorke\", \"yorke\", \"young\", \"young\", \"young\", \"young\", \"young\", \"young\", \"young\", \"young\", \"young\", \"young\", \"young\", \"young\", \"young\", \"young\", \"zelie\", \"zelie\", \"zelie\", \"zoraide\", \"zoraide\", \"zoraide\", \"zoraide\", \"zoraide\"]}, \"R\": 30, \"lambda.step\": 0.01, \"plot.opts\": {\"xlab\": \"PC1\", \"ylab\": \"PC2\"}, \"topic.order\": [2, 11, 7, 8, 6, 3, 15, 13, 1, 4, 12, 10, 5, 14, 9]};\n",
       "\n",
       "function LDAvis_load_lib(url, callback){\n",
       "  var s = document.createElement('script');\n",
       "  s.src = url;\n",
       "  s.async = true;\n",
       "  s.onreadystatechange = s.onload = callback;\n",
       "  s.onerror = function(){console.warn(\"failed to load library \" + url);};\n",
       "  document.getElementsByTagName(\"head\")[0].appendChild(s);\n",
       "}\n",
       "\n",
       "if(typeof(LDAvis) !== \"undefined\"){\n",
       "   // already loaded: just create the visualization\n",
       "   !function(LDAvis){\n",
       "       new LDAvis(\"#\" + \"ldavis_el1316019924069900641139334753\", ldavis_el1316019924069900641139334753_data);\n",
       "   }(LDAvis);\n",
       "}else if(typeof define === \"function\" && define.amd){\n",
       "   // require.js is available: use it to load d3/LDAvis\n",
       "   require.config({paths: {d3: \"https://cdnjs.cloudflare.com/ajax/libs/d3/3.5.5/d3.min\"}});\n",
       "   require([\"d3\"], function(d3){\n",
       "      window.d3 = d3;\n",
       "      LDAvis_load_lib(\"https://cdn.rawgit.com/bmabey/pyLDAvis/files/ldavis.v1.0.0.js\", function(){\n",
       "        new LDAvis(\"#\" + \"ldavis_el1316019924069900641139334753\", ldavis_el1316019924069900641139334753_data);\n",
       "      });\n",
       "    });\n",
       "}else{\n",
       "    // require.js not available: dynamically load d3 & LDAvis\n",
       "    LDAvis_load_lib(\"https://cdnjs.cloudflare.com/ajax/libs/d3/3.5.5/d3.min.js\", function(){\n",
       "         LDAvis_load_lib(\"https://cdn.rawgit.com/bmabey/pyLDAvis/files/ldavis.v1.0.0.js\", function(){\n",
       "                 new LDAvis(\"#\" + \"ldavis_el1316019924069900641139334753\", ldavis_el1316019924069900641139334753_data);\n",
       "            })\n",
       "         });\n",
       "}\n",
       "</script>"
      ],
      "text/plain": [
       "PreparedData(topic_coordinates=              x         y  topics  cluster       Freq\n",
       "topic                                                \n",
       "1      0.145086 -0.009637       1        1  17.776577\n",
       "10     0.157731 -0.018138       2        1  13.188259\n",
       "6      0.167000  0.001688       3        1  12.625072\n",
       "7     -0.066395  0.019818       4        1  11.432390\n",
       "5     -0.008240  0.013422       5        1   7.893297\n",
       "2     -0.003025  0.024663       6        1   7.645894\n",
       "14    -0.060196  0.027090       7        1   6.497049\n",
       "12    -0.053950  0.002700       8        1   5.953109\n",
       "0     -0.103419 -0.116742       9        1   4.867012\n",
       "3     -0.046005 -0.003583      10        1   3.680624\n",
       "11    -0.055329 -0.046049      11        1   3.218534\n",
       "9      0.036702  0.015517      12        1   2.411983\n",
       "4     -0.069859  0.118007      13        1   1.383587\n",
       "13    -0.013535 -0.047659      14        1   1.119766\n",
       "8     -0.026566  0.018902      15        1   0.306850, topic_info=           Term         Freq        Total Category  logprob  loglift\n",
       "86         emma   883.000000   883.000000  Default  30.0000  30.0000\n",
       "1339  elizabeth   638.000000   638.000000  Default  29.0000  29.0000\n",
       "5851     elinor   675.000000   675.000000  Default  28.0000  28.0000\n",
       "301      weston   450.000000   450.000000  Default  27.0000  27.0000\n",
       "183        miss  1541.000000  1541.000000  Default  26.0000  26.0000\n",
       "...         ...          ...          ...      ...      ...      ...\n",
       "116       great     2.807139   829.532043  Topic15  -5.8366   0.0979\n",
       "2340      chair     2.274160   168.705521  Topic15  -6.0472   1.4800\n",
       "987        eyes     2.335716   635.315063  Topic15  -6.0205   0.1808\n",
       "63          day     2.348283  1053.975342  Topic15  -6.0151  -0.3201\n",
       "403        like     2.370523  1319.689453  Topic15  -6.0057  -0.5355\n",
       "\n",
       "[1142 rows x 6 columns], token_table=      Topic      Freq        Term\n",
       "term                             \n",
       "792       1  0.061428       abbey\n",
       "792       2  0.890707       abbey\n",
       "6814      6  0.864367    absolved\n",
       "6080      6  0.770854  abstracted\n",
       "6080      8  0.128476  abstracted\n",
       "...     ...       ...         ...\n",
       "7898      5  0.103749     zoraide\n",
       "7898      7  0.034583     zoraide\n",
       "7898      9  0.760823     zoraide\n",
       "7898     11  0.069166     zoraide\n",
       "7898     15  0.034583     zoraide\n",
       "\n",
       "[4457 rows x 3 columns], R=30, lambda_step=0.01, plot_opts={'xlab': 'PC1', 'ylab': 'PC2'}, topic_order=[2, 11, 7, 8, 6, 3, 15, 13, 1, 4, 12, 10, 5, 14, 9])"
      ]
     },
     "execution_count": 41,
     "metadata": {},
     "output_type": "execute_result"
    }
   ],
   "source": [
    "pyLDAvis.gensim.prepare(lda, corpus, id2word)\n",
    "'''\n",
    " the bigger the bubble, there are more words in the corpus in that topic\n",
    "\n",
    "Slide to adjust relevance metric: the more to left, the more a specific word mostly only shows in that specific topic.\n",
    "The more to the right, the more a specific word shows up in a specific topic also shows up in other topics as well\n",
    "'''"
   ]
  },
  {
   "cell_type": "markdown",
   "metadata": {},
   "source": [
    "### Overall Model / Documents"
   ]
  },
  {
   "cell_type": "code",
   "execution_count": 42,
   "metadata": {},
   "outputs": [
    {
     "data": {
      "text/plain": [
       "[(1, 0.5246819), (5, 0.019031832), (10, 0.45443234)]"
      ]
     },
     "execution_count": 42,
     "metadata": {},
     "output_type": "execute_result"
    }
   ],
   "source": [
    "lda[corpus[0]]"
   ]
  },
  {
   "cell_type": "code",
   "execution_count": 43,
   "metadata": {},
   "outputs": [],
   "source": [
    "distro = [lda[d] for d in corpus]"
   ]
  },
  {
   "cell_type": "code",
   "execution_count": 44,
   "metadata": {},
   "outputs": [
    {
     "data": {
      "text/plain": [
       "[(1, 0.52467585), (5, 0.019040769), (10, 0.45442945)]"
      ]
     },
     "execution_count": 44,
     "metadata": {},
     "output_type": "execute_result"
    }
   ],
   "source": [
    "distro[0]"
   ]
  },
  {
   "cell_type": "code",
   "execution_count": 45,
   "metadata": {},
   "outputs": [],
   "source": [
    "distro = [lda[d] for d in corpus]\n",
    "\n",
    "def update(doc):\n",
    "        d_dist = {k:0 for k in range(0,15)}\n",
    "        for t in doc:\n",
    "            d_dist[t[0]] = t[1]\n",
    "        return d_dist\n",
    "    \n",
    "new_distro = [update(d) for d in distro]"
   ]
  },
  {
   "cell_type": "code",
   "execution_count": 46,
   "metadata": {},
   "outputs": [
    {
     "data": {
      "text/plain": [
       "813"
      ]
     },
     "execution_count": 46,
     "metadata": {},
     "output_type": "execute_result"
    }
   ],
   "source": [
    "len(new_distro)"
   ]
  },
  {
   "cell_type": "code",
   "execution_count": 47,
   "metadata": {},
   "outputs": [
    {
     "data": {
      "text/html": [
       "<div>\n",
       "<style scoped>\n",
       "    .dataframe tbody tr th:only-of-type {\n",
       "        vertical-align: middle;\n",
       "    }\n",
       "\n",
       "    .dataframe tbody tr th {\n",
       "        vertical-align: top;\n",
       "    }\n",
       "\n",
       "    .dataframe thead th {\n",
       "        text-align: right;\n",
       "    }\n",
       "</style>\n",
       "<table border=\"1\" class=\"dataframe\">\n",
       "  <thead>\n",
       "    <tr style=\"text-align: right;\">\n",
       "      <th></th>\n",
       "      <th>tokens</th>\n",
       "      <th>author</th>\n",
       "      <th>book</th>\n",
       "      <th>section</th>\n",
       "    </tr>\n",
       "  </thead>\n",
       "  <tbody>\n",
       "    <tr>\n",
       "      <th>Austen_Emma0000</th>\n",
       "      <td>[emma, jane, austen, volume, chapter, emma, wo...</td>\n",
       "      <td>1</td>\n",
       "      <td>Emma</td>\n",
       "      <td>0</td>\n",
       "    </tr>\n",
       "    <tr>\n",
       "      <th>Austen_Emma0001</th>\n",
       "      <td>[taylor, wish, pity, weston, thought, agree, p...</td>\n",
       "      <td>1</td>\n",
       "      <td>Emma</td>\n",
       "      <td>1</td>\n",
       "    </tr>\n",
       "    <tr>\n",
       "      <th>Austen_Emma0002</th>\n",
       "      <td>[behaved, charmingly, body, punctual, body, be...</td>\n",
       "      <td>1</td>\n",
       "      <td>Emma</td>\n",
       "      <td>2</td>\n",
       "    </tr>\n",
       "    <tr>\n",
       "      <th>Austen_Emma0003</th>\n",
       "      <td>[native, highbury, born, respectable, family, ...</td>\n",
       "      <td>1</td>\n",
       "      <td>Emma</td>\n",
       "      <td>3</td>\n",
       "    </tr>\n",
       "    <tr>\n",
       "      <th>Austen_Emma0004</th>\n",
       "      <td>[mention, handsome, letter, weston, received, ...</td>\n",
       "      <td>1</td>\n",
       "      <td>Emma</td>\n",
       "      <td>4</td>\n",
       "    </tr>\n",
       "  </tbody>\n",
       "</table>\n",
       "</div>"
      ],
      "text/plain": [
       "                                                            tokens  author  \\\n",
       "Austen_Emma0000  [emma, jane, austen, volume, chapter, emma, wo...       1   \n",
       "Austen_Emma0001  [taylor, wish, pity, weston, thought, agree, p...       1   \n",
       "Austen_Emma0002  [behaved, charmingly, body, punctual, body, be...       1   \n",
       "Austen_Emma0003  [native, highbury, born, respectable, family, ...       1   \n",
       "Austen_Emma0004  [mention, handsome, letter, weston, received, ...       1   \n",
       "\n",
       "                 book  section  \n",
       "Austen_Emma0000  Emma        0  \n",
       "Austen_Emma0001  Emma        1  \n",
       "Austen_Emma0002  Emma        2  \n",
       "Austen_Emma0003  Emma        3  \n",
       "Austen_Emma0004  Emma        4  "
      ]
     },
     "execution_count": 47,
     "metadata": {},
     "output_type": "execute_result"
    }
   ],
   "source": [
    "df.head()"
   ]
  },
  {
   "cell_type": "code",
   "execution_count": 48,
   "metadata": {},
   "outputs": [],
   "source": [
    "df = pd.DataFrame.from_records(new_distro, index=titles)\n",
    "df.columns = topics\n",
    "df['author'] = df.reset_index()['index'].apply(lambda x: x.split('_')[0]).tolist()"
   ]
  },
  {
   "cell_type": "code",
   "execution_count": 49,
   "metadata": {},
   "outputs": [
    {
     "data": {
      "text/html": [
       "<div>\n",
       "<style scoped>\n",
       "    .dataframe tbody tr th:only-of-type {\n",
       "        vertical-align: middle;\n",
       "    }\n",
       "\n",
       "    .dataframe tbody tr th {\n",
       "        vertical-align: top;\n",
       "    }\n",
       "\n",
       "    .dataframe thead th {\n",
       "        text-align: right;\n",
       "    }\n",
       "</style>\n",
       "<table border=\"1\" class=\"dataframe\">\n",
       "  <thead>\n",
       "    <tr style=\"text-align: right;\">\n",
       "      <th></th>\n",
       "      <th>monsieur little paul pelet madame</th>\n",
       "      <th>elinor marianne think time know</th>\n",
       "      <th>sir jane know good like</th>\n",
       "      <th>little like thought day long</th>\n",
       "      <th>little white like rochester long</th>\n",
       "      <th>little like graham bretton know</th>\n",
       "      <th>elizabeth miss darcy bennet bingley</th>\n",
       "      <th>like little night long time</th>\n",
       "      <th>think little sir miss come</th>\n",
       "      <th>miss time elinor know house</th>\n",
       "      <th>emma miss weston elton knightley</th>\n",
       "      <th>madame dr little john know</th>\n",
       "      <th>john st hand little jane</th>\n",
       "      <th>hand thought madame good like</th>\n",
       "      <th>like little time hunsden thought</th>\n",
       "      <th>author</th>\n",
       "    </tr>\n",
       "  </thead>\n",
       "  <tbody>\n",
       "    <tr>\n",
       "      <th>Austen_Emma0000</th>\n",
       "      <td>0.0</td>\n",
       "      <td>0.524682</td>\n",
       "      <td>0.0</td>\n",
       "      <td>0.0</td>\n",
       "      <td>0.0</td>\n",
       "      <td>0.019032</td>\n",
       "      <td>0.0</td>\n",
       "      <td>0.0</td>\n",
       "      <td>0.0</td>\n",
       "      <td>0.000000</td>\n",
       "      <td>0.454433</td>\n",
       "      <td>0.0</td>\n",
       "      <td>0.0</td>\n",
       "      <td>0.0</td>\n",
       "      <td>0.0</td>\n",
       "      <td>Austen</td>\n",
       "    </tr>\n",
       "    <tr>\n",
       "      <th>Austen_Emma0001</th>\n",
       "      <td>0.0</td>\n",
       "      <td>0.000000</td>\n",
       "      <td>0.0</td>\n",
       "      <td>0.0</td>\n",
       "      <td>0.0</td>\n",
       "      <td>0.000000</td>\n",
       "      <td>0.0</td>\n",
       "      <td>0.0</td>\n",
       "      <td>0.0</td>\n",
       "      <td>0.026248</td>\n",
       "      <td>0.971309</td>\n",
       "      <td>0.0</td>\n",
       "      <td>0.0</td>\n",
       "      <td>0.0</td>\n",
       "      <td>0.0</td>\n",
       "      <td>Austen</td>\n",
       "    </tr>\n",
       "    <tr>\n",
       "      <th>Austen_Emma0002</th>\n",
       "      <td>0.0</td>\n",
       "      <td>0.000000</td>\n",
       "      <td>0.0</td>\n",
       "      <td>0.0</td>\n",
       "      <td>0.0</td>\n",
       "      <td>0.000000</td>\n",
       "      <td>0.0</td>\n",
       "      <td>0.0</td>\n",
       "      <td>0.0</td>\n",
       "      <td>0.000000</td>\n",
       "      <td>0.997562</td>\n",
       "      <td>0.0</td>\n",
       "      <td>0.0</td>\n",
       "      <td>0.0</td>\n",
       "      <td>0.0</td>\n",
       "      <td>Austen</td>\n",
       "    </tr>\n",
       "    <tr>\n",
       "      <th>Austen_Emma0003</th>\n",
       "      <td>0.0</td>\n",
       "      <td>0.428412</td>\n",
       "      <td>0.0</td>\n",
       "      <td>0.0</td>\n",
       "      <td>0.0</td>\n",
       "      <td>0.000000</td>\n",
       "      <td>0.0</td>\n",
       "      <td>0.0</td>\n",
       "      <td>0.0</td>\n",
       "      <td>0.000000</td>\n",
       "      <td>0.569456</td>\n",
       "      <td>0.0</td>\n",
       "      <td>0.0</td>\n",
       "      <td>0.0</td>\n",
       "      <td>0.0</td>\n",
       "      <td>Austen</td>\n",
       "    </tr>\n",
       "    <tr>\n",
       "      <th>Austen_Emma0004</th>\n",
       "      <td>0.0</td>\n",
       "      <td>0.019125</td>\n",
       "      <td>0.0</td>\n",
       "      <td>0.0</td>\n",
       "      <td>0.0</td>\n",
       "      <td>0.000000</td>\n",
       "      <td>0.0</td>\n",
       "      <td>0.0</td>\n",
       "      <td>0.0</td>\n",
       "      <td>0.000000</td>\n",
       "      <td>0.978872</td>\n",
       "      <td>0.0</td>\n",
       "      <td>0.0</td>\n",
       "      <td>0.0</td>\n",
       "      <td>0.0</td>\n",
       "      <td>Austen</td>\n",
       "    </tr>\n",
       "  </tbody>\n",
       "</table>\n",
       "</div>"
      ],
      "text/plain": [
       "                 monsieur little paul pelet madame  \\\n",
       "Austen_Emma0000                                0.0   \n",
       "Austen_Emma0001                                0.0   \n",
       "Austen_Emma0002                                0.0   \n",
       "Austen_Emma0003                                0.0   \n",
       "Austen_Emma0004                                0.0   \n",
       "\n",
       "                 elinor marianne think time know  sir jane know good like  \\\n",
       "Austen_Emma0000                         0.524682                      0.0   \n",
       "Austen_Emma0001                         0.000000                      0.0   \n",
       "Austen_Emma0002                         0.000000                      0.0   \n",
       "Austen_Emma0003                         0.428412                      0.0   \n",
       "Austen_Emma0004                         0.019125                      0.0   \n",
       "\n",
       "                 little like thought day long  \\\n",
       "Austen_Emma0000                           0.0   \n",
       "Austen_Emma0001                           0.0   \n",
       "Austen_Emma0002                           0.0   \n",
       "Austen_Emma0003                           0.0   \n",
       "Austen_Emma0004                           0.0   \n",
       "\n",
       "                 little white like rochester long  \\\n",
       "Austen_Emma0000                               0.0   \n",
       "Austen_Emma0001                               0.0   \n",
       "Austen_Emma0002                               0.0   \n",
       "Austen_Emma0003                               0.0   \n",
       "Austen_Emma0004                               0.0   \n",
       "\n",
       "                 little like graham bretton know  \\\n",
       "Austen_Emma0000                         0.019032   \n",
       "Austen_Emma0001                         0.000000   \n",
       "Austen_Emma0002                         0.000000   \n",
       "Austen_Emma0003                         0.000000   \n",
       "Austen_Emma0004                         0.000000   \n",
       "\n",
       "                 elizabeth miss darcy bennet bingley  \\\n",
       "Austen_Emma0000                                  0.0   \n",
       "Austen_Emma0001                                  0.0   \n",
       "Austen_Emma0002                                  0.0   \n",
       "Austen_Emma0003                                  0.0   \n",
       "Austen_Emma0004                                  0.0   \n",
       "\n",
       "                 like little night long time  think little sir miss come  \\\n",
       "Austen_Emma0000                          0.0                         0.0   \n",
       "Austen_Emma0001                          0.0                         0.0   \n",
       "Austen_Emma0002                          0.0                         0.0   \n",
       "Austen_Emma0003                          0.0                         0.0   \n",
       "Austen_Emma0004                          0.0                         0.0   \n",
       "\n",
       "                 miss time elinor know house  \\\n",
       "Austen_Emma0000                     0.000000   \n",
       "Austen_Emma0001                     0.026248   \n",
       "Austen_Emma0002                     0.000000   \n",
       "Austen_Emma0003                     0.000000   \n",
       "Austen_Emma0004                     0.000000   \n",
       "\n",
       "                 emma miss weston elton knightley  madame dr little john know  \\\n",
       "Austen_Emma0000                          0.454433                         0.0   \n",
       "Austen_Emma0001                          0.971309                         0.0   \n",
       "Austen_Emma0002                          0.997562                         0.0   \n",
       "Austen_Emma0003                          0.569456                         0.0   \n",
       "Austen_Emma0004                          0.978872                         0.0   \n",
       "\n",
       "                 john st hand little jane  hand thought madame good like  \\\n",
       "Austen_Emma0000                       0.0                            0.0   \n",
       "Austen_Emma0001                       0.0                            0.0   \n",
       "Austen_Emma0002                       0.0                            0.0   \n",
       "Austen_Emma0003                       0.0                            0.0   \n",
       "Austen_Emma0004                       0.0                            0.0   \n",
       "\n",
       "                 like little time hunsden thought  author  \n",
       "Austen_Emma0000                               0.0  Austen  \n",
       "Austen_Emma0001                               0.0  Austen  \n",
       "Austen_Emma0002                               0.0  Austen  \n",
       "Austen_Emma0003                               0.0  Austen  \n",
       "Austen_Emma0004                               0.0  Austen  "
      ]
     },
     "execution_count": 49,
     "metadata": {},
     "output_type": "execute_result"
    }
   ],
   "source": [
    "df.head() # instead of showing the topic, it shows the top words that belong to those topics"
   ]
  },
  {
   "cell_type": "code",
   "execution_count": 50,
   "metadata": {},
   "outputs": [
    {
     "data": {
      "text/html": [
       "<div>\n",
       "<style scoped>\n",
       "    .dataframe tbody tr th:only-of-type {\n",
       "        vertical-align: middle;\n",
       "    }\n",
       "\n",
       "    .dataframe tbody tr th {\n",
       "        vertical-align: top;\n",
       "    }\n",
       "\n",
       "    .dataframe thead th {\n",
       "        text-align: right;\n",
       "    }\n",
       "</style>\n",
       "<table border=\"1\" class=\"dataframe\">\n",
       "  <thead>\n",
       "    <tr style=\"text-align: right;\">\n",
       "      <th></th>\n",
       "      <th>monsieur little paul pelet madame</th>\n",
       "      <th>elinor marianne think time know</th>\n",
       "      <th>sir jane know good like</th>\n",
       "      <th>little like thought day long</th>\n",
       "      <th>little white like rochester long</th>\n",
       "      <th>little like graham bretton know</th>\n",
       "      <th>elizabeth miss darcy bennet bingley</th>\n",
       "      <th>like little night long time</th>\n",
       "      <th>think little sir miss come</th>\n",
       "      <th>miss time elinor know house</th>\n",
       "      <th>emma miss weston elton knightley</th>\n",
       "      <th>madame dr little john know</th>\n",
       "      <th>john st hand little jane</th>\n",
       "      <th>hand thought madame good like</th>\n",
       "      <th>like little time hunsden thought</th>\n",
       "    </tr>\n",
       "    <tr>\n",
       "      <th>author</th>\n",
       "      <th></th>\n",
       "      <th></th>\n",
       "      <th></th>\n",
       "      <th></th>\n",
       "      <th></th>\n",
       "      <th></th>\n",
       "      <th></th>\n",
       "      <th></th>\n",
       "      <th></th>\n",
       "      <th></th>\n",
       "      <th></th>\n",
       "      <th></th>\n",
       "      <th></th>\n",
       "      <th></th>\n",
       "      <th></th>\n",
       "    </tr>\n",
       "  </thead>\n",
       "  <tbody>\n",
       "    <tr>\n",
       "      <th>Austen</th>\n",
       "      <td>0.000083</td>\n",
       "      <td>0.373590</td>\n",
       "      <td>0.003013</td>\n",
       "      <td>0.003411</td>\n",
       "      <td>0.000633</td>\n",
       "      <td>0.003734</td>\n",
       "      <td>0.287902</td>\n",
       "      <td>0.006786</td>\n",
       "      <td>0.000000</td>\n",
       "      <td>0.023369</td>\n",
       "      <td>0.287227</td>\n",
       "      <td>0.000000</td>\n",
       "      <td>0.000146</td>\n",
       "      <td>0.005595</td>\n",
       "      <td>0.001983</td>\n",
       "    </tr>\n",
       "    <tr>\n",
       "      <th>CBronte</th>\n",
       "      <td>0.081623</td>\n",
       "      <td>0.020283</td>\n",
       "      <td>0.143662</td>\n",
       "      <td>0.063031</td>\n",
       "      <td>0.023348</td>\n",
       "      <td>0.137508</td>\n",
       "      <td>0.004458</td>\n",
       "      <td>0.195181</td>\n",
       "      <td>0.007134</td>\n",
       "      <td>0.024015</td>\n",
       "      <td>0.002488</td>\n",
       "      <td>0.055221</td>\n",
       "      <td>0.109610</td>\n",
       "      <td>0.015182</td>\n",
       "      <td>0.114611</td>\n",
       "    </tr>\n",
       "  </tbody>\n",
       "</table>\n",
       "</div>"
      ],
      "text/plain": [
       "         monsieur little paul pelet madame  elinor marianne think time know  \\\n",
       "author                                                                        \n",
       "Austen                            0.000083                         0.373590   \n",
       "CBronte                           0.081623                         0.020283   \n",
       "\n",
       "         sir jane know good like  little like thought day long  \\\n",
       "author                                                           \n",
       "Austen                  0.003013                      0.003411   \n",
       "CBronte                 0.143662                      0.063031   \n",
       "\n",
       "         little white like rochester long  little like graham bretton know  \\\n",
       "author                                                                       \n",
       "Austen                           0.000633                         0.003734   \n",
       "CBronte                          0.023348                         0.137508   \n",
       "\n",
       "         elizabeth miss darcy bennet bingley  like little night long time  \\\n",
       "author                                                                      \n",
       "Austen                              0.287902                     0.006786   \n",
       "CBronte                             0.004458                     0.195181   \n",
       "\n",
       "         think little sir miss come  miss time elinor know house  \\\n",
       "author                                                             \n",
       "Austen                     0.000000                     0.023369   \n",
       "CBronte                    0.007134                     0.024015   \n",
       "\n",
       "         emma miss weston elton knightley  madame dr little john know  \\\n",
       "author                                                                  \n",
       "Austen                           0.287227                    0.000000   \n",
       "CBronte                          0.002488                    0.055221   \n",
       "\n",
       "         john st hand little jane  hand thought madame good like  \\\n",
       "author                                                             \n",
       "Austen                   0.000146                       0.005595   \n",
       "CBronte                  0.109610                       0.015182   \n",
       "\n",
       "         like little time hunsden thought  \n",
       "author                                     \n",
       "Austen                           0.001983  \n",
       "CBronte                          0.114611  "
      ]
     },
     "execution_count": 50,
     "metadata": {},
     "output_type": "execute_result"
    }
   ],
   "source": [
    "df.groupby('author').mean()"
   ]
  },
  {
   "cell_type": "markdown",
   "metadata": {},
   "source": [
    "## Challenge\n",
    "### *Can we see if one of the authors focus more on men than women?*\n",
    "\n",
    "*  Use Spacy for text preprocessing\n",
    "*  Extract the Named Entities from the documents using Spacy (command is fairly straight forward)\n",
    "*  Create unique list of names from the authors (you'll find that there are different types of named entities not all people)\n",
    "*  Label the names with genders (can you this by hand or you use the US census name lists)\n",
    "*  Customize your processing to replace the proper name with your gender from the previous step's lookup table\n",
    "*  Then follow the rest of the LDA flow\n"
   ]
  },
  {
   "cell_type": "markdown",
   "metadata": {},
   "source": [
    "# Selecting the Number of Topics (Learn)\n",
    "<a id=\"#p4\"></a>"
   ]
  },
  {
   "cell_type": "markdown",
   "metadata": {},
   "source": [
    "## Overview"
   ]
  },
  {
   "cell_type": "markdown",
   "metadata": {},
   "source": [
    "## Follow Along"
   ]
  },
  {
   "cell_type": "code",
   "execution_count": 51,
   "metadata": {},
   "outputs": [],
   "source": [
    "from gensim.models.coherencemodel import CoherenceModel\n",
    "\n",
    "def compute_coherence_values(dictionary, corpus, limit, start=2, step=3, passes=5):\n",
    "    \"\"\"\n",
    "    Compute c_v coherence for various number of topics\n",
    "\n",
    "    Parameters:\n",
    "    ----------\n",
    "    dictionary : Gensim dictionary\n",
    "    corpus : Gensim corpus\n",
    "    limit : Max num of topics\n",
    "    passes: the number of times the entire lda model & coherence values are calculated\n",
    "\n",
    "    Returns:\n",
    "    -------\n",
    "    coherence_values : Coherence values corresponding to the LDA model with respective number of topics\n",
    "    \"\"\"\n",
    "    \n",
    "    coherence_values = []\n",
    "    \n",
    "    for iter_ in range(passes):\n",
    "        for num_topics in range(start, limit, step):\n",
    "            model = LdaMulticore(corpus=corpus, num_topics=num_topics, id2word=dictionary, workers=4)\n",
    "            coherencemodel = CoherenceModel(model=model,dictionary=dictionary,corpus=corpus, coherence='u_mass')\n",
    "            coherence_values.append({'pass': iter_, \n",
    "                                     'num_topics': num_topics, \n",
    "                                     'coherence_score': coherencemodel.get_coherence()\n",
    "                                    })\n",
    "\n",
    "    return coherence_values"
   ]
  },
  {
   "cell_type": "code",
   "execution_count": null,
   "metadata": {},
   "outputs": [],
   "source": [
    "# Can take a long time to run.\n",
    "import warnings\n",
    "warnings.filterwarnings(\"ignore\", category=DeprecationWarning)\n",
    "\n",
    "coherence_values = compute_coherence_values(dictionary=id2word, \n",
    "                                                        corpus=corpus,\n",
    "                                                        start=2, \n",
    "                                                        limit=40, \n",
    "                                                        step=2,\n",
    "                                                        passes=100)"
   ]
  },
  {
   "cell_type": "code",
   "execution_count": 89,
   "metadata": {},
   "outputs": [],
   "source": [
    "topic_coherence = pd.DataFrame.from_records(coherence_values)"
   ]
  },
  {
   "cell_type": "code",
   "execution_count": null,
   "metadata": {},
   "outputs": [],
   "source": []
  },
  {
   "cell_type": "code",
   "execution_count": null,
   "metadata": {},
   "outputs": [],
   "source": [
    "topic_coherence.head()"
   ]
  },
  {
   "cell_type": "code",
   "execution_count": null,
   "metadata": {},
   "outputs": [],
   "source": [
    "import seaborn as sns\n",
    "\n",
    "ax = sns.lineplot(x=\"num_topics\", y=\"coherence_score\", data=topic_coherence)"
   ]
  },
  {
   "cell_type": "code",
   "execution_count": null,
   "metadata": {},
   "outputs": [],
   "source": [
    "# Print the coherence scores\n",
    "for m, cv in zip(x, coherence_values):\n",
    "    print(\"Num Topics =\", m, \" has Coherence Value of\", round(cv, 4))"
   ]
  },
  {
   "cell_type": "code",
   "execution_count": null,
   "metadata": {},
   "outputs": [],
   "source": [
    "lda[id2word.doc2bow(tokenize(\"This is a sample document to score with a topic distribution.\"))]"
   ]
  },
  {
   "cell_type": "markdown",
   "metadata": {},
   "source": [
    "# Sources\n",
    "\n",
    "### *References*\n",
    "* [Andrew Ng et al paper on LDA](https://ai.stanford.edu/~ang/papers/jair03-lda.pdf)\n",
    "* On [Coherence](https://pdfs.semanticscholar.org/1521/8d9c029cbb903ae7c729b2c644c24994c201.pdf)\n",
    "\n",
    "### *Resources*\n",
    "\n",
    "* [Gensim](https://radimrehurek.com/gensim/): Python package for topic modeling, nlp, word vectorization, and few other things. Well maintained and well documented.\n",
    "* [Topic Modeling with Gensim](http://www.machinelearningplus.com/nlp/topic-modeling-gensim-python/#11createthedictionaryandcorpusneededfortopicmodeling): A kind of cookbook for LDA with gensim. Excellent overview, but the you need to be aware of missing import statements and assumed prior knowledge.\n",
    "* [Chinese Restuarant Process](https://en.wikipedia.org/wiki/Chinese_restaurant_process): That really obscure stats thing I mentioned... \n",
    "* [PyLDAvis](https://github.com/bmabey/pyLDAvis): Library for visualizing the topic model and performing some exploratory work. Works well. Has a direct parrell implementation in R as well. \n",
    "* [Rare Technologies](https://rare-technologies.com/): The people that made & maintain gensim and a few other libraries.\n",
    "* [Jane Austen v. Charlotte Bronte](https://www.literaryladiesguide.com/literary-musings/jane-austen-charlotte-bronte-different-alike/)"
   ]
  }
 ],
 "metadata": {
  "kernelspec": {
   "display_name": "U4-S1-NLP (Python3)",
   "language": "python",
   "name": "nlp"
  },
  "language_info": {
   "codemirror_mode": {
    "name": "ipython",
    "version": 3
   },
   "file_extension": ".py",
   "mimetype": "text/x-python",
   "name": "python",
   "nbconvert_exporter": "python",
   "pygments_lexer": "ipython3",
   "version": "3.7.0"
  },
  "toc": {
   "base_numbering": 1,
   "nav_menu": {},
   "number_sections": true,
   "sideBar": true,
   "skip_h1_title": false,
   "title_cell": "Table of Contents",
   "title_sidebar": "Contents",
   "toc_cell": false,
   "toc_position": {},
   "toc_section_display": true,
   "toc_window_display": false
  },
  "varInspector": {
   "cols": {
    "lenName": 16,
    "lenType": 16,
    "lenVar": 40
   },
   "kernels_config": {
    "python": {
     "delete_cmd_postfix": "",
     "delete_cmd_prefix": "del ",
     "library": "var_list.py",
     "varRefreshCmd": "print(var_dic_list())"
    },
    "r": {
     "delete_cmd_postfix": ") ",
     "delete_cmd_prefix": "rm(",
     "library": "var_list.r",
     "varRefreshCmd": "cat(var_dic_list()) "
    }
   },
   "types_to_exclude": [
    "module",
    "function",
    "builtin_function_or_method",
    "instance",
    "_Feature"
   ],
   "window_display": false
  }
 },
 "nbformat": 4,
 "nbformat_minor": 4
}
